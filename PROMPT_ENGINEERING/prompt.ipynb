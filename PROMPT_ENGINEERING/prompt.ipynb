{
 "cells": [
  {
   "cell_type": "code",
   "execution_count": null,
   "metadata": {},
   "outputs": [],
   "source": [
    "# Guidelines for Prompting\n",
    "# In this lesson, you'll practice two prompting principles and their related tactics in order to write effective prompts for large language models."
   ]
  }
 ],
 "metadata": {
  "language_info": {
   "name": "python"
  },
  "orig_nbformat": 4
 },
 "nbformat": 4,
 "nbformat_minor": 2
}
