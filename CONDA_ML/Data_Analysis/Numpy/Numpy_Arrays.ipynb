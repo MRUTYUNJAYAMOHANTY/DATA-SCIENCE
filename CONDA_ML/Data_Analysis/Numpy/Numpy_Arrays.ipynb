{
 "cells": [
  {
   "cell_type": "code",
   "execution_count": 17,
   "id": "b9b008ae",
   "metadata": {},
   "outputs": [],
   "source": [
    "my_list = [1,2,3] # A normal list"
   ]
  },
  {
   "cell_type": "code",
   "execution_count": 14,
   "id": "9e2c0c52",
   "metadata": {},
   "outputs": [
    {
     "data": {
      "text/plain": [
       "[1, 2, 3]"
      ]
     },
     "execution_count": 14,
     "metadata": {},
     "output_type": "execute_result"
    }
   ],
   "source": [
    "my_list "
   ]
  },
  {
   "cell_type": "code",
   "execution_count": 21,
   "id": "a9ca2fd9",
   "metadata": {},
   "outputs": [
    {
     "data": {
      "text/plain": [
       "array([1, 2, 3])"
      ]
     },
     "execution_count": 21,
     "metadata": {},
     "output_type": "execute_result"
    }
   ],
   "source": [
    "import numpy as np\n",
    "np.array(my_list) # we can cast a list as an array , 1-d"
   ]
  },
  {
   "cell_type": "code",
   "execution_count": 22,
   "id": "0b442967",
   "metadata": {},
   "outputs": [],
   "source": [
    "arr = np.array(my_list) # assign the array "
   ]
  },
  {
   "cell_type": "code",
   "execution_count": 23,
   "id": "ab61ea7d",
   "metadata": {},
   "outputs": [
    {
     "data": {
      "text/plain": [
       "array([1, 2, 3])"
      ]
     },
     "execution_count": 23,
     "metadata": {},
     "output_type": "execute_result"
    }
   ],
   "source": [
    "arr # call "
   ]
  },
  {
   "cell_type": "markdown",
   "id": "b5d7e846",
   "metadata": {},
   "source": [
    "# 2-d Array i.e Matrix"
   ]
  },
  {
   "cell_type": "code",
   "execution_count": 25,
   "id": "d6a7fdaa",
   "metadata": {},
   "outputs": [],
   "source": [
    "my_matrix = [[1,2,3],[4,5,6],[7,8,9]]"
   ]
  },
  {
   "cell_type": "code",
   "execution_count": 26,
   "id": "d6fc4730",
   "metadata": {},
   "outputs": [
    {
     "data": {
      "text/plain": [
       "[[1, 2, 3], [4, 5, 6], [7, 8, 9]]"
      ]
     },
     "execution_count": 26,
     "metadata": {},
     "output_type": "execute_result"
    }
   ],
   "source": [
    "my_matrix"
   ]
  },
  {
   "cell_type": "code",
   "execution_count": 27,
   "id": "0a7a27d1",
   "metadata": {},
   "outputs": [
    {
     "data": {
      "text/plain": [
       "array([[1, 2, 3],\n",
       "       [4, 5, 6],\n",
       "       [7, 8, 9]])"
      ]
     },
     "execution_count": 27,
     "metadata": {},
     "output_type": "execute_result"
    }
   ],
   "source": [
    "np.array(my_matrix) # cat into array"
   ]
  },
  {
   "cell_type": "markdown",
   "id": "ad66b9ff",
   "metadata": {},
   "source": [
    "# using some built in generator"
   ]
  },
  {
   "cell_type": "code",
   "execution_count": 100,
   "id": "7eab7c6f",
   "metadata": {},
   "outputs": [],
   "source": [
    "arr = np.arange(0,11,2) # (start,stop,step-size)"
   ]
  },
  {
   "cell_type": "code",
   "execution_count": 101,
   "id": "2d107fec",
   "metadata": {},
   "outputs": [
    {
     "data": {
      "text/plain": [
       "array([ 0,  2,  4,  6,  8, 10])"
      ]
     },
     "execution_count": 101,
     "metadata": {},
     "output_type": "execute_result"
    }
   ],
   "source": [
    "arr"
   ]
  },
  {
   "cell_type": "markdown",
   "id": "5440d4fa",
   "metadata": {},
   "source": [
    "# Generate Arrays of all zeros"
   ]
  },
  {
   "cell_type": "code",
   "execution_count": 38,
   "id": "9a869b19",
   "metadata": {},
   "outputs": [
    {
     "data": {
      "text/plain": [
       "array([0., 0., 0.])"
      ]
     },
     "execution_count": 38,
     "metadata": {},
     "output_type": "execute_result"
    }
   ],
   "source": [
    "np.zeros(3) # 1-d"
   ]
  },
  {
   "cell_type": "code",
   "execution_count": 39,
   "id": "8af17f8a",
   "metadata": {},
   "outputs": [
    {
     "data": {
      "text/plain": [
       "array([[0., 0., 0.],\n",
       "       [0., 0., 0.],\n",
       "       [0., 0., 0.]])"
      ]
     },
     "execution_count": 39,
     "metadata": {},
     "output_type": "execute_result"
    }
   ],
   "source": [
    "np.zeros((3,3)) # 2-d as tuple"
   ]
  },
  {
   "cell_type": "markdown",
   "id": "7f8bf299",
   "metadata": {},
   "source": [
    "# Generate Arrays of all ones"
   ]
  },
  {
   "cell_type": "code",
   "execution_count": 41,
   "id": "368e1e71",
   "metadata": {},
   "outputs": [
    {
     "data": {
      "text/plain": [
       "array([1., 1.])"
      ]
     },
     "execution_count": 41,
     "metadata": {},
     "output_type": "execute_result"
    }
   ],
   "source": [
    "np.ones(2)"
   ]
  },
  {
   "cell_type": "code",
   "execution_count": 42,
   "id": "63edb8b8",
   "metadata": {},
   "outputs": [
    {
     "data": {
      "text/plain": [
       "array([[1., 1., 1., 1., 1.],\n",
       "       [1., 1., 1., 1., 1.],\n",
       "       [1., 1., 1., 1., 1.],\n",
       "       [1., 1., 1., 1., 1.],\n",
       "       [1., 1., 1., 1., 1.]])"
      ]
     },
     "execution_count": 42,
     "metadata": {},
     "output_type": "execute_result"
    }
   ],
   "source": [
    "np.ones((5,5))"
   ]
  },
  {
   "cell_type": "code",
   "execution_count": 44,
   "id": "78f8cfcc",
   "metadata": {},
   "outputs": [],
   "source": [
    "# linspace i.e Return evenly spaced numbers over a specified interval. \n",
    "# Returns num evenly spaced samples, calculated over the interval [start, stop]."
   ]
  },
  {
   "cell_type": "code",
   "execution_count": 45,
   "id": "829b8ce5",
   "metadata": {},
   "outputs": [
    {
     "data": {
      "text/plain": [
       "array([0.        , 0.55555556, 1.11111111, 1.66666667, 2.22222222,\n",
       "       2.77777778, 3.33333333, 3.88888889, 4.44444444, 5.        ])"
      ]
     },
     "execution_count": 45,
     "metadata": {},
     "output_type": "execute_result"
    }
   ],
   "source": [
    "np.linspace(0,5,10)"
   ]
  },
  {
   "cell_type": "code",
   "execution_count": 46,
   "id": "0fbd06f0",
   "metadata": {},
   "outputs": [],
   "source": [
    "# identity matrix or square matrix using numpy , usually deal with linear algebra "
   ]
  },
  {
   "cell_type": "code",
   "execution_count": 47,
   "id": "f828462e",
   "metadata": {},
   "outputs": [
    {
     "data": {
      "text/plain": [
       "array([[1., 0., 0.],\n",
       "       [0., 1., 0.],\n",
       "       [0., 0., 1.]])"
      ]
     },
     "execution_count": 47,
     "metadata": {},
     "output_type": "execute_result"
    }
   ],
   "source": [
    "np.eye(3) "
   ]
  },
  {
   "cell_type": "markdown",
   "id": "3ec350c6",
   "metadata": {},
   "source": [
    "# Arrays of random numbers"
   ]
  },
  {
   "cell_type": "code",
   "execution_count": 49,
   "id": "437c0c19",
   "metadata": {},
   "outputs": [
    {
     "data": {
      "text/plain": [
       "array([0.77939567, 0.30405991, 0.77346409, 0.95837234, 0.22767219])"
      ]
     },
     "execution_count": 49,
     "metadata": {},
     "output_type": "execute_result"
    }
   ],
   "source": [
    "np.random.rand(5) # 1-d , uniform distribution i.e must starts with 0"
   ]
  },
  {
   "cell_type": "code",
   "execution_count": 50,
   "id": "0826f572",
   "metadata": {},
   "outputs": [
    {
     "data": {
      "text/plain": [
       "array([[0.55425096, 0.49094304, 0.83165112, 0.78854857, 0.0368317 ],\n",
       "       [0.00644248, 0.54120903, 0.93054237, 0.96748257, 0.40579298],\n",
       "       [0.69371637, 0.23783243, 0.01268416, 0.96514171, 0.88303599],\n",
       "       [0.88734809, 0.97342024, 0.83848515, 0.925191  , 0.05823185],\n",
       "       [0.41881045, 0.12743734, 0.25222632, 0.57156993, 0.40390152]])"
      ]
     },
     "execution_count": 50,
     "metadata": {},
     "output_type": "execute_result"
    }
   ],
   "source": [
    "np.random.rand(5,5) # 2-d , uniform distribution i.e must starts with 0"
   ]
  },
  {
   "cell_type": "markdown",
   "id": "02243569",
   "metadata": {},
   "source": [
    "# return one or many samples from standard normal or    gaussian distribution  "
   ]
  },
  {
   "cell_type": "code",
   "execution_count": 52,
   "id": "a71f170f",
   "metadata": {},
   "outputs": [
    {
     "data": {
      "text/plain": [
       "array([ 0.87730729, -1.6167648 ])"
      ]
     },
     "execution_count": 52,
     "metadata": {},
     "output_type": "execute_result"
    }
   ],
   "source": [
    "np.random.randn(2)"
   ]
  },
  {
   "cell_type": "code",
   "execution_count": 53,
   "id": "85398984",
   "metadata": {},
   "outputs": [
    {
     "data": {
      "text/plain": [
       "array([[-0.10079481, -0.61755894,  2.17827582],\n",
       "       [ 0.54301822, -0.33342916, -1.61581541],\n",
       "       [ 1.28465614,  0.39975772, -2.41590205]])"
      ]
     },
     "execution_count": 53,
     "metadata": {},
     "output_type": "execute_result"
    }
   ],
   "source": [
    "np.random.randn(3,3)"
   ]
  },
  {
   "cell_type": "markdown",
   "id": "a2b7b132",
   "metadata": {},
   "source": [
    "# Random integer from low to high number"
   ]
  },
  {
   "cell_type": "code",
   "execution_count": 57,
   "id": "e344059f",
   "metadata": {},
   "outputs": [
    {
     "data": {
      "text/plain": [
       "array([10, 11, 61, 30, 24, 51, 45, 46, 22, 27])"
      ]
     },
     "execution_count": 57,
     "metadata": {},
     "output_type": "execute_result"
    }
   ],
   "source": [
    "np.random.randint(1,100,10) # (low,high(not include the 100),size)"
   ]
  },
  {
   "cell_type": "markdown",
   "id": "898400c9",
   "metadata": {},
   "source": [
    "# few usefull attributes and methods of an array"
   ]
  },
  {
   "cell_type": "code",
   "execution_count": 59,
   "id": "f44570ee",
   "metadata": {},
   "outputs": [],
   "source": [
    "ar_rng = np.arange(25)"
   ]
  },
  {
   "cell_type": "code",
   "execution_count": 60,
   "id": "e25c7cdf",
   "metadata": {},
   "outputs": [
    {
     "data": {
      "text/plain": [
       "array([ 0,  1,  2,  3,  4,  5,  6,  7,  8,  9, 10, 11, 12, 13, 14, 15, 16,\n",
       "       17, 18, 19, 20, 21, 22, 23, 24])"
      ]
     },
     "execution_count": 60,
     "metadata": {},
     "output_type": "execute_result"
    }
   ],
   "source": [
    "ar_rng"
   ]
  },
  {
   "cell_type": "code",
   "execution_count": 61,
   "id": "f0461b67",
   "metadata": {},
   "outputs": [],
   "source": [
    "ranarr = np.random.randint(0,50,10)"
   ]
  },
  {
   "cell_type": "code",
   "execution_count": 62,
   "id": "1427cda6",
   "metadata": {},
   "outputs": [
    {
     "data": {
      "text/plain": [
       "array([39, 24,  6, 43, 16, 32, 11, 12, 23, 31])"
      ]
     },
     "execution_count": 62,
     "metadata": {},
     "output_type": "execute_result"
    }
   ],
   "source": [
    "ranarr"
   ]
  },
  {
   "cell_type": "code",
   "execution_count": 69,
   "id": "669fc555",
   "metadata": {},
   "outputs": [
    {
     "data": {
      "text/plain": [
       "array([[ 0,  1,  2,  3,  4],\n",
       "       [ 5,  6,  7,  8,  9],\n",
       "       [10, 11, 12, 13, 14],\n",
       "       [15, 16, 17, 18, 19],\n",
       "       [20, 21, 22, 23, 24]])"
      ]
     },
     "execution_count": 69,
     "metadata": {},
     "output_type": "execute_result"
    }
   ],
   "source": [
    "ar_rng.reshape(5,5) # gives in matrix form , but can't change the defined size in previous"
   ]
  },
  {
   "cell_type": "markdown",
   "id": "bcda480d",
   "metadata": {},
   "source": [
    "# finding max or min values or to find their index location"
   ]
  },
  {
   "cell_type": "code",
   "execution_count": 81,
   "id": "965eed9c",
   "metadata": {},
   "outputs": [
    {
     "data": {
      "text/plain": [
       "array([39, 24,  6, 43, 16, 32, 11, 12, 23, 31])"
      ]
     },
     "execution_count": 81,
     "metadata": {},
     "output_type": "execute_result"
    }
   ],
   "source": [
    "ranarr"
   ]
  },
  {
   "cell_type": "code",
   "execution_count": 82,
   "id": "1dd3901e",
   "metadata": {},
   "outputs": [
    {
     "data": {
      "text/plain": [
       "43"
      ]
     },
     "execution_count": 82,
     "metadata": {},
     "output_type": "execute_result"
    }
   ],
   "source": [
    "ranarr.max()"
   ]
  },
  {
   "cell_type": "code",
   "execution_count": 83,
   "id": "77953c9f",
   "metadata": {},
   "outputs": [
    {
     "data": {
      "text/plain": [
       "6"
      ]
     },
     "execution_count": 83,
     "metadata": {},
     "output_type": "execute_result"
    }
   ],
   "source": [
    "ranarr.min()"
   ]
  },
  {
   "cell_type": "markdown",
   "id": "42e4584a",
   "metadata": {},
   "source": [
    "# return index location of max value"
   ]
  },
  {
   "cell_type": "code",
   "execution_count": 78,
   "id": "e7512be0",
   "metadata": {},
   "outputs": [
    {
     "data": {
      "text/plain": [
       "3"
      ]
     },
     "execution_count": 78,
     "metadata": {},
     "output_type": "execute_result"
    }
   ],
   "source": [
    "ranarr.argmax()"
   ]
  },
  {
   "cell_type": "code",
   "execution_count": 84,
   "id": "cb6d6d5b",
   "metadata": {},
   "outputs": [
    {
     "data": {
      "text/plain": [
       "2"
      ]
     },
     "execution_count": 84,
     "metadata": {},
     "output_type": "execute_result"
    }
   ],
   "source": [
    "ranarr.argmin()"
   ]
  },
  {
   "cell_type": "markdown",
   "id": "ff70b983",
   "metadata": {},
   "source": [
    "# figure out shape of vector"
   ]
  },
  {
   "cell_type": "code",
   "execution_count": 102,
   "id": "a19aa2cc",
   "metadata": {},
   "outputs": [],
   "source": [
    "arr = np.arange(25)"
   ]
  },
  {
   "cell_type": "code",
   "execution_count": 103,
   "id": "e1483d5e",
   "metadata": {},
   "outputs": [
    {
     "data": {
      "text/plain": [
       "array([ 0,  1,  2,  3,  4,  5,  6,  7,  8,  9, 10, 11, 12, 13, 14, 15, 16,\n",
       "       17, 18, 19, 20, 21, 22, 23, 24])"
      ]
     },
     "execution_count": 103,
     "metadata": {},
     "output_type": "execute_result"
    }
   ],
   "source": [
    "arr"
   ]
  },
  {
   "cell_type": "code",
   "execution_count": 104,
   "id": "bad40c1e",
   "metadata": {},
   "outputs": [
    {
     "data": {
      "text/plain": [
       "(25,)"
      ]
     },
     "execution_count": 104,
     "metadata": {},
     "output_type": "execute_result"
    }
   ],
   "source": [
    "arr.shape # 1-d"
   ]
  },
  {
   "cell_type": "code",
   "execution_count": 108,
   "id": "9c349135",
   "metadata": {},
   "outputs": [],
   "source": [
    "arr = arr.reshape(5,5)"
   ]
  },
  {
   "cell_type": "code",
   "execution_count": 106,
   "id": "7a71b871",
   "metadata": {},
   "outputs": [
    {
     "data": {
      "text/plain": [
       "array([[ 0,  1,  2,  3,  4],\n",
       "       [ 5,  6,  7,  8,  9],\n",
       "       [10, 11, 12, 13, 14],\n",
       "       [15, 16, 17, 18, 19],\n",
       "       [20, 21, 22, 23, 24]])"
      ]
     },
     "execution_count": 106,
     "metadata": {},
     "output_type": "execute_result"
    }
   ],
   "source": [
    "arr"
   ]
  },
  {
   "cell_type": "code",
   "execution_count": 109,
   "id": "e24ef88a",
   "metadata": {},
   "outputs": [
    {
     "data": {
      "text/plain": [
       "(5, 5)"
      ]
     },
     "execution_count": 109,
     "metadata": {},
     "output_type": "execute_result"
    }
   ],
   "source": [
    "arr.shape # now 2 -d "
   ]
  },
  {
   "cell_type": "code",
   "execution_count": 110,
   "id": "fe6db59e",
   "metadata": {},
   "outputs": [
    {
     "data": {
      "text/plain": [
       "dtype('int32')"
      ]
     },
     "execution_count": 110,
     "metadata": {},
     "output_type": "execute_result"
    }
   ],
   "source": [
    "arr.dtype # returns actual data type"
   ]
  },
  {
   "cell_type": "markdown",
   "id": "7c1a7f82",
   "metadata": {},
   "source": [
    "# from numpy import , alternative"
   ]
  },
  {
   "cell_type": "code",
   "execution_count": 112,
   "id": "cae22dc4",
   "metadata": {},
   "outputs": [],
   "source": [
    "from numpy.random import randint"
   ]
  },
  {
   "cell_type": "code",
   "execution_count": 113,
   "id": "a95d663a",
   "metadata": {},
   "outputs": [
    {
     "data": {
      "text/plain": [
       "2"
      ]
     },
     "execution_count": 113,
     "metadata": {},
     "output_type": "execute_result"
    }
   ],
   "source": [
    "randint(2,10)"
   ]
  }
 ],
 "metadata": {
  "kernelspec": {
   "display_name": "Python 3 (ipykernel)",
   "language": "python",
   "name": "python3"
  },
  "language_info": {
   "codemirror_mode": {
    "name": "ipython",
    "version": 3
   },
   "file_extension": ".py",
   "mimetype": "text/x-python",
   "name": "python",
   "nbconvert_exporter": "python",
   "pygments_lexer": "ipython3",
   "version": "3.9.12"
  }
 },
 "nbformat": 4,
 "nbformat_minor": 5
}
