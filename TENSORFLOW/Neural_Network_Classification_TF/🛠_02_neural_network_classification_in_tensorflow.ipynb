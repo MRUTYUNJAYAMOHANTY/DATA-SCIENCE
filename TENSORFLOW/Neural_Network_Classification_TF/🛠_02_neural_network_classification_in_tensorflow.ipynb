{
 "cells": [
  {
   "cell_type": "code",
   "execution_count": null,
   "metadata": {},
   "outputs": [],
   "source": [
    "# Import TensorFlow\n",
    "import tensorflow as tf\n",
    "print(tf.__version__)"
   ]
  }
 ],
 "metadata": {
  "kernelspec": {
   "display_name": "base",
   "language": "python",
   "name": "python3"
  },
  "language_info": {
   "name": "python",
   "version": "3.9.12 (main, Apr  4 2022, 05:22:27) [MSC v.1916 64 bit (AMD64)]"
  },
  "orig_nbformat": 4,
  "vscode": {
   "interpreter": {
    "hash": "898ecb7712a687944b11b3dd48b9932eb86d20047ad9a94cd2cf1ee614e6c928"
   }
  }
 },
 "nbformat": 4,
 "nbformat_minor": 2
}
