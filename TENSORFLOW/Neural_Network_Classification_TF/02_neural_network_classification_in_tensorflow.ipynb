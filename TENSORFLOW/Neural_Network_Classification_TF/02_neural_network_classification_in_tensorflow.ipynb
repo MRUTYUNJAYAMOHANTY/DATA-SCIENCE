{
 "cells": [
  {
   "attachments": {},
   "cell_type": "markdown",
   "metadata": {},
   "source": [
    "# 02. Neural Network Classification with TensorFlow\n",
    "\n",
    "Okay, we've seen how to deal with a regression problem in TensorFlow, let's look at how we can approach a classification problem."
   ]
  }
 ],
 "metadata": {
  "language_info": {
   "name": "python"
  },
  "orig_nbformat": 4
 },
 "nbformat": 4,
 "nbformat_minor": 2
}
