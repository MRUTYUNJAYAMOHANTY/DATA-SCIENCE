{
 "cells": [
  {
   "cell_type": "markdown",
   "id": "af800a17",
   "metadata": {},
   "source": [
    "# Tensorboard\n",
    "\n",
    "\n",
    "Let's explore the built in data visualization capabilities that come with Tensorboard.\n",
    "\n",
    "Full official tutorial available here: https://www.tensorflow.org/tensorboard/get_started\n",
    "\n",
    "## Data"
   ]
  },
  {
   "cell_type": "code",
   "execution_count": 1,
   "id": "dcb746ea",
   "metadata": {},
   "outputs": [],
   "source": [
    "import pandas as pd\n",
    "import numpy as np"
   ]
  },
  {
   "cell_type": "code",
   "execution_count": 2,
   "id": "a7ba8d0d",
   "metadata": {},
   "outputs": [],
   "source": [
    "df = pd.read_csv('../DATA_SETS/Tensorflow/cancer_classification.csv')"
   ]
  },
  {
   "cell_type": "code",
   "execution_count": null,
   "id": "2b9596b3",
   "metadata": {},
   "outputs": [],
   "source": []
  }
 ],
 "metadata": {
  "kernelspec": {
   "display_name": "Python 3 (ipykernel)",
   "language": "python",
   "name": "python3"
  },
  "language_info": {
   "codemirror_mode": {
    "name": "ipython",
    "version": 3
   },
   "file_extension": ".py",
   "mimetype": "text/x-python",
   "name": "python",
   "nbconvert_exporter": "python",
   "pygments_lexer": "ipython3",
   "version": "3.8.13"
  }
 },
 "nbformat": 4,
 "nbformat_minor": 5
}
