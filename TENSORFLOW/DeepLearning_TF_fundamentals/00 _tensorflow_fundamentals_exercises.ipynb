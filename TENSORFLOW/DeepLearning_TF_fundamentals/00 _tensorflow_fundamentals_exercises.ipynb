{
  "cells": [
    {
      "cell_type": "markdown",
      "metadata": {
        "id": "view-in-github",
        "colab_type": "text"
      },
      "source": [
        "<a href=\"https://colab.research.google.com/github/MRUTYUNJAYAMOHANTY/DATA-SCIENCE/blob/master/TENSORFLOW/DeepLearning_TF_fundamentals/00%20_tensorflow_fundamentals_exercises.ipynb\" target=\"_parent\"><img src=\"https://colab.research.google.com/assets/colab-badge.svg\" alt=\"Open In Colab\"/></a>"
      ]
    },
    {
      "cell_type": "code",
      "execution_count": 1,
      "metadata": {
        "id": "mPl0sAloZA8q",
        "outputId": "39d81414-f182-4549-f7ba-25869f6bf9e2",
        "colab": {
          "base_uri": "https://localhost:8080/"
        }
      },
      "outputs": [
        {
          "output_type": "stream",
          "name": "stdout",
          "text": [
            "2.9.2\n"
          ]
        }
      ],
      "source": [
        "# Import TensorFlow\n",
        "import tensorflow as tf\n",
        "print(tf.__version__)"
      ]
    },
    {
      "cell_type": "markdown",
      "source": [
        "## 🛠 Exercises\n",
        "\n",
        "1. Let's create a vector, scalar, matrix and tensor with values of our choosing using `tf.constant()`.\n",
        "2. Let's find the shape, rank and size of the tensors we created in 1.\n",
        "3. Let's create two tensors containing random values between 0 and 1 with shape `[5, 300]`.\n",
        "4. Let's multiply the two tensors we created in 3 using matrix multiplication.\n",
        "5. Let's multiply the two tensors we created in 3 using dot product.\n",
        "6. Let's create a tensor with random values between 0 and 1 with shape `[224, 224, 3]`.\n",
        "7. Let's find the min and max values of the tensor we created in 6.\n",
        "8. Let's created a tensor with random values of shape `[1, 224, 224, 3]` then squeeze it to change the shape to `[224, 224, 3]`.\n",
        "9. Let's create a tensor with shape `[10]` using our own choice of values, then find the index which has the maximum value.\n",
        "10. Let's One-hot encode the tensor we created in 9."
      ],
      "metadata": {
        "id": "EL31w2ddwFLx"
      }
    },
    {
      "cell_type": "markdown",
      "source": [
        "### 1. Create a vector, scalar, matrix and tensor with values of our choosing using `tf.constant()`.\n"
      ],
      "metadata": {
        "id": "vhG63pXIwcRQ"
      }
    },
    {
      "cell_type": "code",
      "source": [
        "# Creating a scalar \n",
        "scalar = tf.constant(8)\n",
        "\n",
        "# Creating a vector \n",
        "vector = tf.constant([1 , 2 , 3])\n",
        "\n",
        "# Creating a matrix \n",
        "matrix = tf.constant([[1 ,2] , \n",
        "                      [3, 4]])\n",
        "\n",
        "# Creating a tensor \n",
        "tensor = tf.constant(\n",
        "                      [\n",
        "                          [\n",
        "                              [10 , 9 , 8] , \n",
        "                              [1 ,2 , 4], \n",
        "                              [8 , 4 , 2]\n",
        "                          ]\n",
        "                          ,\n",
        "                          [\n",
        "                              [10 , 9 , 8] , \n",
        "                              [1 ,2 , 4], \n",
        "                              [8 , 4 , 2]\n",
        "                          ]\n",
        "                      ]\n",
        "                     )\n",
        "\n",
        "scalar , vector , matrix , tensor "
      ],
      "metadata": {
        "id": "XS0fv3OJwctu",
        "outputId": "4cb05dc2-29fa-4cc0-bafa-3fc275fc2127",
        "colab": {
          "base_uri": "https://localhost:8080/"
        }
      },
      "execution_count": 2,
      "outputs": [
        {
          "output_type": "execute_result",
          "data": {
            "text/plain": [
              "(<tf.Tensor: shape=(), dtype=int32, numpy=8>,\n",
              " <tf.Tensor: shape=(3,), dtype=int32, numpy=array([1, 2, 3], dtype=int32)>,\n",
              " <tf.Tensor: shape=(2, 2), dtype=int32, numpy=\n",
              " array([[1, 2],\n",
              "        [3, 4]], dtype=int32)>,\n",
              " <tf.Tensor: shape=(2, 3, 3), dtype=int32, numpy=\n",
              " array([[[10,  9,  8],\n",
              "         [ 1,  2,  4],\n",
              "         [ 8,  4,  2]],\n",
              " \n",
              "        [[10,  9,  8],\n",
              "         [ 1,  2,  4],\n",
              "         [ 8,  4,  2]]], dtype=int32)>)"
            ]
          },
          "metadata": {},
          "execution_count": 2
        }
      ]
    },
    {
      "cell_type": "markdown",
      "source": [
        "### 2. Find the **shape**, **rank** and **size** of the tensors we created in 1."
      ],
      "metadata": {
        "id": "bsSy32t1w3pP"
      }
    },
    {
      "cell_type": "code",
      "source": [
        "# Finding the shape, rank and size\n",
        "print(f'The shape of the tensor: {tensor.shape}')\n",
        "print(f'The rank of the tensor: {tf.size(tensor)}')\n",
        "print(f'The rank of the tensor: {tf.rank(tensor)}')"
      ],
      "metadata": {
        "id": "JRLWmi8kw7DP",
        "outputId": "25021791-72f2-4fec-f8ff-368ef1c2dea2",
        "colab": {
          "base_uri": "https://localhost:8080/"
        }
      },
      "execution_count": 3,
      "outputs": [
        {
          "output_type": "stream",
          "name": "stdout",
          "text": [
            "The shape of the tensor: (2, 3, 3)\n",
            "The rank of the tensor: 18\n",
            "The rank of the tensor: 3\n"
          ]
        }
      ]
    },
    {
      "cell_type": "markdown",
      "source": [
        "### 3. Create two tensors containing random values between 0 and 1 with shape `[5, 300]`.\n"
      ],
      "metadata": {
        "id": "atD6svCfxB-P"
      }
    },
    {
      "cell_type": "code",
      "source": [
        "# Set seed\n",
        "tf.random.set_seed(42)\n",
        "\n",
        "# Setting up the shape \n",
        "tensor_1 = tf.random.uniform(shape=(5, 300))\n",
        "tensor_2 = tf.random.uniform(shape=(5, 300))\n",
        "\n",
        "tensor_1, tensor_1.shape, tensor_2, tensor_2.shape"
      ],
      "metadata": {
        "id": "fQaClc98xEwJ",
        "outputId": "ba8a61b7-d08d-40f8-d634-5be9bb447ac9",
        "colab": {
          "base_uri": "https://localhost:8080/"
        }
      },
      "execution_count": 4,
      "outputs": [
        {
          "output_type": "execute_result",
          "data": {
            "text/plain": [
              "(<tf.Tensor: shape=(5, 300), dtype=float32, numpy=\n",
              " array([[0.6645621 , 0.44100678, 0.3528825 , ..., 0.31410468, 0.7593535 ,\n",
              "         0.03699052],\n",
              "        [0.532024  , 0.29129946, 0.10571766, ..., 0.54052293, 0.31425726,\n",
              "         0.2200619 ],\n",
              "        [0.08404207, 0.03614604, 0.97732127, ..., 0.21516645, 0.9786098 ,\n",
              "         0.00726748],\n",
              "        [0.7396945 , 0.6653172 , 0.0787828 , ..., 0.7117733 , 0.07013571,\n",
              "         0.9409125 ],\n",
              "        [0.15861344, 0.12024033, 0.27218235, ..., 0.8824879 , 0.1432488 ,\n",
              "         0.44135118]], dtype=float32)>,\n",
              " TensorShape([5, 300]),\n",
              " <tf.Tensor: shape=(5, 300), dtype=float32, numpy=\n",
              " array([[0.68789124, 0.48447883, 0.9309944 , ..., 0.6920762 , 0.33180213,\n",
              "         0.9212563 ],\n",
              "        [0.27369928, 0.10631859, 0.6218617 , ..., 0.4382149 , 0.30427706,\n",
              "         0.51477313],\n",
              "        [0.00920248, 0.37280262, 0.8177401 , ..., 0.56786287, 0.49201214,\n",
              "         0.9892651 ],\n",
              "        [0.88608265, 0.08672249, 0.12160683, ..., 0.91770685, 0.72545695,\n",
              "         0.8280058 ],\n",
              "        [0.36690474, 0.9200133 , 0.9646884 , ..., 0.69012   , 0.7137332 ,\n",
              "         0.2584542 ]], dtype=float32)>,\n",
              " TensorShape([5, 300]))"
            ]
          },
          "metadata": {},
          "execution_count": 4
        }
      ]
    },
    {
      "cell_type": "markdown",
      "source": [
        "### 4. Multiply the two tensors we created in 3 using **matrix multiplication**.\n"
      ],
      "metadata": {
        "id": "6R-egzLxxZTX"
      }
    },
    {
      "cell_type": "code",
      "source": [
        "# Multiplying\n",
        "print('Shape before the matrix multiplication')\n",
        "print(tensor_1.shape , '\\n')\n",
        "print(tensor_2.shape , '\\n')\n",
        "\n",
        "resultant_vector = tf.linalg.matmul(tensor_1 , tf.transpose(tensor_2))\n",
        "print(f'After multiplying the resultant vector is: {resultant_vector} \\n')\n",
        "\n",
        "print(f'The resultant vector shape: {resultant_vector.shape}')"
      ],
      "metadata": {
        "id": "O9rwc5HLxcAS",
        "outputId": "8bb1e09e-7f85-4585-c145-1815a59bd900",
        "colab": {
          "base_uri": "https://localhost:8080/"
        }
      },
      "execution_count": 5,
      "outputs": [
        {
          "output_type": "stream",
          "name": "stdout",
          "text": [
            "Shape before the matrix multiplication\n",
            "(5, 300) \n",
            "\n",
            "(5, 300) \n",
            "\n",
            "After multiplying the resultant vector is: [[80.33345  73.40498  77.159615 73.98369  80.90053 ]\n",
            " [75.146355 68.80437  74.24302  71.841835 75.60206 ]\n",
            " [79.7594   75.644554 77.797585 74.74873  80.559845]\n",
            " [75.08526  69.064064 74.30776  72.27616  76.05669 ]\n",
            " [85.05688  74.26627  78.00687  74.88679  83.13417 ]] \n",
            "\n",
            "The resultant vector shape: (5, 5)\n"
          ]
        }
      ]
    },
    {
      "cell_type": "markdown",
      "source": [
        "### 5. Multiply the two tensors we created in 3 using **dot product**.\n"
      ],
      "metadata": {
        "id": "ddHHo8VGx3ii"
      }
    },
    {
      "cell_type": "code",
      "source": [
        "# Using tensordot\n",
        "tf.tensordot(tensor_1 , tf.transpose(tensor_2) , axes=1)"
      ],
      "metadata": {
        "id": "RKLb9Ncxx5jX",
        "outputId": "fb447174-e230-472c-a72b-0ac0f8a69f68",
        "colab": {
          "base_uri": "https://localhost:8080/"
        }
      },
      "execution_count": 6,
      "outputs": [
        {
          "output_type": "execute_result",
          "data": {
            "text/plain": [
              "<tf.Tensor: shape=(5, 5), dtype=float32, numpy=\n",
              "array([[80.33345 , 73.40498 , 77.159615, 73.98369 , 80.90053 ],\n",
              "       [75.146355, 68.80437 , 74.24302 , 71.841835, 75.60206 ],\n",
              "       [79.7594  , 75.644554, 77.797585, 74.74873 , 80.559845],\n",
              "       [75.08526 , 69.064064, 74.30776 , 72.27616 , 76.05669 ],\n",
              "       [85.05688 , 74.26627 , 78.00687 , 74.88679 , 83.13417 ]],\n",
              "      dtype=float32)>"
            ]
          },
          "metadata": {},
          "execution_count": 6
        }
      ]
    },
    {
      "cell_type": "markdown",
      "source": [
        "### 6. Create a tensor with **random values** between 0 and 1 with shape `[224, 224, 3]`.\n"
      ],
      "metadata": {
        "id": "9to9mD17yEAQ"
      }
    },
    {
      "cell_type": "code",
      "source": [
        "# Tensor with shape [224 , 224 , 3]\n",
        "big_tensor = tf.random.uniform(shape = [224 , 224 , 3], minval = 0 , maxval = 1)\n",
        "\n",
        "big_tensor"
      ],
      "metadata": {
        "id": "MQQ5SZJhyGFn",
        "outputId": "aa1a5693-e0a2-4b9c-d739-ea25fd7ed9e2",
        "colab": {
          "base_uri": "https://localhost:8080/"
        }
      },
      "execution_count": 7,
      "outputs": [
        {
          "output_type": "execute_result",
          "data": {
            "text/plain": [
              "<tf.Tensor: shape=(224, 224, 3), dtype=float32, numpy=\n",
              "array([[[0.7413678 , 0.62854624, 0.01738465],\n",
              "        [0.3431449 , 0.51063764, 0.3777541 ],\n",
              "        [0.07321596, 0.02137029, 0.2871771 ],\n",
              "        ...,\n",
              "        [0.98953485, 0.45382905, 0.2006687 ],\n",
              "        [0.6295223 , 0.4937899 , 0.01816809],\n",
              "        [0.95386636, 0.11542463, 0.85691285]],\n",
              "\n",
              "       [[0.78435016, 0.7826872 , 0.87936425],\n",
              "        [0.24906898, 0.3207239 , 0.10955775],\n",
              "        [0.543224  , 0.7151396 , 0.40334642],\n",
              "        ...,\n",
              "        [0.2445668 , 0.01746976, 0.9036933 ],\n",
              "        [0.02975535, 0.592268  , 0.9877522 ],\n",
              "        [0.36701274, 0.33112562, 0.5638567 ]],\n",
              "\n",
              "       [[0.15829337, 0.7288823 , 0.3366307 ],\n",
              "        [0.70792687, 0.16910625, 0.9429966 ],\n",
              "        [0.10120225, 0.5919596 , 0.8687303 ],\n",
              "        ...,\n",
              "        [0.28134012, 0.10011208, 0.37038183],\n",
              "        [0.77874243, 0.05421627, 0.4664607 ],\n",
              "        [0.2549187 , 0.7968637 , 0.83405185]],\n",
              "\n",
              "       ...,\n",
              "\n",
              "       [[0.32922816, 0.06343532, 0.23936498],\n",
              "        [0.42692196, 0.3615111 , 0.901929  ],\n",
              "        [0.8320831 , 0.21068895, 0.08272386],\n",
              "        ...,\n",
              "        [0.65110314, 0.40780962, 0.25967455],\n",
              "        [0.9018173 , 0.8245677 , 0.16757596],\n",
              "        [0.41854453, 0.19092035, 0.2523303 ]],\n",
              "\n",
              "       [[0.7064005 , 0.222404  , 0.82219553],\n",
              "        [0.8235872 , 0.76544905, 0.80999327],\n",
              "        [0.1100682 , 0.00520217, 0.6127168 ],\n",
              "        ...,\n",
              "        [0.98068535, 0.8958733 , 0.17706168],\n",
              "        [0.4252876 , 0.02087164, 0.496238  ],\n",
              "        [0.6599953 , 0.58505726, 0.7089884 ]],\n",
              "\n",
              "       [[0.90045786, 0.45803344, 0.9050728 ],\n",
              "        [0.92233   , 0.38456154, 0.30329156],\n",
              "        [0.03238845, 0.18773472, 0.9096625 ],\n",
              "        ...,\n",
              "        [0.4445815 , 0.04578841, 0.21090853],\n",
              "        [0.25966525, 0.24412918, 0.76123405],\n",
              "        [0.9643831 , 0.32687283, 0.4828869 ]]], dtype=float32)>"
            ]
          },
          "metadata": {},
          "execution_count": 7
        }
      ]
    },
    {
      "cell_type": "code",
      "source": [
        "# Checking the min and max value of our tensor \n",
        "print(f'Maximum value: {tf.reduce_max(big_tensor)}')\n",
        "print(f'Minimum value: {tf.reduce_min(big_tensor)}')"
      ],
      "metadata": {
        "id": "I_wK40W8yTrL",
        "outputId": "49852fee-dcb6-4c54-909d-ead366e32ec7",
        "colab": {
          "base_uri": "https://localhost:8080/"
        }
      },
      "execution_count": 8,
      "outputs": [
        {
          "output_type": "stream",
          "name": "stdout",
          "text": [
            "Maximum value: 0.999991774559021\n",
            "Minimum value: 2.384185791015625e-07\n"
          ]
        }
      ]
    },
    {
      "cell_type": "markdown",
      "source": [
        "### 7. Find the **min** and **max values** of the tensor we created in 6.\n"
      ],
      "metadata": {
        "id": "jOiN1-8dydKH"
      }
    },
    {
      "cell_type": "code",
      "source": [
        "# Finding the minimum \n",
        "minimum = tf.math.reduce_min(big_tensor)\n",
        "print(f'The minimum value is: {minimum}')"
      ],
      "metadata": {
        "id": "RGx18syEyenT",
        "outputId": "57c6e4ee-6e72-44f2-e82d-a08ad0762198",
        "colab": {
          "base_uri": "https://localhost:8080/"
        }
      },
      "execution_count": 9,
      "outputs": [
        {
          "output_type": "stream",
          "name": "stdout",
          "text": [
            "The minimum value is: 2.384185791015625e-07\n"
          ]
        }
      ]
    },
    {
      "cell_type": "code",
      "source": [
        "# Finding the maximum \n",
        "maximum = tf.math.reduce_max(big_tensor)\n",
        "print(f'The maximum value is: {maximum}')"
      ],
      "metadata": {
        "id": "2v7Y5p58ykA3",
        "outputId": "4a4ae24a-5972-4759-92da-2c983d9a73b4",
        "colab": {
          "base_uri": "https://localhost:8080/"
        }
      },
      "execution_count": 10,
      "outputs": [
        {
          "output_type": "stream",
          "name": "stdout",
          "text": [
            "The maximum value is: 0.999991774559021\n"
          ]
        }
      ]
    },
    {
      "cell_type": "markdown",
      "source": [
        "### 8. Created a tensor with random values of shape `[1, 224, 224, 3]` then **squeeze** it to change the shape to `[224, 224, 3]`.\n"
      ],
      "metadata": {
        "id": "aX4lMmwXyouv"
      }
    },
    {
      "cell_type": "code",
      "source": [
        "# Tensor with shape [224 , 224 , 3]\n",
        "unsqueezed_tensor = tf.random.Generator.from_seed(42)\n",
        "unsqueezed_tensor = unsqueezed_tensor.normal(shape = (1 , 224 , 224 , 3))\n",
        "\n",
        "print(f'The shape before squeezing: {unsqueezed_tensor.shape}')"
      ],
      "metadata": {
        "id": "KD_tyuwSyuB7",
        "outputId": "aa09c1aa-3d8f-46d8-b3df-55f95db1bffe",
        "colab": {
          "base_uri": "https://localhost:8080/"
        }
      },
      "execution_count": 11,
      "outputs": [
        {
          "output_type": "stream",
          "name": "stdout",
          "text": [
            "The shape before squeezing: (1, 224, 224, 3)\n"
          ]
        }
      ]
    },
    {
      "cell_type": "code",
      "source": [
        "# And we are squeezing it \n",
        "squeezed_tensor = tf.squeeze(unsqueezed_tensor)\n",
        "print(f'The shape after squeezing: {squeezed_tensor.shape}')"
      ],
      "metadata": {
        "id": "A6ZvPCQoy2cY",
        "outputId": "c4026318-da72-41c6-873a-8fbcc10edbb2",
        "colab": {
          "base_uri": "https://localhost:8080/"
        }
      },
      "execution_count": 12,
      "outputs": [
        {
          "output_type": "stream",
          "name": "stdout",
          "text": [
            "The shape after squeezing: (224, 224, 3)\n"
          ]
        }
      ]
    },
    {
      "cell_type": "markdown",
      "source": [
        "### 9. Create a tensor with shape `[10]` using our own choice of values, then find the **index** which has the **maximum value**.\n"
      ],
      "metadata": {
        "id": "gD-PxzSYy7Wn"
      }
    },
    {
      "cell_type": "code",
      "source": [
        "ten_tensor = tf.constant([0 ,1 ,2 ,3, 4, 9, 10, 0.1 , -000.1 , 6])\n",
        "\n",
        "# Finding the index where value is maximum \n",
        "max_value = tf.math.argmax(ten_tensor)\n",
        "\n",
        "print(f'The indices where the value is maximum: {max_value}')\n",
        "print(f'The maximum value was: {ten_tensor[max_value]}')"
      ],
      "metadata": {
        "id": "kMhm26Bsy-pm",
        "outputId": "9e1e8f6b-ddc9-43e3-c1a0-555ee5f9b7ef",
        "colab": {
          "base_uri": "https://localhost:8080/"
        }
      },
      "execution_count": 13,
      "outputs": [
        {
          "output_type": "stream",
          "name": "stdout",
          "text": [
            "The indices where the value is maximum: 6\n",
            "The maximum value was: 10.0\n"
          ]
        }
      ]
    },
    {
      "cell_type": "markdown",
      "source": [
        "### 10. **One-hot** encode the tensor you created in 9."
      ],
      "metadata": {
        "id": "sKf1cam_zHww"
      }
    },
    {
      "cell_type": "code",
      "source": [
        "# Throw's an error since I had floating numbers in my tensor, casting to int solved! \n",
        "tf.cast(ten_tensor , dtype=tf.int32)"
      ],
      "metadata": {
        "id": "7hL1ISQ3zITa",
        "outputId": "aefac019-28a9-49a2-9953-822062315003",
        "colab": {
          "base_uri": "https://localhost:8080/"
        }
      },
      "execution_count": 14,
      "outputs": [
        {
          "output_type": "execute_result",
          "data": {
            "text/plain": [
              "<tf.Tensor: shape=(10,), dtype=int32, numpy=array([ 0,  1,  2,  3,  4,  9, 10,  0,  0,  6], dtype=int32)>"
            ]
          },
          "metadata": {},
          "execution_count": 14
        }
      ]
    },
    {
      "cell_type": "code",
      "source": [
        "# One hot encoding the tensor of shape 10 \n",
        "tf.one_hot(tf.cast(ten_tensor , dtype=tf.int32) , depth = 10)"
      ],
      "metadata": {
        "id": "NRPaDcoIzNQq",
        "outputId": "33c9cf63-acf9-4fac-9300-52724591f624",
        "colab": {
          "base_uri": "https://localhost:8080/"
        }
      },
      "execution_count": 15,
      "outputs": [
        {
          "output_type": "execute_result",
          "data": {
            "text/plain": [
              "<tf.Tensor: shape=(10, 10), dtype=float32, numpy=\n",
              "array([[1., 0., 0., 0., 0., 0., 0., 0., 0., 0.],\n",
              "       [0., 1., 0., 0., 0., 0., 0., 0., 0., 0.],\n",
              "       [0., 0., 1., 0., 0., 0., 0., 0., 0., 0.],\n",
              "       [0., 0., 0., 1., 0., 0., 0., 0., 0., 0.],\n",
              "       [0., 0., 0., 0., 1., 0., 0., 0., 0., 0.],\n",
              "       [0., 0., 0., 0., 0., 0., 0., 0., 0., 1.],\n",
              "       [0., 0., 0., 0., 0., 0., 0., 0., 0., 0.],\n",
              "       [1., 0., 0., 0., 0., 0., 0., 0., 0., 0.],\n",
              "       [1., 0., 0., 0., 0., 0., 0., 0., 0., 0.],\n",
              "       [0., 0., 0., 0., 0., 0., 1., 0., 0., 0.]], dtype=float32)>"
            ]
          },
          "metadata": {},
          "execution_count": 15
        }
      ]
    },
    {
      "cell_type": "markdown",
      "source": [
        "## Extra Curriculum \n",
        "\n",
        "- Let's try to create a series of tensor functions to calculate our most recent grocery bill (it's okay if we don't use the names of the items, just the price in numerical form).\n",
        "    - How would we calculate our grocery bill for the month and for the year using tensors?"
      ],
      "metadata": {
        "id": "_EO4hwSXzTWo"
      }
    }
  ],
  "metadata": {
    "language_info": {
      "name": "python"
    },
    "orig_nbformat": 4,
    "colab": {
      "provenance": [],
      "include_colab_link": true
    },
    "kernelspec": {
      "name": "python3",
      "display_name": "Python 3"
    },
    "gpuClass": "standard"
  },
  "nbformat": 4,
  "nbformat_minor": 0
}