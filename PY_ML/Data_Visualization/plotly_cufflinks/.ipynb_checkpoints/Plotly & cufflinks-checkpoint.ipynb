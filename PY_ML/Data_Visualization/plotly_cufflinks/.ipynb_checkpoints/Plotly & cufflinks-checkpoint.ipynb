{
 "cells": [
  {
   "cell_type": "markdown",
   "id": "20eb3be0",
   "metadata": {},
   "source": [
    "Plotly is a library that allows you to create interactive plots that you can use in dashboards or websites (you can save them as html files or static images).\n",
    "\n",
    "Installation\n",
    "In order for this all to work, you'll need to install plotly and cufflinks to call plots directly off of a pandas dataframe. These libraries are not currently available through conda but are available through pip. Install the libraries at your command line/terminal using:\n",
    "\n",
    "pip install plotly\n",
    "\n",
    "pip install cufflinks\n",
    "\n",
    "** NOTE: Make sure only have one installation of Python on computer when do this, otherwise the installation may not work. **\n",
    "\n",
    "Imports and Set-up"
   ]
  },
  {
   "cell_type": "code",
   "execution_count": 3,
   "id": "636fcf6a",
   "metadata": {},
   "outputs": [
    {
     "name": "stdout",
     "output_type": "stream",
     "text": [
      "Note: NumExpr detected 12 cores but \"NUMEXPR_MAX_THREADS\" not set, so enforcing safe limit of 8.\n",
      "NumExpr defaulting to 8 threads.\n"
     ]
    }
   ],
   "source": [
    "import pandas as pd\n",
    "import numpy as np\n",
    "%matplotlib inline"
   ]
  },
  {
   "cell_type": "code",
   "execution_count": 4,
   "id": "e85e060b",
   "metadata": {},
   "outputs": [
    {
     "name": "stdout",
     "output_type": "stream",
     "text": [
      "5.6.0\n"
     ]
    }
   ],
   "source": [
    "from plotly import __version__\n",
    "from plotly.offline import download_plotlyjs, init_notebook_mode, plot, iplot\n",
    "\n",
    "print(__version__) # requires version >= 1.9.0"
   ]
  },
  {
   "cell_type": "code",
   "execution_count": 5,
   "id": "9155368a",
   "metadata": {},
   "outputs": [],
   "source": [
    "import cufflinks as cf"
   ]
  },
  {
   "cell_type": "code",
   "execution_count": 6,
   "id": "fc54551f",
   "metadata": {},
   "outputs": [
    {
     "data": {
      "text/html": [
       "        <script type=\"text/javascript\">\n",
       "        window.PlotlyConfig = {MathJaxConfig: 'local'};\n",
       "        if (window.MathJax) {MathJax.Hub.Config({SVG: {font: \"STIX-Web\"}});}\n",
       "        if (typeof require !== 'undefined') {\n",
       "        require.undef(\"plotly\");\n",
       "        requirejs.config({\n",
       "            paths: {\n",
       "                'plotly': ['https://cdn.plot.ly/plotly-2.9.0.min']\n",
       "            }\n",
       "        });\n",
       "        require(['plotly'], function(Plotly) {\n",
       "            window._Plotly = Plotly;\n",
       "        });\n",
       "        }\n",
       "        </script>\n",
       "        "
      ]
     },
     "metadata": {},
     "output_type": "display_data"
    }
   ],
   "source": [
    "# For Notebooks\n",
    "init_notebook_mode(connected=True)"
   ]
  },
  {
   "cell_type": "code",
   "execution_count": 7,
   "id": "37308bab",
   "metadata": {},
   "outputs": [
    {
     "data": {
      "text/html": [
       "        <script type=\"text/javascript\">\n",
       "        window.PlotlyConfig = {MathJaxConfig: 'local'};\n",
       "        if (window.MathJax) {MathJax.Hub.Config({SVG: {font: \"STIX-Web\"}});}\n",
       "        if (typeof require !== 'undefined') {\n",
       "        require.undef(\"plotly\");\n",
       "        requirejs.config({\n",
       "            paths: {\n",
       "                'plotly': ['https://cdn.plot.ly/plotly-2.9.0.min']\n",
       "            }\n",
       "        });\n",
       "        require(['plotly'], function(Plotly) {\n",
       "            window._Plotly = Plotly;\n",
       "        });\n",
       "        }\n",
       "        </script>\n",
       "        "
      ]
     },
     "metadata": {},
     "output_type": "display_data"
    }
   ],
   "source": [
    "# For offline use\n",
    "cf.go_offline()"
   ]
  },
  {
   "cell_type": "markdown",
   "id": "7a383a4d",
   "metadata": {},
   "source": [
    "# Fake Data"
   ]
  },
  {
   "cell_type": "code",
   "execution_count": 8,
   "id": "682f3bea",
   "metadata": {},
   "outputs": [],
   "source": [
    "df = pd.DataFrame(np.random.randn(100,4),columns='A B C D'.split())"
   ]
  },
  {
   "cell_type": "code",
   "execution_count": 9,
   "id": "aa9932e4",
   "metadata": {},
   "outputs": [
    {
     "data": {
      "text/html": [
       "<div>\n",
       "<style scoped>\n",
       "    .dataframe tbody tr th:only-of-type {\n",
       "        vertical-align: middle;\n",
       "    }\n",
       "\n",
       "    .dataframe tbody tr th {\n",
       "        vertical-align: top;\n",
       "    }\n",
       "\n",
       "    .dataframe thead th {\n",
       "        text-align: right;\n",
       "    }\n",
       "</style>\n",
       "<table border=\"1\" class=\"dataframe\">\n",
       "  <thead>\n",
       "    <tr style=\"text-align: right;\">\n",
       "      <th></th>\n",
       "      <th>A</th>\n",
       "      <th>B</th>\n",
       "      <th>C</th>\n",
       "      <th>D</th>\n",
       "    </tr>\n",
       "  </thead>\n",
       "  <tbody>\n",
       "    <tr>\n",
       "      <th>0</th>\n",
       "      <td>1.225009</td>\n",
       "      <td>-0.058828</td>\n",
       "      <td>-0.208304</td>\n",
       "      <td>-0.729517</td>\n",
       "    </tr>\n",
       "    <tr>\n",
       "      <th>1</th>\n",
       "      <td>-0.451552</td>\n",
       "      <td>-0.558596</td>\n",
       "      <td>1.994022</td>\n",
       "      <td>-0.239988</td>\n",
       "    </tr>\n",
       "    <tr>\n",
       "      <th>2</th>\n",
       "      <td>-0.434195</td>\n",
       "      <td>0.285921</td>\n",
       "      <td>0.686890</td>\n",
       "      <td>-1.154723</td>\n",
       "    </tr>\n",
       "    <tr>\n",
       "      <th>3</th>\n",
       "      <td>0.496594</td>\n",
       "      <td>0.736970</td>\n",
       "      <td>0.740395</td>\n",
       "      <td>0.525128</td>\n",
       "    </tr>\n",
       "    <tr>\n",
       "      <th>4</th>\n",
       "      <td>0.715494</td>\n",
       "      <td>0.504052</td>\n",
       "      <td>0.258053</td>\n",
       "      <td>-1.215356</td>\n",
       "    </tr>\n",
       "  </tbody>\n",
       "</table>\n",
       "</div>"
      ],
      "text/plain": [
       "          A         B         C         D\n",
       "0  1.225009 -0.058828 -0.208304 -0.729517\n",
       "1 -0.451552 -0.558596  1.994022 -0.239988\n",
       "2 -0.434195  0.285921  0.686890 -1.154723\n",
       "3  0.496594  0.736970  0.740395  0.525128\n",
       "4  0.715494  0.504052  0.258053 -1.215356"
      ]
     },
     "execution_count": 9,
     "metadata": {},
     "output_type": "execute_result"
    }
   ],
   "source": [
    "df.head()"
   ]
  },
  {
   "cell_type": "code",
   "execution_count": 10,
   "id": "ac43c113",
   "metadata": {},
   "outputs": [],
   "source": [
    "df2 = pd.DataFrame({'Category':['A','B','C'],'Values':[32,43,50]})"
   ]
  },
  {
   "cell_type": "code",
   "execution_count": 12,
   "id": "f9560612",
   "metadata": {},
   "outputs": [
    {
     "data": {
      "text/html": [
       "<div>\n",
       "<style scoped>\n",
       "    .dataframe tbody tr th:only-of-type {\n",
       "        vertical-align: middle;\n",
       "    }\n",
       "\n",
       "    .dataframe tbody tr th {\n",
       "        vertical-align: top;\n",
       "    }\n",
       "\n",
       "    .dataframe thead th {\n",
       "        text-align: right;\n",
       "    }\n",
       "</style>\n",
       "<table border=\"1\" class=\"dataframe\">\n",
       "  <thead>\n",
       "    <tr style=\"text-align: right;\">\n",
       "      <th></th>\n",
       "      <th>Category</th>\n",
       "      <th>Values</th>\n",
       "    </tr>\n",
       "  </thead>\n",
       "  <tbody>\n",
       "    <tr>\n",
       "      <th>0</th>\n",
       "      <td>A</td>\n",
       "      <td>32</td>\n",
       "    </tr>\n",
       "    <tr>\n",
       "      <th>1</th>\n",
       "      <td>B</td>\n",
       "      <td>43</td>\n",
       "    </tr>\n",
       "    <tr>\n",
       "      <th>2</th>\n",
       "      <td>C</td>\n",
       "      <td>50</td>\n",
       "    </tr>\n",
       "  </tbody>\n",
       "</table>\n",
       "</div>"
      ],
      "text/plain": [
       "  Category  Values\n",
       "0        A      32\n",
       "1        B      43\n",
       "2        C      50"
      ]
     },
     "execution_count": 12,
     "metadata": {},
     "output_type": "execute_result"
    }
   ],
   "source": [
    "df2.head()"
   ]
  },
  {
   "cell_type": "code",
   "execution_count": 13,
   "id": "fe5c9645",
   "metadata": {},
   "outputs": [
    {
     "data": {
      "text/plain": [
       "<AxesSubplot:>"
      ]
     },
     "execution_count": 13,
     "metadata": {},
     "output_type": "execute_result"
    },
    {
     "data": {
      "image/png": "[encoded data removed]",
      "text/plain": [
       "<Figure size 432x288 with 1 Axes>"
      ]
     },
     "metadata": {
      "needs_background": "light"
     },
     "output_type": "display_data"
    }
   ],
   "source": [
    "df.plot()"
   ]
  },
  {
   "cell_type": "markdown",
   "id": "150836a0",
   "metadata": {},
   "source": [
    "# Using Cufflinks and iplot()\n",
    "\n",
    "* scatter\n",
    "* bar\n",
    "* box\n",
    "* spread\n",
    "* ratio\n",
    "* heatmap\n",
    "* surface\n",
    "* histogram\n",
    "* bubble"
   ]
  },
  {
   "cell_type": "code",
   "execution_count": 14,
   "id": "c571af73",
   "metadata": {},
   "outputs": [
    {
     "data": {
      "application/vnd.plotly.v1+json": {
       "config": {
        "linkText": "Export to plot.ly",
        "plotlyServerURL": "https://plot.ly",
        "showLink": true
       },
       "data": [
        {
         "line": {
          "color": "rgba(255, 153, 51, 1.0)",
          "dash": "solid",
          "shape": "linear",
          "width": 1.3
         },
         "mode": "lines",
         "name": "A",
         "text": "",
         "type": "scatter",
         "x": [
          0,
          1,
          2,
          3,
          4,
          5,
          6,
          7,
          8,
          9,
          10,
          11,
          12,
          13,
          14,
          15,
          16,
          17,
          18,
          19,
          20,
          21,
          22,
          23,
          24,
          25,
          26,
          27,
          28,
          29,
          30,
          31,
          32,
          33,
          34,
          35,
          36,
          37,
          38,
          39,
          40,
          41,
          42,
          43,
          44,
          45,
          46,
          47,
          48,
          49,
          50,
          51,
          52,
          53,
          54,
          55,
          56,
          57,
          58,
          59,
          60,
          61,
          62,
          63,
          64,
          65,
          66,
          67,
          68,
          69,
          70,
          71,
          72,
          73,
          74,
          75,
          76,
          77,
          78,
          79,
          80,
          81,
          82,
          83,
          84,
          85,
          86,
          87,
          88,
          89,
          90,
          91,
          92,
          93,
          94,
          95,
          96,
          97,
          98,
          99
         ],
         "y": [
          1.2250091290549099,
          -0.45155151276997574,
          -0.434194932410401,
          0.4965940115376493,
          0.7154940545115944,
          0.869248019234941,
          2.3213512716361366,
          -0.17578821354583135,
          -0.6980535363394793,
          1.7960776805377587,
          -0.6797508949993439,
          -0.3309524884809053,
          -0.6045666646935174,
          0.39255638365070905,
          0.8963963207259847,
          -1.207418038315098,
          2.43886274114652,
          -0.25133423822888296,
          0.344811281109698,
          0.4651337825187788,
          -0.9693819748893496,
          -1.511988582178468,
          1.471896155007462,
          -0.398263666264437,
          0.39168919211590114,
          1.3028894716559019,
          0.3780306164092249,
          -0.5771500751039939,
          0.7271384586266463,
          -1.1028606757463444,
          1.3055889750163336,
          -0.009495061596881786,
          -0.21893928001299454,
          -1.0867415317320401,
          -0.1275445495943942,
          0.33115070545190967,
          2.5642016093451714,
          -0.2209033831209197,
          -0.643645732559064,
          -0.5765241905247848,
          0.2157414441636662,
          1.5633915324211198,
          -1.3815087548291045,
          -0.4404643403952877,
          0.46486207751427316,
          0.5945107910659146,
          -1.138265783518757,
          0.010872214988163919,
          0.576946264815059,
          -0.3220104816325628,
          -3.1580009227460373,
          0.22098917229933435,
          -0.8812159121268724,
          -0.6746542906878209,
          0.04361980450368418,
          1.1672838672617596,
          0.7882475378851349,
          -0.2231655723751139,
          1.5196027240194374,
          -0.6141433238954168,
          0.06664930104555683,
          0.2811234182254289,
          -1.656925993858488,
          0.4418261364739898,
          -0.5371968332337426,
          -0.9081527939790605,
          -0.07855444225988696,
          -0.8226887787257702,
          0.9282396462206131,
          -1.8774564271906615,
          -0.6151937005939961,
          -1.3814368588693005,
          0.4917684583284424,
          0.43202353599084037,
          -0.2910669668112129,
          -1.1742968785696453,
          0.1145405200398717,
          0.8879132770752252,
          2.205142879212352,
          -0.8708551842512162,
          0.5146930417481028,
          -0.7397889246404309,
          0.3725082553355003,
          -0.2970889305836918,
          -0.6023513414272289,
          -0.6548214421503965,
          1.0487938530886973,
          -0.46844577455326064,
          0.4431751142410106,
          0.617494687789193,
          -2.118833378214814,
          -1.121121567734123,
          0.060602473271775266,
          1.5829742026816596,
          -1.443617735913895,
          -0.45552498105881545,
          0.17269055388343957,
          0.32449455147760553,
          -0.22266509764397124,
          -0.35516799968725554
         ]
        },
        {
         "line": {
          "color": "rgba(55, 128, 191, 1.0)",
          "dash": "solid",
          "shape": "linear",
          "width": 1.3
         },
         "mode": "lines",
         "name": "B",
         "text": "",
         "type": "scatter",
         "x": [
          0,
          1,
          2,
          3,
          4,
          5,
          6,
          7,
          8,
          9,
          10,
          11,
          12,
          13,
          14,
          15,
          16,
          17,
          18,
          19,
          20,
          21,
          22,
          23,
          24,
          25,
          26,
          27,
          28,
          29,
          30,
          31,
          32,
          33,
          34,
          35,
          36,
          37,
          38,
          39,
          40,
          41,
          42,
          43,
          44,
          45,
          46,
          47,
          48,
          49,
          50,
          51,
          52,
          53,
          54,
          55,
          56,
          57,
          58,
          59,
          60,
          61,
          62,
          63,
          64,
          65,
          66,
          67,
          68,
          69,
          70,
          71,
          72,
          73,
          74,
          75,
          76,
          77,
          78,
          79,
          80,
          81,
          82,
          83,
          84,
          85,
          86,
          87,
          88,
          89,
          90,
          91,
          92,
          93,
          94,
          95,
          96,
          97,
          98,
          99
         ],
         "y": [
          -0.058828348753244795,
          -0.5585955170846071,
          0.28592113693614535,
          0.7369704806177205,
          0.5040515469067578,
          -1.150531193233306,
          0.37863435943863993,
          2.6446661872057966,
          0.6141075505621618,
          -0.2903774701835001,
          1.2944643852448017,
          0.08833387861941756,
          0.740469911373652,
          -1.2378998245290902,
          0.8377548461424911,
          -0.9302492624058314,
          0.8619676710312983,
          0.6637615012201094,
          -0.23583023776775033,
          -1.7212897063889532,
          0.7494120556400852,
          -1.570272198998661,
          1.8778845200154963,
          1.3596472166470617,
          1.6016167744950842,
          1.4471808283293137,
          1.1612839763319274,
          -0.14757504651218814,
          -0.6595650733988679,
          0.6936799050890169,
          1.1145216894947776,
          0.2988919777304995,
          -1.2339766655239337,
          -1.4148282731503572,
          -1.0186179403047475,
          -0.5596638109277869,
          -1.1629501310796933,
          -1.4580730317331707,
          0.19043930587364302,
          0.16607046431833294,
          -1.1528877738508099,
          -0.25292305873434856,
          0.7549938818117207,
          0.14861042055819765,
          0.17111415264706922,
          -2.1938539364050342,
          -0.5595594846677245,
          0.5755730956414731,
          -1.0951142538294591,
          0.14904979017143627,
          0.7830949465996929,
          -2.4694173550155902,
          -1.375546686025038,
          -0.9355671286774196,
          -1.9039772933856638,
          0.9641021125721575,
          -0.6541626146441876,
          1.5570492952921344,
          -0.28163972606348875,
          -0.4221870666756173,
          -0.008255132583119976,
          -0.974937610260182,
          1.4744097823938067,
          0.3941908907496691,
          -0.46925653750948826,
          0.6172989994558716,
          -1.5691837871097243,
          0.8275091476401291,
          2.2632501094631494,
          -0.6628560911357416,
          0.7473190202715746,
          0.963350570059107,
          1.4179540247512379,
          0.2813514042710119,
          0.2972570430123793,
          -0.3746604454081584,
          1.1064630868964769,
          -1.3066939251958634,
          -0.40644182487705977,
          -1.917462490109074,
          -0.791861120472799,
          -0.2343111928184764,
          0.09114874510176733,
          0.062218244033363616,
          -0.802451728592171,
          0.06171028511578955,
          0.4198079906863518,
          1.3820369642682173,
          0.075842013636187,
          -1.466189127750254,
          -0.5352111977391772,
          -0.5826480477362354,
          1.5796807614050792,
          -0.04240384621818216,
          -0.017172085149557044,
          -1.6690116849350105,
          -0.5526387152921023,
          -1.329721799479411,
          0.24578920761770287,
          0.7237373775718123
         ]
        },
        {
         "line": {
          "color": "rgba(50, 171, 96, 1.0)",
          "dash": "solid",
          "shape": "linear",
          "width": 1.3
         },
         "mode": "lines",
         "name": "C",
         "text": "",
         "type": "scatter",
         "x": [
          0,
          1,
          2,
          3,
          4,
          5,
          6,
          7,
          8,
          9,
          10,
          11,
          12,
          13,
          14,
          15,
          16,
          17,
          18,
          19,
          20,
          21,
          22,
          23,
          24,
          25,
          26,
          27,
          28,
          29,
          30,
          31,
          32,
          33,
          34,
          35,
          36,
          37,
          38,
          39,
          40,
          41,
          42,
          43,
          44,
          45,
          46,
          47,
          48,
          49,
          50,
          51,
          52,
          53,
          54,
          55,
          56,
          57,
          58,
          59,
          60,
          61,
          62,
          63,
          64,
          65,
          66,
          67,
          68,
          69,
          70,
          71,
          72,
          73,
          74,
          75,
          76,
          77,
          78,
          79,
          80,
          81,
          82,
          83,
          84,
          85,
          86,
          87,
          88,
          89,
          90,
          91,
          92,
          93,
          94,
          95,
          96,
          97,
          98,
          99
         ],
         "y": [
          -0.2083042386487811,
          1.9940217019660507,
          0.6868900521656066,
          0.7403954832943933,
          0.25805332100912814,
          -0.9011569445057611,
          -0.4827251614150337,
          1.0030869769211281,
          0.29698123810580285,
          -0.2901223806986594,
          -0.2297965917923508,
          -1.907840012916959,
          -1.2455654462556958,
          0.5152485445690139,
          -1.0509564361591983,
          0.402477045802536,
          -0.7765787637682078,
          1.3269130095321573,
          -0.6689737397983537,
          0.5792245539811444,
          0.7411088610625216,
          0.8505294593115799,
          0.337565961537066,
          0.09942771486809635,
          -0.5639741902201713,
          1.7735546563905753,
          -0.5272003403466731,
          0.15636506360191063,
          -1.0168608912347303,
          -0.6483483944070878,
          0.6359429714590861,
          0.29321320612892793,
          -0.5575024486543803,
          1.314706106833745,
          -1.4602926417139206,
          -2.1593244387803496,
          -0.9915125256757606,
          0.7087333011849094,
          1.4431207862913922,
          -0.4379466361803305,
          0.6718724360567718,
          0.23376497155418177,
          0.7141334401573364,
          0.5137960244136215,
          0.24195585850416812,
          -0.09232689708484221,
          1.2409230680608476,
          -0.8943710338176813,
          -0.02488283665599046,
          1.7051232886593457,
          0.7963260086215248,
          -0.13487163799224222,
          0.8095222084290425,
          -1.8458841213086177,
          0.5353035104471991,
          1.2219545932019658,
          0.31565573575299694,
          0.00212104897591511,
          -1.0437970677697614,
          0.8897972326176441,
          0.5840163282494348,
          0.10457478707717668,
          1.9469467459336642,
          -0.4008457003721722,
          0.9833704584007208,
          0.029773715402908435,
          1.2111780664404013,
          -0.03146949831444492,
          0.08847383790855555,
          0.0529351709738586,
          1.820158923002148,
          0.8228578460750813,
          0.07489330856630462,
          -0.7206384590420204,
          0.039063599122389686,
          -0.18140082374391592,
          -0.3450999073944346,
          0.13828496015484665,
          -0.955705108359854,
          -1.3054477253420014,
          -0.41144534093628854,
          -0.6082919721613056,
          -1.1534001270477723,
          1.1696173660287967,
          1.2984008626926735,
          -1.375702829675632,
          0.2778470265387704,
          -0.7583231926290582,
          -0.2815972749544762,
          0.6332104027712953,
          -0.5870809544825567,
          -0.46938737929678664,
          0.5530455065009544,
          -0.19653247959752876,
          0.07193535079171101,
          0.6765581713207989,
          -1.0684094369816255,
          -0.9881307004761971,
          0.9245895121438726,
          -0.6529543539204322
         ]
        },
        {
         "line": {
          "color": "rgba(128, 0, 128, 1.0)",
          "dash": "solid",
          "shape": "linear",
          "width": 1.3
         },
         "mode": "lines",
         "name": "D",
         "text": "",
         "type": "scatter",
         "x": [
          0,
          1,
          2,
          3,
          4,
          5,
          6,
          7,
          8,
          9,
          10,
          11,
          12,
          13,
          14,
          15,
          16,
          17,
          18,
          19,
          20,
          21,
          22,
          23,
          24,
          25,
          26,
          27,
          28,
          29,
          30,
          31,
          32,
          33,
          34,
          35,
          36,
          37,
          38,
          39,
          40,
          41,
          42,
          43,
          44,
          45,
          46,
          47,
          48,
          49,
          50,
          51,
          52,
          53,
          54,
          55,
          56,
          57,
          58,
          59,
          60,
          61,
          62,
          63,
          64,
          65,
          66,
          67,
          68,
          69,
          70,
          71,
          72,
          73,
          74,
          75,
          76,
          77,
          78,
          79,
          80,
          81,
          82,
          83,
          84,
          85,
          86,
          87,
          88,
          89,
          90,
          91,
          92,
          93,
          94,
          95,
          96,
          97,
          98,
          99
         ],
         "y": [
          -0.7295170198037868,
          -0.23998788606590082,
          -1.1547229401264072,
          0.5251275531639371,
          -1.21535597674017,
          1.9753387262494997,
          0.9020659434959302,
          -0.7889940780201902,
          -2.4041437503837253,
          -0.9355465947684439,
          -0.6842111153397739,
          -0.7799432289418868,
          0.16081177876519212,
          1.2841547345103963,
          -0.3227596130499945,
          -0.9039206625056124,
          0.828889919327969,
          -2.9679088884059173,
          -0.5750994822623196,
          0.3846892236574576,
          0.14833093564088037,
          0.07309713066844106,
          -0.25559763349132203,
          -0.4813841083056664,
          -1.9271808617819115,
          -0.6070580733247838,
          -1.1636932324687423,
          1.339280484849487,
          0.47771727654156293,
          -0.5968481161014805,
          1.2968929935229006,
          -0.16216150682417468,
          1.0903918297478092,
          -0.055663382391095195,
          -1.9383170898318631,
          1.112380532950639,
          1.3782274102022636,
          -0.42142411236809735,
          0.8957323065314934,
          0.41097621688336106,
          -0.02765272096708784,
          0.9149429515529102,
          -0.13880192453908266,
          0.47751716452927917,
          0.3481420236491288,
          -0.23131776015717798,
          0.5094548526908059,
          -0.7608094741193897,
          0.11631986292309104,
          -0.2172543381087466,
          -0.951490541615766,
          -0.5926296384911123,
          0.017807357187338953,
          0.9589901026525065,
          -1.1984176228205554,
          0.9022702336672062,
          0.6596991557481351,
          -0.8729232096834276,
          0.6099302488780277,
          1.0768283425233702,
          -0.11221523895765963,
          0.5625163393167306,
          -0.16135609434261725,
          1.9687965814298227,
          -0.06034088230737512,
          1.0471376411737952,
          -3.083514419464437,
          0.3359159310292446,
          0.9532324676202132,
          -2.3431026083136883,
          0.5653884207646511,
          -1.276743836695403,
          -1.2754424081239786,
          0.7273459291173392,
          0.5640935924868778,
          0.35167990059124504,
          -0.009069882781335902,
          2.442716727062103,
          -0.7010249463474859,
          0.8308583001465093,
          0.9078840027915112,
          -0.10398264081503443,
          1.1709992616915568,
          0.6155368314083067,
          1.938359996658619,
          0.46887097910584574,
          1.5980214011585323,
          -1.6680300591099766,
          0.6529140466907034,
          -0.09259132978023017,
          0.4017007216409476,
          1.0866891958055531,
          0.02355809233525598,
          -0.6027075895405759,
          0.29777603835222355,
          -0.29772036756264664,
          0.5102551472094399,
          -2.203414038181977,
          0.14521146581149785,
          -1.7873674316906647
         ]
        }
       ],
       "layout": {
        "legend": {
         "bgcolor": "#F5F6F9",
         "font": {
          "color": "#4D5663"
         }
        },
        "paper_bgcolor": "#F5F6F9",
        "plot_bgcolor": "#F5F6F9",
        "template": {
         "data": {
          "bar": [
           {
            "error_x": {
             "color": "#2a3f5f"
            },
            "error_y": {
             "color": "#2a3f5f"
            },
            "marker": {
             "line": {
              "color": "#E5ECF6",
              "width": 0.5
             },
             "pattern": {
              "fillmode": "overlay",
              "size": 10,
              "solidity": 0.2
             }
            },
            "type": "bar"
           }
          ],
          "barpolar": [
           {
            "marker": {
             "line": {
              "color": "#E5ECF6",
              "width": 0.5
             },
             "pattern": {
              "fillmode": "overlay",
              "size": 10,
              "solidity": 0.2
             }
            },
            "type": "barpolar"
           }
          ],
          "carpet": [
           {
            "aaxis": {
             "endlinecolor": "#2a3f5f",
             "gridcolor": "white",
             "linecolor": "white",
             "minorgridcolor": "white",
             "startlinecolor": "#2a3f5f"
            },
            "baxis": {
             "endlinecolor": "#2a3f5f",
             "gridcolor": "white",
             "linecolor": "white",
             "minorgridcolor": "white",
             "startlinecolor": "#2a3f5f"
            },
            "type": "carpet"
           }
          ],
          "choropleth": [
           {
            "colorbar": {
             "outlinewidth": 0,
             "ticks": ""
            },
            "type": "choropleth"
           }
          ],
          "contour": [
           {
            "colorbar": {
             "outlinewidth": 0,
             "ticks": ""
            },
            "colorscale": [
             [
              0,
              "#0d0887"
             ],
             [
              0.1111111111111111,
              "#46039f"
             ],
             [
              0.2222222222222222,
              "#7201a8"
             ],
             [
              0.3333333333333333,
              "#9c179e"
             ],
             [
              0.4444444444444444,
              "#bd3786"
             ],
             [
              0.5555555555555556,
              "#d8576b"
             ],
             [
              0.6666666666666666,
              "#ed7953"
             ],
             [
              0.7777777777777778,
              "#fb9f3a"
             ],
             [
              0.8888888888888888,
              "#fdca26"
             ],
             [
              1,
              "#f0f921"
             ]
            ],
            "type": "contour"
           }
          ],
          "contourcarpet": [
           {
            "colorbar": {
             "outlinewidth": 0,
             "ticks": ""
            },
            "type": "contourcarpet"
           }
          ],
          "heatmap": [
           {
            "colorbar": {
             "outlinewidth": 0,
             "ticks": ""
            },
            "colorscale": [
             [
              0,
              "#0d0887"
             ],
             [
              0.1111111111111111,
              "#46039f"
             ],
             [
              0.2222222222222222,
              "#7201a8"
             ],
             [
              0.3333333333333333,
              "#9c179e"
             ],
             [
              0.4444444444444444,
              "#bd3786"
             ],
             [
              0.5555555555555556,
              "#d8576b"
             ],
             [
              0.6666666666666666,
              "#ed7953"
             ],
             [
              0.7777777777777778,
              "#fb9f3a"
             ],
             [
              0.8888888888888888,
              "#fdca26"
             ],
             [
              1,
              "#f0f921"
             ]
            ],
            "type": "heatmap"
           }
          ],
          "heatmapgl": [
           {
            "colorbar": {
             "outlinewidth": 0,
             "ticks": ""
            },
            "colorscale": [
             [
              0,
              "#0d0887"
             ],
             [
              0.1111111111111111,
              "#46039f"
             ],
             [
              0.2222222222222222,
              "#7201a8"
             ],
             [
              0.3333333333333333,
              "#9c179e"
             ],
             [
              0.4444444444444444,
              "#bd3786"
             ],
             [
              0.5555555555555556,
              "#d8576b"
             ],
             [
              0.6666666666666666,
              "#ed7953"
             ],
             [
              0.7777777777777778,
              "#fb9f3a"
             ],
             [
              0.8888888888888888,
              "#fdca26"
             ],
             [
              1,
              "#f0f921"
             ]
            ],
            "type": "heatmapgl"
           }
          ],
          "histogram": [
           {
            "marker": {
             "pattern": {
              "fillmode": "overlay",
              "size": 10,
              "solidity": 0.2
             }
            },
            "type": "histogram"
           }
          ],
          "histogram2d": [
           {
            "colorbar": {
             "outlinewidth": 0,
             "ticks": ""
            },
            "colorscale": [
             [
              0,
              "#0d0887"
             ],
             [
              0.1111111111111111,
              "#46039f"
             ],
             [
              0.2222222222222222,
              "#7201a8"
             ],
             [
              0.3333333333333333,
              "#9c179e"
             ],
             [
              0.4444444444444444,
              "#bd3786"
             ],
             [
              0.5555555555555556,
              "#d8576b"
             ],
             [
              0.6666666666666666,
              "#ed7953"
             ],
             [
              0.7777777777777778,
              "#fb9f3a"
             ],
             [
              0.8888888888888888,
              "#fdca26"
             ],
             [
              1,
              "#f0f921"
             ]
            ],
            "type": "histogram2d"
           }
          ],
          "histogram2dcontour": [
           {
            "colorbar": {
             "outlinewidth": 0,
             "ticks": ""
            },
            "colorscale": [
             [
              0,
              "#0d0887"
             ],
             [
              0.1111111111111111,
              "#46039f"
             ],
             [
              0.2222222222222222,
              "#7201a8"
             ],
             [
              0.3333333333333333,
              "#9c179e"
             ],
             [
              0.4444444444444444,
              "#bd3786"
             ],
             [
              0.5555555555555556,
              "#d8576b"
             ],
             [
              0.6666666666666666,
              "#ed7953"
             ],
             [
              0.7777777777777778,
              "#fb9f3a"
             ],
             [
              0.8888888888888888,
              "#fdca26"
             ],
             [
              1,
              "#f0f921"
             ]
            ],
            "type": "histogram2dcontour"
           }
          ],
          "mesh3d": [
           {
            "colorbar": {
             "outlinewidth": 0,
             "ticks": ""
            },
            "type": "mesh3d"
           }
          ],
          "parcoords": [
           {
            "line": {
             "colorbar": {
              "outlinewidth": 0,
              "ticks": ""
             }
            },
            "type": "parcoords"
           }
          ],
          "pie": [
           {
            "automargin": true,
            "type": "pie"
           }
          ],
          "scatter": [
           {
            "marker": {
             "colorbar": {
              "outlinewidth": 0,
              "ticks": ""
             }
            },
            "type": "scatter"
           }
          ],
          "scatter3d": [
           {
            "line": {
             "colorbar": {
              "outlinewidth": 0,
              "ticks": ""
             }
            },
            "marker": {
             "colorbar": {
              "outlinewidth": 0,
              "ticks": ""
             }
            },
            "type": "scatter3d"
           }
          ],
          "scattercarpet": [
           {
            "marker": {
             "colorbar": {
              "outlinewidth": 0,
              "ticks": ""
             }
            },
            "type": "scattercarpet"
           }
          ],
          "scattergeo": [
           {
            "marker": {
             "colorbar": {
              "outlinewidth": 0,
              "ticks": ""
             }
            },
            "type": "scattergeo"
           }
          ],
          "scattergl": [
           {
            "marker": {
             "colorbar": {
              "outlinewidth": 0,
              "ticks": ""
             }
            },
            "type": "scattergl"
           }
          ],
          "scattermapbox": [
           {
            "marker": {
             "colorbar": {
              "outlinewidth": 0,
              "ticks": ""
             }
            },
            "type": "scattermapbox"
           }
          ],
          "scatterpolar": [
           {
            "marker": {
             "colorbar": {
              "outlinewidth": 0,
              "ticks": ""
             }
            },
            "type": "scatterpolar"
           }
          ],
          "scatterpolargl": [
           {
            "marker": {
             "colorbar": {
              "outlinewidth": 0,
              "ticks": ""
             }
            },
            "type": "scatterpolargl"
           }
          ],
          "scatterternary": [
           {
            "marker": {
             "colorbar": {
              "outlinewidth": 0,
              "ticks": ""
             }
            },
            "type": "scatterternary"
           }
          ],
          "surface": [
           {
            "colorbar": {
             "outlinewidth": 0,
             "ticks": ""
            },
            "colorscale": [
             [
              0,
              "#0d0887"
             ],
             [
              0.1111111111111111,
              "#46039f"
             ],
             [
              0.2222222222222222,
              "#7201a8"
             ],
             [
              0.3333333333333333,
              "#9c179e"
             ],
             [
              0.4444444444444444,
              "#bd3786"
             ],
             [
              0.5555555555555556,
              "#d8576b"
             ],
             [
              0.6666666666666666,
              "#ed7953"
             ],
             [
              0.7777777777777778,
              "#fb9f3a"
             ],
             [
              0.8888888888888888,
              "#fdca26"
             ],
             [
              1,
              "#f0f921"
             ]
            ],
            "type": "surface"
           }
          ],
          "table": [
           {
            "cells": {
             "fill": {
              "color": "#EBF0F8"
             },
             "line": {
              "color": "white"
             }
            },
            "header": {
             "fill": {
              "color": "#C8D4E3"
             },
             "line": {
              "color": "white"
             }
            },
            "type": "table"
           }
          ]
         },
         "layout": {
          "annotationdefaults": {
           "arrowcolor": "#2a3f5f",
           "arrowhead": 0,
           "arrowwidth": 1
          },
          "autotypenumbers": "strict",
          "coloraxis": {
           "colorbar": {
            "outlinewidth": 0,
            "ticks": ""
           }
          },
          "colorscale": {
           "diverging": [
            [
             0,
             "#8e0152"
            ],
            [
             0.1,
             "#c51b7d"
            ],
            [
             0.2,
             "#de77ae"
            ],
            [
             0.3,
             "#f1b6da"
            ],
            [
             0.4,
             "#fde0ef"
            ],
            [
             0.5,
             "#f7f7f7"
            ],
            [
             0.6,
             "#e6f5d0"
            ],
            [
             0.7,
             "#b8e186"
            ],
            [
             0.8,
             "#7fbc41"
            ],
            [
             0.9,
             "#4d9221"
            ],
            [
             1,
             "#276419"
            ]
           ],
           "sequential": [
            [
             0,
             "#0d0887"
            ],
            [
             0.1111111111111111,
             "#46039f"
            ],
            [
             0.2222222222222222,
             "#7201a8"
            ],
            [
             0.3333333333333333,
             "#9c179e"
            ],
            [
             0.4444444444444444,
             "#bd3786"
            ],
            [
             0.5555555555555556,
             "#d8576b"
            ],
            [
             0.6666666666666666,
             "#ed7953"
            ],
            [
             0.7777777777777778,
             "#fb9f3a"
            ],
            [
             0.8888888888888888,
             "#fdca26"
            ],
            [
             1,
             "#f0f921"
            ]
           ],
           "sequentialminus": [
            [
             0,
             "#0d0887"
            ],
            [
             0.1111111111111111,
             "#46039f"
            ],
            [
             0.2222222222222222,
             "#7201a8"
            ],
            [
             0.3333333333333333,
             "#9c179e"
            ],
            [
             0.4444444444444444,
             "#bd3786"
            ],
            [
             0.5555555555555556,
             "#d8576b"
            ],
            [
             0.6666666666666666,
             "#ed7953"
            ],
            [
             0.7777777777777778,
             "#fb9f3a"
            ],
            [
             0.8888888888888888,
             "#fdca26"
            ],
            [
             1,
             "#f0f921"
            ]
           ]
          },
          "colorway": [
           "#636efa",
           "#EF553B",
           "#00cc96",
           "#ab63fa",
           "#FFA15A",
           "#19d3f3",
           "#FF6692",
           "#B6E880",
           "#FF97FF",
           "#FECB52"
          ],
          "font": {
           "color": "#2a3f5f"
          },
          "geo": {
           "bgcolor": "white",
           "lakecolor": "white",
           "landcolor": "#E5ECF6",
           "showlakes": true,
           "showland": true,
           "subunitcolor": "white"
          },
          "hoverlabel": {
           "align": "left"
          },
          "hovermode": "closest",
          "mapbox": {
           "style": "light"
          },
          "paper_bgcolor": "white",
          "plot_bgcolor": "#E5ECF6",
          "polar": {
           "angularaxis": {
            "gridcolor": "white",
            "linecolor": "white",
            "ticks": ""
           },
           "bgcolor": "#E5ECF6",
           "radialaxis": {
            "gridcolor": "white",
            "linecolor": "white",
            "ticks": ""
           }
          },
          "scene": {
           "xaxis": {
            "backgroundcolor": "#E5ECF6",
            "gridcolor": "white",
            "gridwidth": 2,
            "linecolor": "white",
            "showbackground": true,
            "ticks": "",
            "zerolinecolor": "white"
           },
           "yaxis": {
            "backgroundcolor": "#E5ECF6",
            "gridcolor": "white",
            "gridwidth": 2,
            "linecolor": "white",
            "showbackground": true,
            "ticks": "",
            "zerolinecolor": "white"
           },
           "zaxis": {
            "backgroundcolor": "#E5ECF6",
            "gridcolor": "white",
            "gridwidth": 2,
            "linecolor": "white",
            "showbackground": true,
            "ticks": "",
            "zerolinecolor": "white"
           }
          },
          "shapedefaults": {
           "line": {
            "color": "#2a3f5f"
           }
          },
          "ternary": {
           "aaxis": {
            "gridcolor": "white",
            "linecolor": "white",
            "ticks": ""
           },
           "baxis": {
            "gridcolor": "white",
            "linecolor": "white",
            "ticks": ""
           },
           "bgcolor": "#E5ECF6",
           "caxis": {
            "gridcolor": "white",
            "linecolor": "white",
            "ticks": ""
           }
          },
          "title": {
           "x": 0.05
          },
          "xaxis": {
           "automargin": true,
           "gridcolor": "white",
           "linecolor": "white",
           "ticks": "",
           "title": {
            "standoff": 15
           },
           "zerolinecolor": "white",
           "zerolinewidth": 2
          },
          "yaxis": {
           "automargin": true,
           "gridcolor": "white",
           "linecolor": "white",
           "ticks": "",
           "title": {
            "standoff": 15
           },
           "zerolinecolor": "white",
           "zerolinewidth": 2
          }
         }
        },
        "title": {
         "font": {
          "color": "#4D5663"
         }
        },
        "xaxis": {
         "gridcolor": "#E1E5ED",
         "showgrid": true,
         "tickfont": {
          "color": "#4D5663"
         },
         "title": {
          "font": {
           "color": "#4D5663"
          },
          "text": ""
         },
         "zerolinecolor": "#E1E5ED"
        },
        "yaxis": {
         "gridcolor": "#E1E5ED",
         "showgrid": true,
         "tickfont": {
          "color": "#4D5663"
         },
         "title": {
          "font": {
           "color": "#4D5663"
          },
          "text": ""
         },
         "zerolinecolor": "#E1E5ED"
        }
       }
      },
      "text/html": [
       "<div>                            <div id=\"dc3af89e-5531-4d33-81c7-9d2a45a0d1ec\" class=\"plotly-graph-div\" style=\"height:525px; width:100%;\"></div>            <script type=\"text/javascript\">                require([\"plotly\"], function(Plotly) {                    window.PLOTLYENV=window.PLOTLYENV || {};\n",
       "                    window.PLOTLYENV.BASE_URL='https://plot.ly';                                    if (document.getElementById(\"dc3af89e-5531-4d33-81c7-9d2a45a0d1ec\")) {                    Plotly.newPlot(                        \"dc3af89e-5531-4d33-81c7-9d2a45a0d1ec\",                        [{\"line\":{\"color\":\"rgba(255, 153, 51, 1.0)\",\"dash\":\"solid\",\"shape\":\"linear\",\"width\":1.3},\"mode\":\"lines\",\"name\":\"A\",\"text\":\"\",\"x\":[0,1,2,3,4,5,6,7,8,9,10,11,12,13,14,15,16,17,18,19,20,21,22,23,24,25,26,27,28,29,30,31,32,33,34,35,36,37,38,39,40,41,42,43,44,45,46,47,48,49,50,51,52,53,54,55,56,57,58,59,60,61,62,63,64,65,66,67,68,69,70,71,72,73,74,75,76,77,78,79,80,81,82,83,84,85,86,87,88,89,90,91,92,93,94,95,96,97,98,99],\"y\":[1.2250091290549099,-0.45155151276997574,-0.434194932410401,0.4965940115376493,0.7154940545115944,0.869248019234941,2.3213512716361366,-0.17578821354583135,-0.6980535363394793,1.7960776805377587,-0.6797508949993439,-0.3309524884809053,-0.6045666646935174,0.39255638365070905,0.8963963207259847,-1.207418038315098,2.43886274114652,-0.25133423822888296,0.344811281109698,0.4651337825187788,-0.9693819748893496,-1.511988582178468,1.471896155007462,-0.398263666264437,0.39168919211590114,1.3028894716559019,0.3780306164092249,-0.5771500751039939,0.7271384586266463,-1.1028606757463444,1.3055889750163336,-0.009495061596881786,-0.21893928001299454,-1.0867415317320401,-0.1275445495943942,0.33115070545190967,2.5642016093451714,-0.2209033831209197,-0.643645732559064,-0.5765241905247848,0.2157414441636662,1.5633915324211198,-1.3815087548291045,-0.4404643403952877,0.46486207751427316,0.5945107910659146,-1.138265783518757,0.010872214988163919,0.576946264815059,-0.3220104816325628,-3.1580009227460373,0.22098917229933435,-0.8812159121268724,-0.6746542906878209,0.04361980450368418,1.1672838672617596,0.7882475378851349,-0.2231655723751139,1.5196027240194374,-0.6141433238954168,0.06664930104555683,0.2811234182254289,-1.656925993858488,0.4418261364739898,-0.5371968332337426,-0.9081527939790605,-0.07855444225988696,-0.8226887787257702,0.9282396462206131,-1.8774564271906615,-0.6151937005939961,-1.3814368588693005,0.4917684583284424,0.43202353599084037,-0.2910669668112129,-1.1742968785696453,0.1145405200398717,0.8879132770752252,2.205142879212352,-0.8708551842512162,0.5146930417481028,-0.7397889246404309,0.3725082553355003,-0.2970889305836918,-0.6023513414272289,-0.6548214421503965,1.0487938530886973,-0.46844577455326064,0.4431751142410106,0.617494687789193,-2.118833378214814,-1.121121567734123,0.060602473271775266,1.5829742026816596,-1.443617735913895,-0.45552498105881545,0.17269055388343957,0.32449455147760553,-0.22266509764397124,-0.35516799968725554],\"type\":\"scatter\"},{\"line\":{\"color\":\"rgba(55, 128, 191, 1.0)\",\"dash\":\"solid\",\"shape\":\"linear\",\"width\":1.3},\"mode\":\"lines\",\"name\":\"B\",\"text\":\"\",\"x\":[0,1,2,3,4,5,6,7,8,9,10,11,12,13,14,15,16,17,18,19,20,21,22,23,24,25,26,27,28,29,30,31,32,33,34,35,36,37,38,39,40,41,42,43,44,45,46,47,48,49,50,51,52,53,54,55,56,57,58,59,60,61,62,63,64,65,66,67,68,69,70,71,72,73,74,75,76,77,78,79,80,81,82,83,84,85,86,87,88,89,90,91,92,93,94,95,96,97,98,99],\"y\":[-0.058828348753244795,-0.5585955170846071,0.28592113693614535,0.7369704806177205,0.5040515469067578,-1.150531193233306,0.37863435943863993,2.6446661872057966,0.6141075505621618,-0.2903774701835001,1.2944643852448017,0.08833387861941756,0.740469911373652,-1.2378998245290902,0.8377548461424911,-0.9302492624058314,0.8619676710312983,0.6637615012201094,-0.23583023776775033,-1.7212897063889532,0.7494120556400852,-1.570272198998661,1.8778845200154963,1.3596472166470617,1.6016167744950842,1.4471808283293137,1.1612839763319274,-0.14757504651218814,-0.6595650733988679,0.6936799050890169,1.1145216894947776,0.2988919777304995,-1.2339766655239337,-1.4148282731503572,-1.0186179403047475,-0.5596638109277869,-1.1629501310796933,-1.4580730317331707,0.19043930587364302,0.16607046431833294,-1.1528877738508099,-0.25292305873434856,0.7549938818117207,0.14861042055819765,0.17111415264706922,-2.1938539364050342,-0.5595594846677245,0.5755730956414731,-1.0951142538294591,0.14904979017143627,0.7830949465996929,-2.4694173550155902,-1.375546686025038,-0.9355671286774196,-1.9039772933856638,0.9641021125721575,-0.6541626146441876,1.5570492952921344,-0.28163972606348875,-0.4221870666756173,-0.008255132583119976,-0.974937610260182,1.4744097823938067,0.3941908907496691,-0.46925653750948826,0.6172989994558716,-1.5691837871097243,0.8275091476401291,2.2632501094631494,-0.6628560911357416,0.7473190202715746,0.963350570059107,1.4179540247512379,0.2813514042710119,0.2972570430123793,-0.3746604454081584,1.1064630868964769,-1.3066939251958634,-0.40644182487705977,-1.917462490109074,-0.791861120472799,-0.2343111928184764,0.09114874510176733,0.062218244033363616,-0.802451728592171,0.06171028511578955,0.4198079906863518,1.3820369642682173,0.075842013636187,-1.466189127750254,-0.5352111977391772,-0.5826480477362354,1.5796807614050792,-0.04240384621818216,-0.017172085149557044,-1.6690116849350105,-0.5526387152921023,-1.329721799479411,0.24578920761770287,0.7237373775718123],\"type\":\"scatter\"},{\"line\":{\"color\":\"rgba(50, 171, 96, 1.0)\",\"dash\":\"solid\",\"shape\":\"linear\",\"width\":1.3},\"mode\":\"lines\",\"name\":\"C\",\"text\":\"\",\"x\":[0,1,2,3,4,5,6,7,8,9,10,11,12,13,14,15,16,17,18,19,20,21,22,23,24,25,26,27,28,29,30,31,32,33,34,35,36,37,38,39,40,41,42,43,44,45,46,47,48,49,50,51,52,53,54,55,56,57,58,59,60,61,62,63,64,65,66,67,68,69,70,71,72,73,74,75,76,77,78,79,80,81,82,83,84,85,86,87,88,89,90,91,92,93,94,95,96,97,98,99],\"y\":[-0.2083042386487811,1.9940217019660507,0.6868900521656066,0.7403954832943933,0.25805332100912814,-0.9011569445057611,-0.4827251614150337,1.0030869769211281,0.29698123810580285,-0.2901223806986594,-0.2297965917923508,-1.907840012916959,-1.2455654462556958,0.5152485445690139,-1.0509564361591983,0.402477045802536,-0.7765787637682078,1.3269130095321573,-0.6689737397983537,0.5792245539811444,0.7411088610625216,0.8505294593115799,0.337565961537066,0.09942771486809635,-0.5639741902201713,1.7735546563905753,-0.5272003403466731,0.15636506360191063,-1.0168608912347303,-0.6483483944070878,0.6359429714590861,0.29321320612892793,-0.5575024486543803,1.314706106833745,-1.4602926417139206,-2.1593244387803496,-0.9915125256757606,0.7087333011849094,1.4431207862913922,-0.4379466361803305,0.6718724360567718,0.23376497155418177,0.7141334401573364,0.5137960244136215,0.24195585850416812,-0.09232689708484221,1.2409230680608476,-0.8943710338176813,-0.02488283665599046,1.7051232886593457,0.7963260086215248,-0.13487163799224222,0.8095222084290425,-1.8458841213086177,0.5353035104471991,1.2219545932019658,0.31565573575299694,0.00212104897591511,-1.0437970677697614,0.8897972326176441,0.5840163282494348,0.10457478707717668,1.9469467459336642,-0.4008457003721722,0.9833704584007208,0.029773715402908435,1.2111780664404013,-0.03146949831444492,0.08847383790855555,0.0529351709738586,1.820158923002148,0.8228578460750813,0.07489330856630462,-0.7206384590420204,0.039063599122389686,-0.18140082374391592,-0.3450999073944346,0.13828496015484665,-0.955705108359854,-1.3054477253420014,-0.41144534093628854,-0.6082919721613056,-1.1534001270477723,1.1696173660287967,1.2984008626926735,-1.375702829675632,0.2778470265387704,-0.7583231926290582,-0.2815972749544762,0.6332104027712953,-0.5870809544825567,-0.46938737929678664,0.5530455065009544,-0.19653247959752876,0.07193535079171101,0.6765581713207989,-1.0684094369816255,-0.9881307004761971,0.9245895121438726,-0.6529543539204322],\"type\":\"scatter\"},{\"line\":{\"color\":\"rgba(128, 0, 128, 1.0)\",\"dash\":\"solid\",\"shape\":\"linear\",\"width\":1.3},\"mode\":\"lines\",\"name\":\"D\",\"text\":\"\",\"x\":[0,1,2,3,4,5,6,7,8,9,10,11,12,13,14,15,16,17,18,19,20,21,22,23,24,25,26,27,28,29,30,31,32,33,34,35,36,37,38,39,40,41,42,43,44,45,46,47,48,49,50,51,52,53,54,55,56,57,58,59,60,61,62,63,64,65,66,67,68,69,70,71,72,73,74,75,76,77,78,79,80,81,82,83,84,85,86,87,88,89,90,91,92,93,94,95,96,97,98,99],\"y\":[-0.7295170198037868,-0.23998788606590082,-1.1547229401264072,0.5251275531639371,-1.21535597674017,1.9753387262494997,0.9020659434959302,-0.7889940780201902,-2.4041437503837253,-0.9355465947684439,-0.6842111153397739,-0.7799432289418868,0.16081177876519212,1.2841547345103963,-0.3227596130499945,-0.9039206625056124,0.828889919327969,-2.9679088884059173,-0.5750994822623196,0.3846892236574576,0.14833093564088037,0.07309713066844106,-0.25559763349132203,-0.4813841083056664,-1.9271808617819115,-0.6070580733247838,-1.1636932324687423,1.339280484849487,0.47771727654156293,-0.5968481161014805,1.2968929935229006,-0.16216150682417468,1.0903918297478092,-0.055663382391095195,-1.9383170898318631,1.112380532950639,1.3782274102022636,-0.42142411236809735,0.8957323065314934,0.41097621688336106,-0.02765272096708784,0.9149429515529102,-0.13880192453908266,0.47751716452927917,0.3481420236491288,-0.23131776015717798,0.5094548526908059,-0.7608094741193897,0.11631986292309104,-0.2172543381087466,-0.951490541615766,-0.5926296384911123,0.017807357187338953,0.9589901026525065,-1.1984176228205554,0.9022702336672062,0.6596991557481351,-0.8729232096834276,0.6099302488780277,1.0768283425233702,-0.11221523895765963,0.5625163393167306,-0.16135609434261725,1.9687965814298227,-0.06034088230737512,1.0471376411737952,-3.083514419464437,0.3359159310292446,0.9532324676202132,-2.3431026083136883,0.5653884207646511,-1.276743836695403,-1.2754424081239786,0.7273459291173392,0.5640935924868778,0.35167990059124504,-0.009069882781335902,2.442716727062103,-0.7010249463474859,0.8308583001465093,0.9078840027915112,-0.10398264081503443,1.1709992616915568,0.6155368314083067,1.938359996658619,0.46887097910584574,1.5980214011585323,-1.6680300591099766,0.6529140466907034,-0.09259132978023017,0.4017007216409476,1.0866891958055531,0.02355809233525598,-0.6027075895405759,0.29777603835222355,-0.29772036756264664,0.5102551472094399,-2.203414038181977,0.14521146581149785,-1.7873674316906647],\"type\":\"scatter\"}],                        {\"legend\":{\"bgcolor\":\"#F5F6F9\",\"font\":{\"color\":\"#4D5663\"}},\"paper_bgcolor\":\"#F5F6F9\",\"plot_bgcolor\":\"#F5F6F9\",\"template\":{\"data\":{\"barpolar\":[{\"marker\":{\"line\":{\"color\":\"#E5ECF6\",\"width\":0.5},\"pattern\":{\"fillmode\":\"overlay\",\"size\":10,\"solidity\":0.2}},\"type\":\"barpolar\"}],\"bar\":[{\"error_x\":{\"color\":\"#2a3f5f\"},\"error_y\":{\"color\":\"#2a3f5f\"},\"marker\":{\"line\":{\"color\":\"#E5ECF6\",\"width\":0.5},\"pattern\":{\"fillmode\":\"overlay\",\"size\":10,\"solidity\":0.2}},\"type\":\"bar\"}],\"carpet\":[{\"aaxis\":{\"endlinecolor\":\"#2a3f5f\",\"gridcolor\":\"white\",\"linecolor\":\"white\",\"minorgridcolor\":\"white\",\"startlinecolor\":\"#2a3f5f\"},\"baxis\":{\"endlinecolor\":\"#2a3f5f\",\"gridcolor\":\"white\",\"linecolor\":\"white\",\"minorgridcolor\":\"white\",\"startlinecolor\":\"#2a3f5f\"},\"type\":\"carpet\"}],\"choropleth\":[{\"colorbar\":{\"outlinewidth\":0,\"ticks\":\"\"},\"type\":\"choropleth\"}],\"contourcarpet\":[{\"colorbar\":{\"outlinewidth\":0,\"ticks\":\"\"},\"type\":\"contourcarpet\"}],\"contour\":[{\"colorbar\":{\"outlinewidth\":0,\"ticks\":\"\"},\"colorscale\":[[0.0,\"#0d0887\"],[0.1111111111111111,\"#46039f\"],[0.2222222222222222,\"#7201a8\"],[0.3333333333333333,\"#9c179e\"],[0.4444444444444444,\"#bd3786\"],[0.5555555555555556,\"#d8576b\"],[0.6666666666666666,\"#ed7953\"],[0.7777777777777778,\"#fb9f3a\"],[0.8888888888888888,\"#fdca26\"],[1.0,\"#f0f921\"]],\"type\":\"contour\"}],\"heatmapgl\":[{\"colorbar\":{\"outlinewidth\":0,\"ticks\":\"\"},\"colorscale\":[[0.0,\"#0d0887\"],[0.1111111111111111,\"#46039f\"],[0.2222222222222222,\"#7201a8\"],[0.3333333333333333,\"#9c179e\"],[0.4444444444444444,\"#bd3786\"],[0.5555555555555556,\"#d8576b\"],[0.6666666666666666,\"#ed7953\"],[0.7777777777777778,\"#fb9f3a\"],[0.8888888888888888,\"#fdca26\"],[1.0,\"#f0f921\"]],\"type\":\"heatmapgl\"}],\"heatmap\":[{\"colorbar\":{\"outlinewidth\":0,\"ticks\":\"\"},\"colorscale\":[[0.0,\"#0d0887\"],[0.1111111111111111,\"#46039f\"],[0.2222222222222222,\"#7201a8\"],[0.3333333333333333,\"#9c179e\"],[0.4444444444444444,\"#bd3786\"],[0.5555555555555556,\"#d8576b\"],[0.6666666666666666,\"#ed7953\"],[0.7777777777777778,\"#fb9f3a\"],[0.8888888888888888,\"#fdca26\"],[1.0,\"#f0f921\"]],\"type\":\"heatmap\"}],\"histogram2dcontour\":[{\"colorbar\":{\"outlinewidth\":0,\"ticks\":\"\"},\"colorscale\":[[0.0,\"#0d0887\"],[0.1111111111111111,\"#46039f\"],[0.2222222222222222,\"#7201a8\"],[0.3333333333333333,\"#9c179e\"],[0.4444444444444444,\"#bd3786\"],[0.5555555555555556,\"#d8576b\"],[0.6666666666666666,\"#ed7953\"],[0.7777777777777778,\"#fb9f3a\"],[0.8888888888888888,\"#fdca26\"],[1.0,\"#f0f921\"]],\"type\":\"histogram2dcontour\"}],\"histogram2d\":[{\"colorbar\":{\"outlinewidth\":0,\"ticks\":\"\"},\"colorscale\":[[0.0,\"#0d0887\"],[0.1111111111111111,\"#46039f\"],[0.2222222222222222,\"#7201a8\"],[0.3333333333333333,\"#9c179e\"],[0.4444444444444444,\"#bd3786\"],[0.5555555555555556,\"#d8576b\"],[0.6666666666666666,\"#ed7953\"],[0.7777777777777778,\"#fb9f3a\"],[0.8888888888888888,\"#fdca26\"],[1.0,\"#f0f921\"]],\"type\":\"histogram2d\"}],\"histogram\":[{\"marker\":{\"pattern\":{\"fillmode\":\"overlay\",\"size\":10,\"solidity\":0.2}},\"type\":\"histogram\"}],\"mesh3d\":[{\"colorbar\":{\"outlinewidth\":0,\"ticks\":\"\"},\"type\":\"mesh3d\"}],\"parcoords\":[{\"line\":{\"colorbar\":{\"outlinewidth\":0,\"ticks\":\"\"}},\"type\":\"parcoords\"}],\"pie\":[{\"automargin\":true,\"type\":\"pie\"}],\"scatter3d\":[{\"line\":{\"colorbar\":{\"outlinewidth\":0,\"ticks\":\"\"}},\"marker\":{\"colorbar\":{\"outlinewidth\":0,\"ticks\":\"\"}},\"type\":\"scatter3d\"}],\"scattercarpet\":[{\"marker\":{\"colorbar\":{\"outlinewidth\":0,\"ticks\":\"\"}},\"type\":\"scattercarpet\"}],\"scattergeo\":[{\"marker\":{\"colorbar\":{\"outlinewidth\":0,\"ticks\":\"\"}},\"type\":\"scattergeo\"}],\"scattergl\":[{\"marker\":{\"colorbar\":{\"outlinewidth\":0,\"ticks\":\"\"}},\"type\":\"scattergl\"}],\"scattermapbox\":[{\"marker\":{\"colorbar\":{\"outlinewidth\":0,\"ticks\":\"\"}},\"type\":\"scattermapbox\"}],\"scatterpolargl\":[{\"marker\":{\"colorbar\":{\"outlinewidth\":0,\"ticks\":\"\"}},\"type\":\"scatterpolargl\"}],\"scatterpolar\":[{\"marker\":{\"colorbar\":{\"outlinewidth\":0,\"ticks\":\"\"}},\"type\":\"scatterpolar\"}],\"scatter\":[{\"marker\":{\"colorbar\":{\"outlinewidth\":0,\"ticks\":\"\"}},\"type\":\"scatter\"}],\"scatterternary\":[{\"marker\":{\"colorbar\":{\"outlinewidth\":0,\"ticks\":\"\"}},\"type\":\"scatterternary\"}],\"surface\":[{\"colorbar\":{\"outlinewidth\":0,\"ticks\":\"\"},\"colorscale\":[[0.0,\"#0d0887\"],[0.1111111111111111,\"#46039f\"],[0.2222222222222222,\"#7201a8\"],[0.3333333333333333,\"#9c179e\"],[0.4444444444444444,\"#bd3786\"],[0.5555555555555556,\"#d8576b\"],[0.6666666666666666,\"#ed7953\"],[0.7777777777777778,\"#fb9f3a\"],[0.8888888888888888,\"#fdca26\"],[1.0,\"#f0f921\"]],\"type\":\"surface\"}],\"table\":[{\"cells\":{\"fill\":{\"color\":\"#EBF0F8\"},\"line\":{\"color\":\"white\"}},\"header\":{\"fill\":{\"color\":\"#C8D4E3\"},\"line\":{\"color\":\"white\"}},\"type\":\"table\"}]},\"layout\":{\"annotationdefaults\":{\"arrowcolor\":\"#2a3f5f\",\"arrowhead\":0,\"arrowwidth\":1},\"autotypenumbers\":\"strict\",\"coloraxis\":{\"colorbar\":{\"outlinewidth\":0,\"ticks\":\"\"}},\"colorscale\":{\"diverging\":[[0,\"#8e0152\"],[0.1,\"#c51b7d\"],[0.2,\"#de77ae\"],[0.3,\"#f1b6da\"],[0.4,\"#fde0ef\"],[0.5,\"#f7f7f7\"],[0.6,\"#e6f5d0\"],[0.7,\"#b8e186\"],[0.8,\"#7fbc41\"],[0.9,\"#4d9221\"],[1,\"#276419\"]],\"sequential\":[[0.0,\"#0d0887\"],[0.1111111111111111,\"#46039f\"],[0.2222222222222222,\"#7201a8\"],[0.3333333333333333,\"#9c179e\"],[0.4444444444444444,\"#bd3786\"],[0.5555555555555556,\"#d8576b\"],[0.6666666666666666,\"#ed7953\"],[0.7777777777777778,\"#fb9f3a\"],[0.8888888888888888,\"#fdca26\"],[1.0,\"#f0f921\"]],\"sequentialminus\":[[0.0,\"#0d0887\"],[0.1111111111111111,\"#46039f\"],[0.2222222222222222,\"#7201a8\"],[0.3333333333333333,\"#9c179e\"],[0.4444444444444444,\"#bd3786\"],[0.5555555555555556,\"#d8576b\"],[0.6666666666666666,\"#ed7953\"],[0.7777777777777778,\"#fb9f3a\"],[0.8888888888888888,\"#fdca26\"],[1.0,\"#f0f921\"]]},\"colorway\":[\"#636efa\",\"#EF553B\",\"#00cc96\",\"#ab63fa\",\"#FFA15A\",\"#19d3f3\",\"#FF6692\",\"#B6E880\",\"#FF97FF\",\"#FECB52\"],\"font\":{\"color\":\"#2a3f5f\"},\"geo\":{\"bgcolor\":\"white\",\"lakecolor\":\"white\",\"landcolor\":\"#E5ECF6\",\"showlakes\":true,\"showland\":true,\"subunitcolor\":\"white\"},\"hoverlabel\":{\"align\":\"left\"},\"hovermode\":\"closest\",\"mapbox\":{\"style\":\"light\"},\"paper_bgcolor\":\"white\",\"plot_bgcolor\":\"#E5ECF6\",\"polar\":{\"angularaxis\":{\"gridcolor\":\"white\",\"linecolor\":\"white\",\"ticks\":\"\"},\"bgcolor\":\"#E5ECF6\",\"radialaxis\":{\"gridcolor\":\"white\",\"linecolor\":\"white\",\"ticks\":\"\"}},\"scene\":{\"xaxis\":{\"backgroundcolor\":\"#E5ECF6\",\"gridcolor\":\"white\",\"gridwidth\":2,\"linecolor\":\"white\",\"showbackground\":true,\"ticks\":\"\",\"zerolinecolor\":\"white\"},\"yaxis\":{\"backgroundcolor\":\"#E5ECF6\",\"gridcolor\":\"white\",\"gridwidth\":2,\"linecolor\":\"white\",\"showbackground\":true,\"ticks\":\"\",\"zerolinecolor\":\"white\"},\"zaxis\":{\"backgroundcolor\":\"#E5ECF6\",\"gridcolor\":\"white\",\"gridwidth\":2,\"linecolor\":\"white\",\"showbackground\":true,\"ticks\":\"\",\"zerolinecolor\":\"white\"}},\"shapedefaults\":{\"line\":{\"color\":\"#2a3f5f\"}},\"ternary\":{\"aaxis\":{\"gridcolor\":\"white\",\"linecolor\":\"white\",\"ticks\":\"\"},\"baxis\":{\"gridcolor\":\"white\",\"linecolor\":\"white\",\"ticks\":\"\"},\"bgcolor\":\"#E5ECF6\",\"caxis\":{\"gridcolor\":\"white\",\"linecolor\":\"white\",\"ticks\":\"\"}},\"title\":{\"x\":0.05},\"xaxis\":{\"automargin\":true,\"gridcolor\":\"white\",\"linecolor\":\"white\",\"ticks\":\"\",\"title\":{\"standoff\":15},\"zerolinecolor\":\"white\",\"zerolinewidth\":2},\"yaxis\":{\"automargin\":true,\"gridcolor\":\"white\",\"linecolor\":\"white\",\"ticks\":\"\",\"title\":{\"standoff\":15},\"zerolinecolor\":\"white\",\"zerolinewidth\":2}}},\"title\":{\"font\":{\"color\":\"#4D5663\"}},\"xaxis\":{\"gridcolor\":\"#E1E5ED\",\"showgrid\":true,\"tickfont\":{\"color\":\"#4D5663\"},\"title\":{\"font\":{\"color\":\"#4D5663\"},\"text\":\"\"},\"zerolinecolor\":\"#E1E5ED\"},\"yaxis\":{\"gridcolor\":\"#E1E5ED\",\"showgrid\":true,\"tickfont\":{\"color\":\"#4D5663\"},\"title\":{\"font\":{\"color\":\"#4D5663\"},\"text\":\"\"},\"zerolinecolor\":\"#E1E5ED\"}},                        {\"showLink\": true, \"linkText\": \"Export to plot.ly\", \"plotlyServerURL\": \"https://plot.ly\", \"responsive\": true}                    ).then(function(){\n",
       "                            \n",
       "var gd = document.getElementById('dc3af89e-5531-4d33-81c7-9d2a45a0d1ec');\n",
       "var x = new MutationObserver(function (mutations, observer) {{\n",
       "        var display = window.getComputedStyle(gd).display;\n",
       "        if (!display || display === 'none') {{\n",
       "            console.log([gd, 'removed!']);\n",
       "            Plotly.purge(gd);\n",
       "            observer.disconnect();\n",
       "        }}\n",
       "}});\n",
       "\n",
       "// Listen for the removal of the full notebook cells\n",
       "var notebookContainer = gd.closest('#notebook-container');\n",
       "if (notebookContainer) {{\n",
       "    x.observe(notebookContainer, {childList: true});\n",
       "}}\n",
       "\n",
       "// Listen for the clearing of the current output cell\n",
       "var outputEl = gd.closest('.output');\n",
       "if (outputEl) {{\n",
       "    x.observe(outputEl, {childList: true});\n",
       "}}\n",
       "\n",
       "                        })                };                });            </script>        </div>"
      ]
     },
     "metadata": {},
     "output_type": "display_data"
    }
   ],
   "source": [
    "df.iplot()"
   ]
  },
  {
   "cell_type": "markdown",
   "id": "e4c011c7",
   "metadata": {},
   "source": [
    "# Scatter"
   ]
  },
  {
   "cell_type": "code",
   "execution_count": 15,
   "id": "97e7b543",
   "metadata": {},
   "outputs": [
    {
     "data": {
      "application/vnd.plotly.v1+json": {
       "config": {
        "linkText": "Export to plot.ly",
        "plotlyServerURL": "https://plot.ly",
        "showLink": true
       },
       "data": [
        {
         "line": {
          "color": "rgba(255, 153, 51, 1.0)",
          "dash": "solid",
          "shape": "linear",
          "width": 1.3
         },
         "marker": {
          "size": 10,
          "symbol": "circle"
         },
         "mode": "markers",
         "name": "B",
         "text": "",
         "type": "scatter",
         "x": [
          1.2250091290549099,
          -0.45155151276997574,
          -0.434194932410401,
          0.4965940115376493,
          0.7154940545115944,
          0.869248019234941,
          2.3213512716361366,
          -0.17578821354583135,
          -0.6980535363394793,
          1.7960776805377587,
          -0.6797508949993439,
          -0.3309524884809053,
          -0.6045666646935174,
          0.39255638365070905,
          0.8963963207259847,
          -1.207418038315098,
          2.43886274114652,
          -0.25133423822888296,
          0.344811281109698,
          0.4651337825187788,
          -0.9693819748893496,
          -1.511988582178468,
          1.471896155007462,
          -0.398263666264437,
          0.39168919211590114,
          1.3028894716559019,
          0.3780306164092249,
          -0.5771500751039939,
          0.7271384586266463,
          -1.1028606757463444,
          1.3055889750163336,
          -0.009495061596881786,
          -0.21893928001299454,
          -1.0867415317320401,
          -0.1275445495943942,
          0.33115070545190967,
          2.5642016093451714,
          -0.2209033831209197,
          -0.643645732559064,
          -0.5765241905247848,
          0.2157414441636662,
          1.5633915324211198,
          -1.3815087548291045,
          -0.4404643403952877,
          0.46486207751427316,
          0.5945107910659146,
          -1.138265783518757,
          0.010872214988163919,
          0.576946264815059,
          -0.3220104816325628,
          -3.1580009227460373,
          0.22098917229933435,
          -0.8812159121268724,
          -0.6746542906878209,
          0.04361980450368418,
          1.1672838672617596,
          0.7882475378851349,
          -0.2231655723751139,
          1.5196027240194374,
          -0.6141433238954168,
          0.06664930104555683,
          0.2811234182254289,
          -1.656925993858488,
          0.4418261364739898,
          -0.5371968332337426,
          -0.9081527939790605,
          -0.07855444225988696,
          -0.8226887787257702,
          0.9282396462206131,
          -1.8774564271906615,
          -0.6151937005939961,
          -1.3814368588693005,
          0.4917684583284424,
          0.43202353599084037,
          -0.2910669668112129,
          -1.1742968785696453,
          0.1145405200398717,
          0.8879132770752252,
          2.205142879212352,
          -0.8708551842512162,
          0.5146930417481028,
          -0.7397889246404309,
          0.3725082553355003,
          -0.2970889305836918,
          -0.6023513414272289,
          -0.6548214421503965,
          1.0487938530886973,
          -0.46844577455326064,
          0.4431751142410106,
          0.617494687789193,
          -2.118833378214814,
          -1.121121567734123,
          0.060602473271775266,
          1.5829742026816596,
          -1.443617735913895,
          -0.45552498105881545,
          0.17269055388343957,
          0.32449455147760553,
          -0.22266509764397124,
          -0.35516799968725554
         ],
         "y": [
          -0.058828348753244795,
          -0.5585955170846071,
          0.28592113693614535,
          0.7369704806177205,
          0.5040515469067578,
          -1.150531193233306,
          0.37863435943863993,
          2.6446661872057966,
          0.6141075505621618,
          -0.2903774701835001,
          1.2944643852448017,
          0.08833387861941756,
          0.740469911373652,
          -1.2378998245290902,
          0.8377548461424911,
          -0.9302492624058314,
          0.8619676710312983,
          0.6637615012201094,
          -0.23583023776775033,
          -1.7212897063889532,
          0.7494120556400852,
          -1.570272198998661,
          1.8778845200154963,
          1.3596472166470617,
          1.6016167744950842,
          1.4471808283293137,
          1.1612839763319274,
          -0.14757504651218814,
          -0.6595650733988679,
          0.6936799050890169,
          1.1145216894947776,
          0.2988919777304995,
          -1.2339766655239337,
          -1.4148282731503572,
          -1.0186179403047475,
          -0.5596638109277869,
          -1.1629501310796933,
          -1.4580730317331707,
          0.19043930587364302,
          0.16607046431833294,
          -1.1528877738508099,
          -0.25292305873434856,
          0.7549938818117207,
          0.14861042055819765,
          0.17111415264706922,
          -2.1938539364050342,
          -0.5595594846677245,
          0.5755730956414731,
          -1.0951142538294591,
          0.14904979017143627,
          0.7830949465996929,
          -2.4694173550155902,
          -1.375546686025038,
          -0.9355671286774196,
          -1.9039772933856638,
          0.9641021125721575,
          -0.6541626146441876,
          1.5570492952921344,
          -0.28163972606348875,
          -0.4221870666756173,
          -0.008255132583119976,
          -0.974937610260182,
          1.4744097823938067,
          0.3941908907496691,
          -0.46925653750948826,
          0.6172989994558716,
          -1.5691837871097243,
          0.8275091476401291,
          2.2632501094631494,
          -0.6628560911357416,
          0.7473190202715746,
          0.963350570059107,
          1.4179540247512379,
          0.2813514042710119,
          0.2972570430123793,
          -0.3746604454081584,
          1.1064630868964769,
          -1.3066939251958634,
          -0.40644182487705977,
          -1.917462490109074,
          -0.791861120472799,
          -0.2343111928184764,
          0.09114874510176733,
          0.062218244033363616,
          -0.802451728592171,
          0.06171028511578955,
          0.4198079906863518,
          1.3820369642682173,
          0.075842013636187,
          -1.466189127750254,
          -0.5352111977391772,
          -0.5826480477362354,
          1.5796807614050792,
          -0.04240384621818216,
          -0.017172085149557044,
          -1.6690116849350105,
          -0.5526387152921023,
          -1.329721799479411,
          0.24578920761770287,
          0.7237373775718123
         ]
        }
       ],
       "layout": {
        "legend": {
         "bgcolor": "#F5F6F9",
         "font": {
          "color": "#4D5663"
         }
        },
        "paper_bgcolor": "#F5F6F9",
        "plot_bgcolor": "#F5F6F9",
        "template": {
         "data": {
          "bar": [
           {
            "error_x": {
             "color": "#2a3f5f"
            },
            "error_y": {
             "color": "#2a3f5f"
            },
            "marker": {
             "line": {
              "color": "#E5ECF6",
              "width": 0.5
             },
             "pattern": {
              "fillmode": "overlay",
              "size": 10,
              "solidity": 0.2
             }
            },
            "type": "bar"
           }
          ],
          "barpolar": [
           {
            "marker": {
             "line": {
              "color": "#E5ECF6",
              "width": 0.5
             },
             "pattern": {
              "fillmode": "overlay",
              "size": 10,
              "solidity": 0.2
             }
            },
            "type": "barpolar"
           }
          ],
          "carpet": [
           {
            "aaxis": {
             "endlinecolor": "#2a3f5f",
             "gridcolor": "white",
             "linecolor": "white",
             "minorgridcolor": "white",
             "startlinecolor": "#2a3f5f"
            },
            "baxis": {
             "endlinecolor": "#2a3f5f",
             "gridcolor": "white",
             "linecolor": "white",
             "minorgridcolor": "white",
             "startlinecolor": "#2a3f5f"
            },
            "type": "carpet"
           }
          ],
          "choropleth": [
           {
            "colorbar": {
             "outlinewidth": 0,
             "ticks": ""
            },
            "type": "choropleth"
           }
          ],
          "contour": [
           {
            "colorbar": {
             "outlinewidth": 0,
             "ticks": ""
            },
            "colorscale": [
             [
              0,
              "#0d0887"
             ],
             [
              0.1111111111111111,
              "#46039f"
             ],
             [
              0.2222222222222222,
              "#7201a8"
             ],
             [
              0.3333333333333333,
              "#9c179e"
             ],
             [
              0.4444444444444444,
              "#bd3786"
             ],
             [
              0.5555555555555556,
              "#d8576b"
             ],
             [
              0.6666666666666666,
              "#ed7953"
             ],
             [
              0.7777777777777778,
              "#fb9f3a"
             ],
             [
              0.8888888888888888,
              "#fdca26"
             ],
             [
              1,
              "#f0f921"
             ]
            ],
            "type": "contour"
           }
          ],
          "contourcarpet": [
           {
            "colorbar": {
             "outlinewidth": 0,
             "ticks": ""
            },
            "type": "contourcarpet"
           }
          ],
          "heatmap": [
           {
            "colorbar": {
             "outlinewidth": 0,
             "ticks": ""
            },
            "colorscale": [
             [
              0,
              "#0d0887"
             ],
             [
              0.1111111111111111,
              "#46039f"
             ],
             [
              0.2222222222222222,
              "#7201a8"
             ],
             [
              0.3333333333333333,
              "#9c179e"
             ],
             [
              0.4444444444444444,
              "#bd3786"
             ],
             [
              0.5555555555555556,
              "#d8576b"
             ],
             [
              0.6666666666666666,
              "#ed7953"
             ],
             [
              0.7777777777777778,
              "#fb9f3a"
             ],
             [
              0.8888888888888888,
              "#fdca26"
             ],
             [
              1,
              "#f0f921"
             ]
            ],
            "type": "heatmap"
           }
          ],
          "heatmapgl": [
           {
            "colorbar": {
             "outlinewidth": 0,
             "ticks": ""
            },
            "colorscale": [
             [
              0,
              "#0d0887"
             ],
             [
              0.1111111111111111,
              "#46039f"
             ],
             [
              0.2222222222222222,
              "#7201a8"
             ],
             [
              0.3333333333333333,
              "#9c179e"
             ],
             [
              0.4444444444444444,
              "#bd3786"
             ],
             [
              0.5555555555555556,
              "#d8576b"
             ],
             [
              0.6666666666666666,
              "#ed7953"
             ],
             [
              0.7777777777777778,
              "#fb9f3a"
             ],
             [
              0.8888888888888888,
              "#fdca26"
             ],
             [
              1,
              "#f0f921"
             ]
            ],
            "type": "heatmapgl"
           }
          ],
          "histogram": [
           {
            "marker": {
             "pattern": {
              "fillmode": "overlay",
              "size": 10,
              "solidity": 0.2
             }
            },
            "type": "histogram"
           }
          ],
          "histogram2d": [
           {
            "colorbar": {
             "outlinewidth": 0,
             "ticks": ""
            },
            "colorscale": [
             [
              0,
              "#0d0887"
             ],
             [
              0.1111111111111111,
              "#46039f"
             ],
             [
              0.2222222222222222,
              "#7201a8"
             ],
             [
              0.3333333333333333,
              "#9c179e"
             ],
             [
              0.4444444444444444,
              "#bd3786"
             ],
             [
              0.5555555555555556,
              "#d8576b"
             ],
             [
              0.6666666666666666,
              "#ed7953"
             ],
             [
              0.7777777777777778,
              "#fb9f3a"
             ],
             [
              0.8888888888888888,
              "#fdca26"
             ],
             [
              1,
              "#f0f921"
             ]
            ],
            "type": "histogram2d"
           }
          ],
          "histogram2dcontour": [
           {
            "colorbar": {
             "outlinewidth": 0,
             "ticks": ""
            },
            "colorscale": [
             [
              0,
              "#0d0887"
             ],
             [
              0.1111111111111111,
              "#46039f"
             ],
             [
              0.2222222222222222,
              "#7201a8"
             ],
             [
              0.3333333333333333,
              "#9c179e"
             ],
             [
              0.4444444444444444,
              "#bd3786"
             ],
             [
              0.5555555555555556,
              "#d8576b"
             ],
             [
              0.6666666666666666,
              "#ed7953"
             ],
             [
              0.7777777777777778,
              "#fb9f3a"
             ],
             [
              0.8888888888888888,
              "#fdca26"
             ],
             [
              1,
              "#f0f921"
             ]
            ],
            "type": "histogram2dcontour"
           }
          ],
          "mesh3d": [
           {
            "colorbar": {
             "outlinewidth": 0,
             "ticks": ""
            },
            "type": "mesh3d"
           }
          ],
          "parcoords": [
           {
            "line": {
             "colorbar": {
              "outlinewidth": 0,
              "ticks": ""
             }
            },
            "type": "parcoords"
           }
          ],
          "pie": [
           {
            "automargin": true,
            "type": "pie"
           }
          ],
          "scatter": [
           {
            "marker": {
             "colorbar": {
              "outlinewidth": 0,
              "ticks": ""
             }
            },
            "type": "scatter"
           }
          ],
          "scatter3d": [
           {
            "line": {
             "colorbar": {
              "outlinewidth": 0,
              "ticks": ""
             }
            },
            "marker": {
             "colorbar": {
              "outlinewidth": 0,
              "ticks": ""
             }
            },
            "type": "scatter3d"
           }
          ],
          "scattercarpet": [
           {
            "marker": {
             "colorbar": {
              "outlinewidth": 0,
              "ticks": ""
             }
            },
            "type": "scattercarpet"
           }
          ],
          "scattergeo": [
           {
            "marker": {
             "colorbar": {
              "outlinewidth": 0,
              "ticks": ""
             }
            },
            "type": "scattergeo"
           }
          ],
          "scattergl": [
           {
            "marker": {
             "colorbar": {
              "outlinewidth": 0,
              "ticks": ""
             }
            },
            "type": "scattergl"
           }
          ],
          "scattermapbox": [
           {
            "marker": {
             "colorbar": {
              "outlinewidth": 0,
              "ticks": ""
             }
            },
            "type": "scattermapbox"
           }
          ],
          "scatterpolar": [
           {
            "marker": {
             "colorbar": {
              "outlinewidth": 0,
              "ticks": ""
             }
            },
            "type": "scatterpolar"
           }
          ],
          "scatterpolargl": [
           {
            "marker": {
             "colorbar": {
              "outlinewidth": 0,
              "ticks": ""
             }
            },
            "type": "scatterpolargl"
           }
          ],
          "scatterternary": [
           {
            "marker": {
             "colorbar": {
              "outlinewidth": 0,
              "ticks": ""
             }
            },
            "type": "scatterternary"
           }
          ],
          "surface": [
           {
            "colorbar": {
             "outlinewidth": 0,
             "ticks": ""
            },
            "colorscale": [
             [
              0,
              "#0d0887"
             ],
             [
              0.1111111111111111,
              "#46039f"
             ],
             [
              0.2222222222222222,
              "#7201a8"
             ],
             [
              0.3333333333333333,
              "#9c179e"
             ],
             [
              0.4444444444444444,
              "#bd3786"
             ],
             [
              0.5555555555555556,
              "#d8576b"
             ],
             [
              0.6666666666666666,
              "#ed7953"
             ],
             [
              0.7777777777777778,
              "#fb9f3a"
             ],
             [
              0.8888888888888888,
              "#fdca26"
             ],
             [
              1,
              "#f0f921"
             ]
            ],
            "type": "surface"
           }
          ],
          "table": [
           {
            "cells": {
             "fill": {
              "color": "#EBF0F8"
             },
             "line": {
              "color": "white"
             }
            },
            "header": {
             "fill": {
              "color": "#C8D4E3"
             },
             "line": {
              "color": "white"
             }
            },
            "type": "table"
           }
          ]
         },
         "layout": {
          "annotationdefaults": {
           "arrowcolor": "#2a3f5f",
           "arrowhead": 0,
           "arrowwidth": 1
          },
          "autotypenumbers": "strict",
          "coloraxis": {
           "colorbar": {
            "outlinewidth": 0,
            "ticks": ""
           }
          },
          "colorscale": {
           "diverging": [
            [
             0,
             "#8e0152"
            ],
            [
             0.1,
             "#c51b7d"
            ],
            [
             0.2,
             "#de77ae"
            ],
            [
             0.3,
             "#f1b6da"
            ],
            [
             0.4,
             "#fde0ef"
            ],
            [
             0.5,
             "#f7f7f7"
            ],
            [
             0.6,
             "#e6f5d0"
            ],
            [
             0.7,
             "#b8e186"
            ],
            [
             0.8,
             "#7fbc41"
            ],
            [
             0.9,
             "#4d9221"
            ],
            [
             1,
             "#276419"
            ]
           ],
           "sequential": [
            [
             0,
             "#0d0887"
            ],
            [
             0.1111111111111111,
             "#46039f"
            ],
            [
             0.2222222222222222,
             "#7201a8"
            ],
            [
             0.3333333333333333,
             "#9c179e"
            ],
            [
             0.4444444444444444,
             "#bd3786"
            ],
            [
             0.5555555555555556,
             "#d8576b"
            ],
            [
             0.6666666666666666,
             "#ed7953"
            ],
            [
             0.7777777777777778,
             "#fb9f3a"
            ],
            [
             0.8888888888888888,
             "#fdca26"
            ],
            [
             1,
             "#f0f921"
            ]
           ],
           "sequentialminus": [
            [
             0,
             "#0d0887"
            ],
            [
             0.1111111111111111,
             "#46039f"
            ],
            [
             0.2222222222222222,
             "#7201a8"
            ],
            [
             0.3333333333333333,
             "#9c179e"
            ],
            [
             0.4444444444444444,
             "#bd3786"
            ],
            [
             0.5555555555555556,
             "#d8576b"
            ],
            [
             0.6666666666666666,
             "#ed7953"
            ],
            [
             0.7777777777777778,
             "#fb9f3a"
            ],
            [
             0.8888888888888888,
             "#fdca26"
            ],
            [
             1,
             "#f0f921"
            ]
           ]
          },
          "colorway": [
           "#636efa",
           "#EF553B",
           "#00cc96",
           "#ab63fa",
           "#FFA15A",
           "#19d3f3",
           "#FF6692",
           "#B6E880",
           "#FF97FF",
           "#FECB52"
          ],
          "font": {
           "color": "#2a3f5f"
          },
          "geo": {
           "bgcolor": "white",
           "lakecolor": "white",
           "landcolor": "#E5ECF6",
           "showlakes": true,
           "showland": true,
           "subunitcolor": "white"
          },
          "hoverlabel": {
           "align": "left"
          },
          "hovermode": "closest",
          "mapbox": {
           "style": "light"
          },
          "paper_bgcolor": "white",
          "plot_bgcolor": "#E5ECF6",
          "polar": {
           "angularaxis": {
            "gridcolor": "white",
            "linecolor": "white",
            "ticks": ""
           },
           "bgcolor": "#E5ECF6",
           "radialaxis": {
            "gridcolor": "white",
            "linecolor": "white",
            "ticks": ""
           }
          },
          "scene": {
           "xaxis": {
            "backgroundcolor": "#E5ECF6",
            "gridcolor": "white",
            "gridwidth": 2,
            "linecolor": "white",
            "showbackground": true,
            "ticks": "",
            "zerolinecolor": "white"
           },
           "yaxis": {
            "backgroundcolor": "#E5ECF6",
            "gridcolor": "white",
            "gridwidth": 2,
            "linecolor": "white",
            "showbackground": true,
            "ticks": "",
            "zerolinecolor": "white"
           },
           "zaxis": {
            "backgroundcolor": "#E5ECF6",
            "gridcolor": "white",
            "gridwidth": 2,
            "linecolor": "white",
            "showbackground": true,
            "ticks": "",
            "zerolinecolor": "white"
           }
          },
          "shapedefaults": {
           "line": {
            "color": "#2a3f5f"
           }
          },
          "ternary": {
           "aaxis": {
            "gridcolor": "white",
            "linecolor": "white",
            "ticks": ""
           },
           "baxis": {
            "gridcolor": "white",
            "linecolor": "white",
            "ticks": ""
           },
           "bgcolor": "#E5ECF6",
           "caxis": {
            "gridcolor": "white",
            "linecolor": "white",
            "ticks": ""
           }
          },
          "title": {
           "x": 0.05
          },
          "xaxis": {
           "automargin": true,
           "gridcolor": "white",
           "linecolor": "white",
           "ticks": "",
           "title": {
            "standoff": 15
           },
           "zerolinecolor": "white",
           "zerolinewidth": 2
          },
          "yaxis": {
           "automargin": true,
           "gridcolor": "white",
           "linecolor": "white",
           "ticks": "",
           "title": {
            "standoff": 15
           },
           "zerolinecolor": "white",
           "zerolinewidth": 2
          }
         }
        },
        "title": {
         "font": {
          "color": "#4D5663"
         }
        },
        "xaxis": {
         "gridcolor": "#E1E5ED",
         "showgrid": true,
         "tickfont": {
          "color": "#4D5663"
         },
         "title": {
          "font": {
           "color": "#4D5663"
          },
          "text": ""
         },
         "zerolinecolor": "#E1E5ED"
        },
        "yaxis": {
         "gridcolor": "#E1E5ED",
         "showgrid": true,
         "tickfont": {
          "color": "#4D5663"
         },
         "title": {
          "font": {
           "color": "#4D5663"
          },
          "text": ""
         },
         "zerolinecolor": "#E1E5ED"
        }
       }
      },
      "text/html": [
       "<div>                            <div id=\"65246095-07d1-4f74-b8b9-0039198aaaad\" class=\"plotly-graph-div\" style=\"height:525px; width:100%;\"></div>            <script type=\"text/javascript\">                require([\"plotly\"], function(Plotly) {                    window.PLOTLYENV=window.PLOTLYENV || {};\n",
       "                    window.PLOTLYENV.BASE_URL='https://plot.ly';                                    if (document.getElementById(\"65246095-07d1-4f74-b8b9-0039198aaaad\")) {                    Plotly.newPlot(                        \"65246095-07d1-4f74-b8b9-0039198aaaad\",                        [{\"line\":{\"color\":\"rgba(255, 153, 51, 1.0)\",\"dash\":\"solid\",\"shape\":\"linear\",\"width\":1.3},\"marker\":{\"size\":10,\"symbol\":\"circle\"},\"mode\":\"markers\",\"name\":\"B\",\"text\":\"\",\"x\":[1.2250091290549099,-0.45155151276997574,-0.434194932410401,0.4965940115376493,0.7154940545115944,0.869248019234941,2.3213512716361366,-0.17578821354583135,-0.6980535363394793,1.7960776805377587,-0.6797508949993439,-0.3309524884809053,-0.6045666646935174,0.39255638365070905,0.8963963207259847,-1.207418038315098,2.43886274114652,-0.25133423822888296,0.344811281109698,0.4651337825187788,-0.9693819748893496,-1.511988582178468,1.471896155007462,-0.398263666264437,0.39168919211590114,1.3028894716559019,0.3780306164092249,-0.5771500751039939,0.7271384586266463,-1.1028606757463444,1.3055889750163336,-0.009495061596881786,-0.21893928001299454,-1.0867415317320401,-0.1275445495943942,0.33115070545190967,2.5642016093451714,-0.2209033831209197,-0.643645732559064,-0.5765241905247848,0.2157414441636662,1.5633915324211198,-1.3815087548291045,-0.4404643403952877,0.46486207751427316,0.5945107910659146,-1.138265783518757,0.010872214988163919,0.576946264815059,-0.3220104816325628,-3.1580009227460373,0.22098917229933435,-0.8812159121268724,-0.6746542906878209,0.04361980450368418,1.1672838672617596,0.7882475378851349,-0.2231655723751139,1.5196027240194374,-0.6141433238954168,0.06664930104555683,0.2811234182254289,-1.656925993858488,0.4418261364739898,-0.5371968332337426,-0.9081527939790605,-0.07855444225988696,-0.8226887787257702,0.9282396462206131,-1.8774564271906615,-0.6151937005939961,-1.3814368588693005,0.4917684583284424,0.43202353599084037,-0.2910669668112129,-1.1742968785696453,0.1145405200398717,0.8879132770752252,2.205142879212352,-0.8708551842512162,0.5146930417481028,-0.7397889246404309,0.3725082553355003,-0.2970889305836918,-0.6023513414272289,-0.6548214421503965,1.0487938530886973,-0.46844577455326064,0.4431751142410106,0.617494687789193,-2.118833378214814,-1.121121567734123,0.060602473271775266,1.5829742026816596,-1.443617735913895,-0.45552498105881545,0.17269055388343957,0.32449455147760553,-0.22266509764397124,-0.35516799968725554],\"y\":[-0.058828348753244795,-0.5585955170846071,0.28592113693614535,0.7369704806177205,0.5040515469067578,-1.150531193233306,0.37863435943863993,2.6446661872057966,0.6141075505621618,-0.2903774701835001,1.2944643852448017,0.08833387861941756,0.740469911373652,-1.2378998245290902,0.8377548461424911,-0.9302492624058314,0.8619676710312983,0.6637615012201094,-0.23583023776775033,-1.7212897063889532,0.7494120556400852,-1.570272198998661,1.8778845200154963,1.3596472166470617,1.6016167744950842,1.4471808283293137,1.1612839763319274,-0.14757504651218814,-0.6595650733988679,0.6936799050890169,1.1145216894947776,0.2988919777304995,-1.2339766655239337,-1.4148282731503572,-1.0186179403047475,-0.5596638109277869,-1.1629501310796933,-1.4580730317331707,0.19043930587364302,0.16607046431833294,-1.1528877738508099,-0.25292305873434856,0.7549938818117207,0.14861042055819765,0.17111415264706922,-2.1938539364050342,-0.5595594846677245,0.5755730956414731,-1.0951142538294591,0.14904979017143627,0.7830949465996929,-2.4694173550155902,-1.375546686025038,-0.9355671286774196,-1.9039772933856638,0.9641021125721575,-0.6541626146441876,1.5570492952921344,-0.28163972606348875,-0.4221870666756173,-0.008255132583119976,-0.974937610260182,1.4744097823938067,0.3941908907496691,-0.46925653750948826,0.6172989994558716,-1.5691837871097243,0.8275091476401291,2.2632501094631494,-0.6628560911357416,0.7473190202715746,0.963350570059107,1.4179540247512379,0.2813514042710119,0.2972570430123793,-0.3746604454081584,1.1064630868964769,-1.3066939251958634,-0.40644182487705977,-1.917462490109074,-0.791861120472799,-0.2343111928184764,0.09114874510176733,0.062218244033363616,-0.802451728592171,0.06171028511578955,0.4198079906863518,1.3820369642682173,0.075842013636187,-1.466189127750254,-0.5352111977391772,-0.5826480477362354,1.5796807614050792,-0.04240384621818216,-0.017172085149557044,-1.6690116849350105,-0.5526387152921023,-1.329721799479411,0.24578920761770287,0.7237373775718123],\"type\":\"scatter\"}],                        {\"legend\":{\"bgcolor\":\"#F5F6F9\",\"font\":{\"color\":\"#4D5663\"}},\"paper_bgcolor\":\"#F5F6F9\",\"plot_bgcolor\":\"#F5F6F9\",\"template\":{\"data\":{\"barpolar\":[{\"marker\":{\"line\":{\"color\":\"#E5ECF6\",\"width\":0.5},\"pattern\":{\"fillmode\":\"overlay\",\"size\":10,\"solidity\":0.2}},\"type\":\"barpolar\"}],\"bar\":[{\"error_x\":{\"color\":\"#2a3f5f\"},\"error_y\":{\"color\":\"#2a3f5f\"},\"marker\":{\"line\":{\"color\":\"#E5ECF6\",\"width\":0.5},\"pattern\":{\"fillmode\":\"overlay\",\"size\":10,\"solidity\":0.2}},\"type\":\"bar\"}],\"carpet\":[{\"aaxis\":{\"endlinecolor\":\"#2a3f5f\",\"gridcolor\":\"white\",\"linecolor\":\"white\",\"minorgridcolor\":\"white\",\"startlinecolor\":\"#2a3f5f\"},\"baxis\":{\"endlinecolor\":\"#2a3f5f\",\"gridcolor\":\"white\",\"linecolor\":\"white\",\"minorgridcolor\":\"white\",\"startlinecolor\":\"#2a3f5f\"},\"type\":\"carpet\"}],\"choropleth\":[{\"colorbar\":{\"outlinewidth\":0,\"ticks\":\"\"},\"type\":\"choropleth\"}],\"contourcarpet\":[{\"colorbar\":{\"outlinewidth\":0,\"ticks\":\"\"},\"type\":\"contourcarpet\"}],\"contour\":[{\"colorbar\":{\"outlinewidth\":0,\"ticks\":\"\"},\"colorscale\":[[0.0,\"#0d0887\"],[0.1111111111111111,\"#46039f\"],[0.2222222222222222,\"#7201a8\"],[0.3333333333333333,\"#9c179e\"],[0.4444444444444444,\"#bd3786\"],[0.5555555555555556,\"#d8576b\"],[0.6666666666666666,\"#ed7953\"],[0.7777777777777778,\"#fb9f3a\"],[0.8888888888888888,\"#fdca26\"],[1.0,\"#f0f921\"]],\"type\":\"contour\"}],\"heatmapgl\":[{\"colorbar\":{\"outlinewidth\":0,\"ticks\":\"\"},\"colorscale\":[[0.0,\"#0d0887\"],[0.1111111111111111,\"#46039f\"],[0.2222222222222222,\"#7201a8\"],[0.3333333333333333,\"#9c179e\"],[0.4444444444444444,\"#bd3786\"],[0.5555555555555556,\"#d8576b\"],[0.6666666666666666,\"#ed7953\"],[0.7777777777777778,\"#fb9f3a\"],[0.8888888888888888,\"#fdca26\"],[1.0,\"#f0f921\"]],\"type\":\"heatmapgl\"}],\"heatmap\":[{\"colorbar\":{\"outlinewidth\":0,\"ticks\":\"\"},\"colorscale\":[[0.0,\"#0d0887\"],[0.1111111111111111,\"#46039f\"],[0.2222222222222222,\"#7201a8\"],[0.3333333333333333,\"#9c179e\"],[0.4444444444444444,\"#bd3786\"],[0.5555555555555556,\"#d8576b\"],[0.6666666666666666,\"#ed7953\"],[0.7777777777777778,\"#fb9f3a\"],[0.8888888888888888,\"#fdca26\"],[1.0,\"#f0f921\"]],\"type\":\"heatmap\"}],\"histogram2dcontour\":[{\"colorbar\":{\"outlinewidth\":0,\"ticks\":\"\"},\"colorscale\":[[0.0,\"#0d0887\"],[0.1111111111111111,\"#46039f\"],[0.2222222222222222,\"#7201a8\"],[0.3333333333333333,\"#9c179e\"],[0.4444444444444444,\"#bd3786\"],[0.5555555555555556,\"#d8576b\"],[0.6666666666666666,\"#ed7953\"],[0.7777777777777778,\"#fb9f3a\"],[0.8888888888888888,\"#fdca26\"],[1.0,\"#f0f921\"]],\"type\":\"histogram2dcontour\"}],\"histogram2d\":[{\"colorbar\":{\"outlinewidth\":0,\"ticks\":\"\"},\"colorscale\":[[0.0,\"#0d0887\"],[0.1111111111111111,\"#46039f\"],[0.2222222222222222,\"#7201a8\"],[0.3333333333333333,\"#9c179e\"],[0.4444444444444444,\"#bd3786\"],[0.5555555555555556,\"#d8576b\"],[0.6666666666666666,\"#ed7953\"],[0.7777777777777778,\"#fb9f3a\"],[0.8888888888888888,\"#fdca26\"],[1.0,\"#f0f921\"]],\"type\":\"histogram2d\"}],\"histogram\":[{\"marker\":{\"pattern\":{\"fillmode\":\"overlay\",\"size\":10,\"solidity\":0.2}},\"type\":\"histogram\"}],\"mesh3d\":[{\"colorbar\":{\"outlinewidth\":0,\"ticks\":\"\"},\"type\":\"mesh3d\"}],\"parcoords\":[{\"line\":{\"colorbar\":{\"outlinewidth\":0,\"ticks\":\"\"}},\"type\":\"parcoords\"}],\"pie\":[{\"automargin\":true,\"type\":\"pie\"}],\"scatter3d\":[{\"line\":{\"colorbar\":{\"outlinewidth\":0,\"ticks\":\"\"}},\"marker\":{\"colorbar\":{\"outlinewidth\":0,\"ticks\":\"\"}},\"type\":\"scatter3d\"}],\"scattercarpet\":[{\"marker\":{\"colorbar\":{\"outlinewidth\":0,\"ticks\":\"\"}},\"type\":\"scattercarpet\"}],\"scattergeo\":[{\"marker\":{\"colorbar\":{\"outlinewidth\":0,\"ticks\":\"\"}},\"type\":\"scattergeo\"}],\"scattergl\":[{\"marker\":{\"colorbar\":{\"outlinewidth\":0,\"ticks\":\"\"}},\"type\":\"scattergl\"}],\"scattermapbox\":[{\"marker\":{\"colorbar\":{\"outlinewidth\":0,\"ticks\":\"\"}},\"type\":\"scattermapbox\"}],\"scatterpolargl\":[{\"marker\":{\"colorbar\":{\"outlinewidth\":0,\"ticks\":\"\"}},\"type\":\"scatterpolargl\"}],\"scatterpolar\":[{\"marker\":{\"colorbar\":{\"outlinewidth\":0,\"ticks\":\"\"}},\"type\":\"scatterpolar\"}],\"scatter\":[{\"marker\":{\"colorbar\":{\"outlinewidth\":0,\"ticks\":\"\"}},\"type\":\"scatter\"}],\"scatterternary\":[{\"marker\":{\"colorbar\":{\"outlinewidth\":0,\"ticks\":\"\"}},\"type\":\"scatterternary\"}],\"surface\":[{\"colorbar\":{\"outlinewidth\":0,\"ticks\":\"\"},\"colorscale\":[[0.0,\"#0d0887\"],[0.1111111111111111,\"#46039f\"],[0.2222222222222222,\"#7201a8\"],[0.3333333333333333,\"#9c179e\"],[0.4444444444444444,\"#bd3786\"],[0.5555555555555556,\"#d8576b\"],[0.6666666666666666,\"#ed7953\"],[0.7777777777777778,\"#fb9f3a\"],[0.8888888888888888,\"#fdca26\"],[1.0,\"#f0f921\"]],\"type\":\"surface\"}],\"table\":[{\"cells\":{\"fill\":{\"color\":\"#EBF0F8\"},\"line\":{\"color\":\"white\"}},\"header\":{\"fill\":{\"color\":\"#C8D4E3\"},\"line\":{\"color\":\"white\"}},\"type\":\"table\"}]},\"layout\":{\"annotationdefaults\":{\"arrowcolor\":\"#2a3f5f\",\"arrowhead\":0,\"arrowwidth\":1},\"autotypenumbers\":\"strict\",\"coloraxis\":{\"colorbar\":{\"outlinewidth\":0,\"ticks\":\"\"}},\"colorscale\":{\"diverging\":[[0,\"#8e0152\"],[0.1,\"#c51b7d\"],[0.2,\"#de77ae\"],[0.3,\"#f1b6da\"],[0.4,\"#fde0ef\"],[0.5,\"#f7f7f7\"],[0.6,\"#e6f5d0\"],[0.7,\"#b8e186\"],[0.8,\"#7fbc41\"],[0.9,\"#4d9221\"],[1,\"#276419\"]],\"sequential\":[[0.0,\"#0d0887\"],[0.1111111111111111,\"#46039f\"],[0.2222222222222222,\"#7201a8\"],[0.3333333333333333,\"#9c179e\"],[0.4444444444444444,\"#bd3786\"],[0.5555555555555556,\"#d8576b\"],[0.6666666666666666,\"#ed7953\"],[0.7777777777777778,\"#fb9f3a\"],[0.8888888888888888,\"#fdca26\"],[1.0,\"#f0f921\"]],\"sequentialminus\":[[0.0,\"#0d0887\"],[0.1111111111111111,\"#46039f\"],[0.2222222222222222,\"#7201a8\"],[0.3333333333333333,\"#9c179e\"],[0.4444444444444444,\"#bd3786\"],[0.5555555555555556,\"#d8576b\"],[0.6666666666666666,\"#ed7953\"],[0.7777777777777778,\"#fb9f3a\"],[0.8888888888888888,\"#fdca26\"],[1.0,\"#f0f921\"]]},\"colorway\":[\"#636efa\",\"#EF553B\",\"#00cc96\",\"#ab63fa\",\"#FFA15A\",\"#19d3f3\",\"#FF6692\",\"#B6E880\",\"#FF97FF\",\"#FECB52\"],\"font\":{\"color\":\"#2a3f5f\"},\"geo\":{\"bgcolor\":\"white\",\"lakecolor\":\"white\",\"landcolor\":\"#E5ECF6\",\"showlakes\":true,\"showland\":true,\"subunitcolor\":\"white\"},\"hoverlabel\":{\"align\":\"left\"},\"hovermode\":\"closest\",\"mapbox\":{\"style\":\"light\"},\"paper_bgcolor\":\"white\",\"plot_bgcolor\":\"#E5ECF6\",\"polar\":{\"angularaxis\":{\"gridcolor\":\"white\",\"linecolor\":\"white\",\"ticks\":\"\"},\"bgcolor\":\"#E5ECF6\",\"radialaxis\":{\"gridcolor\":\"white\",\"linecolor\":\"white\",\"ticks\":\"\"}},\"scene\":{\"xaxis\":{\"backgroundcolor\":\"#E5ECF6\",\"gridcolor\":\"white\",\"gridwidth\":2,\"linecolor\":\"white\",\"showbackground\":true,\"ticks\":\"\",\"zerolinecolor\":\"white\"},\"yaxis\":{\"backgroundcolor\":\"#E5ECF6\",\"gridcolor\":\"white\",\"gridwidth\":2,\"linecolor\":\"white\",\"showbackground\":true,\"ticks\":\"\",\"zerolinecolor\":\"white\"},\"zaxis\":{\"backgroundcolor\":\"#E5ECF6\",\"gridcolor\":\"white\",\"gridwidth\":2,\"linecolor\":\"white\",\"showbackground\":true,\"ticks\":\"\",\"zerolinecolor\":\"white\"}},\"shapedefaults\":{\"line\":{\"color\":\"#2a3f5f\"}},\"ternary\":{\"aaxis\":{\"gridcolor\":\"white\",\"linecolor\":\"white\",\"ticks\":\"\"},\"baxis\":{\"gridcolor\":\"white\",\"linecolor\":\"white\",\"ticks\":\"\"},\"bgcolor\":\"#E5ECF6\",\"caxis\":{\"gridcolor\":\"white\",\"linecolor\":\"white\",\"ticks\":\"\"}},\"title\":{\"x\":0.05},\"xaxis\":{\"automargin\":true,\"gridcolor\":\"white\",\"linecolor\":\"white\",\"ticks\":\"\",\"title\":{\"standoff\":15},\"zerolinecolor\":\"white\",\"zerolinewidth\":2},\"yaxis\":{\"automargin\":true,\"gridcolor\":\"white\",\"linecolor\":\"white\",\"ticks\":\"\",\"title\":{\"standoff\":15},\"zerolinecolor\":\"white\",\"zerolinewidth\":2}}},\"title\":{\"font\":{\"color\":\"#4D5663\"}},\"xaxis\":{\"gridcolor\":\"#E1E5ED\",\"showgrid\":true,\"tickfont\":{\"color\":\"#4D5663\"},\"title\":{\"font\":{\"color\":\"#4D5663\"},\"text\":\"\"},\"zerolinecolor\":\"#E1E5ED\"},\"yaxis\":{\"gridcolor\":\"#E1E5ED\",\"showgrid\":true,\"tickfont\":{\"color\":\"#4D5663\"},\"title\":{\"font\":{\"color\":\"#4D5663\"},\"text\":\"\"},\"zerolinecolor\":\"#E1E5ED\"}},                        {\"showLink\": true, \"linkText\": \"Export to plot.ly\", \"plotlyServerURL\": \"https://plot.ly\", \"responsive\": true}                    ).then(function(){\n",
       "                            \n",
       "var gd = document.getElementById('65246095-07d1-4f74-b8b9-0039198aaaad');\n",
       "var x = new MutationObserver(function (mutations, observer) {{\n",
       "        var display = window.getComputedStyle(gd).display;\n",
       "        if (!display || display === 'none') {{\n",
       "            console.log([gd, 'removed!']);\n",
       "            Plotly.purge(gd);\n",
       "            observer.disconnect();\n",
       "        }}\n",
       "}});\n",
       "\n",
       "// Listen for the removal of the full notebook cells\n",
       "var notebookContainer = gd.closest('#notebook-container');\n",
       "if (notebookContainer) {{\n",
       "    x.observe(notebookContainer, {childList: true});\n",
       "}}\n",
       "\n",
       "// Listen for the clearing of the current output cell\n",
       "var outputEl = gd.closest('.output');\n",
       "if (outputEl) {{\n",
       "    x.observe(outputEl, {childList: true});\n",
       "}}\n",
       "\n",
       "                        })                };                });            </script>        </div>"
      ]
     },
     "metadata": {},
     "output_type": "display_data"
    }
   ],
   "source": [
    "df.iplot(kind='scatter',x='A',y='B',mode='markers',size=10)"
   ]
  },
  {
   "cell_type": "markdown",
   "id": "5f7005d5",
   "metadata": {},
   "source": [
    "# Bar Plots"
   ]
  },
  {
   "cell_type": "code",
   "execution_count": 16,
   "id": "a0ebbf71",
   "metadata": {},
   "outputs": [
    {
     "data": {
      "application/vnd.plotly.v1+json": {
       "config": {
        "linkText": "Export to plot.ly",
        "plotlyServerURL": "https://plot.ly",
        "showLink": true
       },
       "data": [
        {
         "marker": {
          "color": "rgba(255, 153, 51, 0.6)",
          "line": {
           "color": "rgba(255, 153, 51, 1.0)",
           "width": 1
          }
         },
         "name": "Values",
         "orientation": "v",
         "text": "",
         "type": "bar",
         "x": [
          "A",
          "B",
          "C"
         ],
         "y": [
          32,
          43,
          50
         ]
        }
       ],
       "layout": {
        "legend": {
         "bgcolor": "#F5F6F9",
         "font": {
          "color": "#4D5663"
         }
        },
        "paper_bgcolor": "#F5F6F9",
        "plot_bgcolor": "#F5F6F9",
        "template": {
         "data": {
          "bar": [
           {
            "error_x": {
             "color": "#2a3f5f"
            },
            "error_y": {
             "color": "#2a3f5f"
            },
            "marker": {
             "line": {
              "color": "#E5ECF6",
              "width": 0.5
             },
             "pattern": {
              "fillmode": "overlay",
              "size": 10,
              "solidity": 0.2
             }
            },
            "type": "bar"
           }
          ],
          "barpolar": [
           {
            "marker": {
             "line": {
              "color": "#E5ECF6",
              "width": 0.5
             },
             "pattern": {
              "fillmode": "overlay",
              "size": 10,
              "solidity": 0.2
             }
            },
            "type": "barpolar"
           }
          ],
          "carpet": [
           {
            "aaxis": {
             "endlinecolor": "#2a3f5f",
             "gridcolor": "white",
             "linecolor": "white",
             "minorgridcolor": "white",
             "startlinecolor": "#2a3f5f"
            },
            "baxis": {
             "endlinecolor": "#2a3f5f",
             "gridcolor": "white",
             "linecolor": "white",
             "minorgridcolor": "white",
             "startlinecolor": "#2a3f5f"
            },
            "type": "carpet"
           }
          ],
          "choropleth": [
           {
            "colorbar": {
             "outlinewidth": 0,
             "ticks": ""
            },
            "type": "choropleth"
           }
          ],
          "contour": [
           {
            "colorbar": {
             "outlinewidth": 0,
             "ticks": ""
            },
            "colorscale": [
             [
              0,
              "#0d0887"
             ],
             [
              0.1111111111111111,
              "#46039f"
             ],
             [
              0.2222222222222222,
              "#7201a8"
             ],
             [
              0.3333333333333333,
              "#9c179e"
             ],
             [
              0.4444444444444444,
              "#bd3786"
             ],
             [
              0.5555555555555556,
              "#d8576b"
             ],
             [
              0.6666666666666666,
              "#ed7953"
             ],
             [
              0.7777777777777778,
              "#fb9f3a"
             ],
             [
              0.8888888888888888,
              "#fdca26"
             ],
             [
              1,
              "#f0f921"
             ]
            ],
            "type": "contour"
           }
          ],
          "contourcarpet": [
           {
            "colorbar": {
             "outlinewidth": 0,
             "ticks": ""
            },
            "type": "contourcarpet"
           }
          ],
          "heatmap": [
           {
            "colorbar": {
             "outlinewidth": 0,
             "ticks": ""
            },
            "colorscale": [
             [
              0,
              "#0d0887"
             ],
             [
              0.1111111111111111,
              "#46039f"
             ],
             [
              0.2222222222222222,
              "#7201a8"
             ],
             [
              0.3333333333333333,
              "#9c179e"
             ],
             [
              0.4444444444444444,
              "#bd3786"
             ],
             [
              0.5555555555555556,
              "#d8576b"
             ],
             [
              0.6666666666666666,
              "#ed7953"
             ],
             [
              0.7777777777777778,
              "#fb9f3a"
             ],
             [
              0.8888888888888888,
              "#fdca26"
             ],
             [
              1,
              "#f0f921"
             ]
            ],
            "type": "heatmap"
           }
          ],
          "heatmapgl": [
           {
            "colorbar": {
             "outlinewidth": 0,
             "ticks": ""
            },
            "colorscale": [
             [
              0,
              "#0d0887"
             ],
             [
              0.1111111111111111,
              "#46039f"
             ],
             [
              0.2222222222222222,
              "#7201a8"
             ],
             [
              0.3333333333333333,
              "#9c179e"
             ],
             [
              0.4444444444444444,
              "#bd3786"
             ],
             [
              0.5555555555555556,
              "#d8576b"
             ],
             [
              0.6666666666666666,
              "#ed7953"
             ],
             [
              0.7777777777777778,
              "#fb9f3a"
             ],
             [
              0.8888888888888888,
              "#fdca26"
             ],
             [
              1,
              "#f0f921"
             ]
            ],
            "type": "heatmapgl"
           }
          ],
          "histogram": [
           {
            "marker": {
             "pattern": {
              "fillmode": "overlay",
              "size": 10,
              "solidity": 0.2
             }
            },
            "type": "histogram"
           }
          ],
          "histogram2d": [
           {
            "colorbar": {
             "outlinewidth": 0,
             "ticks": ""
            },
            "colorscale": [
             [
              0,
              "#0d0887"
             ],
             [
              0.1111111111111111,
              "#46039f"
             ],
             [
              0.2222222222222222,
              "#7201a8"
             ],
             [
              0.3333333333333333,
              "#9c179e"
             ],
             [
              0.4444444444444444,
              "#bd3786"
             ],
             [
              0.5555555555555556,
              "#d8576b"
             ],
             [
              0.6666666666666666,
              "#ed7953"
             ],
             [
              0.7777777777777778,
              "#fb9f3a"
             ],
             [
              0.8888888888888888,
              "#fdca26"
             ],
             [
              1,
              "#f0f921"
             ]
            ],
            "type": "histogram2d"
           }
          ],
          "histogram2dcontour": [
           {
            "colorbar": {
             "outlinewidth": 0,
             "ticks": ""
            },
            "colorscale": [
             [
              0,
              "#0d0887"
             ],
             [
              0.1111111111111111,
              "#46039f"
             ],
             [
              0.2222222222222222,
              "#7201a8"
             ],
             [
              0.3333333333333333,
              "#9c179e"
             ],
             [
              0.4444444444444444,
              "#bd3786"
             ],
             [
              0.5555555555555556,
              "#d8576b"
             ],
             [
              0.6666666666666666,
              "#ed7953"
             ],
             [
              0.7777777777777778,
              "#fb9f3a"
             ],
             [
              0.8888888888888888,
              "#fdca26"
             ],
             [
              1,
              "#f0f921"
             ]
            ],
            "type": "histogram2dcontour"
           }
          ],
          "mesh3d": [
           {
            "colorbar": {
             "outlinewidth": 0,
             "ticks": ""
            },
            "type": "mesh3d"
           }
          ],
          "parcoords": [
           {
            "line": {
             "colorbar": {
              "outlinewidth": 0,
              "ticks": ""
             }
            },
            "type": "parcoords"
           }
          ],
          "pie": [
           {
            "automargin": true,
            "type": "pie"
           }
          ],
          "scatter": [
           {
            "marker": {
             "colorbar": {
              "outlinewidth": 0,
              "ticks": ""
             }
            },
            "type": "scatter"
           }
          ],
          "scatter3d": [
           {
            "line": {
             "colorbar": {
              "outlinewidth": 0,
              "ticks": ""
             }
            },
            "marker": {
             "colorbar": {
              "outlinewidth": 0,
              "ticks": ""
             }
            },
            "type": "scatter3d"
           }
          ],
          "scattercarpet": [
           {
            "marker": {
             "colorbar": {
              "outlinewidth": 0,
              "ticks": ""
             }
            },
            "type": "scattercarpet"
           }
          ],
          "scattergeo": [
           {
            "marker": {
             "colorbar": {
              "outlinewidth": 0,
              "ticks": ""
             }
            },
            "type": "scattergeo"
           }
          ],
          "scattergl": [
           {
            "marker": {
             "colorbar": {
              "outlinewidth": 0,
              "ticks": ""
             }
            },
            "type": "scattergl"
           }
          ],
          "scattermapbox": [
           {
            "marker": {
             "colorbar": {
              "outlinewidth": 0,
              "ticks": ""
             }
            },
            "type": "scattermapbox"
           }
          ],
          "scatterpolar": [
           {
            "marker": {
             "colorbar": {
              "outlinewidth": 0,
              "ticks": ""
             }
            },
            "type": "scatterpolar"
           }
          ],
          "scatterpolargl": [
           {
            "marker": {
             "colorbar": {
              "outlinewidth": 0,
              "ticks": ""
             }
            },
            "type": "scatterpolargl"
           }
          ],
          "scatterternary": [
           {
            "marker": {
             "colorbar": {
              "outlinewidth": 0,
              "ticks": ""
             }
            },
            "type": "scatterternary"
           }
          ],
          "surface": [
           {
            "colorbar": {
             "outlinewidth": 0,
             "ticks": ""
            },
            "colorscale": [
             [
              0,
              "#0d0887"
             ],
             [
              0.1111111111111111,
              "#46039f"
             ],
             [
              0.2222222222222222,
              "#7201a8"
             ],
             [
              0.3333333333333333,
              "#9c179e"
             ],
             [
              0.4444444444444444,
              "#bd3786"
             ],
             [
              0.5555555555555556,
              "#d8576b"
             ],
             [
              0.6666666666666666,
              "#ed7953"
             ],
             [
              0.7777777777777778,
              "#fb9f3a"
             ],
             [
              0.8888888888888888,
              "#fdca26"
             ],
             [
              1,
              "#f0f921"
             ]
            ],
            "type": "surface"
           }
          ],
          "table": [
           {
            "cells": {
             "fill": {
              "color": "#EBF0F8"
             },
             "line": {
              "color": "white"
             }
            },
            "header": {
             "fill": {
              "color": "#C8D4E3"
             },
             "line": {
              "color": "white"
             }
            },
            "type": "table"
           }
          ]
         },
         "layout": {
          "annotationdefaults": {
           "arrowcolor": "#2a3f5f",
           "arrowhead": 0,
           "arrowwidth": 1
          },
          "autotypenumbers": "strict",
          "coloraxis": {
           "colorbar": {
            "outlinewidth": 0,
            "ticks": ""
           }
          },
          "colorscale": {
           "diverging": [
            [
             0,
             "#8e0152"
            ],
            [
             0.1,
             "#c51b7d"
            ],
            [
             0.2,
             "#de77ae"
            ],
            [
             0.3,
             "#f1b6da"
            ],
            [
             0.4,
             "#fde0ef"
            ],
            [
             0.5,
             "#f7f7f7"
            ],
            [
             0.6,
             "#e6f5d0"
            ],
            [
             0.7,
             "#b8e186"
            ],
            [
             0.8,
             "#7fbc41"
            ],
            [
             0.9,
             "#4d9221"
            ],
            [
             1,
             "#276419"
            ]
           ],
           "sequential": [
            [
             0,
             "#0d0887"
            ],
            [
             0.1111111111111111,
             "#46039f"
            ],
            [
             0.2222222222222222,
             "#7201a8"
            ],
            [
             0.3333333333333333,
             "#9c179e"
            ],
            [
             0.4444444444444444,
             "#bd3786"
            ],
            [
             0.5555555555555556,
             "#d8576b"
            ],
            [
             0.6666666666666666,
             "#ed7953"
            ],
            [
             0.7777777777777778,
             "#fb9f3a"
            ],
            [
             0.8888888888888888,
             "#fdca26"
            ],
            [
             1,
             "#f0f921"
            ]
           ],
           "sequentialminus": [
            [
             0,
             "#0d0887"
            ],
            [
             0.1111111111111111,
             "#46039f"
            ],
            [
             0.2222222222222222,
             "#7201a8"
            ],
            [
             0.3333333333333333,
             "#9c179e"
            ],
            [
             0.4444444444444444,
             "#bd3786"
            ],
            [
             0.5555555555555556,
             "#d8576b"
            ],
            [
             0.6666666666666666,
             "#ed7953"
            ],
            [
             0.7777777777777778,
             "#fb9f3a"
            ],
            [
             0.8888888888888888,
             "#fdca26"
            ],
            [
             1,
             "#f0f921"
            ]
           ]
          },
          "colorway": [
           "#636efa",
           "#EF553B",
           "#00cc96",
           "#ab63fa",
           "#FFA15A",
           "#19d3f3",
           "#FF6692",
           "#B6E880",
           "#FF97FF",
           "#FECB52"
          ],
          "font": {
           "color": "#2a3f5f"
          },
          "geo": {
           "bgcolor": "white",
           "lakecolor": "white",
           "landcolor": "#E5ECF6",
           "showlakes": true,
           "showland": true,
           "subunitcolor": "white"
          },
          "hoverlabel": {
           "align": "left"
          },
          "hovermode": "closest",
          "mapbox": {
           "style": "light"
          },
          "paper_bgcolor": "white",
          "plot_bgcolor": "#E5ECF6",
          "polar": {
           "angularaxis": {
            "gridcolor": "white",
            "linecolor": "white",
            "ticks": ""
           },
           "bgcolor": "#E5ECF6",
           "radialaxis": {
            "gridcolor": "white",
            "linecolor": "white",
            "ticks": ""
           }
          },
          "scene": {
           "xaxis": {
            "backgroundcolor": "#E5ECF6",
            "gridcolor": "white",
            "gridwidth": 2,
            "linecolor": "white",
            "showbackground": true,
            "ticks": "",
            "zerolinecolor": "white"
           },
           "yaxis": {
            "backgroundcolor": "#E5ECF6",
            "gridcolor": "white",
            "gridwidth": 2,
            "linecolor": "white",
            "showbackground": true,
            "ticks": "",
            "zerolinecolor": "white"
           },
           "zaxis": {
            "backgroundcolor": "#E5ECF6",
            "gridcolor": "white",
            "gridwidth": 2,
            "linecolor": "white",
            "showbackground": true,
            "ticks": "",
            "zerolinecolor": "white"
           }
          },
          "shapedefaults": {
           "line": {
            "color": "#2a3f5f"
           }
          },
          "ternary": {
           "aaxis": {
            "gridcolor": "white",
            "linecolor": "white",
            "ticks": ""
           },
           "baxis": {
            "gridcolor": "white",
            "linecolor": "white",
            "ticks": ""
           },
           "bgcolor": "#E5ECF6",
           "caxis": {
            "gridcolor": "white",
            "linecolor": "white",
            "ticks": ""
           }
          },
          "title": {
           "x": 0.05
          },
          "xaxis": {
           "automargin": true,
           "gridcolor": "white",
           "linecolor": "white",
           "ticks": "",
           "title": {
            "standoff": 15
           },
           "zerolinecolor": "white",
           "zerolinewidth": 2
          },
          "yaxis": {
           "automargin": true,
           "gridcolor": "white",
           "linecolor": "white",
           "ticks": "",
           "title": {
            "standoff": 15
           },
           "zerolinecolor": "white",
           "zerolinewidth": 2
          }
         }
        },
        "title": {
         "font": {
          "color": "#4D5663"
         }
        },
        "xaxis": {
         "gridcolor": "#E1E5ED",
         "showgrid": true,
         "tickfont": {
          "color": "#4D5663"
         },
         "title": {
          "font": {
           "color": "#4D5663"
          },
          "text": ""
         },
         "zerolinecolor": "#E1E5ED"
        },
        "yaxis": {
         "gridcolor": "#E1E5ED",
         "showgrid": true,
         "tickfont": {
          "color": "#4D5663"
         },
         "title": {
          "font": {
           "color": "#4D5663"
          },
          "text": ""
         },
         "zerolinecolor": "#E1E5ED"
        }
       }
      },
      "text/html": [
       "<div>                            <div id=\"57c1683c-4e16-4f36-8631-441072f867a7\" class=\"plotly-graph-div\" style=\"height:525px; width:100%;\"></div>            <script type=\"text/javascript\">                require([\"plotly\"], function(Plotly) {                    window.PLOTLYENV=window.PLOTLYENV || {};\n",
       "                    window.PLOTLYENV.BASE_URL='https://plot.ly';                                    if (document.getElementById(\"57c1683c-4e16-4f36-8631-441072f867a7\")) {                    Plotly.newPlot(                        \"57c1683c-4e16-4f36-8631-441072f867a7\",                        [{\"marker\":{\"color\":\"rgba(255, 153, 51, 0.6)\",\"line\":{\"color\":\"rgba(255, 153, 51, 1.0)\",\"width\":1}},\"name\":\"Values\",\"orientation\":\"v\",\"text\":\"\",\"x\":[\"A\",\"B\",\"C\"],\"y\":[32,43,50],\"type\":\"bar\"}],                        {\"legend\":{\"bgcolor\":\"#F5F6F9\",\"font\":{\"color\":\"#4D5663\"}},\"paper_bgcolor\":\"#F5F6F9\",\"plot_bgcolor\":\"#F5F6F9\",\"template\":{\"data\":{\"barpolar\":[{\"marker\":{\"line\":{\"color\":\"#E5ECF6\",\"width\":0.5},\"pattern\":{\"fillmode\":\"overlay\",\"size\":10,\"solidity\":0.2}},\"type\":\"barpolar\"}],\"bar\":[{\"error_x\":{\"color\":\"#2a3f5f\"},\"error_y\":{\"color\":\"#2a3f5f\"},\"marker\":{\"line\":{\"color\":\"#E5ECF6\",\"width\":0.5},\"pattern\":{\"fillmode\":\"overlay\",\"size\":10,\"solidity\":0.2}},\"type\":\"bar\"}],\"carpet\":[{\"aaxis\":{\"endlinecolor\":\"#2a3f5f\",\"gridcolor\":\"white\",\"linecolor\":\"white\",\"minorgridcolor\":\"white\",\"startlinecolor\":\"#2a3f5f\"},\"baxis\":{\"endlinecolor\":\"#2a3f5f\",\"gridcolor\":\"white\",\"linecolor\":\"white\",\"minorgridcolor\":\"white\",\"startlinecolor\":\"#2a3f5f\"},\"type\":\"carpet\"}],\"choropleth\":[{\"colorbar\":{\"outlinewidth\":0,\"ticks\":\"\"},\"type\":\"choropleth\"}],\"contourcarpet\":[{\"colorbar\":{\"outlinewidth\":0,\"ticks\":\"\"},\"type\":\"contourcarpet\"}],\"contour\":[{\"colorbar\":{\"outlinewidth\":0,\"ticks\":\"\"},\"colorscale\":[[0.0,\"#0d0887\"],[0.1111111111111111,\"#46039f\"],[0.2222222222222222,\"#7201a8\"],[0.3333333333333333,\"#9c179e\"],[0.4444444444444444,\"#bd3786\"],[0.5555555555555556,\"#d8576b\"],[0.6666666666666666,\"#ed7953\"],[0.7777777777777778,\"#fb9f3a\"],[0.8888888888888888,\"#fdca26\"],[1.0,\"#f0f921\"]],\"type\":\"contour\"}],\"heatmapgl\":[{\"colorbar\":{\"outlinewidth\":0,\"ticks\":\"\"},\"colorscale\":[[0.0,\"#0d0887\"],[0.1111111111111111,\"#46039f\"],[0.2222222222222222,\"#7201a8\"],[0.3333333333333333,\"#9c179e\"],[0.4444444444444444,\"#bd3786\"],[0.5555555555555556,\"#d8576b\"],[0.6666666666666666,\"#ed7953\"],[0.7777777777777778,\"#fb9f3a\"],[0.8888888888888888,\"#fdca26\"],[1.0,\"#f0f921\"]],\"type\":\"heatmapgl\"}],\"heatmap\":[{\"colorbar\":{\"outlinewidth\":0,\"ticks\":\"\"},\"colorscale\":[[0.0,\"#0d0887\"],[0.1111111111111111,\"#46039f\"],[0.2222222222222222,\"#7201a8\"],[0.3333333333333333,\"#9c179e\"],[0.4444444444444444,\"#bd3786\"],[0.5555555555555556,\"#d8576b\"],[0.6666666666666666,\"#ed7953\"],[0.7777777777777778,\"#fb9f3a\"],[0.8888888888888888,\"#fdca26\"],[1.0,\"#f0f921\"]],\"type\":\"heatmap\"}],\"histogram2dcontour\":[{\"colorbar\":{\"outlinewidth\":0,\"ticks\":\"\"},\"colorscale\":[[0.0,\"#0d0887\"],[0.1111111111111111,\"#46039f\"],[0.2222222222222222,\"#7201a8\"],[0.3333333333333333,\"#9c179e\"],[0.4444444444444444,\"#bd3786\"],[0.5555555555555556,\"#d8576b\"],[0.6666666666666666,\"#ed7953\"],[0.7777777777777778,\"#fb9f3a\"],[0.8888888888888888,\"#fdca26\"],[1.0,\"#f0f921\"]],\"type\":\"histogram2dcontour\"}],\"histogram2d\":[{\"colorbar\":{\"outlinewidth\":0,\"ticks\":\"\"},\"colorscale\":[[0.0,\"#0d0887\"],[0.1111111111111111,\"#46039f\"],[0.2222222222222222,\"#7201a8\"],[0.3333333333333333,\"#9c179e\"],[0.4444444444444444,\"#bd3786\"],[0.5555555555555556,\"#d8576b\"],[0.6666666666666666,\"#ed7953\"],[0.7777777777777778,\"#fb9f3a\"],[0.8888888888888888,\"#fdca26\"],[1.0,\"#f0f921\"]],\"type\":\"histogram2d\"}],\"histogram\":[{\"marker\":{\"pattern\":{\"fillmode\":\"overlay\",\"size\":10,\"solidity\":0.2}},\"type\":\"histogram\"}],\"mesh3d\":[{\"colorbar\":{\"outlinewidth\":0,\"ticks\":\"\"},\"type\":\"mesh3d\"}],\"parcoords\":[{\"line\":{\"colorbar\":{\"outlinewidth\":0,\"ticks\":\"\"}},\"type\":\"parcoords\"}],\"pie\":[{\"automargin\":true,\"type\":\"pie\"}],\"scatter3d\":[{\"line\":{\"colorbar\":{\"outlinewidth\":0,\"ticks\":\"\"}},\"marker\":{\"colorbar\":{\"outlinewidth\":0,\"ticks\":\"\"}},\"type\":\"scatter3d\"}],\"scattercarpet\":[{\"marker\":{\"colorbar\":{\"outlinewidth\":0,\"ticks\":\"\"}},\"type\":\"scattercarpet\"}],\"scattergeo\":[{\"marker\":{\"colorbar\":{\"outlinewidth\":0,\"ticks\":\"\"}},\"type\":\"scattergeo\"}],\"scattergl\":[{\"marker\":{\"colorbar\":{\"outlinewidth\":0,\"ticks\":\"\"}},\"type\":\"scattergl\"}],\"scattermapbox\":[{\"marker\":{\"colorbar\":{\"outlinewidth\":0,\"ticks\":\"\"}},\"type\":\"scattermapbox\"}],\"scatterpolargl\":[{\"marker\":{\"colorbar\":{\"outlinewidth\":0,\"ticks\":\"\"}},\"type\":\"scatterpolargl\"}],\"scatterpolar\":[{\"marker\":{\"colorbar\":{\"outlinewidth\":0,\"ticks\":\"\"}},\"type\":\"scatterpolar\"}],\"scatter\":[{\"marker\":{\"colorbar\":{\"outlinewidth\":0,\"ticks\":\"\"}},\"type\":\"scatter\"}],\"scatterternary\":[{\"marker\":{\"colorbar\":{\"outlinewidth\":0,\"ticks\":\"\"}},\"type\":\"scatterternary\"}],\"surface\":[{\"colorbar\":{\"outlinewidth\":0,\"ticks\":\"\"},\"colorscale\":[[0.0,\"#0d0887\"],[0.1111111111111111,\"#46039f\"],[0.2222222222222222,\"#7201a8\"],[0.3333333333333333,\"#9c179e\"],[0.4444444444444444,\"#bd3786\"],[0.5555555555555556,\"#d8576b\"],[0.6666666666666666,\"#ed7953\"],[0.7777777777777778,\"#fb9f3a\"],[0.8888888888888888,\"#fdca26\"],[1.0,\"#f0f921\"]],\"type\":\"surface\"}],\"table\":[{\"cells\":{\"fill\":{\"color\":\"#EBF0F8\"},\"line\":{\"color\":\"white\"}},\"header\":{\"fill\":{\"color\":\"#C8D4E3\"},\"line\":{\"color\":\"white\"}},\"type\":\"table\"}]},\"layout\":{\"annotationdefaults\":{\"arrowcolor\":\"#2a3f5f\",\"arrowhead\":0,\"arrowwidth\":1},\"autotypenumbers\":\"strict\",\"coloraxis\":{\"colorbar\":{\"outlinewidth\":0,\"ticks\":\"\"}},\"colorscale\":{\"diverging\":[[0,\"#8e0152\"],[0.1,\"#c51b7d\"],[0.2,\"#de77ae\"],[0.3,\"#f1b6da\"],[0.4,\"#fde0ef\"],[0.5,\"#f7f7f7\"],[0.6,\"#e6f5d0\"],[0.7,\"#b8e186\"],[0.8,\"#7fbc41\"],[0.9,\"#4d9221\"],[1,\"#276419\"]],\"sequential\":[[0.0,\"#0d0887\"],[0.1111111111111111,\"#46039f\"],[0.2222222222222222,\"#7201a8\"],[0.3333333333333333,\"#9c179e\"],[0.4444444444444444,\"#bd3786\"],[0.5555555555555556,\"#d8576b\"],[0.6666666666666666,\"#ed7953\"],[0.7777777777777778,\"#fb9f3a\"],[0.8888888888888888,\"#fdca26\"],[1.0,\"#f0f921\"]],\"sequentialminus\":[[0.0,\"#0d0887\"],[0.1111111111111111,\"#46039f\"],[0.2222222222222222,\"#7201a8\"],[0.3333333333333333,\"#9c179e\"],[0.4444444444444444,\"#bd3786\"],[0.5555555555555556,\"#d8576b\"],[0.6666666666666666,\"#ed7953\"],[0.7777777777777778,\"#fb9f3a\"],[0.8888888888888888,\"#fdca26\"],[1.0,\"#f0f921\"]]},\"colorway\":[\"#636efa\",\"#EF553B\",\"#00cc96\",\"#ab63fa\",\"#FFA15A\",\"#19d3f3\",\"#FF6692\",\"#B6E880\",\"#FF97FF\",\"#FECB52\"],\"font\":{\"color\":\"#2a3f5f\"},\"geo\":{\"bgcolor\":\"white\",\"lakecolor\":\"white\",\"landcolor\":\"#E5ECF6\",\"showlakes\":true,\"showland\":true,\"subunitcolor\":\"white\"},\"hoverlabel\":{\"align\":\"left\"},\"hovermode\":\"closest\",\"mapbox\":{\"style\":\"light\"},\"paper_bgcolor\":\"white\",\"plot_bgcolor\":\"#E5ECF6\",\"polar\":{\"angularaxis\":{\"gridcolor\":\"white\",\"linecolor\":\"white\",\"ticks\":\"\"},\"bgcolor\":\"#E5ECF6\",\"radialaxis\":{\"gridcolor\":\"white\",\"linecolor\":\"white\",\"ticks\":\"\"}},\"scene\":{\"xaxis\":{\"backgroundcolor\":\"#E5ECF6\",\"gridcolor\":\"white\",\"gridwidth\":2,\"linecolor\":\"white\",\"showbackground\":true,\"ticks\":\"\",\"zerolinecolor\":\"white\"},\"yaxis\":{\"backgroundcolor\":\"#E5ECF6\",\"gridcolor\":\"white\",\"gridwidth\":2,\"linecolor\":\"white\",\"showbackground\":true,\"ticks\":\"\",\"zerolinecolor\":\"white\"},\"zaxis\":{\"backgroundcolor\":\"#E5ECF6\",\"gridcolor\":\"white\",\"gridwidth\":2,\"linecolor\":\"white\",\"showbackground\":true,\"ticks\":\"\",\"zerolinecolor\":\"white\"}},\"shapedefaults\":{\"line\":{\"color\":\"#2a3f5f\"}},\"ternary\":{\"aaxis\":{\"gridcolor\":\"white\",\"linecolor\":\"white\",\"ticks\":\"\"},\"baxis\":{\"gridcolor\":\"white\",\"linecolor\":\"white\",\"ticks\":\"\"},\"bgcolor\":\"#E5ECF6\",\"caxis\":{\"gridcolor\":\"white\",\"linecolor\":\"white\",\"ticks\":\"\"}},\"title\":{\"x\":0.05},\"xaxis\":{\"automargin\":true,\"gridcolor\":\"white\",\"linecolor\":\"white\",\"ticks\":\"\",\"title\":{\"standoff\":15},\"zerolinecolor\":\"white\",\"zerolinewidth\":2},\"yaxis\":{\"automargin\":true,\"gridcolor\":\"white\",\"linecolor\":\"white\",\"ticks\":\"\",\"title\":{\"standoff\":15},\"zerolinecolor\":\"white\",\"zerolinewidth\":2}}},\"title\":{\"font\":{\"color\":\"#4D5663\"}},\"xaxis\":{\"gridcolor\":\"#E1E5ED\",\"showgrid\":true,\"tickfont\":{\"color\":\"#4D5663\"},\"title\":{\"font\":{\"color\":\"#4D5663\"},\"text\":\"\"},\"zerolinecolor\":\"#E1E5ED\"},\"yaxis\":{\"gridcolor\":\"#E1E5ED\",\"showgrid\":true,\"tickfont\":{\"color\":\"#4D5663\"},\"title\":{\"font\":{\"color\":\"#4D5663\"},\"text\":\"\"},\"zerolinecolor\":\"#E1E5ED\"}},                        {\"showLink\": true, \"linkText\": \"Export to plot.ly\", \"plotlyServerURL\": \"https://plot.ly\", \"responsive\": true}                    ).then(function(){\n",
       "                            \n",
       "var gd = document.getElementById('57c1683c-4e16-4f36-8631-441072f867a7');\n",
       "var x = new MutationObserver(function (mutations, observer) {{\n",
       "        var display = window.getComputedStyle(gd).display;\n",
       "        if (!display || display === 'none') {{\n",
       "            console.log([gd, 'removed!']);\n",
       "            Plotly.purge(gd);\n",
       "            observer.disconnect();\n",
       "        }}\n",
       "}});\n",
       "\n",
       "// Listen for the removal of the full notebook cells\n",
       "var notebookContainer = gd.closest('#notebook-container');\n",
       "if (notebookContainer) {{\n",
       "    x.observe(notebookContainer, {childList: true});\n",
       "}}\n",
       "\n",
       "// Listen for the clearing of the current output cell\n",
       "var outputEl = gd.closest('.output');\n",
       "if (outputEl) {{\n",
       "    x.observe(outputEl, {childList: true});\n",
       "}}\n",
       "\n",
       "                        })                };                });            </script>        </div>"
      ]
     },
     "metadata": {},
     "output_type": "display_data"
    }
   ],
   "source": [
    "df2.iplot(kind='bar',x='Category',y='Values')"
   ]
  },
  {
   "cell_type": "code",
   "execution_count": 17,
   "id": "b0024635",
   "metadata": {},
   "outputs": [
    {
     "data": {
      "application/vnd.plotly.v1+json": {
       "config": {
        "linkText": "Export to plot.ly",
        "plotlyServerURL": "https://plot.ly",
        "showLink": true
       },
       "data": [
        {
         "marker": {
          "color": "rgba(255, 153, 51, 0.6)",
          "line": {
           "color": "rgba(255, 153, 51, 1.0)",
           "width": 1
          }
         },
         "name": "None",
         "orientation": "v",
         "text": "",
         "type": "bar",
         "x": [
          "A",
          "B",
          "C",
          "D"
         ],
         "y": [
          100,
          100,
          100,
          100
         ]
        }
       ],
       "layout": {
        "legend": {
         "bgcolor": "#F5F6F9",
         "font": {
          "color": "#4D5663"
         }
        },
        "paper_bgcolor": "#F5F6F9",
        "plot_bgcolor": "#F5F6F9",
        "template": {
         "data": {
          "bar": [
           {
            "error_x": {
             "color": "#2a3f5f"
            },
            "error_y": {
             "color": "#2a3f5f"
            },
            "marker": {
             "line": {
              "color": "#E5ECF6",
              "width": 0.5
             },
             "pattern": {
              "fillmode": "overlay",
              "size": 10,
              "solidity": 0.2
             }
            },
            "type": "bar"
           }
          ],
          "barpolar": [
           {
            "marker": {
             "line": {
              "color": "#E5ECF6",
              "width": 0.5
             },
             "pattern": {
              "fillmode": "overlay",
              "size": 10,
              "solidity": 0.2
             }
            },
            "type": "barpolar"
           }
          ],
          "carpet": [
           {
            "aaxis": {
             "endlinecolor": "#2a3f5f",
             "gridcolor": "white",
             "linecolor": "white",
             "minorgridcolor": "white",
             "startlinecolor": "#2a3f5f"
            },
            "baxis": {
             "endlinecolor": "#2a3f5f",
             "gridcolor": "white",
             "linecolor": "white",
             "minorgridcolor": "white",
             "startlinecolor": "#2a3f5f"
            },
            "type": "carpet"
           }
          ],
          "choropleth": [
           {
            "colorbar": {
             "outlinewidth": 0,
             "ticks": ""
            },
            "type": "choropleth"
           }
          ],
          "contour": [
           {
            "colorbar": {
             "outlinewidth": 0,
             "ticks": ""
            },
            "colorscale": [
             [
              0,
              "#0d0887"
             ],
             [
              0.1111111111111111,
              "#46039f"
             ],
             [
              0.2222222222222222,
              "#7201a8"
             ],
             [
              0.3333333333333333,
              "#9c179e"
             ],
             [
              0.4444444444444444,
              "#bd3786"
             ],
             [
              0.5555555555555556,
              "#d8576b"
             ],
             [
              0.6666666666666666,
              "#ed7953"
             ],
             [
              0.7777777777777778,
              "#fb9f3a"
             ],
             [
              0.8888888888888888,
              "#fdca26"
             ],
             [
              1,
              "#f0f921"
             ]
            ],
            "type": "contour"
           }
          ],
          "contourcarpet": [
           {
            "colorbar": {
             "outlinewidth": 0,
             "ticks": ""
            },
            "type": "contourcarpet"
           }
          ],
          "heatmap": [
           {
            "colorbar": {
             "outlinewidth": 0,
             "ticks": ""
            },
            "colorscale": [
             [
              0,
              "#0d0887"
             ],
             [
              0.1111111111111111,
              "#46039f"
             ],
             [
              0.2222222222222222,
              "#7201a8"
             ],
             [
              0.3333333333333333,
              "#9c179e"
             ],
             [
              0.4444444444444444,
              "#bd3786"
             ],
             [
              0.5555555555555556,
              "#d8576b"
             ],
             [
              0.6666666666666666,
              "#ed7953"
             ],
             [
              0.7777777777777778,
              "#fb9f3a"
             ],
             [
              0.8888888888888888,
              "#fdca26"
             ],
             [
              1,
              "#f0f921"
             ]
            ],
            "type": "heatmap"
           }
          ],
          "heatmapgl": [
           {
            "colorbar": {
             "outlinewidth": 0,
             "ticks": ""
            },
            "colorscale": [
             [
              0,
              "#0d0887"
             ],
             [
              0.1111111111111111,
              "#46039f"
             ],
             [
              0.2222222222222222,
              "#7201a8"
             ],
             [
              0.3333333333333333,
              "#9c179e"
             ],
             [
              0.4444444444444444,
              "#bd3786"
             ],
             [
              0.5555555555555556,
              "#d8576b"
             ],
             [
              0.6666666666666666,
              "#ed7953"
             ],
             [
              0.7777777777777778,
              "#fb9f3a"
             ],
             [
              0.8888888888888888,
              "#fdca26"
             ],
             [
              1,
              "#f0f921"
             ]
            ],
            "type": "heatmapgl"
           }
          ],
          "histogram": [
           {
            "marker": {
             "pattern": {
              "fillmode": "overlay",
              "size": 10,
              "solidity": 0.2
             }
            },
            "type": "histogram"
           }
          ],
          "histogram2d": [
           {
            "colorbar": {
             "outlinewidth": 0,
             "ticks": ""
            },
            "colorscale": [
             [
              0,
              "#0d0887"
             ],
             [
              0.1111111111111111,
              "#46039f"
             ],
             [
              0.2222222222222222,
              "#7201a8"
             ],
             [
              0.3333333333333333,
              "#9c179e"
             ],
             [
              0.4444444444444444,
              "#bd3786"
             ],
             [
              0.5555555555555556,
              "#d8576b"
             ],
             [
              0.6666666666666666,
              "#ed7953"
             ],
             [
              0.7777777777777778,
              "#fb9f3a"
             ],
             [
              0.8888888888888888,
              "#fdca26"
             ],
             [
              1,
              "#f0f921"
             ]
            ],
            "type": "histogram2d"
           }
          ],
          "histogram2dcontour": [
           {
            "colorbar": {
             "outlinewidth": 0,
             "ticks": ""
            },
            "colorscale": [
             [
              0,
              "#0d0887"
             ],
             [
              0.1111111111111111,
              "#46039f"
             ],
             [
              0.2222222222222222,
              "#7201a8"
             ],
             [
              0.3333333333333333,
              "#9c179e"
             ],
             [
              0.4444444444444444,
              "#bd3786"
             ],
             [
              0.5555555555555556,
              "#d8576b"
             ],
             [
              0.6666666666666666,
              "#ed7953"
             ],
             [
              0.7777777777777778,
              "#fb9f3a"
             ],
             [
              0.8888888888888888,
              "#fdca26"
             ],
             [
              1,
              "#f0f921"
             ]
            ],
            "type": "histogram2dcontour"
           }
          ],
          "mesh3d": [
           {
            "colorbar": {
             "outlinewidth": 0,
             "ticks": ""
            },
            "type": "mesh3d"
           }
          ],
          "parcoords": [
           {
            "line": {
             "colorbar": {
              "outlinewidth": 0,
              "ticks": ""
             }
            },
            "type": "parcoords"
           }
          ],
          "pie": [
           {
            "automargin": true,
            "type": "pie"
           }
          ],
          "scatter": [
           {
            "marker": {
             "colorbar": {
              "outlinewidth": 0,
              "ticks": ""
             }
            },
            "type": "scatter"
           }
          ],
          "scatter3d": [
           {
            "line": {
             "colorbar": {
              "outlinewidth": 0,
              "ticks": ""
             }
            },
            "marker": {
             "colorbar": {
              "outlinewidth": 0,
              "ticks": ""
             }
            },
            "type": "scatter3d"
           }
          ],
          "scattercarpet": [
           {
            "marker": {
             "colorbar": {
              "outlinewidth": 0,
              "ticks": ""
             }
            },
            "type": "scattercarpet"
           }
          ],
          "scattergeo": [
           {
            "marker": {
             "colorbar": {
              "outlinewidth": 0,
              "ticks": ""
             }
            },
            "type": "scattergeo"
           }
          ],
          "scattergl": [
           {
            "marker": {
             "colorbar": {
              "outlinewidth": 0,
              "ticks": ""
             }
            },
            "type": "scattergl"
           }
          ],
          "scattermapbox": [
           {
            "marker": {
             "colorbar": {
              "outlinewidth": 0,
              "ticks": ""
             }
            },
            "type": "scattermapbox"
           }
          ],
          "scatterpolar": [
           {
            "marker": {
             "colorbar": {
              "outlinewidth": 0,
              "ticks": ""
             }
            },
            "type": "scatterpolar"
           }
          ],
          "scatterpolargl": [
           {
            "marker": {
             "colorbar": {
              "outlinewidth": 0,
              "ticks": ""
             }
            },
            "type": "scatterpolargl"
           }
          ],
          "scatterternary": [
           {
            "marker": {
             "colorbar": {
              "outlinewidth": 0,
              "ticks": ""
             }
            },
            "type": "scatterternary"
           }
          ],
          "surface": [
           {
            "colorbar": {
             "outlinewidth": 0,
             "ticks": ""
            },
            "colorscale": [
             [
              0,
              "#0d0887"
             ],
             [
              0.1111111111111111,
              "#46039f"
             ],
             [
              0.2222222222222222,
              "#7201a8"
             ],
             [
              0.3333333333333333,
              "#9c179e"
             ],
             [
              0.4444444444444444,
              "#bd3786"
             ],
             [
              0.5555555555555556,
              "#d8576b"
             ],
             [
              0.6666666666666666,
              "#ed7953"
             ],
             [
              0.7777777777777778,
              "#fb9f3a"
             ],
             [
              0.8888888888888888,
              "#fdca26"
             ],
             [
              1,
              "#f0f921"
             ]
            ],
            "type": "surface"
           }
          ],
          "table": [
           {
            "cells": {
             "fill": {
              "color": "#EBF0F8"
             },
             "line": {
              "color": "white"
             }
            },
            "header": {
             "fill": {
              "color": "#C8D4E3"
             },
             "line": {
              "color": "white"
             }
            },
            "type": "table"
           }
          ]
         },
         "layout": {
          "annotationdefaults": {
           "arrowcolor": "#2a3f5f",
           "arrowhead": 0,
           "arrowwidth": 1
          },
          "autotypenumbers": "strict",
          "coloraxis": {
           "colorbar": {
            "outlinewidth": 0,
            "ticks": ""
           }
          },
          "colorscale": {
           "diverging": [
            [
             0,
             "#8e0152"
            ],
            [
             0.1,
             "#c51b7d"
            ],
            [
             0.2,
             "#de77ae"
            ],
            [
             0.3,
             "#f1b6da"
            ],
            [
             0.4,
             "#fde0ef"
            ],
            [
             0.5,
             "#f7f7f7"
            ],
            [
             0.6,
             "#e6f5d0"
            ],
            [
             0.7,
             "#b8e186"
            ],
            [
             0.8,
             "#7fbc41"
            ],
            [
             0.9,
             "#4d9221"
            ],
            [
             1,
             "#276419"
            ]
           ],
           "sequential": [
            [
             0,
             "#0d0887"
            ],
            [
             0.1111111111111111,
             "#46039f"
            ],
            [
             0.2222222222222222,
             "#7201a8"
            ],
            [
             0.3333333333333333,
             "#9c179e"
            ],
            [
             0.4444444444444444,
             "#bd3786"
            ],
            [
             0.5555555555555556,
             "#d8576b"
            ],
            [
             0.6666666666666666,
             "#ed7953"
            ],
            [
             0.7777777777777778,
             "#fb9f3a"
            ],
            [
             0.8888888888888888,
             "#fdca26"
            ],
            [
             1,
             "#f0f921"
            ]
           ],
           "sequentialminus": [
            [
             0,
             "#0d0887"
            ],
            [
             0.1111111111111111,
             "#46039f"
            ],
            [
             0.2222222222222222,
             "#7201a8"
            ],
            [
             0.3333333333333333,
             "#9c179e"
            ],
            [
             0.4444444444444444,
             "#bd3786"
            ],
            [
             0.5555555555555556,
             "#d8576b"
            ],
            [
             0.6666666666666666,
             "#ed7953"
            ],
            [
             0.7777777777777778,
             "#fb9f3a"
            ],
            [
             0.8888888888888888,
             "#fdca26"
            ],
            [
             1,
             "#f0f921"
            ]
           ]
          },
          "colorway": [
           "#636efa",
           "#EF553B",
           "#00cc96",
           "#ab63fa",
           "#FFA15A",
           "#19d3f3",
           "#FF6692",
           "#B6E880",
           "#FF97FF",
           "#FECB52"
          ],
          "font": {
           "color": "#2a3f5f"
          },
          "geo": {
           "bgcolor": "white",
           "lakecolor": "white",
           "landcolor": "#E5ECF6",
           "showlakes": true,
           "showland": true,
           "subunitcolor": "white"
          },
          "hoverlabel": {
           "align": "left"
          },
          "hovermode": "closest",
          "mapbox": {
           "style": "light"
          },
          "paper_bgcolor": "white",
          "plot_bgcolor": "#E5ECF6",
          "polar": {
           "angularaxis": {
            "gridcolor": "white",
            "linecolor": "white",
            "ticks": ""
           },
           "bgcolor": "#E5ECF6",
           "radialaxis": {
            "gridcolor": "white",
            "linecolor": "white",
            "ticks": ""
           }
          },
          "scene": {
           "xaxis": {
            "backgroundcolor": "#E5ECF6",
            "gridcolor": "white",
            "gridwidth": 2,
            "linecolor": "white",
            "showbackground": true,
            "ticks": "",
            "zerolinecolor": "white"
           },
           "yaxis": {
            "backgroundcolor": "#E5ECF6",
            "gridcolor": "white",
            "gridwidth": 2,
            "linecolor": "white",
            "showbackground": true,
            "ticks": "",
            "zerolinecolor": "white"
           },
           "zaxis": {
            "backgroundcolor": "#E5ECF6",
            "gridcolor": "white",
            "gridwidth": 2,
            "linecolor": "white",
            "showbackground": true,
            "ticks": "",
            "zerolinecolor": "white"
           }
          },
          "shapedefaults": {
           "line": {
            "color": "#2a3f5f"
           }
          },
          "ternary": {
           "aaxis": {
            "gridcolor": "white",
            "linecolor": "white",
            "ticks": ""
           },
           "baxis": {
            "gridcolor": "white",
            "linecolor": "white",
            "ticks": ""
           },
           "bgcolor": "#E5ECF6",
           "caxis": {
            "gridcolor": "white",
            "linecolor": "white",
            "ticks": ""
           }
          },
          "title": {
           "x": 0.05
          },
          "xaxis": {
           "automargin": true,
           "gridcolor": "white",
           "linecolor": "white",
           "ticks": "",
           "title": {
            "standoff": 15
           },
           "zerolinecolor": "white",
           "zerolinewidth": 2
          },
          "yaxis": {
           "automargin": true,
           "gridcolor": "white",
           "linecolor": "white",
           "ticks": "",
           "title": {
            "standoff": 15
           },
           "zerolinecolor": "white",
           "zerolinewidth": 2
          }
         }
        },
        "title": {
         "font": {
          "color": "#4D5663"
         }
        },
        "xaxis": {
         "gridcolor": "#E1E5ED",
         "showgrid": true,
         "tickfont": {
          "color": "#4D5663"
         },
         "title": {
          "font": {
           "color": "#4D5663"
          },
          "text": ""
         },
         "zerolinecolor": "#E1E5ED"
        },
        "yaxis": {
         "gridcolor": "#E1E5ED",
         "showgrid": true,
         "tickfont": {
          "color": "#4D5663"
         },
         "title": {
          "font": {
           "color": "#4D5663"
          },
          "text": ""
         },
         "zerolinecolor": "#E1E5ED"
        }
       }
      },
      "text/html": [
       "<div>                            <div id=\"08eec8a7-e000-45bc-af48-f7f76dd54f7f\" class=\"plotly-graph-div\" style=\"height:525px; width:100%;\"></div>            <script type=\"text/javascript\">                require([\"plotly\"], function(Plotly) {                    window.PLOTLYENV=window.PLOTLYENV || {};\n",
       "                    window.PLOTLYENV.BASE_URL='https://plot.ly';                                    if (document.getElementById(\"08eec8a7-e000-45bc-af48-f7f76dd54f7f\")) {                    Plotly.newPlot(                        \"08eec8a7-e000-45bc-af48-f7f76dd54f7f\",                        [{\"marker\":{\"color\":\"rgba(255, 153, 51, 0.6)\",\"line\":{\"color\":\"rgba(255, 153, 51, 1.0)\",\"width\":1}},\"name\":\"None\",\"orientation\":\"v\",\"text\":\"\",\"x\":[\"A\",\"B\",\"C\",\"D\"],\"y\":[100,100,100,100],\"type\":\"bar\"}],                        {\"legend\":{\"bgcolor\":\"#F5F6F9\",\"font\":{\"color\":\"#4D5663\"}},\"paper_bgcolor\":\"#F5F6F9\",\"plot_bgcolor\":\"#F5F6F9\",\"template\":{\"data\":{\"barpolar\":[{\"marker\":{\"line\":{\"color\":\"#E5ECF6\",\"width\":0.5},\"pattern\":{\"fillmode\":\"overlay\",\"size\":10,\"solidity\":0.2}},\"type\":\"barpolar\"}],\"bar\":[{\"error_x\":{\"color\":\"#2a3f5f\"},\"error_y\":{\"color\":\"#2a3f5f\"},\"marker\":{\"line\":{\"color\":\"#E5ECF6\",\"width\":0.5},\"pattern\":{\"fillmode\":\"overlay\",\"size\":10,\"solidity\":0.2}},\"type\":\"bar\"}],\"carpet\":[{\"aaxis\":{\"endlinecolor\":\"#2a3f5f\",\"gridcolor\":\"white\",\"linecolor\":\"white\",\"minorgridcolor\":\"white\",\"startlinecolor\":\"#2a3f5f\"},\"baxis\":{\"endlinecolor\":\"#2a3f5f\",\"gridcolor\":\"white\",\"linecolor\":\"white\",\"minorgridcolor\":\"white\",\"startlinecolor\":\"#2a3f5f\"},\"type\":\"carpet\"}],\"choropleth\":[{\"colorbar\":{\"outlinewidth\":0,\"ticks\":\"\"},\"type\":\"choropleth\"}],\"contourcarpet\":[{\"colorbar\":{\"outlinewidth\":0,\"ticks\":\"\"},\"type\":\"contourcarpet\"}],\"contour\":[{\"colorbar\":{\"outlinewidth\":0,\"ticks\":\"\"},\"colorscale\":[[0.0,\"#0d0887\"],[0.1111111111111111,\"#46039f\"],[0.2222222222222222,\"#7201a8\"],[0.3333333333333333,\"#9c179e\"],[0.4444444444444444,\"#bd3786\"],[0.5555555555555556,\"#d8576b\"],[0.6666666666666666,\"#ed7953\"],[0.7777777777777778,\"#fb9f3a\"],[0.8888888888888888,\"#fdca26\"],[1.0,\"#f0f921\"]],\"type\":\"contour\"}],\"heatmapgl\":[{\"colorbar\":{\"outlinewidth\":0,\"ticks\":\"\"},\"colorscale\":[[0.0,\"#0d0887\"],[0.1111111111111111,\"#46039f\"],[0.2222222222222222,\"#7201a8\"],[0.3333333333333333,\"#9c179e\"],[0.4444444444444444,\"#bd3786\"],[0.5555555555555556,\"#d8576b\"],[0.6666666666666666,\"#ed7953\"],[0.7777777777777778,\"#fb9f3a\"],[0.8888888888888888,\"#fdca26\"],[1.0,\"#f0f921\"]],\"type\":\"heatmapgl\"}],\"heatmap\":[{\"colorbar\":{\"outlinewidth\":0,\"ticks\":\"\"},\"colorscale\":[[0.0,\"#0d0887\"],[0.1111111111111111,\"#46039f\"],[0.2222222222222222,\"#7201a8\"],[0.3333333333333333,\"#9c179e\"],[0.4444444444444444,\"#bd3786\"],[0.5555555555555556,\"#d8576b\"],[0.6666666666666666,\"#ed7953\"],[0.7777777777777778,\"#fb9f3a\"],[0.8888888888888888,\"#fdca26\"],[1.0,\"#f0f921\"]],\"type\":\"heatmap\"}],\"histogram2dcontour\":[{\"colorbar\":{\"outlinewidth\":0,\"ticks\":\"\"},\"colorscale\":[[0.0,\"#0d0887\"],[0.1111111111111111,\"#46039f\"],[0.2222222222222222,\"#7201a8\"],[0.3333333333333333,\"#9c179e\"],[0.4444444444444444,\"#bd3786\"],[0.5555555555555556,\"#d8576b\"],[0.6666666666666666,\"#ed7953\"],[0.7777777777777778,\"#fb9f3a\"],[0.8888888888888888,\"#fdca26\"],[1.0,\"#f0f921\"]],\"type\":\"histogram2dcontour\"}],\"histogram2d\":[{\"colorbar\":{\"outlinewidth\":0,\"ticks\":\"\"},\"colorscale\":[[0.0,\"#0d0887\"],[0.1111111111111111,\"#46039f\"],[0.2222222222222222,\"#7201a8\"],[0.3333333333333333,\"#9c179e\"],[0.4444444444444444,\"#bd3786\"],[0.5555555555555556,\"#d8576b\"],[0.6666666666666666,\"#ed7953\"],[0.7777777777777778,\"#fb9f3a\"],[0.8888888888888888,\"#fdca26\"],[1.0,\"#f0f921\"]],\"type\":\"histogram2d\"}],\"histogram\":[{\"marker\":{\"pattern\":{\"fillmode\":\"overlay\",\"size\":10,\"solidity\":0.2}},\"type\":\"histogram\"}],\"mesh3d\":[{\"colorbar\":{\"outlinewidth\":0,\"ticks\":\"\"},\"type\":\"mesh3d\"}],\"parcoords\":[{\"line\":{\"colorbar\":{\"outlinewidth\":0,\"ticks\":\"\"}},\"type\":\"parcoords\"}],\"pie\":[{\"automargin\":true,\"type\":\"pie\"}],\"scatter3d\":[{\"line\":{\"colorbar\":{\"outlinewidth\":0,\"ticks\":\"\"}},\"marker\":{\"colorbar\":{\"outlinewidth\":0,\"ticks\":\"\"}},\"type\":\"scatter3d\"}],\"scattercarpet\":[{\"marker\":{\"colorbar\":{\"outlinewidth\":0,\"ticks\":\"\"}},\"type\":\"scattercarpet\"}],\"scattergeo\":[{\"marker\":{\"colorbar\":{\"outlinewidth\":0,\"ticks\":\"\"}},\"type\":\"scattergeo\"}],\"scattergl\":[{\"marker\":{\"colorbar\":{\"outlinewidth\":0,\"ticks\":\"\"}},\"type\":\"scattergl\"}],\"scattermapbox\":[{\"marker\":{\"colorbar\":{\"outlinewidth\":0,\"ticks\":\"\"}},\"type\":\"scattermapbox\"}],\"scatterpolargl\":[{\"marker\":{\"colorbar\":{\"outlinewidth\":0,\"ticks\":\"\"}},\"type\":\"scatterpolargl\"}],\"scatterpolar\":[{\"marker\":{\"colorbar\":{\"outlinewidth\":0,\"ticks\":\"\"}},\"type\":\"scatterpolar\"}],\"scatter\":[{\"marker\":{\"colorbar\":{\"outlinewidth\":0,\"ticks\":\"\"}},\"type\":\"scatter\"}],\"scatterternary\":[{\"marker\":{\"colorbar\":{\"outlinewidth\":0,\"ticks\":\"\"}},\"type\":\"scatterternary\"}],\"surface\":[{\"colorbar\":{\"outlinewidth\":0,\"ticks\":\"\"},\"colorscale\":[[0.0,\"#0d0887\"],[0.1111111111111111,\"#46039f\"],[0.2222222222222222,\"#7201a8\"],[0.3333333333333333,\"#9c179e\"],[0.4444444444444444,\"#bd3786\"],[0.5555555555555556,\"#d8576b\"],[0.6666666666666666,\"#ed7953\"],[0.7777777777777778,\"#fb9f3a\"],[0.8888888888888888,\"#fdca26\"],[1.0,\"#f0f921\"]],\"type\":\"surface\"}],\"table\":[{\"cells\":{\"fill\":{\"color\":\"#EBF0F8\"},\"line\":{\"color\":\"white\"}},\"header\":{\"fill\":{\"color\":\"#C8D4E3\"},\"line\":{\"color\":\"white\"}},\"type\":\"table\"}]},\"layout\":{\"annotationdefaults\":{\"arrowcolor\":\"#2a3f5f\",\"arrowhead\":0,\"arrowwidth\":1},\"autotypenumbers\":\"strict\",\"coloraxis\":{\"colorbar\":{\"outlinewidth\":0,\"ticks\":\"\"}},\"colorscale\":{\"diverging\":[[0,\"#8e0152\"],[0.1,\"#c51b7d\"],[0.2,\"#de77ae\"],[0.3,\"#f1b6da\"],[0.4,\"#fde0ef\"],[0.5,\"#f7f7f7\"],[0.6,\"#e6f5d0\"],[0.7,\"#b8e186\"],[0.8,\"#7fbc41\"],[0.9,\"#4d9221\"],[1,\"#276419\"]],\"sequential\":[[0.0,\"#0d0887\"],[0.1111111111111111,\"#46039f\"],[0.2222222222222222,\"#7201a8\"],[0.3333333333333333,\"#9c179e\"],[0.4444444444444444,\"#bd3786\"],[0.5555555555555556,\"#d8576b\"],[0.6666666666666666,\"#ed7953\"],[0.7777777777777778,\"#fb9f3a\"],[0.8888888888888888,\"#fdca26\"],[1.0,\"#f0f921\"]],\"sequentialminus\":[[0.0,\"#0d0887\"],[0.1111111111111111,\"#46039f\"],[0.2222222222222222,\"#7201a8\"],[0.3333333333333333,\"#9c179e\"],[0.4444444444444444,\"#bd3786\"],[0.5555555555555556,\"#d8576b\"],[0.6666666666666666,\"#ed7953\"],[0.7777777777777778,\"#fb9f3a\"],[0.8888888888888888,\"#fdca26\"],[1.0,\"#f0f921\"]]},\"colorway\":[\"#636efa\",\"#EF553B\",\"#00cc96\",\"#ab63fa\",\"#FFA15A\",\"#19d3f3\",\"#FF6692\",\"#B6E880\",\"#FF97FF\",\"#FECB52\"],\"font\":{\"color\":\"#2a3f5f\"},\"geo\":{\"bgcolor\":\"white\",\"lakecolor\":\"white\",\"landcolor\":\"#E5ECF6\",\"showlakes\":true,\"showland\":true,\"subunitcolor\":\"white\"},\"hoverlabel\":{\"align\":\"left\"},\"hovermode\":\"closest\",\"mapbox\":{\"style\":\"light\"},\"paper_bgcolor\":\"white\",\"plot_bgcolor\":\"#E5ECF6\",\"polar\":{\"angularaxis\":{\"gridcolor\":\"white\",\"linecolor\":\"white\",\"ticks\":\"\"},\"bgcolor\":\"#E5ECF6\",\"radialaxis\":{\"gridcolor\":\"white\",\"linecolor\":\"white\",\"ticks\":\"\"}},\"scene\":{\"xaxis\":{\"backgroundcolor\":\"#E5ECF6\",\"gridcolor\":\"white\",\"gridwidth\":2,\"linecolor\":\"white\",\"showbackground\":true,\"ticks\":\"\",\"zerolinecolor\":\"white\"},\"yaxis\":{\"backgroundcolor\":\"#E5ECF6\",\"gridcolor\":\"white\",\"gridwidth\":2,\"linecolor\":\"white\",\"showbackground\":true,\"ticks\":\"\",\"zerolinecolor\":\"white\"},\"zaxis\":{\"backgroundcolor\":\"#E5ECF6\",\"gridcolor\":\"white\",\"gridwidth\":2,\"linecolor\":\"white\",\"showbackground\":true,\"ticks\":\"\",\"zerolinecolor\":\"white\"}},\"shapedefaults\":{\"line\":{\"color\":\"#2a3f5f\"}},\"ternary\":{\"aaxis\":{\"gridcolor\":\"white\",\"linecolor\":\"white\",\"ticks\":\"\"},\"baxis\":{\"gridcolor\":\"white\",\"linecolor\":\"white\",\"ticks\":\"\"},\"bgcolor\":\"#E5ECF6\",\"caxis\":{\"gridcolor\":\"white\",\"linecolor\":\"white\",\"ticks\":\"\"}},\"title\":{\"x\":0.05},\"xaxis\":{\"automargin\":true,\"gridcolor\":\"white\",\"linecolor\":\"white\",\"ticks\":\"\",\"title\":{\"standoff\":15},\"zerolinecolor\":\"white\",\"zerolinewidth\":2},\"yaxis\":{\"automargin\":true,\"gridcolor\":\"white\",\"linecolor\":\"white\",\"ticks\":\"\",\"title\":{\"standoff\":15},\"zerolinecolor\":\"white\",\"zerolinewidth\":2}}},\"title\":{\"font\":{\"color\":\"#4D5663\"}},\"xaxis\":{\"gridcolor\":\"#E1E5ED\",\"showgrid\":true,\"tickfont\":{\"color\":\"#4D5663\"},\"title\":{\"font\":{\"color\":\"#4D5663\"},\"text\":\"\"},\"zerolinecolor\":\"#E1E5ED\"},\"yaxis\":{\"gridcolor\":\"#E1E5ED\",\"showgrid\":true,\"tickfont\":{\"color\":\"#4D5663\"},\"title\":{\"font\":{\"color\":\"#4D5663\"},\"text\":\"\"},\"zerolinecolor\":\"#E1E5ED\"}},                        {\"showLink\": true, \"linkText\": \"Export to plot.ly\", \"plotlyServerURL\": \"https://plot.ly\", \"responsive\": true}                    ).then(function(){\n",
       "                            \n",
       "var gd = document.getElementById('08eec8a7-e000-45bc-af48-f7f76dd54f7f');\n",
       "var x = new MutationObserver(function (mutations, observer) {{\n",
       "        var display = window.getComputedStyle(gd).display;\n",
       "        if (!display || display === 'none') {{\n",
       "            console.log([gd, 'removed!']);\n",
       "            Plotly.purge(gd);\n",
       "            observer.disconnect();\n",
       "        }}\n",
       "}});\n",
       "\n",
       "// Listen for the removal of the full notebook cells\n",
       "var notebookContainer = gd.closest('#notebook-container');\n",
       "if (notebookContainer) {{\n",
       "    x.observe(notebookContainer, {childList: true});\n",
       "}}\n",
       "\n",
       "// Listen for the clearing of the current output cell\n",
       "var outputEl = gd.closest('.output');\n",
       "if (outputEl) {{\n",
       "    x.observe(outputEl, {childList: true});\n",
       "}}\n",
       "\n",
       "                        })                };                });            </script>        </div>"
      ]
     },
     "metadata": {},
     "output_type": "display_data"
    }
   ],
   "source": [
    "df.count().iplot(kind='bar')"
   ]
  },
  {
   "cell_type": "markdown",
   "id": "d6e11bd9",
   "metadata": {},
   "source": [
    "# Boxplots"
   ]
  },
  {
   "cell_type": "code",
   "execution_count": 18,
   "id": "c49f8b0c",
   "metadata": {},
   "outputs": [
    {
     "data": {
      "application/vnd.plotly.v1+json": {
       "config": {
        "linkText": "Export to plot.ly",
        "plotlyServerURL": "https://plot.ly",
        "showLink": true
       },
       "data": [
        {
         "boxpoints": false,
         "line": {
          "width": 1.3
         },
         "marker": {
          "color": "rgba(255, 153, 51, 1.0)"
         },
         "name": "A",
         "orientation": "v",
         "type": "box",
         "y": [
          1.2250091290549099,
          -0.45155151276997574,
          -0.434194932410401,
          0.4965940115376493,
          0.7154940545115944,
          0.869248019234941,
          2.3213512716361366,
          -0.17578821354583135,
          -0.6980535363394793,
          1.7960776805377587,
          -0.6797508949993439,
          -0.3309524884809053,
          -0.6045666646935174,
          0.39255638365070905,
          0.8963963207259847,
          -1.207418038315098,
          2.43886274114652,
          -0.25133423822888296,
          0.344811281109698,
          0.4651337825187788,
          -0.9693819748893496,
          -1.511988582178468,
          1.471896155007462,
          -0.398263666264437,
          0.39168919211590114,
          1.3028894716559019,
          0.3780306164092249,
          -0.5771500751039939,
          0.7271384586266463,
          -1.1028606757463444,
          1.3055889750163336,
          -0.009495061596881786,
          -0.21893928001299454,
          -1.0867415317320401,
          -0.1275445495943942,
          0.33115070545190967,
          2.5642016093451714,
          -0.2209033831209197,
          -0.643645732559064,
          -0.5765241905247848,
          0.2157414441636662,
          1.5633915324211198,
          -1.3815087548291045,
          -0.4404643403952877,
          0.46486207751427316,
          0.5945107910659146,
          -1.138265783518757,
          0.010872214988163919,
          0.576946264815059,
          -0.3220104816325628,
          -3.1580009227460373,
          0.22098917229933435,
          -0.8812159121268724,
          -0.6746542906878209,
          0.04361980450368418,
          1.1672838672617596,
          0.7882475378851349,
          -0.2231655723751139,
          1.5196027240194374,
          -0.6141433238954168,
          0.06664930104555683,
          0.2811234182254289,
          -1.656925993858488,
          0.4418261364739898,
          -0.5371968332337426,
          -0.9081527939790605,
          -0.07855444225988696,
          -0.8226887787257702,
          0.9282396462206131,
          -1.8774564271906615,
          -0.6151937005939961,
          -1.3814368588693005,
          0.4917684583284424,
          0.43202353599084037,
          -0.2910669668112129,
          -1.1742968785696453,
          0.1145405200398717,
          0.8879132770752252,
          2.205142879212352,
          -0.8708551842512162,
          0.5146930417481028,
          -0.7397889246404309,
          0.3725082553355003,
          -0.2970889305836918,
          -0.6023513414272289,
          -0.6548214421503965,
          1.0487938530886973,
          -0.46844577455326064,
          0.4431751142410106,
          0.617494687789193,
          -2.118833378214814,
          -1.121121567734123,
          0.060602473271775266,
          1.5829742026816596,
          -1.443617735913895,
          -0.45552498105881545,
          0.17269055388343957,
          0.32449455147760553,
          -0.22266509764397124,
          -0.35516799968725554
         ]
        },
        {
         "boxpoints": false,
         "line": {
          "width": 1.3
         },
         "marker": {
          "color": "rgba(55, 128, 191, 1.0)"
         },
         "name": "B",
         "orientation": "v",
         "type": "box",
         "y": [
          -0.058828348753244795,
          -0.5585955170846071,
          0.28592113693614535,
          0.7369704806177205,
          0.5040515469067578,
          -1.150531193233306,
          0.37863435943863993,
          2.6446661872057966,
          0.6141075505621618,
          -0.2903774701835001,
          1.2944643852448017,
          0.08833387861941756,
          0.740469911373652,
          -1.2378998245290902,
          0.8377548461424911,
          -0.9302492624058314,
          0.8619676710312983,
          0.6637615012201094,
          -0.23583023776775033,
          -1.7212897063889532,
          0.7494120556400852,
          -1.570272198998661,
          1.8778845200154963,
          1.3596472166470617,
          1.6016167744950842,
          1.4471808283293137,
          1.1612839763319274,
          -0.14757504651218814,
          -0.6595650733988679,
          0.6936799050890169,
          1.1145216894947776,
          0.2988919777304995,
          -1.2339766655239337,
          -1.4148282731503572,
          -1.0186179403047475,
          -0.5596638109277869,
          -1.1629501310796933,
          -1.4580730317331707,
          0.19043930587364302,
          0.16607046431833294,
          -1.1528877738508099,
          -0.25292305873434856,
          0.7549938818117207,
          0.14861042055819765,
          0.17111415264706922,
          -2.1938539364050342,
          -0.5595594846677245,
          0.5755730956414731,
          -1.0951142538294591,
          0.14904979017143627,
          0.7830949465996929,
          -2.4694173550155902,
          -1.375546686025038,
          -0.9355671286774196,
          -1.9039772933856638,
          0.9641021125721575,
          -0.6541626146441876,
          1.5570492952921344,
          -0.28163972606348875,
          -0.4221870666756173,
          -0.008255132583119976,
          -0.974937610260182,
          1.4744097823938067,
          0.3941908907496691,
          -0.46925653750948826,
          0.6172989994558716,
          -1.5691837871097243,
          0.8275091476401291,
          2.2632501094631494,
          -0.6628560911357416,
          0.7473190202715746,
          0.963350570059107,
          1.4179540247512379,
          0.2813514042710119,
          0.2972570430123793,
          -0.3746604454081584,
          1.1064630868964769,
          -1.3066939251958634,
          -0.40644182487705977,
          -1.917462490109074,
          -0.791861120472799,
          -0.2343111928184764,
          0.09114874510176733,
          0.062218244033363616,
          -0.802451728592171,
          0.06171028511578955,
          0.4198079906863518,
          1.3820369642682173,
          0.075842013636187,
          -1.466189127750254,
          -0.5352111977391772,
          -0.5826480477362354,
          1.5796807614050792,
          -0.04240384621818216,
          -0.017172085149557044,
          -1.6690116849350105,
          -0.5526387152921023,
          -1.329721799479411,
          0.24578920761770287,
          0.7237373775718123
         ]
        },
        {
         "boxpoints": false,
         "line": {
          "width": 1.3
         },
         "marker": {
          "color": "rgba(50, 171, 96, 1.0)"
         },
         "name": "C",
         "orientation": "v",
         "type": "box",
         "y": [
          -0.2083042386487811,
          1.9940217019660507,
          0.6868900521656066,
          0.7403954832943933,
          0.25805332100912814,
          -0.9011569445057611,
          -0.4827251614150337,
          1.0030869769211281,
          0.29698123810580285,
          -0.2901223806986594,
          -0.2297965917923508,
          -1.907840012916959,
          -1.2455654462556958,
          0.5152485445690139,
          -1.0509564361591983,
          0.402477045802536,
          -0.7765787637682078,
          1.3269130095321573,
          -0.6689737397983537,
          0.5792245539811444,
          0.7411088610625216,
          0.8505294593115799,
          0.337565961537066,
          0.09942771486809635,
          -0.5639741902201713,
          1.7735546563905753,
          -0.5272003403466731,
          0.15636506360191063,
          -1.0168608912347303,
          -0.6483483944070878,
          0.6359429714590861,
          0.29321320612892793,
          -0.5575024486543803,
          1.314706106833745,
          -1.4602926417139206,
          -2.1593244387803496,
          -0.9915125256757606,
          0.7087333011849094,
          1.4431207862913922,
          -0.4379466361803305,
          0.6718724360567718,
          0.23376497155418177,
          0.7141334401573364,
          0.5137960244136215,
          0.24195585850416812,
          -0.09232689708484221,
          1.2409230680608476,
          -0.8943710338176813,
          -0.02488283665599046,
          1.7051232886593457,
          0.7963260086215248,
          -0.13487163799224222,
          0.8095222084290425,
          -1.8458841213086177,
          0.5353035104471991,
          1.2219545932019658,
          0.31565573575299694,
          0.00212104897591511,
          -1.0437970677697614,
          0.8897972326176441,
          0.5840163282494348,
          0.10457478707717668,
          1.9469467459336642,
          -0.4008457003721722,
          0.9833704584007208,
          0.029773715402908435,
          1.2111780664404013,
          -0.03146949831444492,
          0.08847383790855555,
          0.0529351709738586,
          1.820158923002148,
          0.8228578460750813,
          0.07489330856630462,
          -0.7206384590420204,
          0.039063599122389686,
          -0.18140082374391592,
          -0.3450999073944346,
          0.13828496015484665,
          -0.955705108359854,
          -1.3054477253420014,
          -0.41144534093628854,
          -0.6082919721613056,
          -1.1534001270477723,
          1.1696173660287967,
          1.2984008626926735,
          -1.375702829675632,
          0.2778470265387704,
          -0.7583231926290582,
          -0.2815972749544762,
          0.6332104027712953,
          -0.5870809544825567,
          -0.46938737929678664,
          0.5530455065009544,
          -0.19653247959752876,
          0.07193535079171101,
          0.6765581713207989,
          -1.0684094369816255,
          -0.9881307004761971,
          0.9245895121438726,
          -0.6529543539204322
         ]
        },
        {
         "boxpoints": false,
         "line": {
          "width": 1.3
         },
         "marker": {
          "color": "rgba(128, 0, 128, 1.0)"
         },
         "name": "D",
         "orientation": "v",
         "type": "box",
         "y": [
          -0.7295170198037868,
          -0.23998788606590082,
          -1.1547229401264072,
          0.5251275531639371,
          -1.21535597674017,
          1.9753387262494997,
          0.9020659434959302,
          -0.7889940780201902,
          -2.4041437503837253,
          -0.9355465947684439,
          -0.6842111153397739,
          -0.7799432289418868,
          0.16081177876519212,
          1.2841547345103963,
          -0.3227596130499945,
          -0.9039206625056124,
          0.828889919327969,
          -2.9679088884059173,
          -0.5750994822623196,
          0.3846892236574576,
          0.14833093564088037,
          0.07309713066844106,
          -0.25559763349132203,
          -0.4813841083056664,
          -1.9271808617819115,
          -0.6070580733247838,
          -1.1636932324687423,
          1.339280484849487,
          0.47771727654156293,
          -0.5968481161014805,
          1.2968929935229006,
          -0.16216150682417468,
          1.0903918297478092,
          -0.055663382391095195,
          -1.9383170898318631,
          1.112380532950639,
          1.3782274102022636,
          -0.42142411236809735,
          0.8957323065314934,
          0.41097621688336106,
          -0.02765272096708784,
          0.9149429515529102,
          -0.13880192453908266,
          0.47751716452927917,
          0.3481420236491288,
          -0.23131776015717798,
          0.5094548526908059,
          -0.7608094741193897,
          0.11631986292309104,
          -0.2172543381087466,
          -0.951490541615766,
          -0.5926296384911123,
          0.017807357187338953,
          0.9589901026525065,
          -1.1984176228205554,
          0.9022702336672062,
          0.6596991557481351,
          -0.8729232096834276,
          0.6099302488780277,
          1.0768283425233702,
          -0.11221523895765963,
          0.5625163393167306,
          -0.16135609434261725,
          1.9687965814298227,
          -0.06034088230737512,
          1.0471376411737952,
          -3.083514419464437,
          0.3359159310292446,
          0.9532324676202132,
          -2.3431026083136883,
          0.5653884207646511,
          -1.276743836695403,
          -1.2754424081239786,
          0.7273459291173392,
          0.5640935924868778,
          0.35167990059124504,
          -0.009069882781335902,
          2.442716727062103,
          -0.7010249463474859,
          0.8308583001465093,
          0.9078840027915112,
          -0.10398264081503443,
          1.1709992616915568,
          0.6155368314083067,
          1.938359996658619,
          0.46887097910584574,
          1.5980214011585323,
          -1.6680300591099766,
          0.6529140466907034,
          -0.09259132978023017,
          0.4017007216409476,
          1.0866891958055531,
          0.02355809233525598,
          -0.6027075895405759,
          0.29777603835222355,
          -0.29772036756264664,
          0.5102551472094399,
          -2.203414038181977,
          0.14521146581149785,
          -1.7873674316906647
         ]
        }
       ],
       "layout": {
        "legend": {
         "bgcolor": "#F5F6F9",
         "font": {
          "color": "#4D5663"
         }
        },
        "paper_bgcolor": "#F5F6F9",
        "plot_bgcolor": "#F5F6F9",
        "template": {
         "data": {
          "bar": [
           {
            "error_x": {
             "color": "#2a3f5f"
            },
            "error_y": {
             "color": "#2a3f5f"
            },
            "marker": {
             "line": {
              "color": "#E5ECF6",
              "width": 0.5
             },
             "pattern": {
              "fillmode": "overlay",
              "size": 10,
              "solidity": 0.2
             }
            },
            "type": "bar"
           }
          ],
          "barpolar": [
           {
            "marker": {
             "line": {
              "color": "#E5ECF6",
              "width": 0.5
             },
             "pattern": {
              "fillmode": "overlay",
              "size": 10,
              "solidity": 0.2
             }
            },
            "type": "barpolar"
           }
          ],
          "carpet": [
           {
            "aaxis": {
             "endlinecolor": "#2a3f5f",
             "gridcolor": "white",
             "linecolor": "white",
             "minorgridcolor": "white",
             "startlinecolor": "#2a3f5f"
            },
            "baxis": {
             "endlinecolor": "#2a3f5f",
             "gridcolor": "white",
             "linecolor": "white",
             "minorgridcolor": "white",
             "startlinecolor": "#2a3f5f"
            },
            "type": "carpet"
           }
          ],
          "choropleth": [
           {
            "colorbar": {
             "outlinewidth": 0,
             "ticks": ""
            },
            "type": "choropleth"
           }
          ],
          "contour": [
           {
            "colorbar": {
             "outlinewidth": 0,
             "ticks": ""
            },
            "colorscale": [
             [
              0,
              "#0d0887"
             ],
             [
              0.1111111111111111,
              "#46039f"
             ],
             [
              0.2222222222222222,
              "#7201a8"
             ],
             [
              0.3333333333333333,
              "#9c179e"
             ],
             [
              0.4444444444444444,
              "#bd3786"
             ],
             [
              0.5555555555555556,
              "#d8576b"
             ],
             [
              0.6666666666666666,
              "#ed7953"
             ],
             [
              0.7777777777777778,
              "#fb9f3a"
             ],
             [
              0.8888888888888888,
              "#fdca26"
             ],
             [
              1,
              "#f0f921"
             ]
            ],
            "type": "contour"
           }
          ],
          "contourcarpet": [
           {
            "colorbar": {
             "outlinewidth": 0,
             "ticks": ""
            },
            "type": "contourcarpet"
           }
          ],
          "heatmap": [
           {
            "colorbar": {
             "outlinewidth": 0,
             "ticks": ""
            },
            "colorscale": [
             [
              0,
              "#0d0887"
             ],
             [
              0.1111111111111111,
              "#46039f"
             ],
             [
              0.2222222222222222,
              "#7201a8"
             ],
             [
              0.3333333333333333,
              "#9c179e"
             ],
             [
              0.4444444444444444,
              "#bd3786"
             ],
             [
              0.5555555555555556,
              "#d8576b"
             ],
             [
              0.6666666666666666,
              "#ed7953"
             ],
             [
              0.7777777777777778,
              "#fb9f3a"
             ],
             [
              0.8888888888888888,
              "#fdca26"
             ],
             [
              1,
              "#f0f921"
             ]
            ],
            "type": "heatmap"
           }
          ],
          "heatmapgl": [
           {
            "colorbar": {
             "outlinewidth": 0,
             "ticks": ""
            },
            "colorscale": [
             [
              0,
              "#0d0887"
             ],
             [
              0.1111111111111111,
              "#46039f"
             ],
             [
              0.2222222222222222,
              "#7201a8"
             ],
             [
              0.3333333333333333,
              "#9c179e"
             ],
             [
              0.4444444444444444,
              "#bd3786"
             ],
             [
              0.5555555555555556,
              "#d8576b"
             ],
             [
              0.6666666666666666,
              "#ed7953"
             ],
             [
              0.7777777777777778,
              "#fb9f3a"
             ],
             [
              0.8888888888888888,
              "#fdca26"
             ],
             [
              1,
              "#f0f921"
             ]
            ],
            "type": "heatmapgl"
           }
          ],
          "histogram": [
           {
            "marker": {
             "pattern": {
              "fillmode": "overlay",
              "size": 10,
              "solidity": 0.2
             }
            },
            "type": "histogram"
           }
          ],
          "histogram2d": [
           {
            "colorbar": {
             "outlinewidth": 0,
             "ticks": ""
            },
            "colorscale": [
             [
              0,
              "#0d0887"
             ],
             [
              0.1111111111111111,
              "#46039f"
             ],
             [
              0.2222222222222222,
              "#7201a8"
             ],
             [
              0.3333333333333333,
              "#9c179e"
             ],
             [
              0.4444444444444444,
              "#bd3786"
             ],
             [
              0.5555555555555556,
              "#d8576b"
             ],
             [
              0.6666666666666666,
              "#ed7953"
             ],
             [
              0.7777777777777778,
              "#fb9f3a"
             ],
             [
              0.8888888888888888,
              "#fdca26"
             ],
             [
              1,
              "#f0f921"
             ]
            ],
            "type": "histogram2d"
           }
          ],
          "histogram2dcontour": [
           {
            "colorbar": {
             "outlinewidth": 0,
             "ticks": ""
            },
            "colorscale": [
             [
              0,
              "#0d0887"
             ],
             [
              0.1111111111111111,
              "#46039f"
             ],
             [
              0.2222222222222222,
              "#7201a8"
             ],
             [
              0.3333333333333333,
              "#9c179e"
             ],
             [
              0.4444444444444444,
              "#bd3786"
             ],
             [
              0.5555555555555556,
              "#d8576b"
             ],
             [
              0.6666666666666666,
              "#ed7953"
             ],
             [
              0.7777777777777778,
              "#fb9f3a"
             ],
             [
              0.8888888888888888,
              "#fdca26"
             ],
             [
              1,
              "#f0f921"
             ]
            ],
            "type": "histogram2dcontour"
           }
          ],
          "mesh3d": [
           {
            "colorbar": {
             "outlinewidth": 0,
             "ticks": ""
            },
            "type": "mesh3d"
           }
          ],
          "parcoords": [
           {
            "line": {
             "colorbar": {
              "outlinewidth": 0,
              "ticks": ""
             }
            },
            "type": "parcoords"
           }
          ],
          "pie": [
           {
            "automargin": true,
            "type": "pie"
           }
          ],
          "scatter": [
           {
            "marker": {
             "colorbar": {
              "outlinewidth": 0,
              "ticks": ""
             }
            },
            "type": "scatter"
           }
          ],
          "scatter3d": [
           {
            "line": {
             "colorbar": {
              "outlinewidth": 0,
              "ticks": ""
             }
            },
            "marker": {
             "colorbar": {
              "outlinewidth": 0,
              "ticks": ""
             }
            },
            "type": "scatter3d"
           }
          ],
          "scattercarpet": [
           {
            "marker": {
             "colorbar": {
              "outlinewidth": 0,
              "ticks": ""
             }
            },
            "type": "scattercarpet"
           }
          ],
          "scattergeo": [
           {
            "marker": {
             "colorbar": {
              "outlinewidth": 0,
              "ticks": ""
             }
            },
            "type": "scattergeo"
           }
          ],
          "scattergl": [
           {
            "marker": {
             "colorbar": {
              "outlinewidth": 0,
              "ticks": ""
             }
            },
            "type": "scattergl"
           }
          ],
          "scattermapbox": [
           {
            "marker": {
             "colorbar": {
              "outlinewidth": 0,
              "ticks": ""
             }
            },
            "type": "scattermapbox"
           }
          ],
          "scatterpolar": [
           {
            "marker": {
             "colorbar": {
              "outlinewidth": 0,
              "ticks": ""
             }
            },
            "type": "scatterpolar"
           }
          ],
          "scatterpolargl": [
           {
            "marker": {
             "colorbar": {
              "outlinewidth": 0,
              "ticks": ""
             }
            },
            "type": "scatterpolargl"
           }
          ],
          "scatterternary": [
           {
            "marker": {
             "colorbar": {
              "outlinewidth": 0,
              "ticks": ""
             }
            },
            "type": "scatterternary"
           }
          ],
          "surface": [
           {
            "colorbar": {
             "outlinewidth": 0,
             "ticks": ""
            },
            "colorscale": [
             [
              0,
              "#0d0887"
             ],
             [
              0.1111111111111111,
              "#46039f"
             ],
             [
              0.2222222222222222,
              "#7201a8"
             ],
             [
              0.3333333333333333,
              "#9c179e"
             ],
             [
              0.4444444444444444,
              "#bd3786"
             ],
             [
              0.5555555555555556,
              "#d8576b"
             ],
             [
              0.6666666666666666,
              "#ed7953"
             ],
             [
              0.7777777777777778,
              "#fb9f3a"
             ],
             [
              0.8888888888888888,
              "#fdca26"
             ],
             [
              1,
              "#f0f921"
             ]
            ],
            "type": "surface"
           }
          ],
          "table": [
           {
            "cells": {
             "fill": {
              "color": "#EBF0F8"
             },
             "line": {
              "color": "white"
             }
            },
            "header": {
             "fill": {
              "color": "#C8D4E3"
             },
             "line": {
              "color": "white"
             }
            },
            "type": "table"
           }
          ]
         },
         "layout": {
          "annotationdefaults": {
           "arrowcolor": "#2a3f5f",
           "arrowhead": 0,
           "arrowwidth": 1
          },
          "autotypenumbers": "strict",
          "coloraxis": {
           "colorbar": {
            "outlinewidth": 0,
            "ticks": ""
           }
          },
          "colorscale": {
           "diverging": [
            [
             0,
             "#8e0152"
            ],
            [
             0.1,
             "#c51b7d"
            ],
            [
             0.2,
             "#de77ae"
            ],
            [
             0.3,
             "#f1b6da"
            ],
            [
             0.4,
             "#fde0ef"
            ],
            [
             0.5,
             "#f7f7f7"
            ],
            [
             0.6,
             "#e6f5d0"
            ],
            [
             0.7,
             "#b8e186"
            ],
            [
             0.8,
             "#7fbc41"
            ],
            [
             0.9,
             "#4d9221"
            ],
            [
             1,
             "#276419"
            ]
           ],
           "sequential": [
            [
             0,
             "#0d0887"
            ],
            [
             0.1111111111111111,
             "#46039f"
            ],
            [
             0.2222222222222222,
             "#7201a8"
            ],
            [
             0.3333333333333333,
             "#9c179e"
            ],
            [
             0.4444444444444444,
             "#bd3786"
            ],
            [
             0.5555555555555556,
             "#d8576b"
            ],
            [
             0.6666666666666666,
             "#ed7953"
            ],
            [
             0.7777777777777778,
             "#fb9f3a"
            ],
            [
             0.8888888888888888,
             "#fdca26"
            ],
            [
             1,
             "#f0f921"
            ]
           ],
           "sequentialminus": [
            [
             0,
             "#0d0887"
            ],
            [
             0.1111111111111111,
             "#46039f"
            ],
            [
             0.2222222222222222,
             "#7201a8"
            ],
            [
             0.3333333333333333,
             "#9c179e"
            ],
            [
             0.4444444444444444,
             "#bd3786"
            ],
            [
             0.5555555555555556,
             "#d8576b"
            ],
            [
             0.6666666666666666,
             "#ed7953"
            ],
            [
             0.7777777777777778,
             "#fb9f3a"
            ],
            [
             0.8888888888888888,
             "#fdca26"
            ],
            [
             1,
             "#f0f921"
            ]
           ]
          },
          "colorway": [
           "#636efa",
           "#EF553B",
           "#00cc96",
           "#ab63fa",
           "#FFA15A",
           "#19d3f3",
           "#FF6692",
           "#B6E880",
           "#FF97FF",
           "#FECB52"
          ],
          "font": {
           "color": "#2a3f5f"
          },
          "geo": {
           "bgcolor": "white",
           "lakecolor": "white",
           "landcolor": "#E5ECF6",
           "showlakes": true,
           "showland": true,
           "subunitcolor": "white"
          },
          "hoverlabel": {
           "align": "left"
          },
          "hovermode": "closest",
          "mapbox": {
           "style": "light"
          },
          "paper_bgcolor": "white",
          "plot_bgcolor": "#E5ECF6",
          "polar": {
           "angularaxis": {
            "gridcolor": "white",
            "linecolor": "white",
            "ticks": ""
           },
           "bgcolor": "#E5ECF6",
           "radialaxis": {
            "gridcolor": "white",
            "linecolor": "white",
            "ticks": ""
           }
          },
          "scene": {
           "xaxis": {
            "backgroundcolor": "#E5ECF6",
            "gridcolor": "white",
            "gridwidth": 2,
            "linecolor": "white",
            "showbackground": true,
            "ticks": "",
            "zerolinecolor": "white"
           },
           "yaxis": {
            "backgroundcolor": "#E5ECF6",
            "gridcolor": "white",
            "gridwidth": 2,
            "linecolor": "white",
            "showbackground": true,
            "ticks": "",
            "zerolinecolor": "white"
           },
           "zaxis": {
            "backgroundcolor": "#E5ECF6",
            "gridcolor": "white",
            "gridwidth": 2,
            "linecolor": "white",
            "showbackground": true,
            "ticks": "",
            "zerolinecolor": "white"
           }
          },
          "shapedefaults": {
           "line": {
            "color": "#2a3f5f"
           }
          },
          "ternary": {
           "aaxis": {
            "gridcolor": "white",
            "linecolor": "white",
            "ticks": ""
           },
           "baxis": {
            "gridcolor": "white",
            "linecolor": "white",
            "ticks": ""
           },
           "bgcolor": "#E5ECF6",
           "caxis": {
            "gridcolor": "white",
            "linecolor": "white",
            "ticks": ""
           }
          },
          "title": {
           "x": 0.05
          },
          "xaxis": {
           "automargin": true,
           "gridcolor": "white",
           "linecolor": "white",
           "ticks": "",
           "title": {
            "standoff": 15
           },
           "zerolinecolor": "white",
           "zerolinewidth": 2
          },
          "yaxis": {
           "automargin": true,
           "gridcolor": "white",
           "linecolor": "white",
           "ticks": "",
           "title": {
            "standoff": 15
           },
           "zerolinecolor": "white",
           "zerolinewidth": 2
          }
         }
        },
        "title": {
         "font": {
          "color": "#4D5663"
         }
        },
        "xaxis": {
         "gridcolor": "#E1E5ED",
         "showgrid": true,
         "tickfont": {
          "color": "#4D5663"
         },
         "title": {
          "font": {
           "color": "#4D5663"
          },
          "text": ""
         },
         "zerolinecolor": "#E1E5ED"
        },
        "yaxis": {
         "gridcolor": "#E1E5ED",
         "showgrid": true,
         "tickfont": {
          "color": "#4D5663"
         },
         "title": {
          "font": {
           "color": "#4D5663"
          },
          "text": ""
         },
         "zerolinecolor": "#E1E5ED"
        }
       }
      },
      "text/html": [
       "<div>                            <div id=\"3f6e3aaf-d4eb-4d93-b6de-2a8d5d3c0cd9\" class=\"plotly-graph-div\" style=\"height:525px; width:100%;\"></div>            <script type=\"text/javascript\">                require([\"plotly\"], function(Plotly) {                    window.PLOTLYENV=window.PLOTLYENV || {};\n",
       "                    window.PLOTLYENV.BASE_URL='https://plot.ly';                                    if (document.getElementById(\"3f6e3aaf-d4eb-4d93-b6de-2a8d5d3c0cd9\")) {                    Plotly.newPlot(                        \"3f6e3aaf-d4eb-4d93-b6de-2a8d5d3c0cd9\",                        [{\"boxpoints\":false,\"line\":{\"width\":1.3},\"marker\":{\"color\":\"rgba(255, 153, 51, 1.0)\"},\"name\":\"A\",\"orientation\":\"v\",\"y\":[1.2250091290549099,-0.45155151276997574,-0.434194932410401,0.4965940115376493,0.7154940545115944,0.869248019234941,2.3213512716361366,-0.17578821354583135,-0.6980535363394793,1.7960776805377587,-0.6797508949993439,-0.3309524884809053,-0.6045666646935174,0.39255638365070905,0.8963963207259847,-1.207418038315098,2.43886274114652,-0.25133423822888296,0.344811281109698,0.4651337825187788,-0.9693819748893496,-1.511988582178468,1.471896155007462,-0.398263666264437,0.39168919211590114,1.3028894716559019,0.3780306164092249,-0.5771500751039939,0.7271384586266463,-1.1028606757463444,1.3055889750163336,-0.009495061596881786,-0.21893928001299454,-1.0867415317320401,-0.1275445495943942,0.33115070545190967,2.5642016093451714,-0.2209033831209197,-0.643645732559064,-0.5765241905247848,0.2157414441636662,1.5633915324211198,-1.3815087548291045,-0.4404643403952877,0.46486207751427316,0.5945107910659146,-1.138265783518757,0.010872214988163919,0.576946264815059,-0.3220104816325628,-3.1580009227460373,0.22098917229933435,-0.8812159121268724,-0.6746542906878209,0.04361980450368418,1.1672838672617596,0.7882475378851349,-0.2231655723751139,1.5196027240194374,-0.6141433238954168,0.06664930104555683,0.2811234182254289,-1.656925993858488,0.4418261364739898,-0.5371968332337426,-0.9081527939790605,-0.07855444225988696,-0.8226887787257702,0.9282396462206131,-1.8774564271906615,-0.6151937005939961,-1.3814368588693005,0.4917684583284424,0.43202353599084037,-0.2910669668112129,-1.1742968785696453,0.1145405200398717,0.8879132770752252,2.205142879212352,-0.8708551842512162,0.5146930417481028,-0.7397889246404309,0.3725082553355003,-0.2970889305836918,-0.6023513414272289,-0.6548214421503965,1.0487938530886973,-0.46844577455326064,0.4431751142410106,0.617494687789193,-2.118833378214814,-1.121121567734123,0.060602473271775266,1.5829742026816596,-1.443617735913895,-0.45552498105881545,0.17269055388343957,0.32449455147760553,-0.22266509764397124,-0.35516799968725554],\"type\":\"box\"},{\"boxpoints\":false,\"line\":{\"width\":1.3},\"marker\":{\"color\":\"rgba(55, 128, 191, 1.0)\"},\"name\":\"B\",\"orientation\":\"v\",\"y\":[-0.058828348753244795,-0.5585955170846071,0.28592113693614535,0.7369704806177205,0.5040515469067578,-1.150531193233306,0.37863435943863993,2.6446661872057966,0.6141075505621618,-0.2903774701835001,1.2944643852448017,0.08833387861941756,0.740469911373652,-1.2378998245290902,0.8377548461424911,-0.9302492624058314,0.8619676710312983,0.6637615012201094,-0.23583023776775033,-1.7212897063889532,0.7494120556400852,-1.570272198998661,1.8778845200154963,1.3596472166470617,1.6016167744950842,1.4471808283293137,1.1612839763319274,-0.14757504651218814,-0.6595650733988679,0.6936799050890169,1.1145216894947776,0.2988919777304995,-1.2339766655239337,-1.4148282731503572,-1.0186179403047475,-0.5596638109277869,-1.1629501310796933,-1.4580730317331707,0.19043930587364302,0.16607046431833294,-1.1528877738508099,-0.25292305873434856,0.7549938818117207,0.14861042055819765,0.17111415264706922,-2.1938539364050342,-0.5595594846677245,0.5755730956414731,-1.0951142538294591,0.14904979017143627,0.7830949465996929,-2.4694173550155902,-1.375546686025038,-0.9355671286774196,-1.9039772933856638,0.9641021125721575,-0.6541626146441876,1.5570492952921344,-0.28163972606348875,-0.4221870666756173,-0.008255132583119976,-0.974937610260182,1.4744097823938067,0.3941908907496691,-0.46925653750948826,0.6172989994558716,-1.5691837871097243,0.8275091476401291,2.2632501094631494,-0.6628560911357416,0.7473190202715746,0.963350570059107,1.4179540247512379,0.2813514042710119,0.2972570430123793,-0.3746604454081584,1.1064630868964769,-1.3066939251958634,-0.40644182487705977,-1.917462490109074,-0.791861120472799,-0.2343111928184764,0.09114874510176733,0.062218244033363616,-0.802451728592171,0.06171028511578955,0.4198079906863518,1.3820369642682173,0.075842013636187,-1.466189127750254,-0.5352111977391772,-0.5826480477362354,1.5796807614050792,-0.04240384621818216,-0.017172085149557044,-1.6690116849350105,-0.5526387152921023,-1.329721799479411,0.24578920761770287,0.7237373775718123],\"type\":\"box\"},{\"boxpoints\":false,\"line\":{\"width\":1.3},\"marker\":{\"color\":\"rgba(50, 171, 96, 1.0)\"},\"name\":\"C\",\"orientation\":\"v\",\"y\":[-0.2083042386487811,1.9940217019660507,0.6868900521656066,0.7403954832943933,0.25805332100912814,-0.9011569445057611,-0.4827251614150337,1.0030869769211281,0.29698123810580285,-0.2901223806986594,-0.2297965917923508,-1.907840012916959,-1.2455654462556958,0.5152485445690139,-1.0509564361591983,0.402477045802536,-0.7765787637682078,1.3269130095321573,-0.6689737397983537,0.5792245539811444,0.7411088610625216,0.8505294593115799,0.337565961537066,0.09942771486809635,-0.5639741902201713,1.7735546563905753,-0.5272003403466731,0.15636506360191063,-1.0168608912347303,-0.6483483944070878,0.6359429714590861,0.29321320612892793,-0.5575024486543803,1.314706106833745,-1.4602926417139206,-2.1593244387803496,-0.9915125256757606,0.7087333011849094,1.4431207862913922,-0.4379466361803305,0.6718724360567718,0.23376497155418177,0.7141334401573364,0.5137960244136215,0.24195585850416812,-0.09232689708484221,1.2409230680608476,-0.8943710338176813,-0.02488283665599046,1.7051232886593457,0.7963260086215248,-0.13487163799224222,0.8095222084290425,-1.8458841213086177,0.5353035104471991,1.2219545932019658,0.31565573575299694,0.00212104897591511,-1.0437970677697614,0.8897972326176441,0.5840163282494348,0.10457478707717668,1.9469467459336642,-0.4008457003721722,0.9833704584007208,0.029773715402908435,1.2111780664404013,-0.03146949831444492,0.08847383790855555,0.0529351709738586,1.820158923002148,0.8228578460750813,0.07489330856630462,-0.7206384590420204,0.039063599122389686,-0.18140082374391592,-0.3450999073944346,0.13828496015484665,-0.955705108359854,-1.3054477253420014,-0.41144534093628854,-0.6082919721613056,-1.1534001270477723,1.1696173660287967,1.2984008626926735,-1.375702829675632,0.2778470265387704,-0.7583231926290582,-0.2815972749544762,0.6332104027712953,-0.5870809544825567,-0.46938737929678664,0.5530455065009544,-0.19653247959752876,0.07193535079171101,0.6765581713207989,-1.0684094369816255,-0.9881307004761971,0.9245895121438726,-0.6529543539204322],\"type\":\"box\"},{\"boxpoints\":false,\"line\":{\"width\":1.3},\"marker\":{\"color\":\"rgba(128, 0, 128, 1.0)\"},\"name\":\"D\",\"orientation\":\"v\",\"y\":[-0.7295170198037868,-0.23998788606590082,-1.1547229401264072,0.5251275531639371,-1.21535597674017,1.9753387262494997,0.9020659434959302,-0.7889940780201902,-2.4041437503837253,-0.9355465947684439,-0.6842111153397739,-0.7799432289418868,0.16081177876519212,1.2841547345103963,-0.3227596130499945,-0.9039206625056124,0.828889919327969,-2.9679088884059173,-0.5750994822623196,0.3846892236574576,0.14833093564088037,0.07309713066844106,-0.25559763349132203,-0.4813841083056664,-1.9271808617819115,-0.6070580733247838,-1.1636932324687423,1.339280484849487,0.47771727654156293,-0.5968481161014805,1.2968929935229006,-0.16216150682417468,1.0903918297478092,-0.055663382391095195,-1.9383170898318631,1.112380532950639,1.3782274102022636,-0.42142411236809735,0.8957323065314934,0.41097621688336106,-0.02765272096708784,0.9149429515529102,-0.13880192453908266,0.47751716452927917,0.3481420236491288,-0.23131776015717798,0.5094548526908059,-0.7608094741193897,0.11631986292309104,-0.2172543381087466,-0.951490541615766,-0.5926296384911123,0.017807357187338953,0.9589901026525065,-1.1984176228205554,0.9022702336672062,0.6596991557481351,-0.8729232096834276,0.6099302488780277,1.0768283425233702,-0.11221523895765963,0.5625163393167306,-0.16135609434261725,1.9687965814298227,-0.06034088230737512,1.0471376411737952,-3.083514419464437,0.3359159310292446,0.9532324676202132,-2.3431026083136883,0.5653884207646511,-1.276743836695403,-1.2754424081239786,0.7273459291173392,0.5640935924868778,0.35167990059124504,-0.009069882781335902,2.442716727062103,-0.7010249463474859,0.8308583001465093,0.9078840027915112,-0.10398264081503443,1.1709992616915568,0.6155368314083067,1.938359996658619,0.46887097910584574,1.5980214011585323,-1.6680300591099766,0.6529140466907034,-0.09259132978023017,0.4017007216409476,1.0866891958055531,0.02355809233525598,-0.6027075895405759,0.29777603835222355,-0.29772036756264664,0.5102551472094399,-2.203414038181977,0.14521146581149785,-1.7873674316906647],\"type\":\"box\"}],                        {\"legend\":{\"bgcolor\":\"#F5F6F9\",\"font\":{\"color\":\"#4D5663\"}},\"paper_bgcolor\":\"#F5F6F9\",\"plot_bgcolor\":\"#F5F6F9\",\"template\":{\"data\":{\"barpolar\":[{\"marker\":{\"line\":{\"color\":\"#E5ECF6\",\"width\":0.5},\"pattern\":{\"fillmode\":\"overlay\",\"size\":10,\"solidity\":0.2}},\"type\":\"barpolar\"}],\"bar\":[{\"error_x\":{\"color\":\"#2a3f5f\"},\"error_y\":{\"color\":\"#2a3f5f\"},\"marker\":{\"line\":{\"color\":\"#E5ECF6\",\"width\":0.5},\"pattern\":{\"fillmode\":\"overlay\",\"size\":10,\"solidity\":0.2}},\"type\":\"bar\"}],\"carpet\":[{\"aaxis\":{\"endlinecolor\":\"#2a3f5f\",\"gridcolor\":\"white\",\"linecolor\":\"white\",\"minorgridcolor\":\"white\",\"startlinecolor\":\"#2a3f5f\"},\"baxis\":{\"endlinecolor\":\"#2a3f5f\",\"gridcolor\":\"white\",\"linecolor\":\"white\",\"minorgridcolor\":\"white\",\"startlinecolor\":\"#2a3f5f\"},\"type\":\"carpet\"}],\"choropleth\":[{\"colorbar\":{\"outlinewidth\":0,\"ticks\":\"\"},\"type\":\"choropleth\"}],\"contourcarpet\":[{\"colorbar\":{\"outlinewidth\":0,\"ticks\":\"\"},\"type\":\"contourcarpet\"}],\"contour\":[{\"colorbar\":{\"outlinewidth\":0,\"ticks\":\"\"},\"colorscale\":[[0.0,\"#0d0887\"],[0.1111111111111111,\"#46039f\"],[0.2222222222222222,\"#7201a8\"],[0.3333333333333333,\"#9c179e\"],[0.4444444444444444,\"#bd3786\"],[0.5555555555555556,\"#d8576b\"],[0.6666666666666666,\"#ed7953\"],[0.7777777777777778,\"#fb9f3a\"],[0.8888888888888888,\"#fdca26\"],[1.0,\"#f0f921\"]],\"type\":\"contour\"}],\"heatmapgl\":[{\"colorbar\":{\"outlinewidth\":0,\"ticks\":\"\"},\"colorscale\":[[0.0,\"#0d0887\"],[0.1111111111111111,\"#46039f\"],[0.2222222222222222,\"#7201a8\"],[0.3333333333333333,\"#9c179e\"],[0.4444444444444444,\"#bd3786\"],[0.5555555555555556,\"#d8576b\"],[0.6666666666666666,\"#ed7953\"],[0.7777777777777778,\"#fb9f3a\"],[0.8888888888888888,\"#fdca26\"],[1.0,\"#f0f921\"]],\"type\":\"heatmapgl\"}],\"heatmap\":[{\"colorbar\":{\"outlinewidth\":0,\"ticks\":\"\"},\"colorscale\":[[0.0,\"#0d0887\"],[0.1111111111111111,\"#46039f\"],[0.2222222222222222,\"#7201a8\"],[0.3333333333333333,\"#9c179e\"],[0.4444444444444444,\"#bd3786\"],[0.5555555555555556,\"#d8576b\"],[0.6666666666666666,\"#ed7953\"],[0.7777777777777778,\"#fb9f3a\"],[0.8888888888888888,\"#fdca26\"],[1.0,\"#f0f921\"]],\"type\":\"heatmap\"}],\"histogram2dcontour\":[{\"colorbar\":{\"outlinewidth\":0,\"ticks\":\"\"},\"colorscale\":[[0.0,\"#0d0887\"],[0.1111111111111111,\"#46039f\"],[0.2222222222222222,\"#7201a8\"],[0.3333333333333333,\"#9c179e\"],[0.4444444444444444,\"#bd3786\"],[0.5555555555555556,\"#d8576b\"],[0.6666666666666666,\"#ed7953\"],[0.7777777777777778,\"#fb9f3a\"],[0.8888888888888888,\"#fdca26\"],[1.0,\"#f0f921\"]],\"type\":\"histogram2dcontour\"}],\"histogram2d\":[{\"colorbar\":{\"outlinewidth\":0,\"ticks\":\"\"},\"colorscale\":[[0.0,\"#0d0887\"],[0.1111111111111111,\"#46039f\"],[0.2222222222222222,\"#7201a8\"],[0.3333333333333333,\"#9c179e\"],[0.4444444444444444,\"#bd3786\"],[0.5555555555555556,\"#d8576b\"],[0.6666666666666666,\"#ed7953\"],[0.7777777777777778,\"#fb9f3a\"],[0.8888888888888888,\"#fdca26\"],[1.0,\"#f0f921\"]],\"type\":\"histogram2d\"}],\"histogram\":[{\"marker\":{\"pattern\":{\"fillmode\":\"overlay\",\"size\":10,\"solidity\":0.2}},\"type\":\"histogram\"}],\"mesh3d\":[{\"colorbar\":{\"outlinewidth\":0,\"ticks\":\"\"},\"type\":\"mesh3d\"}],\"parcoords\":[{\"line\":{\"colorbar\":{\"outlinewidth\":0,\"ticks\":\"\"}},\"type\":\"parcoords\"}],\"pie\":[{\"automargin\":true,\"type\":\"pie\"}],\"scatter3d\":[{\"line\":{\"colorbar\":{\"outlinewidth\":0,\"ticks\":\"\"}},\"marker\":{\"colorbar\":{\"outlinewidth\":0,\"ticks\":\"\"}},\"type\":\"scatter3d\"}],\"scattercarpet\":[{\"marker\":{\"colorbar\":{\"outlinewidth\":0,\"ticks\":\"\"}},\"type\":\"scattercarpet\"}],\"scattergeo\":[{\"marker\":{\"colorbar\":{\"outlinewidth\":0,\"ticks\":\"\"}},\"type\":\"scattergeo\"}],\"scattergl\":[{\"marker\":{\"colorbar\":{\"outlinewidth\":0,\"ticks\":\"\"}},\"type\":\"scattergl\"}],\"scattermapbox\":[{\"marker\":{\"colorbar\":{\"outlinewidth\":0,\"ticks\":\"\"}},\"type\":\"scattermapbox\"}],\"scatterpolargl\":[{\"marker\":{\"colorbar\":{\"outlinewidth\":0,\"ticks\":\"\"}},\"type\":\"scatterpolargl\"}],\"scatterpolar\":[{\"marker\":{\"colorbar\":{\"outlinewidth\":0,\"ticks\":\"\"}},\"type\":\"scatterpolar\"}],\"scatter\":[{\"marker\":{\"colorbar\":{\"outlinewidth\":0,\"ticks\":\"\"}},\"type\":\"scatter\"}],\"scatterternary\":[{\"marker\":{\"colorbar\":{\"outlinewidth\":0,\"ticks\":\"\"}},\"type\":\"scatterternary\"}],\"surface\":[{\"colorbar\":{\"outlinewidth\":0,\"ticks\":\"\"},\"colorscale\":[[0.0,\"#0d0887\"],[0.1111111111111111,\"#46039f\"],[0.2222222222222222,\"#7201a8\"],[0.3333333333333333,\"#9c179e\"],[0.4444444444444444,\"#bd3786\"],[0.5555555555555556,\"#d8576b\"],[0.6666666666666666,\"#ed7953\"],[0.7777777777777778,\"#fb9f3a\"],[0.8888888888888888,\"#fdca26\"],[1.0,\"#f0f921\"]],\"type\":\"surface\"}],\"table\":[{\"cells\":{\"fill\":{\"color\":\"#EBF0F8\"},\"line\":{\"color\":\"white\"}},\"header\":{\"fill\":{\"color\":\"#C8D4E3\"},\"line\":{\"color\":\"white\"}},\"type\":\"table\"}]},\"layout\":{\"annotationdefaults\":{\"arrowcolor\":\"#2a3f5f\",\"arrowhead\":0,\"arrowwidth\":1},\"autotypenumbers\":\"strict\",\"coloraxis\":{\"colorbar\":{\"outlinewidth\":0,\"ticks\":\"\"}},\"colorscale\":{\"diverging\":[[0,\"#8e0152\"],[0.1,\"#c51b7d\"],[0.2,\"#de77ae\"],[0.3,\"#f1b6da\"],[0.4,\"#fde0ef\"],[0.5,\"#f7f7f7\"],[0.6,\"#e6f5d0\"],[0.7,\"#b8e186\"],[0.8,\"#7fbc41\"],[0.9,\"#4d9221\"],[1,\"#276419\"]],\"sequential\":[[0.0,\"#0d0887\"],[0.1111111111111111,\"#46039f\"],[0.2222222222222222,\"#7201a8\"],[0.3333333333333333,\"#9c179e\"],[0.4444444444444444,\"#bd3786\"],[0.5555555555555556,\"#d8576b\"],[0.6666666666666666,\"#ed7953\"],[0.7777777777777778,\"#fb9f3a\"],[0.8888888888888888,\"#fdca26\"],[1.0,\"#f0f921\"]],\"sequentialminus\":[[0.0,\"#0d0887\"],[0.1111111111111111,\"#46039f\"],[0.2222222222222222,\"#7201a8\"],[0.3333333333333333,\"#9c179e\"],[0.4444444444444444,\"#bd3786\"],[0.5555555555555556,\"#d8576b\"],[0.6666666666666666,\"#ed7953\"],[0.7777777777777778,\"#fb9f3a\"],[0.8888888888888888,\"#fdca26\"],[1.0,\"#f0f921\"]]},\"colorway\":[\"#636efa\",\"#EF553B\",\"#00cc96\",\"#ab63fa\",\"#FFA15A\",\"#19d3f3\",\"#FF6692\",\"#B6E880\",\"#FF97FF\",\"#FECB52\"],\"font\":{\"color\":\"#2a3f5f\"},\"geo\":{\"bgcolor\":\"white\",\"lakecolor\":\"white\",\"landcolor\":\"#E5ECF6\",\"showlakes\":true,\"showland\":true,\"subunitcolor\":\"white\"},\"hoverlabel\":{\"align\":\"left\"},\"hovermode\":\"closest\",\"mapbox\":{\"style\":\"light\"},\"paper_bgcolor\":\"white\",\"plot_bgcolor\":\"#E5ECF6\",\"polar\":{\"angularaxis\":{\"gridcolor\":\"white\",\"linecolor\":\"white\",\"ticks\":\"\"},\"bgcolor\":\"#E5ECF6\",\"radialaxis\":{\"gridcolor\":\"white\",\"linecolor\":\"white\",\"ticks\":\"\"}},\"scene\":{\"xaxis\":{\"backgroundcolor\":\"#E5ECF6\",\"gridcolor\":\"white\",\"gridwidth\":2,\"linecolor\":\"white\",\"showbackground\":true,\"ticks\":\"\",\"zerolinecolor\":\"white\"},\"yaxis\":{\"backgroundcolor\":\"#E5ECF6\",\"gridcolor\":\"white\",\"gridwidth\":2,\"linecolor\":\"white\",\"showbackground\":true,\"ticks\":\"\",\"zerolinecolor\":\"white\"},\"zaxis\":{\"backgroundcolor\":\"#E5ECF6\",\"gridcolor\":\"white\",\"gridwidth\":2,\"linecolor\":\"white\",\"showbackground\":true,\"ticks\":\"\",\"zerolinecolor\":\"white\"}},\"shapedefaults\":{\"line\":{\"color\":\"#2a3f5f\"}},\"ternary\":{\"aaxis\":{\"gridcolor\":\"white\",\"linecolor\":\"white\",\"ticks\":\"\"},\"baxis\":{\"gridcolor\":\"white\",\"linecolor\":\"white\",\"ticks\":\"\"},\"bgcolor\":\"#E5ECF6\",\"caxis\":{\"gridcolor\":\"white\",\"linecolor\":\"white\",\"ticks\":\"\"}},\"title\":{\"x\":0.05},\"xaxis\":{\"automargin\":true,\"gridcolor\":\"white\",\"linecolor\":\"white\",\"ticks\":\"\",\"title\":{\"standoff\":15},\"zerolinecolor\":\"white\",\"zerolinewidth\":2},\"yaxis\":{\"automargin\":true,\"gridcolor\":\"white\",\"linecolor\":\"white\",\"ticks\":\"\",\"title\":{\"standoff\":15},\"zerolinecolor\":\"white\",\"zerolinewidth\":2}}},\"title\":{\"font\":{\"color\":\"#4D5663\"}},\"xaxis\":{\"gridcolor\":\"#E1E5ED\",\"showgrid\":true,\"tickfont\":{\"color\":\"#4D5663\"},\"title\":{\"font\":{\"color\":\"#4D5663\"},\"text\":\"\"},\"zerolinecolor\":\"#E1E5ED\"},\"yaxis\":{\"gridcolor\":\"#E1E5ED\",\"showgrid\":true,\"tickfont\":{\"color\":\"#4D5663\"},\"title\":{\"font\":{\"color\":\"#4D5663\"},\"text\":\"\"},\"zerolinecolor\":\"#E1E5ED\"}},                        {\"showLink\": true, \"linkText\": \"Export to plot.ly\", \"plotlyServerURL\": \"https://plot.ly\", \"responsive\": true}                    ).then(function(){\n",
       "                            \n",
       "var gd = document.getElementById('3f6e3aaf-d4eb-4d93-b6de-2a8d5d3c0cd9');\n",
       "var x = new MutationObserver(function (mutations, observer) {{\n",
       "        var display = window.getComputedStyle(gd).display;\n",
       "        if (!display || display === 'none') {{\n",
       "            console.log([gd, 'removed!']);\n",
       "            Plotly.purge(gd);\n",
       "            observer.disconnect();\n",
       "        }}\n",
       "}});\n",
       "\n",
       "// Listen for the removal of the full notebook cells\n",
       "var notebookContainer = gd.closest('#notebook-container');\n",
       "if (notebookContainer) {{\n",
       "    x.observe(notebookContainer, {childList: true});\n",
       "}}\n",
       "\n",
       "// Listen for the clearing of the current output cell\n",
       "var outputEl = gd.closest('.output');\n",
       "if (outputEl) {{\n",
       "    x.observe(outputEl, {childList: true});\n",
       "}}\n",
       "\n",
       "                        })                };                });            </script>        </div>"
      ]
     },
     "metadata": {},
     "output_type": "display_data"
    }
   ],
   "source": [
    "df.iplot(kind='box')"
   ]
  },
  {
   "cell_type": "markdown",
   "id": "fa7b13eb",
   "metadata": {},
   "source": [
    "# 3d Surface"
   ]
  },
  {
   "cell_type": "code",
   "execution_count": 20,
   "id": "21ef4915",
   "metadata": {},
   "outputs": [
    {
     "data": {
      "application/vnd.plotly.v1+json": {
       "config": {
        "linkText": "Export to plot.ly",
        "plotlyServerURL": "https://plot.ly",
        "showLink": true
       },
       "data": [
        {
         "colorscale": [
          [
           0,
           "rgb(165,0,38)"
          ],
          [
           0.1,
           "rgb(215,48,39)"
          ],
          [
           0.2,
           "rgb(244,109,67)"
          ],
          [
           0.3,
           "rgb(253,174,97)"
          ],
          [
           0.4,
           "rgb(254,224,144)"
          ],
          [
           0.5,
           "rgb(255,255,191)"
          ],
          [
           0.6,
           "rgb(224,243,248)"
          ],
          [
           0.7,
           "rgb(171,217,233)"
          ],
          [
           0.8,
           "rgb(116,173,209)"
          ],
          [
           0.9,
           "rgb(69,117,180)"
          ],
          [
           1,
           "rgb(49,54,149)"
          ]
         ],
         "type": "surface",
         "x": [
          0,
          1,
          2,
          3,
          4
         ],
         "y": [
          "x",
          "y",
          "z"
         ],
         "z": [
          [
           1,
           2,
           3,
           4,
           5
          ],
          [
           10,
           20,
           30,
           20,
           10
          ],
          [
           5,
           4,
           3,
           2,
           1
          ]
         ]
        }
       ],
       "layout": {
        "legend": {
         "bgcolor": "#F5F6F9",
         "font": {
          "color": "#4D5663"
         }
        },
        "paper_bgcolor": "#F5F6F9",
        "plot_bgcolor": "#F5F6F9",
        "template": {
         "data": {
          "bar": [
           {
            "error_x": {
             "color": "#2a3f5f"
            },
            "error_y": {
             "color": "#2a3f5f"
            },
            "marker": {
             "line": {
              "color": "#E5ECF6",
              "width": 0.5
             },
             "pattern": {
              "fillmode": "overlay",
              "size": 10,
              "solidity": 0.2
             }
            },
            "type": "bar"
           }
          ],
          "barpolar": [
           {
            "marker": {
             "line": {
              "color": "#E5ECF6",
              "width": 0.5
             },
             "pattern": {
              "fillmode": "overlay",
              "size": 10,
              "solidity": 0.2
             }
            },
            "type": "barpolar"
           }
          ],
          "carpet": [
           {
            "aaxis": {
             "endlinecolor": "#2a3f5f",
             "gridcolor": "white",
             "linecolor": "white",
             "minorgridcolor": "white",
             "startlinecolor": "#2a3f5f"
            },
            "baxis": {
             "endlinecolor": "#2a3f5f",
             "gridcolor": "white",
             "linecolor": "white",
             "minorgridcolor": "white",
             "startlinecolor": "#2a3f5f"
            },
            "type": "carpet"
           }
          ],
          "choropleth": [
           {
            "colorbar": {
             "outlinewidth": 0,
             "ticks": ""
            },
            "type": "choropleth"
           }
          ],
          "contour": [
           {
            "colorbar": {
             "outlinewidth": 0,
             "ticks": ""
            },
            "colorscale": [
             [
              0,
              "#0d0887"
             ],
             [
              0.1111111111111111,
              "#46039f"
             ],
             [
              0.2222222222222222,
              "#7201a8"
             ],
             [
              0.3333333333333333,
              "#9c179e"
             ],
             [
              0.4444444444444444,
              "#bd3786"
             ],
             [
              0.5555555555555556,
              "#d8576b"
             ],
             [
              0.6666666666666666,
              "#ed7953"
             ],
             [
              0.7777777777777778,
              "#fb9f3a"
             ],
             [
              0.8888888888888888,
              "#fdca26"
             ],
             [
              1,
              "#f0f921"
             ]
            ],
            "type": "contour"
           }
          ],
          "contourcarpet": [
           {
            "colorbar": {
             "outlinewidth": 0,
             "ticks": ""
            },
            "type": "contourcarpet"
           }
          ],
          "heatmap": [
           {
            "colorbar": {
             "outlinewidth": 0,
             "ticks": ""
            },
            "colorscale": [
             [
              0,
              "#0d0887"
             ],
             [
              0.1111111111111111,
              "#46039f"
             ],
             [
              0.2222222222222222,
              "#7201a8"
             ],
             [
              0.3333333333333333,
              "#9c179e"
             ],
             [
              0.4444444444444444,
              "#bd3786"
             ],
             [
              0.5555555555555556,
              "#d8576b"
             ],
             [
              0.6666666666666666,
              "#ed7953"
             ],
             [
              0.7777777777777778,
              "#fb9f3a"
             ],
             [
              0.8888888888888888,
              "#fdca26"
             ],
             [
              1,
              "#f0f921"
             ]
            ],
            "type": "heatmap"
           }
          ],
          "heatmapgl": [
           {
            "colorbar": {
             "outlinewidth": 0,
             "ticks": ""
            },
            "colorscale": [
             [
              0,
              "#0d0887"
             ],
             [
              0.1111111111111111,
              "#46039f"
             ],
             [
              0.2222222222222222,
              "#7201a8"
             ],
             [
              0.3333333333333333,
              "#9c179e"
             ],
             [
              0.4444444444444444,
              "#bd3786"
             ],
             [
              0.5555555555555556,
              "#d8576b"
             ],
             [
              0.6666666666666666,
              "#ed7953"
             ],
             [
              0.7777777777777778,
              "#fb9f3a"
             ],
             [
              0.8888888888888888,
              "#fdca26"
             ],
             [
              1,
              "#f0f921"
             ]
            ],
            "type": "heatmapgl"
           }
          ],
          "histogram": [
           {
            "marker": {
             "pattern": {
              "fillmode": "overlay",
              "size": 10,
              "solidity": 0.2
             }
            },
            "type": "histogram"
           }
          ],
          "histogram2d": [
           {
            "colorbar": {
             "outlinewidth": 0,
             "ticks": ""
            },
            "colorscale": [
             [
              0,
              "#0d0887"
             ],
             [
              0.1111111111111111,
              "#46039f"
             ],
             [
              0.2222222222222222,
              "#7201a8"
             ],
             [
              0.3333333333333333,
              "#9c179e"
             ],
             [
              0.4444444444444444,
              "#bd3786"
             ],
             [
              0.5555555555555556,
              "#d8576b"
             ],
             [
              0.6666666666666666,
              "#ed7953"
             ],
             [
              0.7777777777777778,
              "#fb9f3a"
             ],
             [
              0.8888888888888888,
              "#fdca26"
             ],
             [
              1,
              "#f0f921"
             ]
            ],
            "type": "histogram2d"
           }
          ],
          "histogram2dcontour": [
           {
            "colorbar": {
             "outlinewidth": 0,
             "ticks": ""
            },
            "colorscale": [
             [
              0,
              "#0d0887"
             ],
             [
              0.1111111111111111,
              "#46039f"
             ],
             [
              0.2222222222222222,
              "#7201a8"
             ],
             [
              0.3333333333333333,
              "#9c179e"
             ],
             [
              0.4444444444444444,
              "#bd3786"
             ],
             [
              0.5555555555555556,
              "#d8576b"
             ],
             [
              0.6666666666666666,
              "#ed7953"
             ],
             [
              0.7777777777777778,
              "#fb9f3a"
             ],
             [
              0.8888888888888888,
              "#fdca26"
             ],
             [
              1,
              "#f0f921"
             ]
            ],
            "type": "histogram2dcontour"
           }
          ],
          "mesh3d": [
           {
            "colorbar": {
             "outlinewidth": 0,
             "ticks": ""
            },
            "type": "mesh3d"
           }
          ],
          "parcoords": [
           {
            "line": {
             "colorbar": {
              "outlinewidth": 0,
              "ticks": ""
             }
            },
            "type": "parcoords"
           }
          ],
          "pie": [
           {
            "automargin": true,
            "type": "pie"
           }
          ],
          "scatter": [
           {
            "marker": {
             "colorbar": {
              "outlinewidth": 0,
              "ticks": ""
             }
            },
            "type": "scatter"
           }
          ],
          "scatter3d": [
           {
            "line": {
             "colorbar": {
              "outlinewidth": 0,
              "ticks": ""
             }
            },
            "marker": {
             "colorbar": {
              "outlinewidth": 0,
              "ticks": ""
             }
            },
            "type": "scatter3d"
           }
          ],
          "scattercarpet": [
           {
            "marker": {
             "colorbar": {
              "outlinewidth": 0,
              "ticks": ""
             }
            },
            "type": "scattercarpet"
           }
          ],
          "scattergeo": [
           {
            "marker": {
             "colorbar": {
              "outlinewidth": 0,
              "ticks": ""
             }
            },
            "type": "scattergeo"
           }
          ],
          "scattergl": [
           {
            "marker": {
             "colorbar": {
              "outlinewidth": 0,
              "ticks": ""
             }
            },
            "type": "scattergl"
           }
          ],
          "scattermapbox": [
           {
            "marker": {
             "colorbar": {
              "outlinewidth": 0,
              "ticks": ""
             }
            },
            "type": "scattermapbox"
           }
          ],
          "scatterpolar": [
           {
            "marker": {
             "colorbar": {
              "outlinewidth": 0,
              "ticks": ""
             }
            },
            "type": "scatterpolar"
           }
          ],
          "scatterpolargl": [
           {
            "marker": {
             "colorbar": {
              "outlinewidth": 0,
              "ticks": ""
             }
            },
            "type": "scatterpolargl"
           }
          ],
          "scatterternary": [
           {
            "marker": {
             "colorbar": {
              "outlinewidth": 0,
              "ticks": ""
             }
            },
            "type": "scatterternary"
           }
          ],
          "surface": [
           {
            "colorbar": {
             "outlinewidth": 0,
             "ticks": ""
            },
            "colorscale": [
             [
              0,
              "#0d0887"
             ],
             [
              0.1111111111111111,
              "#46039f"
             ],
             [
              0.2222222222222222,
              "#7201a8"
             ],
             [
              0.3333333333333333,
              "#9c179e"
             ],
             [
              0.4444444444444444,
              "#bd3786"
             ],
             [
              0.5555555555555556,
              "#d8576b"
             ],
             [
              0.6666666666666666,
              "#ed7953"
             ],
             [
              0.7777777777777778,
              "#fb9f3a"
             ],
             [
              0.8888888888888888,
              "#fdca26"
             ],
             [
              1,
              "#f0f921"
             ]
            ],
            "type": "surface"
           }
          ],
          "table": [
           {
            "cells": {
             "fill": {
              "color": "#EBF0F8"
             },
             "line": {
              "color": "white"
             }
            },
            "header": {
             "fill": {
              "color": "#C8D4E3"
             },
             "line": {
              "color": "white"
             }
            },
            "type": "table"
           }
          ]
         },
         "layout": {
          "annotationdefaults": {
           "arrowcolor": "#2a3f5f",
           "arrowhead": 0,
           "arrowwidth": 1
          },
          "autotypenumbers": "strict",
          "coloraxis": {
           "colorbar": {
            "outlinewidth": 0,
            "ticks": ""
           }
          },
          "colorscale": {
           "diverging": [
            [
             0,
             "#8e0152"
            ],
            [
             0.1,
             "#c51b7d"
            ],
            [
             0.2,
             "#de77ae"
            ],
            [
             0.3,
             "#f1b6da"
            ],
            [
             0.4,
             "#fde0ef"
            ],
            [
             0.5,
             "#f7f7f7"
            ],
            [
             0.6,
             "#e6f5d0"
            ],
            [
             0.7,
             "#b8e186"
            ],
            [
             0.8,
             "#7fbc41"
            ],
            [
             0.9,
             "#4d9221"
            ],
            [
             1,
             "#276419"
            ]
           ],
           "sequential": [
            [
             0,
             "#0d0887"
            ],
            [
             0.1111111111111111,
             "#46039f"
            ],
            [
             0.2222222222222222,
             "#7201a8"
            ],
            [
             0.3333333333333333,
             "#9c179e"
            ],
            [
             0.4444444444444444,
             "#bd3786"
            ],
            [
             0.5555555555555556,
             "#d8576b"
            ],
            [
             0.6666666666666666,
             "#ed7953"
            ],
            [
             0.7777777777777778,
             "#fb9f3a"
            ],
            [
             0.8888888888888888,
             "#fdca26"
            ],
            [
             1,
             "#f0f921"
            ]
           ],
           "sequentialminus": [
            [
             0,
             "#0d0887"
            ],
            [
             0.1111111111111111,
             "#46039f"
            ],
            [
             0.2222222222222222,
             "#7201a8"
            ],
            [
             0.3333333333333333,
             "#9c179e"
            ],
            [
             0.4444444444444444,
             "#bd3786"
            ],
            [
             0.5555555555555556,
             "#d8576b"
            ],
            [
             0.6666666666666666,
             "#ed7953"
            ],
            [
             0.7777777777777778,
             "#fb9f3a"
            ],
            [
             0.8888888888888888,
             "#fdca26"
            ],
            [
             1,
             "#f0f921"
            ]
           ]
          },
          "colorway": [
           "#636efa",
           "#EF553B",
           "#00cc96",
           "#ab63fa",
           "#FFA15A",
           "#19d3f3",
           "#FF6692",
           "#B6E880",
           "#FF97FF",
           "#FECB52"
          ],
          "font": {
           "color": "#2a3f5f"
          },
          "geo": {
           "bgcolor": "white",
           "lakecolor": "white",
           "landcolor": "#E5ECF6",
           "showlakes": true,
           "showland": true,
           "subunitcolor": "white"
          },
          "hoverlabel": {
           "align": "left"
          },
          "hovermode": "closest",
          "mapbox": {
           "style": "light"
          },
          "paper_bgcolor": "white",
          "plot_bgcolor": "#E5ECF6",
          "polar": {
           "angularaxis": {
            "gridcolor": "white",
            "linecolor": "white",
            "ticks": ""
           },
           "bgcolor": "#E5ECF6",
           "radialaxis": {
            "gridcolor": "white",
            "linecolor": "white",
            "ticks": ""
           }
          },
          "scene": {
           "xaxis": {
            "backgroundcolor": "#E5ECF6",
            "gridcolor": "white",
            "gridwidth": 2,
            "linecolor": "white",
            "showbackground": true,
            "ticks": "",
            "zerolinecolor": "white"
           },
           "yaxis": {
            "backgroundcolor": "#E5ECF6",
            "gridcolor": "white",
            "gridwidth": 2,
            "linecolor": "white",
            "showbackground": true,
            "ticks": "",
            "zerolinecolor": "white"
           },
           "zaxis": {
            "backgroundcolor": "#E5ECF6",
            "gridcolor": "white",
            "gridwidth": 2,
            "linecolor": "white",
            "showbackground": true,
            "ticks": "",
            "zerolinecolor": "white"
           }
          },
          "shapedefaults": {
           "line": {
            "color": "#2a3f5f"
           }
          },
          "ternary": {
           "aaxis": {
            "gridcolor": "white",
            "linecolor": "white",
            "ticks": ""
           },
           "baxis": {
            "gridcolor": "white",
            "linecolor": "white",
            "ticks": ""
           },
           "bgcolor": "#E5ECF6",
           "caxis": {
            "gridcolor": "white",
            "linecolor": "white",
            "ticks": ""
           }
          },
          "title": {
           "x": 0.05
          },
          "xaxis": {
           "automargin": true,
           "gridcolor": "white",
           "linecolor": "white",
           "ticks": "",
           "title": {
            "standoff": 15
           },
           "zerolinecolor": "white",
           "zerolinewidth": 2
          },
          "yaxis": {
           "automargin": true,
           "gridcolor": "white",
           "linecolor": "white",
           "ticks": "",
           "title": {
            "standoff": 15
           },
           "zerolinecolor": "white",
           "zerolinewidth": 2
          }
         }
        },
        "title": {
         "font": {
          "color": "#4D5663"
         }
        },
        "xaxis": {
         "gridcolor": "#E1E5ED",
         "showgrid": true,
         "tickfont": {
          "color": "#4D5663"
         },
         "title": {
          "font": {
           "color": "#4D5663"
          },
          "text": ""
         },
         "zerolinecolor": "#E1E5ED"
        },
        "yaxis": {
         "gridcolor": "#E1E5ED",
         "showgrid": true,
         "tickfont": {
          "color": "#4D5663"
         },
         "title": {
          "font": {
           "color": "#4D5663"
          },
          "text": ""
         },
         "zerolinecolor": "#E1E5ED"
        }
       }
      },
      "text/html": [
       "<div>                            <div id=\"3dd9be0f-3e59-47b1-85e4-8472de3a7c14\" class=\"plotly-graph-div\" style=\"height:525px; width:100%;\"></div>            <script type=\"text/javascript\">                require([\"plotly\"], function(Plotly) {                    window.PLOTLYENV=window.PLOTLYENV || {};\n",
       "                    window.PLOTLYENV.BASE_URL='https://plot.ly';                                    if (document.getElementById(\"3dd9be0f-3e59-47b1-85e4-8472de3a7c14\")) {                    Plotly.newPlot(                        \"3dd9be0f-3e59-47b1-85e4-8472de3a7c14\",                        [{\"colorscale\":[[0.0,\"rgb(165,0,38)\"],[0.1,\"rgb(215,48,39)\"],[0.2,\"rgb(244,109,67)\"],[0.3,\"rgb(253,174,97)\"],[0.4,\"rgb(254,224,144)\"],[0.5,\"rgb(255,255,191)\"],[0.6,\"rgb(224,243,248)\"],[0.7,\"rgb(171,217,233)\"],[0.8,\"rgb(116,173,209)\"],[0.9,\"rgb(69,117,180)\"],[1.0,\"rgb(49,54,149)\"]],\"x\":[0,1,2,3,4],\"y\":[\"x\",\"y\",\"z\"],\"z\":[[1,2,3,4,5],[10,20,30,20,10],[5,4,3,2,1]],\"type\":\"surface\"}],                        {\"legend\":{\"bgcolor\":\"#F5F6F9\",\"font\":{\"color\":\"#4D5663\"}},\"paper_bgcolor\":\"#F5F6F9\",\"plot_bgcolor\":\"#F5F6F9\",\"template\":{\"data\":{\"barpolar\":[{\"marker\":{\"line\":{\"color\":\"#E5ECF6\",\"width\":0.5},\"pattern\":{\"fillmode\":\"overlay\",\"size\":10,\"solidity\":0.2}},\"type\":\"barpolar\"}],\"bar\":[{\"error_x\":{\"color\":\"#2a3f5f\"},\"error_y\":{\"color\":\"#2a3f5f\"},\"marker\":{\"line\":{\"color\":\"#E5ECF6\",\"width\":0.5},\"pattern\":{\"fillmode\":\"overlay\",\"size\":10,\"solidity\":0.2}},\"type\":\"bar\"}],\"carpet\":[{\"aaxis\":{\"endlinecolor\":\"#2a3f5f\",\"gridcolor\":\"white\",\"linecolor\":\"white\",\"minorgridcolor\":\"white\",\"startlinecolor\":\"#2a3f5f\"},\"baxis\":{\"endlinecolor\":\"#2a3f5f\",\"gridcolor\":\"white\",\"linecolor\":\"white\",\"minorgridcolor\":\"white\",\"startlinecolor\":\"#2a3f5f\"},\"type\":\"carpet\"}],\"choropleth\":[{\"colorbar\":{\"outlinewidth\":0,\"ticks\":\"\"},\"type\":\"choropleth\"}],\"contourcarpet\":[{\"colorbar\":{\"outlinewidth\":0,\"ticks\":\"\"},\"type\":\"contourcarpet\"}],\"contour\":[{\"colorbar\":{\"outlinewidth\":0,\"ticks\":\"\"},\"colorscale\":[[0.0,\"#0d0887\"],[0.1111111111111111,\"#46039f\"],[0.2222222222222222,\"#7201a8\"],[0.3333333333333333,\"#9c179e\"],[0.4444444444444444,\"#bd3786\"],[0.5555555555555556,\"#d8576b\"],[0.6666666666666666,\"#ed7953\"],[0.7777777777777778,\"#fb9f3a\"],[0.8888888888888888,\"#fdca26\"],[1.0,\"#f0f921\"]],\"type\":\"contour\"}],\"heatmapgl\":[{\"colorbar\":{\"outlinewidth\":0,\"ticks\":\"\"},\"colorscale\":[[0.0,\"#0d0887\"],[0.1111111111111111,\"#46039f\"],[0.2222222222222222,\"#7201a8\"],[0.3333333333333333,\"#9c179e\"],[0.4444444444444444,\"#bd3786\"],[0.5555555555555556,\"#d8576b\"],[0.6666666666666666,\"#ed7953\"],[0.7777777777777778,\"#fb9f3a\"],[0.8888888888888888,\"#fdca26\"],[1.0,\"#f0f921\"]],\"type\":\"heatmapgl\"}],\"heatmap\":[{\"colorbar\":{\"outlinewidth\":0,\"ticks\":\"\"},\"colorscale\":[[0.0,\"#0d0887\"],[0.1111111111111111,\"#46039f\"],[0.2222222222222222,\"#7201a8\"],[0.3333333333333333,\"#9c179e\"],[0.4444444444444444,\"#bd3786\"],[0.5555555555555556,\"#d8576b\"],[0.6666666666666666,\"#ed7953\"],[0.7777777777777778,\"#fb9f3a\"],[0.8888888888888888,\"#fdca26\"],[1.0,\"#f0f921\"]],\"type\":\"heatmap\"}],\"histogram2dcontour\":[{\"colorbar\":{\"outlinewidth\":0,\"ticks\":\"\"},\"colorscale\":[[0.0,\"#0d0887\"],[0.1111111111111111,\"#46039f\"],[0.2222222222222222,\"#7201a8\"],[0.3333333333333333,\"#9c179e\"],[0.4444444444444444,\"#bd3786\"],[0.5555555555555556,\"#d8576b\"],[0.6666666666666666,\"#ed7953\"],[0.7777777777777778,\"#fb9f3a\"],[0.8888888888888888,\"#fdca26\"],[1.0,\"#f0f921\"]],\"type\":\"histogram2dcontour\"}],\"histogram2d\":[{\"colorbar\":{\"outlinewidth\":0,\"ticks\":\"\"},\"colorscale\":[[0.0,\"#0d0887\"],[0.1111111111111111,\"#46039f\"],[0.2222222222222222,\"#7201a8\"],[0.3333333333333333,\"#9c179e\"],[0.4444444444444444,\"#bd3786\"],[0.5555555555555556,\"#d8576b\"],[0.6666666666666666,\"#ed7953\"],[0.7777777777777778,\"#fb9f3a\"],[0.8888888888888888,\"#fdca26\"],[1.0,\"#f0f921\"]],\"type\":\"histogram2d\"}],\"histogram\":[{\"marker\":{\"pattern\":{\"fillmode\":\"overlay\",\"size\":10,\"solidity\":0.2}},\"type\":\"histogram\"}],\"mesh3d\":[{\"colorbar\":{\"outlinewidth\":0,\"ticks\":\"\"},\"type\":\"mesh3d\"}],\"parcoords\":[{\"line\":{\"colorbar\":{\"outlinewidth\":0,\"ticks\":\"\"}},\"type\":\"parcoords\"}],\"pie\":[{\"automargin\":true,\"type\":\"pie\"}],\"scatter3d\":[{\"line\":{\"colorbar\":{\"outlinewidth\":0,\"ticks\":\"\"}},\"marker\":{\"colorbar\":{\"outlinewidth\":0,\"ticks\":\"\"}},\"type\":\"scatter3d\"}],\"scattercarpet\":[{\"marker\":{\"colorbar\":{\"outlinewidth\":0,\"ticks\":\"\"}},\"type\":\"scattercarpet\"}],\"scattergeo\":[{\"marker\":{\"colorbar\":{\"outlinewidth\":0,\"ticks\":\"\"}},\"type\":\"scattergeo\"}],\"scattergl\":[{\"marker\":{\"colorbar\":{\"outlinewidth\":0,\"ticks\":\"\"}},\"type\":\"scattergl\"}],\"scattermapbox\":[{\"marker\":{\"colorbar\":{\"outlinewidth\":0,\"ticks\":\"\"}},\"type\":\"scattermapbox\"}],\"scatterpolargl\":[{\"marker\":{\"colorbar\":{\"outlinewidth\":0,\"ticks\":\"\"}},\"type\":\"scatterpolargl\"}],\"scatterpolar\":[{\"marker\":{\"colorbar\":{\"outlinewidth\":0,\"ticks\":\"\"}},\"type\":\"scatterpolar\"}],\"scatter\":[{\"marker\":{\"colorbar\":{\"outlinewidth\":0,\"ticks\":\"\"}},\"type\":\"scatter\"}],\"scatterternary\":[{\"marker\":{\"colorbar\":{\"outlinewidth\":0,\"ticks\":\"\"}},\"type\":\"scatterternary\"}],\"surface\":[{\"colorbar\":{\"outlinewidth\":0,\"ticks\":\"\"},\"colorscale\":[[0.0,\"#0d0887\"],[0.1111111111111111,\"#46039f\"],[0.2222222222222222,\"#7201a8\"],[0.3333333333333333,\"#9c179e\"],[0.4444444444444444,\"#bd3786\"],[0.5555555555555556,\"#d8576b\"],[0.6666666666666666,\"#ed7953\"],[0.7777777777777778,\"#fb9f3a\"],[0.8888888888888888,\"#fdca26\"],[1.0,\"#f0f921\"]],\"type\":\"surface\"}],\"table\":[{\"cells\":{\"fill\":{\"color\":\"#EBF0F8\"},\"line\":{\"color\":\"white\"}},\"header\":{\"fill\":{\"color\":\"#C8D4E3\"},\"line\":{\"color\":\"white\"}},\"type\":\"table\"}]},\"layout\":{\"annotationdefaults\":{\"arrowcolor\":\"#2a3f5f\",\"arrowhead\":0,\"arrowwidth\":1},\"autotypenumbers\":\"strict\",\"coloraxis\":{\"colorbar\":{\"outlinewidth\":0,\"ticks\":\"\"}},\"colorscale\":{\"diverging\":[[0,\"#8e0152\"],[0.1,\"#c51b7d\"],[0.2,\"#de77ae\"],[0.3,\"#f1b6da\"],[0.4,\"#fde0ef\"],[0.5,\"#f7f7f7\"],[0.6,\"#e6f5d0\"],[0.7,\"#b8e186\"],[0.8,\"#7fbc41\"],[0.9,\"#4d9221\"],[1,\"#276419\"]],\"sequential\":[[0.0,\"#0d0887\"],[0.1111111111111111,\"#46039f\"],[0.2222222222222222,\"#7201a8\"],[0.3333333333333333,\"#9c179e\"],[0.4444444444444444,\"#bd3786\"],[0.5555555555555556,\"#d8576b\"],[0.6666666666666666,\"#ed7953\"],[0.7777777777777778,\"#fb9f3a\"],[0.8888888888888888,\"#fdca26\"],[1.0,\"#f0f921\"]],\"sequentialminus\":[[0.0,\"#0d0887\"],[0.1111111111111111,\"#46039f\"],[0.2222222222222222,\"#7201a8\"],[0.3333333333333333,\"#9c179e\"],[0.4444444444444444,\"#bd3786\"],[0.5555555555555556,\"#d8576b\"],[0.6666666666666666,\"#ed7953\"],[0.7777777777777778,\"#fb9f3a\"],[0.8888888888888888,\"#fdca26\"],[1.0,\"#f0f921\"]]},\"colorway\":[\"#636efa\",\"#EF553B\",\"#00cc96\",\"#ab63fa\",\"#FFA15A\",\"#19d3f3\",\"#FF6692\",\"#B6E880\",\"#FF97FF\",\"#FECB52\"],\"font\":{\"color\":\"#2a3f5f\"},\"geo\":{\"bgcolor\":\"white\",\"lakecolor\":\"white\",\"landcolor\":\"#E5ECF6\",\"showlakes\":true,\"showland\":true,\"subunitcolor\":\"white\"},\"hoverlabel\":{\"align\":\"left\"},\"hovermode\":\"closest\",\"mapbox\":{\"style\":\"light\"},\"paper_bgcolor\":\"white\",\"plot_bgcolor\":\"#E5ECF6\",\"polar\":{\"angularaxis\":{\"gridcolor\":\"white\",\"linecolor\":\"white\",\"ticks\":\"\"},\"bgcolor\":\"#E5ECF6\",\"radialaxis\":{\"gridcolor\":\"white\",\"linecolor\":\"white\",\"ticks\":\"\"}},\"scene\":{\"xaxis\":{\"backgroundcolor\":\"#E5ECF6\",\"gridcolor\":\"white\",\"gridwidth\":2,\"linecolor\":\"white\",\"showbackground\":true,\"ticks\":\"\",\"zerolinecolor\":\"white\"},\"yaxis\":{\"backgroundcolor\":\"#E5ECF6\",\"gridcolor\":\"white\",\"gridwidth\":2,\"linecolor\":\"white\",\"showbackground\":true,\"ticks\":\"\",\"zerolinecolor\":\"white\"},\"zaxis\":{\"backgroundcolor\":\"#E5ECF6\",\"gridcolor\":\"white\",\"gridwidth\":2,\"linecolor\":\"white\",\"showbackground\":true,\"ticks\":\"\",\"zerolinecolor\":\"white\"}},\"shapedefaults\":{\"line\":{\"color\":\"#2a3f5f\"}},\"ternary\":{\"aaxis\":{\"gridcolor\":\"white\",\"linecolor\":\"white\",\"ticks\":\"\"},\"baxis\":{\"gridcolor\":\"white\",\"linecolor\":\"white\",\"ticks\":\"\"},\"bgcolor\":\"#E5ECF6\",\"caxis\":{\"gridcolor\":\"white\",\"linecolor\":\"white\",\"ticks\":\"\"}},\"title\":{\"x\":0.05},\"xaxis\":{\"automargin\":true,\"gridcolor\":\"white\",\"linecolor\":\"white\",\"ticks\":\"\",\"title\":{\"standoff\":15},\"zerolinecolor\":\"white\",\"zerolinewidth\":2},\"yaxis\":{\"automargin\":true,\"gridcolor\":\"white\",\"linecolor\":\"white\",\"ticks\":\"\",\"title\":{\"standoff\":15},\"zerolinecolor\":\"white\",\"zerolinewidth\":2}}},\"title\":{\"font\":{\"color\":\"#4D5663\"}},\"xaxis\":{\"gridcolor\":\"#E1E5ED\",\"showgrid\":true,\"tickfont\":{\"color\":\"#4D5663\"},\"title\":{\"font\":{\"color\":\"#4D5663\"},\"text\":\"\"},\"zerolinecolor\":\"#E1E5ED\"},\"yaxis\":{\"gridcolor\":\"#E1E5ED\",\"showgrid\":true,\"tickfont\":{\"color\":\"#4D5663\"},\"title\":{\"font\":{\"color\":\"#4D5663\"},\"text\":\"\"},\"zerolinecolor\":\"#E1E5ED\"}},                        {\"showLink\": true, \"linkText\": \"Export to plot.ly\", \"plotlyServerURL\": \"https://plot.ly\", \"responsive\": true}                    ).then(function(){\n",
       "                            \n",
       "var gd = document.getElementById('3dd9be0f-3e59-47b1-85e4-8472de3a7c14');\n",
       "var x = new MutationObserver(function (mutations, observer) {{\n",
       "        var display = window.getComputedStyle(gd).display;\n",
       "        if (!display || display === 'none') {{\n",
       "            console.log([gd, 'removed!']);\n",
       "            Plotly.purge(gd);\n",
       "            observer.disconnect();\n",
       "        }}\n",
       "}});\n",
       "\n",
       "// Listen for the removal of the full notebook cells\n",
       "var notebookContainer = gd.closest('#notebook-container');\n",
       "if (notebookContainer) {{\n",
       "    x.observe(notebookContainer, {childList: true});\n",
       "}}\n",
       "\n",
       "// Listen for the clearing of the current output cell\n",
       "var outputEl = gd.closest('.output');\n",
       "if (outputEl) {{\n",
       "    x.observe(outputEl, {childList: true});\n",
       "}}\n",
       "\n",
       "                        })                };                });            </script>        </div>"
      ]
     },
     "metadata": {},
     "output_type": "display_data"
    }
   ],
   "source": [
    "df3 = pd.DataFrame({'x':[1,2,3,4,5],'y':[10,20,30,20,10],'z':[5,4,3,2,1]})\n",
    "df3.iplot(kind='surface',colorscale='rdylbu')"
   ]
  },
  {
   "cell_type": "markdown",
   "id": "701ccb97",
   "metadata": {},
   "source": [
    "# Spread"
   ]
  },
  {
   "cell_type": "code",
   "execution_count": 22,
   "id": "26fe3f56",
   "metadata": {},
   "outputs": [
    {
     "name": "stderr",
     "output_type": "stream",
     "text": [
      "C:\\Users\\iammr\\anaconda3\\lib\\site-packages\\cufflinks\\plotlytools.py:849: FutureWarning:\n",
      "\n",
      "The pandas.np module is deprecated and will be removed from pandas in a future version. Import numpy directly instead.\n",
      "\n",
      "C:\\Users\\iammr\\anaconda3\\lib\\site-packages\\cufflinks\\plotlytools.py:850: FutureWarning:\n",
      "\n",
      "The pandas.np module is deprecated and will be removed from pandas in a future version. Import numpy directly instead.\n",
      "\n"
     ]
    },
    {
     "data": {
      "application/vnd.plotly.v1+json": {
       "config": {
        "linkText": "Export to plot.ly",
        "plotlyServerURL": "https://plot.ly",
        "showLink": true
       },
       "data": [
        {
         "line": {
          "color": "rgba(255, 153, 51, 1.0)",
          "dash": "solid",
          "shape": "linear",
          "width": 1.3
         },
         "mode": "lines",
         "name": "A",
         "text": "",
         "type": "scatter",
         "x": [
          0,
          1,
          2,
          3,
          4,
          5,
          6,
          7,
          8,
          9,
          10,
          11,
          12,
          13,
          14,
          15,
          16,
          17,
          18,
          19,
          20,
          21,
          22,
          23,
          24,
          25,
          26,
          27,
          28,
          29,
          30,
          31,
          32,
          33,
          34,
          35,
          36,
          37,
          38,
          39,
          40,
          41,
          42,
          43,
          44,
          45,
          46,
          47,
          48,
          49,
          50,
          51,
          52,
          53,
          54,
          55,
          56,
          57,
          58,
          59,
          60,
          61,
          62,
          63,
          64,
          65,
          66,
          67,
          68,
          69,
          70,
          71,
          72,
          73,
          74,
          75,
          76,
          77,
          78,
          79,
          80,
          81,
          82,
          83,
          84,
          85,
          86,
          87,
          88,
          89,
          90,
          91,
          92,
          93,
          94,
          95,
          96,
          97,
          98,
          99
         ],
         "y": [
          1.2250091290549099,
          -0.45155151276997574,
          -0.434194932410401,
          0.4965940115376493,
          0.7154940545115944,
          0.869248019234941,
          2.3213512716361366,
          -0.17578821354583135,
          -0.6980535363394793,
          1.7960776805377587,
          -0.6797508949993439,
          -0.3309524884809053,
          -0.6045666646935174,
          0.39255638365070905,
          0.8963963207259847,
          -1.207418038315098,
          2.43886274114652,
          -0.25133423822888296,
          0.344811281109698,
          0.4651337825187788,
          -0.9693819748893496,
          -1.511988582178468,
          1.471896155007462,
          -0.398263666264437,
          0.39168919211590114,
          1.3028894716559019,
          0.3780306164092249,
          -0.5771500751039939,
          0.7271384586266463,
          -1.1028606757463444,
          1.3055889750163336,
          -0.009495061596881786,
          -0.21893928001299454,
          -1.0867415317320401,
          -0.1275445495943942,
          0.33115070545190967,
          2.5642016093451714,
          -0.2209033831209197,
          -0.643645732559064,
          -0.5765241905247848,
          0.2157414441636662,
          1.5633915324211198,
          -1.3815087548291045,
          -0.4404643403952877,
          0.46486207751427316,
          0.5945107910659146,
          -1.138265783518757,
          0.010872214988163919,
          0.576946264815059,
          -0.3220104816325628,
          -3.1580009227460373,
          0.22098917229933435,
          -0.8812159121268724,
          -0.6746542906878209,
          0.04361980450368418,
          1.1672838672617596,
          0.7882475378851349,
          -0.2231655723751139,
          1.5196027240194374,
          -0.6141433238954168,
          0.06664930104555683,
          0.2811234182254289,
          -1.656925993858488,
          0.4418261364739898,
          -0.5371968332337426,
          -0.9081527939790605,
          -0.07855444225988696,
          -0.8226887787257702,
          0.9282396462206131,
          -1.8774564271906615,
          -0.6151937005939961,
          -1.3814368588693005,
          0.4917684583284424,
          0.43202353599084037,
          -0.2910669668112129,
          -1.1742968785696453,
          0.1145405200398717,
          0.8879132770752252,
          2.205142879212352,
          -0.8708551842512162,
          0.5146930417481028,
          -0.7397889246404309,
          0.3725082553355003,
          -0.2970889305836918,
          -0.6023513414272289,
          -0.6548214421503965,
          1.0487938530886973,
          -0.46844577455326064,
          0.4431751142410106,
          0.617494687789193,
          -2.118833378214814,
          -1.121121567734123,
          0.060602473271775266,
          1.5829742026816596,
          -1.443617735913895,
          -0.45552498105881545,
          0.17269055388343957,
          0.32449455147760553,
          -0.22266509764397124,
          -0.35516799968725554
         ]
        },
        {
         "line": {
          "color": "rgba(55, 128, 191, 1.0)",
          "dash": "solid",
          "shape": "linear",
          "width": 1.3
         },
         "mode": "lines",
         "name": "B",
         "text": "",
         "type": "scatter",
         "x": [
          0,
          1,
          2,
          3,
          4,
          5,
          6,
          7,
          8,
          9,
          10,
          11,
          12,
          13,
          14,
          15,
          16,
          17,
          18,
          19,
          20,
          21,
          22,
          23,
          24,
          25,
          26,
          27,
          28,
          29,
          30,
          31,
          32,
          33,
          34,
          35,
          36,
          37,
          38,
          39,
          40,
          41,
          42,
          43,
          44,
          45,
          46,
          47,
          48,
          49,
          50,
          51,
          52,
          53,
          54,
          55,
          56,
          57,
          58,
          59,
          60,
          61,
          62,
          63,
          64,
          65,
          66,
          67,
          68,
          69,
          70,
          71,
          72,
          73,
          74,
          75,
          76,
          77,
          78,
          79,
          80,
          81,
          82,
          83,
          84,
          85,
          86,
          87,
          88,
          89,
          90,
          91,
          92,
          93,
          94,
          95,
          96,
          97,
          98,
          99
         ],
         "y": [
          -0.058828348753244795,
          -0.5585955170846071,
          0.28592113693614535,
          0.7369704806177205,
          0.5040515469067578,
          -1.150531193233306,
          0.37863435943863993,
          2.6446661872057966,
          0.6141075505621618,
          -0.2903774701835001,
          1.2944643852448017,
          0.08833387861941756,
          0.740469911373652,
          -1.2378998245290902,
          0.8377548461424911,
          -0.9302492624058314,
          0.8619676710312983,
          0.6637615012201094,
          -0.23583023776775033,
          -1.7212897063889532,
          0.7494120556400852,
          -1.570272198998661,
          1.8778845200154963,
          1.3596472166470617,
          1.6016167744950842,
          1.4471808283293137,
          1.1612839763319274,
          -0.14757504651218814,
          -0.6595650733988679,
          0.6936799050890169,
          1.1145216894947776,
          0.2988919777304995,
          -1.2339766655239337,
          -1.4148282731503572,
          -1.0186179403047475,
          -0.5596638109277869,
          -1.1629501310796933,
          -1.4580730317331707,
          0.19043930587364302,
          0.16607046431833294,
          -1.1528877738508099,
          -0.25292305873434856,
          0.7549938818117207,
          0.14861042055819765,
          0.17111415264706922,
          -2.1938539364050342,
          -0.5595594846677245,
          0.5755730956414731,
          -1.0951142538294591,
          0.14904979017143627,
          0.7830949465996929,
          -2.4694173550155902,
          -1.375546686025038,
          -0.9355671286774196,
          -1.9039772933856638,
          0.9641021125721575,
          -0.6541626146441876,
          1.5570492952921344,
          -0.28163972606348875,
          -0.4221870666756173,
          -0.008255132583119976,
          -0.974937610260182,
          1.4744097823938067,
          0.3941908907496691,
          -0.46925653750948826,
          0.6172989994558716,
          -1.5691837871097243,
          0.8275091476401291,
          2.2632501094631494,
          -0.6628560911357416,
          0.7473190202715746,
          0.963350570059107,
          1.4179540247512379,
          0.2813514042710119,
          0.2972570430123793,
          -0.3746604454081584,
          1.1064630868964769,
          -1.3066939251958634,
          -0.40644182487705977,
          -1.917462490109074,
          -0.791861120472799,
          -0.2343111928184764,
          0.09114874510176733,
          0.062218244033363616,
          -0.802451728592171,
          0.06171028511578955,
          0.4198079906863518,
          1.3820369642682173,
          0.075842013636187,
          -1.466189127750254,
          -0.5352111977391772,
          -0.5826480477362354,
          1.5796807614050792,
          -0.04240384621818216,
          -0.017172085149557044,
          -1.6690116849350105,
          -0.5526387152921023,
          -1.329721799479411,
          0.24578920761770287,
          0.7237373775718123
         ]
        },
        {
         "connectgaps": false,
         "fill": "tozeroy",
         "line": {
          "color": "green",
          "dash": "solid",
          "shape": "linear",
          "width": 0.5
         },
         "mode": "lines",
         "name": "Spread",
         "showlegend": false,
         "type": "scatter",
         "x": [
          0,
          1,
          2,
          3,
          4,
          5,
          6,
          7,
          8,
          9,
          10,
          11,
          12,
          13,
          14,
          15,
          16,
          17,
          18,
          19,
          20,
          21,
          22,
          23,
          24,
          25,
          26,
          27,
          28,
          29,
          30,
          31,
          32,
          33,
          34,
          35,
          36,
          37,
          38,
          39,
          40,
          41,
          42,
          43,
          44,
          45,
          46,
          47,
          48,
          49,
          50,
          51,
          52,
          53,
          54,
          55,
          56,
          57,
          58,
          59,
          60,
          61,
          62,
          63,
          64,
          65,
          66,
          67,
          68,
          69,
          70,
          71,
          72,
          73,
          74,
          75,
          76,
          77,
          78,
          79,
          80,
          81,
          82,
          83,
          84,
          85,
          86,
          87,
          88,
          89,
          90,
          91,
          92,
          93,
          94,
          95,
          96,
          97,
          98,
          99
         ],
         "xaxis": "x2",
         "y": [
          1.2838374778081547,
          0.10704400431463135,
          "",
          "",
          0.21144250760483663,
          2.019779212468247,
          1.9427169121974968,
          "",
          "",
          2.086455150721259,
          "",
          "",
          "",
          1.6304562081797993,
          0.05864147458349367,
          "",
          1.5768950701152216,
          "",
          0.5806415188774483,
          2.186423488907732,
          "",
          0.05828361682019301,
          "",
          "",
          "",
          "",
          "",
          "",
          1.386703532025514,
          "",
          0.19106728552155605,
          "",
          1.0150373855109391,
          0.32808674141831706,
          0.8910733907103533,
          0.8908145163796966,
          3.7271517404248646,
          1.237169648612251,
          "",
          "",
          1.3686292180144761,
          1.8163145911554683,
          "",
          "",
          0.2937479248672039,
          2.788364727470949,
          "",
          "",
          1.672060518644518,
          "",
          "",
          2.6904065273149245,
          0.4943307738981656,
          0.26091283798959874,
          1.947597097889348,
          0.2031817546896021,
          1.4424101525293225,
          "",
          1.8012424500829263,
          "",
          0.07490443362867681,
          1.2560610284856109,
          "",
          0.04763524572432065,
          "",
          "",
          1.4906293448498373,
          "",
          "",
          "",
          "",
          "",
          "",
          0.15067213171982846,
          "",
          "",
          "",
          2.1946072022710883,
          2.611584704089412,
          1.0466073058578578,
          1.3065541622209018,
          "",
          0.28135951023373296,
          "",
          0.20010038716494205,
          "",
          0.6289858624023456,
          "",
          0.3673331006048236,
          2.083683815539447,
          "",
          "",
          "",
          1.6253780488998417,
          "",
          1.2134867038761952,
          0.7253292691755419,
          1.6542163509570167,
          "",
          ""
         ],
         "yaxis": "y2"
        },
        {
         "connectgaps": false,
         "fill": "tozeroy",
         "line": {
          "color": "red",
          "dash": "solid",
          "shape": "linear",
          "width": 0.5
         },
         "mode": "lines",
         "name": "Spread",
         "showlegend": false,
         "type": "scatter",
         "x": [
          0,
          1,
          2,
          3,
          4,
          5,
          6,
          7,
          8,
          9,
          10,
          11,
          12,
          13,
          14,
          15,
          16,
          17,
          18,
          19,
          20,
          21,
          22,
          23,
          24,
          25,
          26,
          27,
          28,
          29,
          30,
          31,
          32,
          33,
          34,
          35,
          36,
          37,
          38,
          39,
          40,
          41,
          42,
          43,
          44,
          45,
          46,
          47,
          48,
          49,
          50,
          51,
          52,
          53,
          54,
          55,
          56,
          57,
          58,
          59,
          60,
          61,
          62,
          63,
          64,
          65,
          66,
          67,
          68,
          69,
          70,
          71,
          72,
          73,
          74,
          75,
          76,
          77,
          78,
          79,
          80,
          81,
          82,
          83,
          84,
          85,
          86,
          87,
          88,
          89,
          90,
          91,
          92,
          93,
          94,
          95,
          96,
          97,
          98,
          99
         ],
         "xaxis": "x2",
         "y": [
          "",
          "",
          -0.7201160693465464,
          -0.2403764690800712,
          "",
          "",
          "",
          -2.820454400751628,
          -1.3121610869016411,
          "",
          -1.9742152802441457,
          -0.41928636710032285,
          -1.3450365760671694,
          "",
          "",
          -0.2771687759092667,
          "",
          -0.9150957394489923,
          "",
          "",
          -1.718794030529435,
          "",
          -0.40598836500803426,
          -1.7579108829114987,
          -1.209927582379183,
          -0.14429135667341186,
          -0.7832533599227025,
          -0.42957502859180574,
          "",
          -1.7965405808353614,
          "",
          -0.3083870393273813,
          "",
          "",
          "",
          "",
          "",
          "",
          -0.834085038432707,
          -0.7425946548431177,
          "",
          "",
          -2.136502636640825,
          -0.5890747609534853,
          "",
          "",
          -0.5787062988510325,
          -0.5647008806533091,
          "",
          -0.47106027180399906,
          -3.9410958693457303,
          "",
          "",
          "",
          "",
          "",
          "",
          -1.7802148676672482,
          "",
          -0.19195625721979953,
          "",
          "",
          -3.1313357762522944,
          "",
          -0.06794029572425431,
          -1.525451793434932,
          "",
          -1.6501979263658992,
          -1.3350104632425364,
          -1.2146003360549198,
          -1.3625127208655707,
          -2.3447874289284076,
          -0.9261855664227955,
          "",
          -0.5883240098235922,
          -0.7996364331614869,
          -0.9919225668566052,
          "",
          "",
          "",
          "",
          -0.5054777318219545,
          "",
          -0.3593071746170554,
          "",
          -0.7165317272661861,
          "",
          -1.850482738821478,
          "",
          "",
          -1.5836221804756367,
          -0.5384735199978877,
          -1.5190782881333038,
          "",
          -1.426445650764338,
          "",
          "",
          "",
          -0.4684543052616741,
          -1.0789053772590678
         ],
         "yaxis": "y2"
        }
       ],
       "layout": {
        "hovermode": "x",
        "legend": {
         "bgcolor": "#F5F6F9",
         "font": {
          "color": "#4D5663"
         }
        },
        "paper_bgcolor": "#F5F6F9",
        "plot_bgcolor": "#F5F6F9",
        "template": {
         "data": {
          "bar": [
           {
            "error_x": {
             "color": "#2a3f5f"
            },
            "error_y": {
             "color": "#2a3f5f"
            },
            "marker": {
             "line": {
              "color": "#E5ECF6",
              "width": 0.5
             },
             "pattern": {
              "fillmode": "overlay",
              "size": 10,
              "solidity": 0.2
             }
            },
            "type": "bar"
           }
          ],
          "barpolar": [
           {
            "marker": {
             "line": {
              "color": "#E5ECF6",
              "width": 0.5
             },
             "pattern": {
              "fillmode": "overlay",
              "size": 10,
              "solidity": 0.2
             }
            },
            "type": "barpolar"
           }
          ],
          "carpet": [
           {
            "aaxis": {
             "endlinecolor": "#2a3f5f",
             "gridcolor": "white",
             "linecolor": "white",
             "minorgridcolor": "white",
             "startlinecolor": "#2a3f5f"
            },
            "baxis": {
             "endlinecolor": "#2a3f5f",
             "gridcolor": "white",
             "linecolor": "white",
             "minorgridcolor": "white",
             "startlinecolor": "#2a3f5f"
            },
            "type": "carpet"
           }
          ],
          "choropleth": [
           {
            "colorbar": {
             "outlinewidth": 0,
             "ticks": ""
            },
            "type": "choropleth"
           }
          ],
          "contour": [
           {
            "colorbar": {
             "outlinewidth": 0,
             "ticks": ""
            },
            "colorscale": [
             [
              0,
              "#0d0887"
             ],
             [
              0.1111111111111111,
              "#46039f"
             ],
             [
              0.2222222222222222,
              "#7201a8"
             ],
             [
              0.3333333333333333,
              "#9c179e"
             ],
             [
              0.4444444444444444,
              "#bd3786"
             ],
             [
              0.5555555555555556,
              "#d8576b"
             ],
             [
              0.6666666666666666,
              "#ed7953"
             ],
             [
              0.7777777777777778,
              "#fb9f3a"
             ],
             [
              0.8888888888888888,
              "#fdca26"
             ],
             [
              1,
              "#f0f921"
             ]
            ],
            "type": "contour"
           }
          ],
          "contourcarpet": [
           {
            "colorbar": {
             "outlinewidth": 0,
             "ticks": ""
            },
            "type": "contourcarpet"
           }
          ],
          "heatmap": [
           {
            "colorbar": {
             "outlinewidth": 0,
             "ticks": ""
            },
            "colorscale": [
             [
              0,
              "#0d0887"
             ],
             [
              0.1111111111111111,
              "#46039f"
             ],
             [
              0.2222222222222222,
              "#7201a8"
             ],
             [
              0.3333333333333333,
              "#9c179e"
             ],
             [
              0.4444444444444444,
              "#bd3786"
             ],
             [
              0.5555555555555556,
              "#d8576b"
             ],
             [
              0.6666666666666666,
              "#ed7953"
             ],
             [
              0.7777777777777778,
              "#fb9f3a"
             ],
             [
              0.8888888888888888,
              "#fdca26"
             ],
             [
              1,
              "#f0f921"
             ]
            ],
            "type": "heatmap"
           }
          ],
          "heatmapgl": [
           {
            "colorbar": {
             "outlinewidth": 0,
             "ticks": ""
            },
            "colorscale": [
             [
              0,
              "#0d0887"
             ],
             [
              0.1111111111111111,
              "#46039f"
             ],
             [
              0.2222222222222222,
              "#7201a8"
             ],
             [
              0.3333333333333333,
              "#9c179e"
             ],
             [
              0.4444444444444444,
              "#bd3786"
             ],
             [
              0.5555555555555556,
              "#d8576b"
             ],
             [
              0.6666666666666666,
              "#ed7953"
             ],
             [
              0.7777777777777778,
              "#fb9f3a"
             ],
             [
              0.8888888888888888,
              "#fdca26"
             ],
             [
              1,
              "#f0f921"
             ]
            ],
            "type": "heatmapgl"
           }
          ],
          "histogram": [
           {
            "marker": {
             "pattern": {
              "fillmode": "overlay",
              "size": 10,
              "solidity": 0.2
             }
            },
            "type": "histogram"
           }
          ],
          "histogram2d": [
           {
            "colorbar": {
             "outlinewidth": 0,
             "ticks": ""
            },
            "colorscale": [
             [
              0,
              "#0d0887"
             ],
             [
              0.1111111111111111,
              "#46039f"
             ],
             [
              0.2222222222222222,
              "#7201a8"
             ],
             [
              0.3333333333333333,
              "#9c179e"
             ],
             [
              0.4444444444444444,
              "#bd3786"
             ],
             [
              0.5555555555555556,
              "#d8576b"
             ],
             [
              0.6666666666666666,
              "#ed7953"
             ],
             [
              0.7777777777777778,
              "#fb9f3a"
             ],
             [
              0.8888888888888888,
              "#fdca26"
             ],
             [
              1,
              "#f0f921"
             ]
            ],
            "type": "histogram2d"
           }
          ],
          "histogram2dcontour": [
           {
            "colorbar": {
             "outlinewidth": 0,
             "ticks": ""
            },
            "colorscale": [
             [
              0,
              "#0d0887"
             ],
             [
              0.1111111111111111,
              "#46039f"
             ],
             [
              0.2222222222222222,
              "#7201a8"
             ],
             [
              0.3333333333333333,
              "#9c179e"
             ],
             [
              0.4444444444444444,
              "#bd3786"
             ],
             [
              0.5555555555555556,
              "#d8576b"
             ],
             [
              0.6666666666666666,
              "#ed7953"
             ],
             [
              0.7777777777777778,
              "#fb9f3a"
             ],
             [
              0.8888888888888888,
              "#fdca26"
             ],
             [
              1,
              "#f0f921"
             ]
            ],
            "type": "histogram2dcontour"
           }
          ],
          "mesh3d": [
           {
            "colorbar": {
             "outlinewidth": 0,
             "ticks": ""
            },
            "type": "mesh3d"
           }
          ],
          "parcoords": [
           {
            "line": {
             "colorbar": {
              "outlinewidth": 0,
              "ticks": ""
             }
            },
            "type": "parcoords"
           }
          ],
          "pie": [
           {
            "automargin": true,
            "type": "pie"
           }
          ],
          "scatter": [
           {
            "marker": {
             "colorbar": {
              "outlinewidth": 0,
              "ticks": ""
             }
            },
            "type": "scatter"
           }
          ],
          "scatter3d": [
           {
            "line": {
             "colorbar": {
              "outlinewidth": 0,
              "ticks": ""
             }
            },
            "marker": {
             "colorbar": {
              "outlinewidth": 0,
              "ticks": ""
             }
            },
            "type": "scatter3d"
           }
          ],
          "scattercarpet": [
           {
            "marker": {
             "colorbar": {
              "outlinewidth": 0,
              "ticks": ""
             }
            },
            "type": "scattercarpet"
           }
          ],
          "scattergeo": [
           {
            "marker": {
             "colorbar": {
              "outlinewidth": 0,
              "ticks": ""
             }
            },
            "type": "scattergeo"
           }
          ],
          "scattergl": [
           {
            "marker": {
             "colorbar": {
              "outlinewidth": 0,
              "ticks": ""
             }
            },
            "type": "scattergl"
           }
          ],
          "scattermapbox": [
           {
            "marker": {
             "colorbar": {
              "outlinewidth": 0,
              "ticks": ""
             }
            },
            "type": "scattermapbox"
           }
          ],
          "scatterpolar": [
           {
            "marker": {
             "colorbar": {
              "outlinewidth": 0,
              "ticks": ""
             }
            },
            "type": "scatterpolar"
           }
          ],
          "scatterpolargl": [
           {
            "marker": {
             "colorbar": {
              "outlinewidth": 0,
              "ticks": ""
             }
            },
            "type": "scatterpolargl"
           }
          ],
          "scatterternary": [
           {
            "marker": {
             "colorbar": {
              "outlinewidth": 0,
              "ticks": ""
             }
            },
            "type": "scatterternary"
           }
          ],
          "surface": [
           {
            "colorbar": {
             "outlinewidth": 0,
             "ticks": ""
            },
            "colorscale": [
             [
              0,
              "#0d0887"
             ],
             [
              0.1111111111111111,
              "#46039f"
             ],
             [
              0.2222222222222222,
              "#7201a8"
             ],
             [
              0.3333333333333333,
              "#9c179e"
             ],
             [
              0.4444444444444444,
              "#bd3786"
             ],
             [
              0.5555555555555556,
              "#d8576b"
             ],
             [
              0.6666666666666666,
              "#ed7953"
             ],
             [
              0.7777777777777778,
              "#fb9f3a"
             ],
             [
              0.8888888888888888,
              "#fdca26"
             ],
             [
              1,
              "#f0f921"
             ]
            ],
            "type": "surface"
           }
          ],
          "table": [
           {
            "cells": {
             "fill": {
              "color": "#EBF0F8"
             },
             "line": {
              "color": "white"
             }
            },
            "header": {
             "fill": {
              "color": "#C8D4E3"
             },
             "line": {
              "color": "white"
             }
            },
            "type": "table"
           }
          ]
         },
         "layout": {
          "annotationdefaults": {
           "arrowcolor": "#2a3f5f",
           "arrowhead": 0,
           "arrowwidth": 1
          },
          "autotypenumbers": "strict",
          "coloraxis": {
           "colorbar": {
            "outlinewidth": 0,
            "ticks": ""
           }
          },
          "colorscale": {
           "diverging": [
            [
             0,
             "#8e0152"
            ],
            [
             0.1,
             "#c51b7d"
            ],
            [
             0.2,
             "#de77ae"
            ],
            [
             0.3,
             "#f1b6da"
            ],
            [
             0.4,
             "#fde0ef"
            ],
            [
             0.5,
             "#f7f7f7"
            ],
            [
             0.6,
             "#e6f5d0"
            ],
            [
             0.7,
             "#b8e186"
            ],
            [
             0.8,
             "#7fbc41"
            ],
            [
             0.9,
             "#4d9221"
            ],
            [
             1,
             "#276419"
            ]
           ],
           "sequential": [
            [
             0,
             "#0d0887"
            ],
            [
             0.1111111111111111,
             "#46039f"
            ],
            [
             0.2222222222222222,
             "#7201a8"
            ],
            [
             0.3333333333333333,
             "#9c179e"
            ],
            [
             0.4444444444444444,
             "#bd3786"
            ],
            [
             0.5555555555555556,
             "#d8576b"
            ],
            [
             0.6666666666666666,
             "#ed7953"
            ],
            [
             0.7777777777777778,
             "#fb9f3a"
            ],
            [
             0.8888888888888888,
             "#fdca26"
            ],
            [
             1,
             "#f0f921"
            ]
           ],
           "sequentialminus": [
            [
             0,
             "#0d0887"
            ],
            [
             0.1111111111111111,
             "#46039f"
            ],
            [
             0.2222222222222222,
             "#7201a8"
            ],
            [
             0.3333333333333333,
             "#9c179e"
            ],
            [
             0.4444444444444444,
             "#bd3786"
            ],
            [
             0.5555555555555556,
             "#d8576b"
            ],
            [
             0.6666666666666666,
             "#ed7953"
            ],
            [
             0.7777777777777778,
             "#fb9f3a"
            ],
            [
             0.8888888888888888,
             "#fdca26"
            ],
            [
             1,
             "#f0f921"
            ]
           ]
          },
          "colorway": [
           "#636efa",
           "#EF553B",
           "#00cc96",
           "#ab63fa",
           "#FFA15A",
           "#19d3f3",
           "#FF6692",
           "#B6E880",
           "#FF97FF",
           "#FECB52"
          ],
          "font": {
           "color": "#2a3f5f"
          },
          "geo": {
           "bgcolor": "white",
           "lakecolor": "white",
           "landcolor": "#E5ECF6",
           "showlakes": true,
           "showland": true,
           "subunitcolor": "white"
          },
          "hoverlabel": {
           "align": "left"
          },
          "hovermode": "closest",
          "mapbox": {
           "style": "light"
          },
          "paper_bgcolor": "white",
          "plot_bgcolor": "#E5ECF6",
          "polar": {
           "angularaxis": {
            "gridcolor": "white",
            "linecolor": "white",
            "ticks": ""
           },
           "bgcolor": "#E5ECF6",
           "radialaxis": {
            "gridcolor": "white",
            "linecolor": "white",
            "ticks": ""
           }
          },
          "scene": {
           "xaxis": {
            "backgroundcolor": "#E5ECF6",
            "gridcolor": "white",
            "gridwidth": 2,
            "linecolor": "white",
            "showbackground": true,
            "ticks": "",
            "zerolinecolor": "white"
           },
           "yaxis": {
            "backgroundcolor": "#E5ECF6",
            "gridcolor": "white",
            "gridwidth": 2,
            "linecolor": "white",
            "showbackground": true,
            "ticks": "",
            "zerolinecolor": "white"
           },
           "zaxis": {
            "backgroundcolor": "#E5ECF6",
            "gridcolor": "white",
            "gridwidth": 2,
            "linecolor": "white",
            "showbackground": true,
            "ticks": "",
            "zerolinecolor": "white"
           }
          },
          "shapedefaults": {
           "line": {
            "color": "#2a3f5f"
           }
          },
          "ternary": {
           "aaxis": {
            "gridcolor": "white",
            "linecolor": "white",
            "ticks": ""
           },
           "baxis": {
            "gridcolor": "white",
            "linecolor": "white",
            "ticks": ""
           },
           "bgcolor": "#E5ECF6",
           "caxis": {
            "gridcolor": "white",
            "linecolor": "white",
            "ticks": ""
           }
          },
          "title": {
           "x": 0.05
          },
          "xaxis": {
           "automargin": true,
           "gridcolor": "white",
           "linecolor": "white",
           "ticks": "",
           "title": {
            "standoff": 15
           },
           "zerolinecolor": "white",
           "zerolinewidth": 2
          },
          "yaxis": {
           "automargin": true,
           "gridcolor": "white",
           "linecolor": "white",
           "ticks": "",
           "title": {
            "standoff": 15
           },
           "zerolinecolor": "white",
           "zerolinewidth": 2
          }
         }
        },
        "title": {
         "font": {
          "color": "#4D5663"
         }
        },
        "xaxis": {
         "gridcolor": "#E1E5ED",
         "showgrid": true,
         "tickfont": {
          "color": "#4D5663"
         },
         "title": {
          "font": {
           "color": "#4D5663"
          },
          "text": ""
         },
         "zerolinecolor": "#E1E5ED"
        },
        "xaxis2": {
         "anchor": "y2",
         "gridcolor": "#E1E5ED",
         "showgrid": true,
         "showticklabels": false,
         "tickfont": {
          "color": "#4D5663"
         },
         "title": {
          "font": {
           "color": "#4D5663"
          },
          "text": ""
         },
         "zerolinecolor": "#E1E5ED"
        },
        "yaxis": {
         "domain": [
          0.3,
          1
         ],
         "gridcolor": "#E1E5ED",
         "showgrid": true,
         "tickfont": {
          "color": "#4D5663"
         },
         "title": {
          "font": {
           "color": "#4D5663"
          },
          "text": ""
         },
         "zerolinecolor": "#E1E5ED"
        },
        "yaxis2": {
         "domain": [
          0,
          0.25
         ],
         "gridcolor": "#E1E5ED",
         "showgrid": true,
         "tickfont": {
          "color": "#4D5663"
         },
         "title": {
          "font": {
           "color": "#4D5663"
          },
          "text": "Spread"
         },
         "zerolinecolor": "#E1E5ED"
        }
       }
      },
      "text/html": [
       "<div>                            <div id=\"9dc2769e-406f-4e6b-98fe-dfdf5a72bc2b\" class=\"plotly-graph-div\" style=\"height:525px; width:100%;\"></div>            <script type=\"text/javascript\">                require([\"plotly\"], function(Plotly) {                    window.PLOTLYENV=window.PLOTLYENV || {};\n",
       "                    window.PLOTLYENV.BASE_URL='https://plot.ly';                                    if (document.getElementById(\"9dc2769e-406f-4e6b-98fe-dfdf5a72bc2b\")) {                    Plotly.newPlot(                        \"9dc2769e-406f-4e6b-98fe-dfdf5a72bc2b\",                        [{\"line\":{\"color\":\"rgba(255, 153, 51, 1.0)\",\"dash\":\"solid\",\"shape\":\"linear\",\"width\":1.3},\"mode\":\"lines\",\"name\":\"A\",\"text\":\"\",\"x\":[0,1,2,3,4,5,6,7,8,9,10,11,12,13,14,15,16,17,18,19,20,21,22,23,24,25,26,27,28,29,30,31,32,33,34,35,36,37,38,39,40,41,42,43,44,45,46,47,48,49,50,51,52,53,54,55,56,57,58,59,60,61,62,63,64,65,66,67,68,69,70,71,72,73,74,75,76,77,78,79,80,81,82,83,84,85,86,87,88,89,90,91,92,93,94,95,96,97,98,99],\"y\":[1.2250091290549099,-0.45155151276997574,-0.434194932410401,0.4965940115376493,0.7154940545115944,0.869248019234941,2.3213512716361366,-0.17578821354583135,-0.6980535363394793,1.7960776805377587,-0.6797508949993439,-0.3309524884809053,-0.6045666646935174,0.39255638365070905,0.8963963207259847,-1.207418038315098,2.43886274114652,-0.25133423822888296,0.344811281109698,0.4651337825187788,-0.9693819748893496,-1.511988582178468,1.471896155007462,-0.398263666264437,0.39168919211590114,1.3028894716559019,0.3780306164092249,-0.5771500751039939,0.7271384586266463,-1.1028606757463444,1.3055889750163336,-0.009495061596881786,-0.21893928001299454,-1.0867415317320401,-0.1275445495943942,0.33115070545190967,2.5642016093451714,-0.2209033831209197,-0.643645732559064,-0.5765241905247848,0.2157414441636662,1.5633915324211198,-1.3815087548291045,-0.4404643403952877,0.46486207751427316,0.5945107910659146,-1.138265783518757,0.010872214988163919,0.576946264815059,-0.3220104816325628,-3.1580009227460373,0.22098917229933435,-0.8812159121268724,-0.6746542906878209,0.04361980450368418,1.1672838672617596,0.7882475378851349,-0.2231655723751139,1.5196027240194374,-0.6141433238954168,0.06664930104555683,0.2811234182254289,-1.656925993858488,0.4418261364739898,-0.5371968332337426,-0.9081527939790605,-0.07855444225988696,-0.8226887787257702,0.9282396462206131,-1.8774564271906615,-0.6151937005939961,-1.3814368588693005,0.4917684583284424,0.43202353599084037,-0.2910669668112129,-1.1742968785696453,0.1145405200398717,0.8879132770752252,2.205142879212352,-0.8708551842512162,0.5146930417481028,-0.7397889246404309,0.3725082553355003,-0.2970889305836918,-0.6023513414272289,-0.6548214421503965,1.0487938530886973,-0.46844577455326064,0.4431751142410106,0.617494687789193,-2.118833378214814,-1.121121567734123,0.060602473271775266,1.5829742026816596,-1.443617735913895,-0.45552498105881545,0.17269055388343957,0.32449455147760553,-0.22266509764397124,-0.35516799968725554],\"type\":\"scatter\"},{\"line\":{\"color\":\"rgba(55, 128, 191, 1.0)\",\"dash\":\"solid\",\"shape\":\"linear\",\"width\":1.3},\"mode\":\"lines\",\"name\":\"B\",\"text\":\"\",\"x\":[0,1,2,3,4,5,6,7,8,9,10,11,12,13,14,15,16,17,18,19,20,21,22,23,24,25,26,27,28,29,30,31,32,33,34,35,36,37,38,39,40,41,42,43,44,45,46,47,48,49,50,51,52,53,54,55,56,57,58,59,60,61,62,63,64,65,66,67,68,69,70,71,72,73,74,75,76,77,78,79,80,81,82,83,84,85,86,87,88,89,90,91,92,93,94,95,96,97,98,99],\"y\":[-0.058828348753244795,-0.5585955170846071,0.28592113693614535,0.7369704806177205,0.5040515469067578,-1.150531193233306,0.37863435943863993,2.6446661872057966,0.6141075505621618,-0.2903774701835001,1.2944643852448017,0.08833387861941756,0.740469911373652,-1.2378998245290902,0.8377548461424911,-0.9302492624058314,0.8619676710312983,0.6637615012201094,-0.23583023776775033,-1.7212897063889532,0.7494120556400852,-1.570272198998661,1.8778845200154963,1.3596472166470617,1.6016167744950842,1.4471808283293137,1.1612839763319274,-0.14757504651218814,-0.6595650733988679,0.6936799050890169,1.1145216894947776,0.2988919777304995,-1.2339766655239337,-1.4148282731503572,-1.0186179403047475,-0.5596638109277869,-1.1629501310796933,-1.4580730317331707,0.19043930587364302,0.16607046431833294,-1.1528877738508099,-0.25292305873434856,0.7549938818117207,0.14861042055819765,0.17111415264706922,-2.1938539364050342,-0.5595594846677245,0.5755730956414731,-1.0951142538294591,0.14904979017143627,0.7830949465996929,-2.4694173550155902,-1.375546686025038,-0.9355671286774196,-1.9039772933856638,0.9641021125721575,-0.6541626146441876,1.5570492952921344,-0.28163972606348875,-0.4221870666756173,-0.008255132583119976,-0.974937610260182,1.4744097823938067,0.3941908907496691,-0.46925653750948826,0.6172989994558716,-1.5691837871097243,0.8275091476401291,2.2632501094631494,-0.6628560911357416,0.7473190202715746,0.963350570059107,1.4179540247512379,0.2813514042710119,0.2972570430123793,-0.3746604454081584,1.1064630868964769,-1.3066939251958634,-0.40644182487705977,-1.917462490109074,-0.791861120472799,-0.2343111928184764,0.09114874510176733,0.062218244033363616,-0.802451728592171,0.06171028511578955,0.4198079906863518,1.3820369642682173,0.075842013636187,-1.466189127750254,-0.5352111977391772,-0.5826480477362354,1.5796807614050792,-0.04240384621818216,-0.017172085149557044,-1.6690116849350105,-0.5526387152921023,-1.329721799479411,0.24578920761770287,0.7237373775718123],\"type\":\"scatter\"},{\"connectgaps\":false,\"fill\":\"tozeroy\",\"line\":{\"color\":\"green\",\"dash\":\"solid\",\"shape\":\"linear\",\"width\":0.5},\"mode\":\"lines\",\"name\":\"Spread\",\"showlegend\":false,\"x\":[0,1,2,3,4,5,6,7,8,9,10,11,12,13,14,15,16,17,18,19,20,21,22,23,24,25,26,27,28,29,30,31,32,33,34,35,36,37,38,39,40,41,42,43,44,45,46,47,48,49,50,51,52,53,54,55,56,57,58,59,60,61,62,63,64,65,66,67,68,69,70,71,72,73,74,75,76,77,78,79,80,81,82,83,84,85,86,87,88,89,90,91,92,93,94,95,96,97,98,99],\"xaxis\":\"x2\",\"y\":[1.2838374778081547,0.10704400431463135,\"\",\"\",0.21144250760483663,2.019779212468247,1.9427169121974968,\"\",\"\",2.086455150721259,\"\",\"\",\"\",1.6304562081797993,0.05864147458349367,\"\",1.5768950701152216,\"\",0.5806415188774483,2.186423488907732,\"\",0.05828361682019301,\"\",\"\",\"\",\"\",\"\",\"\",1.386703532025514,\"\",0.19106728552155605,\"\",1.0150373855109391,0.32808674141831706,0.8910733907103533,0.8908145163796966,3.7271517404248646,1.237169648612251,\"\",\"\",1.3686292180144761,1.8163145911554683,\"\",\"\",0.2937479248672039,2.788364727470949,\"\",\"\",1.672060518644518,\"\",\"\",2.6904065273149245,0.4943307738981656,0.26091283798959874,1.947597097889348,0.2031817546896021,1.4424101525293225,\"\",1.8012424500829263,\"\",0.07490443362867681,1.2560610284856109,\"\",0.04763524572432065,\"\",\"\",1.4906293448498373,\"\",\"\",\"\",\"\",\"\",\"\",0.15067213171982846,\"\",\"\",\"\",2.1946072022710883,2.611584704089412,1.0466073058578578,1.3065541622209018,\"\",0.28135951023373296,\"\",0.20010038716494205,\"\",0.6289858624023456,\"\",0.3673331006048236,2.083683815539447,\"\",\"\",\"\",1.6253780488998417,\"\",1.2134867038761952,0.7253292691755419,1.6542163509570167,\"\",\"\"],\"yaxis\":\"y2\",\"type\":\"scatter\"},{\"connectgaps\":false,\"fill\":\"tozeroy\",\"line\":{\"color\":\"red\",\"dash\":\"solid\",\"shape\":\"linear\",\"width\":0.5},\"mode\":\"lines\",\"name\":\"Spread\",\"showlegend\":false,\"x\":[0,1,2,3,4,5,6,7,8,9,10,11,12,13,14,15,16,17,18,19,20,21,22,23,24,25,26,27,28,29,30,31,32,33,34,35,36,37,38,39,40,41,42,43,44,45,46,47,48,49,50,51,52,53,54,55,56,57,58,59,60,61,62,63,64,65,66,67,68,69,70,71,72,73,74,75,76,77,78,79,80,81,82,83,84,85,86,87,88,89,90,91,92,93,94,95,96,97,98,99],\"xaxis\":\"x2\",\"y\":[\"\",\"\",-0.7201160693465464,-0.2403764690800712,\"\",\"\",\"\",-2.820454400751628,-1.3121610869016411,\"\",-1.9742152802441457,-0.41928636710032285,-1.3450365760671694,\"\",\"\",-0.2771687759092667,\"\",-0.9150957394489923,\"\",\"\",-1.718794030529435,\"\",-0.40598836500803426,-1.7579108829114987,-1.209927582379183,-0.14429135667341186,-0.7832533599227025,-0.42957502859180574,\"\",-1.7965405808353614,\"\",-0.3083870393273813,\"\",\"\",\"\",\"\",\"\",\"\",-0.834085038432707,-0.7425946548431177,\"\",\"\",-2.136502636640825,-0.5890747609534853,\"\",\"\",-0.5787062988510325,-0.5647008806533091,\"\",-0.47106027180399906,-3.9410958693457303,\"\",\"\",\"\",\"\",\"\",\"\",-1.7802148676672482,\"\",-0.19195625721979953,\"\",\"\",-3.1313357762522944,\"\",-0.06794029572425431,-1.525451793434932,\"\",-1.6501979263658992,-1.3350104632425364,-1.2146003360549198,-1.3625127208655707,-2.3447874289284076,-0.9261855664227955,\"\",-0.5883240098235922,-0.7996364331614869,-0.9919225668566052,\"\",\"\",\"\",\"\",-0.5054777318219545,\"\",-0.3593071746170554,\"\",-0.7165317272661861,\"\",-1.850482738821478,\"\",\"\",-1.5836221804756367,-0.5384735199978877,-1.5190782881333038,\"\",-1.426445650764338,\"\",\"\",\"\",-0.4684543052616741,-1.0789053772590678],\"yaxis\":\"y2\",\"type\":\"scatter\"}],                        {\"hovermode\":\"x\",\"legend\":{\"bgcolor\":\"#F5F6F9\",\"font\":{\"color\":\"#4D5663\"}},\"paper_bgcolor\":\"#F5F6F9\",\"plot_bgcolor\":\"#F5F6F9\",\"template\":{\"data\":{\"barpolar\":[{\"marker\":{\"line\":{\"color\":\"#E5ECF6\",\"width\":0.5},\"pattern\":{\"fillmode\":\"overlay\",\"size\":10,\"solidity\":0.2}},\"type\":\"barpolar\"}],\"bar\":[{\"error_x\":{\"color\":\"#2a3f5f\"},\"error_y\":{\"color\":\"#2a3f5f\"},\"marker\":{\"line\":{\"color\":\"#E5ECF6\",\"width\":0.5},\"pattern\":{\"fillmode\":\"overlay\",\"size\":10,\"solidity\":0.2}},\"type\":\"bar\"}],\"carpet\":[{\"aaxis\":{\"endlinecolor\":\"#2a3f5f\",\"gridcolor\":\"white\",\"linecolor\":\"white\",\"minorgridcolor\":\"white\",\"startlinecolor\":\"#2a3f5f\"},\"baxis\":{\"endlinecolor\":\"#2a3f5f\",\"gridcolor\":\"white\",\"linecolor\":\"white\",\"minorgridcolor\":\"white\",\"startlinecolor\":\"#2a3f5f\"},\"type\":\"carpet\"}],\"choropleth\":[{\"colorbar\":{\"outlinewidth\":0,\"ticks\":\"\"},\"type\":\"choropleth\"}],\"contourcarpet\":[{\"colorbar\":{\"outlinewidth\":0,\"ticks\":\"\"},\"type\":\"contourcarpet\"}],\"contour\":[{\"colorbar\":{\"outlinewidth\":0,\"ticks\":\"\"},\"colorscale\":[[0.0,\"#0d0887\"],[0.1111111111111111,\"#46039f\"],[0.2222222222222222,\"#7201a8\"],[0.3333333333333333,\"#9c179e\"],[0.4444444444444444,\"#bd3786\"],[0.5555555555555556,\"#d8576b\"],[0.6666666666666666,\"#ed7953\"],[0.7777777777777778,\"#fb9f3a\"],[0.8888888888888888,\"#fdca26\"],[1.0,\"#f0f921\"]],\"type\":\"contour\"}],\"heatmapgl\":[{\"colorbar\":{\"outlinewidth\":0,\"ticks\":\"\"},\"colorscale\":[[0.0,\"#0d0887\"],[0.1111111111111111,\"#46039f\"],[0.2222222222222222,\"#7201a8\"],[0.3333333333333333,\"#9c179e\"],[0.4444444444444444,\"#bd3786\"],[0.5555555555555556,\"#d8576b\"],[0.6666666666666666,\"#ed7953\"],[0.7777777777777778,\"#fb9f3a\"],[0.8888888888888888,\"#fdca26\"],[1.0,\"#f0f921\"]],\"type\":\"heatmapgl\"}],\"heatmap\":[{\"colorbar\":{\"outlinewidth\":0,\"ticks\":\"\"},\"colorscale\":[[0.0,\"#0d0887\"],[0.1111111111111111,\"#46039f\"],[0.2222222222222222,\"#7201a8\"],[0.3333333333333333,\"#9c179e\"],[0.4444444444444444,\"#bd3786\"],[0.5555555555555556,\"#d8576b\"],[0.6666666666666666,\"#ed7953\"],[0.7777777777777778,\"#fb9f3a\"],[0.8888888888888888,\"#fdca26\"],[1.0,\"#f0f921\"]],\"type\":\"heatmap\"}],\"histogram2dcontour\":[{\"colorbar\":{\"outlinewidth\":0,\"ticks\":\"\"},\"colorscale\":[[0.0,\"#0d0887\"],[0.1111111111111111,\"#46039f\"],[0.2222222222222222,\"#7201a8\"],[0.3333333333333333,\"#9c179e\"],[0.4444444444444444,\"#bd3786\"],[0.5555555555555556,\"#d8576b\"],[0.6666666666666666,\"#ed7953\"],[0.7777777777777778,\"#fb9f3a\"],[0.8888888888888888,\"#fdca26\"],[1.0,\"#f0f921\"]],\"type\":\"histogram2dcontour\"}],\"histogram2d\":[{\"colorbar\":{\"outlinewidth\":0,\"ticks\":\"\"},\"colorscale\":[[0.0,\"#0d0887\"],[0.1111111111111111,\"#46039f\"],[0.2222222222222222,\"#7201a8\"],[0.3333333333333333,\"#9c179e\"],[0.4444444444444444,\"#bd3786\"],[0.5555555555555556,\"#d8576b\"],[0.6666666666666666,\"#ed7953\"],[0.7777777777777778,\"#fb9f3a\"],[0.8888888888888888,\"#fdca26\"],[1.0,\"#f0f921\"]],\"type\":\"histogram2d\"}],\"histogram\":[{\"marker\":{\"pattern\":{\"fillmode\":\"overlay\",\"size\":10,\"solidity\":0.2}},\"type\":\"histogram\"}],\"mesh3d\":[{\"colorbar\":{\"outlinewidth\":0,\"ticks\":\"\"},\"type\":\"mesh3d\"}],\"parcoords\":[{\"line\":{\"colorbar\":{\"outlinewidth\":0,\"ticks\":\"\"}},\"type\":\"parcoords\"}],\"pie\":[{\"automargin\":true,\"type\":\"pie\"}],\"scatter3d\":[{\"line\":{\"colorbar\":{\"outlinewidth\":0,\"ticks\":\"\"}},\"marker\":{\"colorbar\":{\"outlinewidth\":0,\"ticks\":\"\"}},\"type\":\"scatter3d\"}],\"scattercarpet\":[{\"marker\":{\"colorbar\":{\"outlinewidth\":0,\"ticks\":\"\"}},\"type\":\"scattercarpet\"}],\"scattergeo\":[{\"marker\":{\"colorbar\":{\"outlinewidth\":0,\"ticks\":\"\"}},\"type\":\"scattergeo\"}],\"scattergl\":[{\"marker\":{\"colorbar\":{\"outlinewidth\":0,\"ticks\":\"\"}},\"type\":\"scattergl\"}],\"scattermapbox\":[{\"marker\":{\"colorbar\":{\"outlinewidth\":0,\"ticks\":\"\"}},\"type\":\"scattermapbox\"}],\"scatterpolargl\":[{\"marker\":{\"colorbar\":{\"outlinewidth\":0,\"ticks\":\"\"}},\"type\":\"scatterpolargl\"}],\"scatterpolar\":[{\"marker\":{\"colorbar\":{\"outlinewidth\":0,\"ticks\":\"\"}},\"type\":\"scatterpolar\"}],\"scatter\":[{\"marker\":{\"colorbar\":{\"outlinewidth\":0,\"ticks\":\"\"}},\"type\":\"scatter\"}],\"scatterternary\":[{\"marker\":{\"colorbar\":{\"outlinewidth\":0,\"ticks\":\"\"}},\"type\":\"scatterternary\"}],\"surface\":[{\"colorbar\":{\"outlinewidth\":0,\"ticks\":\"\"},\"colorscale\":[[0.0,\"#0d0887\"],[0.1111111111111111,\"#46039f\"],[0.2222222222222222,\"#7201a8\"],[0.3333333333333333,\"#9c179e\"],[0.4444444444444444,\"#bd3786\"],[0.5555555555555556,\"#d8576b\"],[0.6666666666666666,\"#ed7953\"],[0.7777777777777778,\"#fb9f3a\"],[0.8888888888888888,\"#fdca26\"],[1.0,\"#f0f921\"]],\"type\":\"surface\"}],\"table\":[{\"cells\":{\"fill\":{\"color\":\"#EBF0F8\"},\"line\":{\"color\":\"white\"}},\"header\":{\"fill\":{\"color\":\"#C8D4E3\"},\"line\":{\"color\":\"white\"}},\"type\":\"table\"}]},\"layout\":{\"annotationdefaults\":{\"arrowcolor\":\"#2a3f5f\",\"arrowhead\":0,\"arrowwidth\":1},\"autotypenumbers\":\"strict\",\"coloraxis\":{\"colorbar\":{\"outlinewidth\":0,\"ticks\":\"\"}},\"colorscale\":{\"diverging\":[[0,\"#8e0152\"],[0.1,\"#c51b7d\"],[0.2,\"#de77ae\"],[0.3,\"#f1b6da\"],[0.4,\"#fde0ef\"],[0.5,\"#f7f7f7\"],[0.6,\"#e6f5d0\"],[0.7,\"#b8e186\"],[0.8,\"#7fbc41\"],[0.9,\"#4d9221\"],[1,\"#276419\"]],\"sequential\":[[0.0,\"#0d0887\"],[0.1111111111111111,\"#46039f\"],[0.2222222222222222,\"#7201a8\"],[0.3333333333333333,\"#9c179e\"],[0.4444444444444444,\"#bd3786\"],[0.5555555555555556,\"#d8576b\"],[0.6666666666666666,\"#ed7953\"],[0.7777777777777778,\"#fb9f3a\"],[0.8888888888888888,\"#fdca26\"],[1.0,\"#f0f921\"]],\"sequentialminus\":[[0.0,\"#0d0887\"],[0.1111111111111111,\"#46039f\"],[0.2222222222222222,\"#7201a8\"],[0.3333333333333333,\"#9c179e\"],[0.4444444444444444,\"#bd3786\"],[0.5555555555555556,\"#d8576b\"],[0.6666666666666666,\"#ed7953\"],[0.7777777777777778,\"#fb9f3a\"],[0.8888888888888888,\"#fdca26\"],[1.0,\"#f0f921\"]]},\"colorway\":[\"#636efa\",\"#EF553B\",\"#00cc96\",\"#ab63fa\",\"#FFA15A\",\"#19d3f3\",\"#FF6692\",\"#B6E880\",\"#FF97FF\",\"#FECB52\"],\"font\":{\"color\":\"#2a3f5f\"},\"geo\":{\"bgcolor\":\"white\",\"lakecolor\":\"white\",\"landcolor\":\"#E5ECF6\",\"showlakes\":true,\"showland\":true,\"subunitcolor\":\"white\"},\"hoverlabel\":{\"align\":\"left\"},\"hovermode\":\"closest\",\"mapbox\":{\"style\":\"light\"},\"paper_bgcolor\":\"white\",\"plot_bgcolor\":\"#E5ECF6\",\"polar\":{\"angularaxis\":{\"gridcolor\":\"white\",\"linecolor\":\"white\",\"ticks\":\"\"},\"bgcolor\":\"#E5ECF6\",\"radialaxis\":{\"gridcolor\":\"white\",\"linecolor\":\"white\",\"ticks\":\"\"}},\"scene\":{\"xaxis\":{\"backgroundcolor\":\"#E5ECF6\",\"gridcolor\":\"white\",\"gridwidth\":2,\"linecolor\":\"white\",\"showbackground\":true,\"ticks\":\"\",\"zerolinecolor\":\"white\"},\"yaxis\":{\"backgroundcolor\":\"#E5ECF6\",\"gridcolor\":\"white\",\"gridwidth\":2,\"linecolor\":\"white\",\"showbackground\":true,\"ticks\":\"\",\"zerolinecolor\":\"white\"},\"zaxis\":{\"backgroundcolor\":\"#E5ECF6\",\"gridcolor\":\"white\",\"gridwidth\":2,\"linecolor\":\"white\",\"showbackground\":true,\"ticks\":\"\",\"zerolinecolor\":\"white\"}},\"shapedefaults\":{\"line\":{\"color\":\"#2a3f5f\"}},\"ternary\":{\"aaxis\":{\"gridcolor\":\"white\",\"linecolor\":\"white\",\"ticks\":\"\"},\"baxis\":{\"gridcolor\":\"white\",\"linecolor\":\"white\",\"ticks\":\"\"},\"bgcolor\":\"#E5ECF6\",\"caxis\":{\"gridcolor\":\"white\",\"linecolor\":\"white\",\"ticks\":\"\"}},\"title\":{\"x\":0.05},\"xaxis\":{\"automargin\":true,\"gridcolor\":\"white\",\"linecolor\":\"white\",\"ticks\":\"\",\"title\":{\"standoff\":15},\"zerolinecolor\":\"white\",\"zerolinewidth\":2},\"yaxis\":{\"automargin\":true,\"gridcolor\":\"white\",\"linecolor\":\"white\",\"ticks\":\"\",\"title\":{\"standoff\":15},\"zerolinecolor\":\"white\",\"zerolinewidth\":2}}},\"title\":{\"font\":{\"color\":\"#4D5663\"}},\"xaxis\":{\"gridcolor\":\"#E1E5ED\",\"showgrid\":true,\"tickfont\":{\"color\":\"#4D5663\"},\"title\":{\"font\":{\"color\":\"#4D5663\"},\"text\":\"\"},\"zerolinecolor\":\"#E1E5ED\"},\"yaxis\":{\"domain\":[0.3,1],\"gridcolor\":\"#E1E5ED\",\"showgrid\":true,\"tickfont\":{\"color\":\"#4D5663\"},\"title\":{\"font\":{\"color\":\"#4D5663\"},\"text\":\"\"},\"zerolinecolor\":\"#E1E5ED\"},\"yaxis2\":{\"domain\":[0,0.25],\"gridcolor\":\"#E1E5ED\",\"showgrid\":true,\"tickfont\":{\"color\":\"#4D5663\"},\"title\":{\"font\":{\"color\":\"#4D5663\"},\"text\":\"Spread\"},\"zerolinecolor\":\"#E1E5ED\"},\"xaxis2\":{\"anchor\":\"y2\",\"gridcolor\":\"#E1E5ED\",\"showgrid\":true,\"showticklabels\":false,\"tickfont\":{\"color\":\"#4D5663\"},\"title\":{\"font\":{\"color\":\"#4D5663\"},\"text\":\"\"},\"zerolinecolor\":\"#E1E5ED\"}},                        {\"showLink\": true, \"linkText\": \"Export to plot.ly\", \"plotlyServerURL\": \"https://plot.ly\", \"responsive\": true}                    ).then(function(){\n",
       "                            \n",
       "var gd = document.getElementById('9dc2769e-406f-4e6b-98fe-dfdf5a72bc2b');\n",
       "var x = new MutationObserver(function (mutations, observer) {{\n",
       "        var display = window.getComputedStyle(gd).display;\n",
       "        if (!display || display === 'none') {{\n",
       "            console.log([gd, 'removed!']);\n",
       "            Plotly.purge(gd);\n",
       "            observer.disconnect();\n",
       "        }}\n",
       "}});\n",
       "\n",
       "// Listen for the removal of the full notebook cells\n",
       "var notebookContainer = gd.closest('#notebook-container');\n",
       "if (notebookContainer) {{\n",
       "    x.observe(notebookContainer, {childList: true});\n",
       "}}\n",
       "\n",
       "// Listen for the clearing of the current output cell\n",
       "var outputEl = gd.closest('.output');\n",
       "if (outputEl) {{\n",
       "    x.observe(outputEl, {childList: true});\n",
       "}}\n",
       "\n",
       "                        })                };                });            </script>        </div>"
      ]
     },
     "metadata": {},
     "output_type": "display_data"
    }
   ],
   "source": [
    "df[['A','B']].iplot(kind='spread')"
   ]
  },
  {
   "cell_type": "markdown",
   "id": "7c4b8b39",
   "metadata": {},
   "source": [
    "# histogram"
   ]
  },
  {
   "cell_type": "code",
   "execution_count": 23,
   "id": "f742c496",
   "metadata": {},
   "outputs": [
    {
     "data": {
      "application/vnd.plotly.v1+json": {
       "config": {
        "linkText": "Export to plot.ly",
        "plotlyServerURL": "https://plot.ly",
        "showLink": true
       },
       "data": [
        {
         "histfunc": "count",
         "histnorm": "",
         "marker": {
          "color": "rgba(255, 153, 51, 1.0)",
          "line": {
           "color": "#4D5663",
           "width": 1.3
          }
         },
         "name": "A",
         "nbinsx": 25,
         "opacity": 0.8,
         "orientation": "v",
         "type": "histogram",
         "x": [
          1.2250091290549099,
          -0.45155151276997574,
          -0.434194932410401,
          0.4965940115376493,
          0.7154940545115944,
          0.869248019234941,
          2.3213512716361366,
          -0.17578821354583135,
          -0.6980535363394793,
          1.7960776805377587,
          -0.6797508949993439,
          -0.3309524884809053,
          -0.6045666646935174,
          0.39255638365070905,
          0.8963963207259847,
          -1.207418038315098,
          2.43886274114652,
          -0.25133423822888296,
          0.344811281109698,
          0.4651337825187788,
          -0.9693819748893496,
          -1.511988582178468,
          1.471896155007462,
          -0.398263666264437,
          0.39168919211590114,
          1.3028894716559019,
          0.3780306164092249,
          -0.5771500751039939,
          0.7271384586266463,
          -1.1028606757463444,
          1.3055889750163336,
          -0.009495061596881786,
          -0.21893928001299454,
          -1.0867415317320401,
          -0.1275445495943942,
          0.33115070545190967,
          2.5642016093451714,
          -0.2209033831209197,
          -0.643645732559064,
          -0.5765241905247848,
          0.2157414441636662,
          1.5633915324211198,
          -1.3815087548291045,
          -0.4404643403952877,
          0.46486207751427316,
          0.5945107910659146,
          -1.138265783518757,
          0.010872214988163919,
          0.576946264815059,
          -0.3220104816325628,
          -3.1580009227460373,
          0.22098917229933435,
          -0.8812159121268724,
          -0.6746542906878209,
          0.04361980450368418,
          1.1672838672617596,
          0.7882475378851349,
          -0.2231655723751139,
          1.5196027240194374,
          -0.6141433238954168,
          0.06664930104555683,
          0.2811234182254289,
          -1.656925993858488,
          0.4418261364739898,
          -0.5371968332337426,
          -0.9081527939790605,
          -0.07855444225988696,
          -0.8226887787257702,
          0.9282396462206131,
          -1.8774564271906615,
          -0.6151937005939961,
          -1.3814368588693005,
          0.4917684583284424,
          0.43202353599084037,
          -0.2910669668112129,
          -1.1742968785696453,
          0.1145405200398717,
          0.8879132770752252,
          2.205142879212352,
          -0.8708551842512162,
          0.5146930417481028,
          -0.7397889246404309,
          0.3725082553355003,
          -0.2970889305836918,
          -0.6023513414272289,
          -0.6548214421503965,
          1.0487938530886973,
          -0.46844577455326064,
          0.4431751142410106,
          0.617494687789193,
          -2.118833378214814,
          -1.121121567734123,
          0.060602473271775266,
          1.5829742026816596,
          -1.443617735913895,
          -0.45552498105881545,
          0.17269055388343957,
          0.32449455147760553,
          -0.22266509764397124,
          -0.35516799968725554
         ]
        }
       ],
       "layout": {
        "barmode": "overlay",
        "legend": {
         "bgcolor": "#F5F6F9",
         "font": {
          "color": "#4D5663"
         }
        },
        "paper_bgcolor": "#F5F6F9",
        "plot_bgcolor": "#F5F6F9",
        "template": {
         "data": {
          "bar": [
           {
            "error_x": {
             "color": "#2a3f5f"
            },
            "error_y": {
             "color": "#2a3f5f"
            },
            "marker": {
             "line": {
              "color": "#E5ECF6",
              "width": 0.5
             },
             "pattern": {
              "fillmode": "overlay",
              "size": 10,
              "solidity": 0.2
             }
            },
            "type": "bar"
           }
          ],
          "barpolar": [
           {
            "marker": {
             "line": {
              "color": "#E5ECF6",
              "width": 0.5
             },
             "pattern": {
              "fillmode": "overlay",
              "size": 10,
              "solidity": 0.2
             }
            },
            "type": "barpolar"
           }
          ],
          "carpet": [
           {
            "aaxis": {
             "endlinecolor": "#2a3f5f",
             "gridcolor": "white",
             "linecolor": "white",
             "minorgridcolor": "white",
             "startlinecolor": "#2a3f5f"
            },
            "baxis": {
             "endlinecolor": "#2a3f5f",
             "gridcolor": "white",
             "linecolor": "white",
             "minorgridcolor": "white",
             "startlinecolor": "#2a3f5f"
            },
            "type": "carpet"
           }
          ],
          "choropleth": [
           {
            "colorbar": {
             "outlinewidth": 0,
             "ticks": ""
            },
            "type": "choropleth"
           }
          ],
          "contour": [
           {
            "colorbar": {
             "outlinewidth": 0,
             "ticks": ""
            },
            "colorscale": [
             [
              0,
              "#0d0887"
             ],
             [
              0.1111111111111111,
              "#46039f"
             ],
             [
              0.2222222222222222,
              "#7201a8"
             ],
             [
              0.3333333333333333,
              "#9c179e"
             ],
             [
              0.4444444444444444,
              "#bd3786"
             ],
             [
              0.5555555555555556,
              "#d8576b"
             ],
             [
              0.6666666666666666,
              "#ed7953"
             ],
             [
              0.7777777777777778,
              "#fb9f3a"
             ],
             [
              0.8888888888888888,
              "#fdca26"
             ],
             [
              1,
              "#f0f921"
             ]
            ],
            "type": "contour"
           }
          ],
          "contourcarpet": [
           {
            "colorbar": {
             "outlinewidth": 0,
             "ticks": ""
            },
            "type": "contourcarpet"
           }
          ],
          "heatmap": [
           {
            "colorbar": {
             "outlinewidth": 0,
             "ticks": ""
            },
            "colorscale": [
             [
              0,
              "#0d0887"
             ],
             [
              0.1111111111111111,
              "#46039f"
             ],
             [
              0.2222222222222222,
              "#7201a8"
             ],
             [
              0.3333333333333333,
              "#9c179e"
             ],
             [
              0.4444444444444444,
              "#bd3786"
             ],
             [
              0.5555555555555556,
              "#d8576b"
             ],
             [
              0.6666666666666666,
              "#ed7953"
             ],
             [
              0.7777777777777778,
              "#fb9f3a"
             ],
             [
              0.8888888888888888,
              "#fdca26"
             ],
             [
              1,
              "#f0f921"
             ]
            ],
            "type": "heatmap"
           }
          ],
          "heatmapgl": [
           {
            "colorbar": {
             "outlinewidth": 0,
             "ticks": ""
            },
            "colorscale": [
             [
              0,
              "#0d0887"
             ],
             [
              0.1111111111111111,
              "#46039f"
             ],
             [
              0.2222222222222222,
              "#7201a8"
             ],
             [
              0.3333333333333333,
              "#9c179e"
             ],
             [
              0.4444444444444444,
              "#bd3786"
             ],
             [
              0.5555555555555556,
              "#d8576b"
             ],
             [
              0.6666666666666666,
              "#ed7953"
             ],
             [
              0.7777777777777778,
              "#fb9f3a"
             ],
             [
              0.8888888888888888,
              "#fdca26"
             ],
             [
              1,
              "#f0f921"
             ]
            ],
            "type": "heatmapgl"
           }
          ],
          "histogram": [
           {
            "marker": {
             "pattern": {
              "fillmode": "overlay",
              "size": 10,
              "solidity": 0.2
             }
            },
            "type": "histogram"
           }
          ],
          "histogram2d": [
           {
            "colorbar": {
             "outlinewidth": 0,
             "ticks": ""
            },
            "colorscale": [
             [
              0,
              "#0d0887"
             ],
             [
              0.1111111111111111,
              "#46039f"
             ],
             [
              0.2222222222222222,
              "#7201a8"
             ],
             [
              0.3333333333333333,
              "#9c179e"
             ],
             [
              0.4444444444444444,
              "#bd3786"
             ],
             [
              0.5555555555555556,
              "#d8576b"
             ],
             [
              0.6666666666666666,
              "#ed7953"
             ],
             [
              0.7777777777777778,
              "#fb9f3a"
             ],
             [
              0.8888888888888888,
              "#fdca26"
             ],
             [
              1,
              "#f0f921"
             ]
            ],
            "type": "histogram2d"
           }
          ],
          "histogram2dcontour": [
           {
            "colorbar": {
             "outlinewidth": 0,
             "ticks": ""
            },
            "colorscale": [
             [
              0,
              "#0d0887"
             ],
             [
              0.1111111111111111,
              "#46039f"
             ],
             [
              0.2222222222222222,
              "#7201a8"
             ],
             [
              0.3333333333333333,
              "#9c179e"
             ],
             [
              0.4444444444444444,
              "#bd3786"
             ],
             [
              0.5555555555555556,
              "#d8576b"
             ],
             [
              0.6666666666666666,
              "#ed7953"
             ],
             [
              0.7777777777777778,
              "#fb9f3a"
             ],
             [
              0.8888888888888888,
              "#fdca26"
             ],
             [
              1,
              "#f0f921"
             ]
            ],
            "type": "histogram2dcontour"
           }
          ],
          "mesh3d": [
           {
            "colorbar": {
             "outlinewidth": 0,
             "ticks": ""
            },
            "type": "mesh3d"
           }
          ],
          "parcoords": [
           {
            "line": {
             "colorbar": {
              "outlinewidth": 0,
              "ticks": ""
             }
            },
            "type": "parcoords"
           }
          ],
          "pie": [
           {
            "automargin": true,
            "type": "pie"
           }
          ],
          "scatter": [
           {
            "marker": {
             "colorbar": {
              "outlinewidth": 0,
              "ticks": ""
             }
            },
            "type": "scatter"
           }
          ],
          "scatter3d": [
           {
            "line": {
             "colorbar": {
              "outlinewidth": 0,
              "ticks": ""
             }
            },
            "marker": {
             "colorbar": {
              "outlinewidth": 0,
              "ticks": ""
             }
            },
            "type": "scatter3d"
           }
          ],
          "scattercarpet": [
           {
            "marker": {
             "colorbar": {
              "outlinewidth": 0,
              "ticks": ""
             }
            },
            "type": "scattercarpet"
           }
          ],
          "scattergeo": [
           {
            "marker": {
             "colorbar": {
              "outlinewidth": 0,
              "ticks": ""
             }
            },
            "type": "scattergeo"
           }
          ],
          "scattergl": [
           {
            "marker": {
             "colorbar": {
              "outlinewidth": 0,
              "ticks": ""
             }
            },
            "type": "scattergl"
           }
          ],
          "scattermapbox": [
           {
            "marker": {
             "colorbar": {
              "outlinewidth": 0,
              "ticks": ""
             }
            },
            "type": "scattermapbox"
           }
          ],
          "scatterpolar": [
           {
            "marker": {
             "colorbar": {
              "outlinewidth": 0,
              "ticks": ""
             }
            },
            "type": "scatterpolar"
           }
          ],
          "scatterpolargl": [
           {
            "marker": {
             "colorbar": {
              "outlinewidth": 0,
              "ticks": ""
             }
            },
            "type": "scatterpolargl"
           }
          ],
          "scatterternary": [
           {
            "marker": {
             "colorbar": {
              "outlinewidth": 0,
              "ticks": ""
             }
            },
            "type": "scatterternary"
           }
          ],
          "surface": [
           {
            "colorbar": {
             "outlinewidth": 0,
             "ticks": ""
            },
            "colorscale": [
             [
              0,
              "#0d0887"
             ],
             [
              0.1111111111111111,
              "#46039f"
             ],
             [
              0.2222222222222222,
              "#7201a8"
             ],
             [
              0.3333333333333333,
              "#9c179e"
             ],
             [
              0.4444444444444444,
              "#bd3786"
             ],
             [
              0.5555555555555556,
              "#d8576b"
             ],
             [
              0.6666666666666666,
              "#ed7953"
             ],
             [
              0.7777777777777778,
              "#fb9f3a"
             ],
             [
              0.8888888888888888,
              "#fdca26"
             ],
             [
              1,
              "#f0f921"
             ]
            ],
            "type": "surface"
           }
          ],
          "table": [
           {
            "cells": {
             "fill": {
              "color": "#EBF0F8"
             },
             "line": {
              "color": "white"
             }
            },
            "header": {
             "fill": {
              "color": "#C8D4E3"
             },
             "line": {
              "color": "white"
             }
            },
            "type": "table"
           }
          ]
         },
         "layout": {
          "annotationdefaults": {
           "arrowcolor": "#2a3f5f",
           "arrowhead": 0,
           "arrowwidth": 1
          },
          "autotypenumbers": "strict",
          "coloraxis": {
           "colorbar": {
            "outlinewidth": 0,
            "ticks": ""
           }
          },
          "colorscale": {
           "diverging": [
            [
             0,
             "#8e0152"
            ],
            [
             0.1,
             "#c51b7d"
            ],
            [
             0.2,
             "#de77ae"
            ],
            [
             0.3,
             "#f1b6da"
            ],
            [
             0.4,
             "#fde0ef"
            ],
            [
             0.5,
             "#f7f7f7"
            ],
            [
             0.6,
             "#e6f5d0"
            ],
            [
             0.7,
             "#b8e186"
            ],
            [
             0.8,
             "#7fbc41"
            ],
            [
             0.9,
             "#4d9221"
            ],
            [
             1,
             "#276419"
            ]
           ],
           "sequential": [
            [
             0,
             "#0d0887"
            ],
            [
             0.1111111111111111,
             "#46039f"
            ],
            [
             0.2222222222222222,
             "#7201a8"
            ],
            [
             0.3333333333333333,
             "#9c179e"
            ],
            [
             0.4444444444444444,
             "#bd3786"
            ],
            [
             0.5555555555555556,
             "#d8576b"
            ],
            [
             0.6666666666666666,
             "#ed7953"
            ],
            [
             0.7777777777777778,
             "#fb9f3a"
            ],
            [
             0.8888888888888888,
             "#fdca26"
            ],
            [
             1,
             "#f0f921"
            ]
           ],
           "sequentialminus": [
            [
             0,
             "#0d0887"
            ],
            [
             0.1111111111111111,
             "#46039f"
            ],
            [
             0.2222222222222222,
             "#7201a8"
            ],
            [
             0.3333333333333333,
             "#9c179e"
            ],
            [
             0.4444444444444444,
             "#bd3786"
            ],
            [
             0.5555555555555556,
             "#d8576b"
            ],
            [
             0.6666666666666666,
             "#ed7953"
            ],
            [
             0.7777777777777778,
             "#fb9f3a"
            ],
            [
             0.8888888888888888,
             "#fdca26"
            ],
            [
             1,
             "#f0f921"
            ]
           ]
          },
          "colorway": [
           "#636efa",
           "#EF553B",
           "#00cc96",
           "#ab63fa",
           "#FFA15A",
           "#19d3f3",
           "#FF6692",
           "#B6E880",
           "#FF97FF",
           "#FECB52"
          ],
          "font": {
           "color": "#2a3f5f"
          },
          "geo": {
           "bgcolor": "white",
           "lakecolor": "white",
           "landcolor": "#E5ECF6",
           "showlakes": true,
           "showland": true,
           "subunitcolor": "white"
          },
          "hoverlabel": {
           "align": "left"
          },
          "hovermode": "closest",
          "mapbox": {
           "style": "light"
          },
          "paper_bgcolor": "white",
          "plot_bgcolor": "#E5ECF6",
          "polar": {
           "angularaxis": {
            "gridcolor": "white",
            "linecolor": "white",
            "ticks": ""
           },
           "bgcolor": "#E5ECF6",
           "radialaxis": {
            "gridcolor": "white",
            "linecolor": "white",
            "ticks": ""
           }
          },
          "scene": {
           "xaxis": {
            "backgroundcolor": "#E5ECF6",
            "gridcolor": "white",
            "gridwidth": 2,
            "linecolor": "white",
            "showbackground": true,
            "ticks": "",
            "zerolinecolor": "white"
           },
           "yaxis": {
            "backgroundcolor": "#E5ECF6",
            "gridcolor": "white",
            "gridwidth": 2,
            "linecolor": "white",
            "showbackground": true,
            "ticks": "",
            "zerolinecolor": "white"
           },
           "zaxis": {
            "backgroundcolor": "#E5ECF6",
            "gridcolor": "white",
            "gridwidth": 2,
            "linecolor": "white",
            "showbackground": true,
            "ticks": "",
            "zerolinecolor": "white"
           }
          },
          "shapedefaults": {
           "line": {
            "color": "#2a3f5f"
           }
          },
          "ternary": {
           "aaxis": {
            "gridcolor": "white",
            "linecolor": "white",
            "ticks": ""
           },
           "baxis": {
            "gridcolor": "white",
            "linecolor": "white",
            "ticks": ""
           },
           "bgcolor": "#E5ECF6",
           "caxis": {
            "gridcolor": "white",
            "linecolor": "white",
            "ticks": ""
           }
          },
          "title": {
           "x": 0.05
          },
          "xaxis": {
           "automargin": true,
           "gridcolor": "white",
           "linecolor": "white",
           "ticks": "",
           "title": {
            "standoff": 15
           },
           "zerolinecolor": "white",
           "zerolinewidth": 2
          },
          "yaxis": {
           "automargin": true,
           "gridcolor": "white",
           "linecolor": "white",
           "ticks": "",
           "title": {
            "standoff": 15
           },
           "zerolinecolor": "white",
           "zerolinewidth": 2
          }
         }
        },
        "title": {
         "font": {
          "color": "#4D5663"
         }
        },
        "xaxis": {
         "gridcolor": "#E1E5ED",
         "showgrid": true,
         "tickfont": {
          "color": "#4D5663"
         },
         "title": {
          "font": {
           "color": "#4D5663"
          },
          "text": ""
         },
         "zerolinecolor": "#E1E5ED"
        },
        "yaxis": {
         "gridcolor": "#E1E5ED",
         "showgrid": true,
         "tickfont": {
          "color": "#4D5663"
         },
         "title": {
          "font": {
           "color": "#4D5663"
          },
          "text": ""
         },
         "zerolinecolor": "#E1E5ED"
        }
       }
      },
      "text/html": [
       "<div>                            <div id=\"447dd315-d843-45dd-9771-cf2e23eff61e\" class=\"plotly-graph-div\" style=\"height:525px; width:100%;\"></div>            <script type=\"text/javascript\">                require([\"plotly\"], function(Plotly) {                    window.PLOTLYENV=window.PLOTLYENV || {};\n",
       "                    window.PLOTLYENV.BASE_URL='https://plot.ly';                                    if (document.getElementById(\"447dd315-d843-45dd-9771-cf2e23eff61e\")) {                    Plotly.newPlot(                        \"447dd315-d843-45dd-9771-cf2e23eff61e\",                        [{\"histfunc\":\"count\",\"histnorm\":\"\",\"marker\":{\"color\":\"rgba(255, 153, 51, 1.0)\",\"line\":{\"color\":\"#4D5663\",\"width\":1.3}},\"name\":\"A\",\"nbinsx\":25,\"opacity\":0.8,\"orientation\":\"v\",\"x\":[1.2250091290549099,-0.45155151276997574,-0.434194932410401,0.4965940115376493,0.7154940545115944,0.869248019234941,2.3213512716361366,-0.17578821354583135,-0.6980535363394793,1.7960776805377587,-0.6797508949993439,-0.3309524884809053,-0.6045666646935174,0.39255638365070905,0.8963963207259847,-1.207418038315098,2.43886274114652,-0.25133423822888296,0.344811281109698,0.4651337825187788,-0.9693819748893496,-1.511988582178468,1.471896155007462,-0.398263666264437,0.39168919211590114,1.3028894716559019,0.3780306164092249,-0.5771500751039939,0.7271384586266463,-1.1028606757463444,1.3055889750163336,-0.009495061596881786,-0.21893928001299454,-1.0867415317320401,-0.1275445495943942,0.33115070545190967,2.5642016093451714,-0.2209033831209197,-0.643645732559064,-0.5765241905247848,0.2157414441636662,1.5633915324211198,-1.3815087548291045,-0.4404643403952877,0.46486207751427316,0.5945107910659146,-1.138265783518757,0.010872214988163919,0.576946264815059,-0.3220104816325628,-3.1580009227460373,0.22098917229933435,-0.8812159121268724,-0.6746542906878209,0.04361980450368418,1.1672838672617596,0.7882475378851349,-0.2231655723751139,1.5196027240194374,-0.6141433238954168,0.06664930104555683,0.2811234182254289,-1.656925993858488,0.4418261364739898,-0.5371968332337426,-0.9081527939790605,-0.07855444225988696,-0.8226887787257702,0.9282396462206131,-1.8774564271906615,-0.6151937005939961,-1.3814368588693005,0.4917684583284424,0.43202353599084037,-0.2910669668112129,-1.1742968785696453,0.1145405200398717,0.8879132770752252,2.205142879212352,-0.8708551842512162,0.5146930417481028,-0.7397889246404309,0.3725082553355003,-0.2970889305836918,-0.6023513414272289,-0.6548214421503965,1.0487938530886973,-0.46844577455326064,0.4431751142410106,0.617494687789193,-2.118833378214814,-1.121121567734123,0.060602473271775266,1.5829742026816596,-1.443617735913895,-0.45552498105881545,0.17269055388343957,0.32449455147760553,-0.22266509764397124,-0.35516799968725554],\"type\":\"histogram\"}],                        {\"barmode\":\"overlay\",\"legend\":{\"bgcolor\":\"#F5F6F9\",\"font\":{\"color\":\"#4D5663\"}},\"paper_bgcolor\":\"#F5F6F9\",\"plot_bgcolor\":\"#F5F6F9\",\"template\":{\"data\":{\"barpolar\":[{\"marker\":{\"line\":{\"color\":\"#E5ECF6\",\"width\":0.5},\"pattern\":{\"fillmode\":\"overlay\",\"size\":10,\"solidity\":0.2}},\"type\":\"barpolar\"}],\"bar\":[{\"error_x\":{\"color\":\"#2a3f5f\"},\"error_y\":{\"color\":\"#2a3f5f\"},\"marker\":{\"line\":{\"color\":\"#E5ECF6\",\"width\":0.5},\"pattern\":{\"fillmode\":\"overlay\",\"size\":10,\"solidity\":0.2}},\"type\":\"bar\"}],\"carpet\":[{\"aaxis\":{\"endlinecolor\":\"#2a3f5f\",\"gridcolor\":\"white\",\"linecolor\":\"white\",\"minorgridcolor\":\"white\",\"startlinecolor\":\"#2a3f5f\"},\"baxis\":{\"endlinecolor\":\"#2a3f5f\",\"gridcolor\":\"white\",\"linecolor\":\"white\",\"minorgridcolor\":\"white\",\"startlinecolor\":\"#2a3f5f\"},\"type\":\"carpet\"}],\"choropleth\":[{\"colorbar\":{\"outlinewidth\":0,\"ticks\":\"\"},\"type\":\"choropleth\"}],\"contourcarpet\":[{\"colorbar\":{\"outlinewidth\":0,\"ticks\":\"\"},\"type\":\"contourcarpet\"}],\"contour\":[{\"colorbar\":{\"outlinewidth\":0,\"ticks\":\"\"},\"colorscale\":[[0.0,\"#0d0887\"],[0.1111111111111111,\"#46039f\"],[0.2222222222222222,\"#7201a8\"],[0.3333333333333333,\"#9c179e\"],[0.4444444444444444,\"#bd3786\"],[0.5555555555555556,\"#d8576b\"],[0.6666666666666666,\"#ed7953\"],[0.7777777777777778,\"#fb9f3a\"],[0.8888888888888888,\"#fdca26\"],[1.0,\"#f0f921\"]],\"type\":\"contour\"}],\"heatmapgl\":[{\"colorbar\":{\"outlinewidth\":0,\"ticks\":\"\"},\"colorscale\":[[0.0,\"#0d0887\"],[0.1111111111111111,\"#46039f\"],[0.2222222222222222,\"#7201a8\"],[0.3333333333333333,\"#9c179e\"],[0.4444444444444444,\"#bd3786\"],[0.5555555555555556,\"#d8576b\"],[0.6666666666666666,\"#ed7953\"],[0.7777777777777778,\"#fb9f3a\"],[0.8888888888888888,\"#fdca26\"],[1.0,\"#f0f921\"]],\"type\":\"heatmapgl\"}],\"heatmap\":[{\"colorbar\":{\"outlinewidth\":0,\"ticks\":\"\"},\"colorscale\":[[0.0,\"#0d0887\"],[0.1111111111111111,\"#46039f\"],[0.2222222222222222,\"#7201a8\"],[0.3333333333333333,\"#9c179e\"],[0.4444444444444444,\"#bd3786\"],[0.5555555555555556,\"#d8576b\"],[0.6666666666666666,\"#ed7953\"],[0.7777777777777778,\"#fb9f3a\"],[0.8888888888888888,\"#fdca26\"],[1.0,\"#f0f921\"]],\"type\":\"heatmap\"}],\"histogram2dcontour\":[{\"colorbar\":{\"outlinewidth\":0,\"ticks\":\"\"},\"colorscale\":[[0.0,\"#0d0887\"],[0.1111111111111111,\"#46039f\"],[0.2222222222222222,\"#7201a8\"],[0.3333333333333333,\"#9c179e\"],[0.4444444444444444,\"#bd3786\"],[0.5555555555555556,\"#d8576b\"],[0.6666666666666666,\"#ed7953\"],[0.7777777777777778,\"#fb9f3a\"],[0.8888888888888888,\"#fdca26\"],[1.0,\"#f0f921\"]],\"type\":\"histogram2dcontour\"}],\"histogram2d\":[{\"colorbar\":{\"outlinewidth\":0,\"ticks\":\"\"},\"colorscale\":[[0.0,\"#0d0887\"],[0.1111111111111111,\"#46039f\"],[0.2222222222222222,\"#7201a8\"],[0.3333333333333333,\"#9c179e\"],[0.4444444444444444,\"#bd3786\"],[0.5555555555555556,\"#d8576b\"],[0.6666666666666666,\"#ed7953\"],[0.7777777777777778,\"#fb9f3a\"],[0.8888888888888888,\"#fdca26\"],[1.0,\"#f0f921\"]],\"type\":\"histogram2d\"}],\"histogram\":[{\"marker\":{\"pattern\":{\"fillmode\":\"overlay\",\"size\":10,\"solidity\":0.2}},\"type\":\"histogram\"}],\"mesh3d\":[{\"colorbar\":{\"outlinewidth\":0,\"ticks\":\"\"},\"type\":\"mesh3d\"}],\"parcoords\":[{\"line\":{\"colorbar\":{\"outlinewidth\":0,\"ticks\":\"\"}},\"type\":\"parcoords\"}],\"pie\":[{\"automargin\":true,\"type\":\"pie\"}],\"scatter3d\":[{\"line\":{\"colorbar\":{\"outlinewidth\":0,\"ticks\":\"\"}},\"marker\":{\"colorbar\":{\"outlinewidth\":0,\"ticks\":\"\"}},\"type\":\"scatter3d\"}],\"scattercarpet\":[{\"marker\":{\"colorbar\":{\"outlinewidth\":0,\"ticks\":\"\"}},\"type\":\"scattercarpet\"}],\"scattergeo\":[{\"marker\":{\"colorbar\":{\"outlinewidth\":0,\"ticks\":\"\"}},\"type\":\"scattergeo\"}],\"scattergl\":[{\"marker\":{\"colorbar\":{\"outlinewidth\":0,\"ticks\":\"\"}},\"type\":\"scattergl\"}],\"scattermapbox\":[{\"marker\":{\"colorbar\":{\"outlinewidth\":0,\"ticks\":\"\"}},\"type\":\"scattermapbox\"}],\"scatterpolargl\":[{\"marker\":{\"colorbar\":{\"outlinewidth\":0,\"ticks\":\"\"}},\"type\":\"scatterpolargl\"}],\"scatterpolar\":[{\"marker\":{\"colorbar\":{\"outlinewidth\":0,\"ticks\":\"\"}},\"type\":\"scatterpolar\"}],\"scatter\":[{\"marker\":{\"colorbar\":{\"outlinewidth\":0,\"ticks\":\"\"}},\"type\":\"scatter\"}],\"scatterternary\":[{\"marker\":{\"colorbar\":{\"outlinewidth\":0,\"ticks\":\"\"}},\"type\":\"scatterternary\"}],\"surface\":[{\"colorbar\":{\"outlinewidth\":0,\"ticks\":\"\"},\"colorscale\":[[0.0,\"#0d0887\"],[0.1111111111111111,\"#46039f\"],[0.2222222222222222,\"#7201a8\"],[0.3333333333333333,\"#9c179e\"],[0.4444444444444444,\"#bd3786\"],[0.5555555555555556,\"#d8576b\"],[0.6666666666666666,\"#ed7953\"],[0.7777777777777778,\"#fb9f3a\"],[0.8888888888888888,\"#fdca26\"],[1.0,\"#f0f921\"]],\"type\":\"surface\"}],\"table\":[{\"cells\":{\"fill\":{\"color\":\"#EBF0F8\"},\"line\":{\"color\":\"white\"}},\"header\":{\"fill\":{\"color\":\"#C8D4E3\"},\"line\":{\"color\":\"white\"}},\"type\":\"table\"}]},\"layout\":{\"annotationdefaults\":{\"arrowcolor\":\"#2a3f5f\",\"arrowhead\":0,\"arrowwidth\":1},\"autotypenumbers\":\"strict\",\"coloraxis\":{\"colorbar\":{\"outlinewidth\":0,\"ticks\":\"\"}},\"colorscale\":{\"diverging\":[[0,\"#8e0152\"],[0.1,\"#c51b7d\"],[0.2,\"#de77ae\"],[0.3,\"#f1b6da\"],[0.4,\"#fde0ef\"],[0.5,\"#f7f7f7\"],[0.6,\"#e6f5d0\"],[0.7,\"#b8e186\"],[0.8,\"#7fbc41\"],[0.9,\"#4d9221\"],[1,\"#276419\"]],\"sequential\":[[0.0,\"#0d0887\"],[0.1111111111111111,\"#46039f\"],[0.2222222222222222,\"#7201a8\"],[0.3333333333333333,\"#9c179e\"],[0.4444444444444444,\"#bd3786\"],[0.5555555555555556,\"#d8576b\"],[0.6666666666666666,\"#ed7953\"],[0.7777777777777778,\"#fb9f3a\"],[0.8888888888888888,\"#fdca26\"],[1.0,\"#f0f921\"]],\"sequentialminus\":[[0.0,\"#0d0887\"],[0.1111111111111111,\"#46039f\"],[0.2222222222222222,\"#7201a8\"],[0.3333333333333333,\"#9c179e\"],[0.4444444444444444,\"#bd3786\"],[0.5555555555555556,\"#d8576b\"],[0.6666666666666666,\"#ed7953\"],[0.7777777777777778,\"#fb9f3a\"],[0.8888888888888888,\"#fdca26\"],[1.0,\"#f0f921\"]]},\"colorway\":[\"#636efa\",\"#EF553B\",\"#00cc96\",\"#ab63fa\",\"#FFA15A\",\"#19d3f3\",\"#FF6692\",\"#B6E880\",\"#FF97FF\",\"#FECB52\"],\"font\":{\"color\":\"#2a3f5f\"},\"geo\":{\"bgcolor\":\"white\",\"lakecolor\":\"white\",\"landcolor\":\"#E5ECF6\",\"showlakes\":true,\"showland\":true,\"subunitcolor\":\"white\"},\"hoverlabel\":{\"align\":\"left\"},\"hovermode\":\"closest\",\"mapbox\":{\"style\":\"light\"},\"paper_bgcolor\":\"white\",\"plot_bgcolor\":\"#E5ECF6\",\"polar\":{\"angularaxis\":{\"gridcolor\":\"white\",\"linecolor\":\"white\",\"ticks\":\"\"},\"bgcolor\":\"#E5ECF6\",\"radialaxis\":{\"gridcolor\":\"white\",\"linecolor\":\"white\",\"ticks\":\"\"}},\"scene\":{\"xaxis\":{\"backgroundcolor\":\"#E5ECF6\",\"gridcolor\":\"white\",\"gridwidth\":2,\"linecolor\":\"white\",\"showbackground\":true,\"ticks\":\"\",\"zerolinecolor\":\"white\"},\"yaxis\":{\"backgroundcolor\":\"#E5ECF6\",\"gridcolor\":\"white\",\"gridwidth\":2,\"linecolor\":\"white\",\"showbackground\":true,\"ticks\":\"\",\"zerolinecolor\":\"white\"},\"zaxis\":{\"backgroundcolor\":\"#E5ECF6\",\"gridcolor\":\"white\",\"gridwidth\":2,\"linecolor\":\"white\",\"showbackground\":true,\"ticks\":\"\",\"zerolinecolor\":\"white\"}},\"shapedefaults\":{\"line\":{\"color\":\"#2a3f5f\"}},\"ternary\":{\"aaxis\":{\"gridcolor\":\"white\",\"linecolor\":\"white\",\"ticks\":\"\"},\"baxis\":{\"gridcolor\":\"white\",\"linecolor\":\"white\",\"ticks\":\"\"},\"bgcolor\":\"#E5ECF6\",\"caxis\":{\"gridcolor\":\"white\",\"linecolor\":\"white\",\"ticks\":\"\"}},\"title\":{\"x\":0.05},\"xaxis\":{\"automargin\":true,\"gridcolor\":\"white\",\"linecolor\":\"white\",\"ticks\":\"\",\"title\":{\"standoff\":15},\"zerolinecolor\":\"white\",\"zerolinewidth\":2},\"yaxis\":{\"automargin\":true,\"gridcolor\":\"white\",\"linecolor\":\"white\",\"ticks\":\"\",\"title\":{\"standoff\":15},\"zerolinecolor\":\"white\",\"zerolinewidth\":2}}},\"title\":{\"font\":{\"color\":\"#4D5663\"}},\"xaxis\":{\"gridcolor\":\"#E1E5ED\",\"showgrid\":true,\"tickfont\":{\"color\":\"#4D5663\"},\"title\":{\"font\":{\"color\":\"#4D5663\"},\"text\":\"\"},\"zerolinecolor\":\"#E1E5ED\"},\"yaxis\":{\"gridcolor\":\"#E1E5ED\",\"showgrid\":true,\"tickfont\":{\"color\":\"#4D5663\"},\"title\":{\"font\":{\"color\":\"#4D5663\"},\"text\":\"\"},\"zerolinecolor\":\"#E1E5ED\"}},                        {\"showLink\": true, \"linkText\": \"Export to plot.ly\", \"plotlyServerURL\": \"https://plot.ly\", \"responsive\": true}                    ).then(function(){\n",
       "                            \n",
       "var gd = document.getElementById('447dd315-d843-45dd-9771-cf2e23eff61e');\n",
       "var x = new MutationObserver(function (mutations, observer) {{\n",
       "        var display = window.getComputedStyle(gd).display;\n",
       "        if (!display || display === 'none') {{\n",
       "            console.log([gd, 'removed!']);\n",
       "            Plotly.purge(gd);\n",
       "            observer.disconnect();\n",
       "        }}\n",
       "}});\n",
       "\n",
       "// Listen for the removal of the full notebook cells\n",
       "var notebookContainer = gd.closest('#notebook-container');\n",
       "if (notebookContainer) {{\n",
       "    x.observe(notebookContainer, {childList: true});\n",
       "}}\n",
       "\n",
       "// Listen for the clearing of the current output cell\n",
       "var outputEl = gd.closest('.output');\n",
       "if (outputEl) {{\n",
       "    x.observe(outputEl, {childList: true});\n",
       "}}\n",
       "\n",
       "                        })                };                });            </script>        </div>"
      ]
     },
     "metadata": {},
     "output_type": "display_data"
    }
   ],
   "source": [
    "df['A'].iplot(kind='hist',bins=25)"
   ]
  },
  {
   "cell_type": "code",
   "execution_count": 24,
   "id": "7f981db4",
   "metadata": {},
   "outputs": [
    {
     "data": {
      "application/vnd.plotly.v1+json": {
       "config": {
        "linkText": "Export to plot.ly",
        "plotlyServerURL": "https://plot.ly",
        "showLink": true
       },
       "data": [
        {
         "marker": {
          "color": [
           "rgb(255, 153, 51)",
           "rgb(55, 128, 191)",
           "rgb(50, 171, 96)",
           "rgb(128, 0, 128)",
           "rgb(219, 64, 82)",
           "rgb(0, 128, 128)",
           "rgb(255, 255, 51)",
           "rgb(128, 128, 0)",
           "rgb(251, 128, 114)",
           "rgb(128, 177, 211)"
          ],
          "line": {
           "width": 1.3
          },
          "size": [
           58,
           112,
           80,
           81,
           70,
           42,
           52,
           88,
           71,
           57,
           58,
           18,
           34,
           76,
           38,
           73,
           45,
           95,
           47,
           77,
           81,
           84,
           72,
           66,
           50,
           106,
           51,
           67,
           39,
           48,
           79,
           71,
           50,
           95,
           28,
           12,
           40,
           81,
           98,
           53,
           80,
           69,
           81,
           76,
           69,
           61,
           93,
           42,
           63,
           105,
           83,
           60,
           83,
           19,
           76,
           93,
           71,
           64,
           38,
           85,
           78,
           66,
           110,
           54,
           87,
           64,
           93,
           63,
           66,
           65,
           107,
           83,
           65,
           46,
           64,
           59,
           55,
           67,
           40,
           32,
           54,
           49,
           36,
           92,
           95,
           30,
           70,
           45,
           57,
           79,
           49,
           52,
           77,
           59,
           65,
           80,
           38,
           40,
           86,
           48
          ],
          "symbol": "circle"
         },
         "mode": "markers",
         "text": "",
         "type": "scatter",
         "x": [
          1.2250091290549099,
          -0.45155151276997574,
          -0.434194932410401,
          0.4965940115376493,
          0.7154940545115944,
          0.869248019234941,
          2.3213512716361366,
          -0.17578821354583135,
          -0.6980535363394793,
          1.7960776805377587,
          -0.6797508949993439,
          -0.3309524884809053,
          -0.6045666646935174,
          0.39255638365070905,
          0.8963963207259847,
          -1.207418038315098,
          2.43886274114652,
          -0.25133423822888296,
          0.344811281109698,
          0.4651337825187788,
          -0.9693819748893496,
          -1.511988582178468,
          1.471896155007462,
          -0.398263666264437,
          0.39168919211590114,
          1.3028894716559019,
          0.3780306164092249,
          -0.5771500751039939,
          0.7271384586266463,
          -1.1028606757463444,
          1.3055889750163336,
          -0.009495061596881786,
          -0.21893928001299454,
          -1.0867415317320401,
          -0.1275445495943942,
          0.33115070545190967,
          2.5642016093451714,
          -0.2209033831209197,
          -0.643645732559064,
          -0.5765241905247848,
          0.2157414441636662,
          1.5633915324211198,
          -1.3815087548291045,
          -0.4404643403952877,
          0.46486207751427316,
          0.5945107910659146,
          -1.138265783518757,
          0.010872214988163919,
          0.576946264815059,
          -0.3220104816325628,
          -3.1580009227460373,
          0.22098917229933435,
          -0.8812159121268724,
          -0.6746542906878209,
          0.04361980450368418,
          1.1672838672617596,
          0.7882475378851349,
          -0.2231655723751139,
          1.5196027240194374,
          -0.6141433238954168,
          0.06664930104555683,
          0.2811234182254289,
          -1.656925993858488,
          0.4418261364739898,
          -0.5371968332337426,
          -0.9081527939790605,
          -0.07855444225988696,
          -0.8226887787257702,
          0.9282396462206131,
          -1.8774564271906615,
          -0.6151937005939961,
          -1.3814368588693005,
          0.4917684583284424,
          0.43202353599084037,
          -0.2910669668112129,
          -1.1742968785696453,
          0.1145405200398717,
          0.8879132770752252,
          2.205142879212352,
          -0.8708551842512162,
          0.5146930417481028,
          -0.7397889246404309,
          0.3725082553355003,
          -0.2970889305836918,
          -0.6023513414272289,
          -0.6548214421503965,
          1.0487938530886973,
          -0.46844577455326064,
          0.4431751142410106,
          0.617494687789193,
          -2.118833378214814,
          -1.121121567734123,
          0.060602473271775266,
          1.5829742026816596,
          -1.443617735913895,
          -0.45552498105881545,
          0.17269055388343957,
          0.32449455147760553,
          -0.22266509764397124,
          -0.35516799968725554
         ],
         "y": [
          -0.058828348753244795,
          -0.5585955170846071,
          0.28592113693614535,
          0.7369704806177205,
          0.5040515469067578,
          -1.150531193233306,
          0.37863435943863993,
          2.6446661872057966,
          0.6141075505621618,
          -0.2903774701835001,
          1.2944643852448017,
          0.08833387861941756,
          0.740469911373652,
          -1.2378998245290902,
          0.8377548461424911,
          -0.9302492624058314,
          0.8619676710312983,
          0.6637615012201094,
          -0.23583023776775033,
          -1.7212897063889532,
          0.7494120556400852,
          -1.570272198998661,
          1.8778845200154963,
          1.3596472166470617,
          1.6016167744950842,
          1.4471808283293137,
          1.1612839763319274,
          -0.14757504651218814,
          -0.6595650733988679,
          0.6936799050890169,
          1.1145216894947776,
          0.2988919777304995,
          -1.2339766655239337,
          -1.4148282731503572,
          -1.0186179403047475,
          -0.5596638109277869,
          -1.1629501310796933,
          -1.4580730317331707,
          0.19043930587364302,
          0.16607046431833294,
          -1.1528877738508099,
          -0.25292305873434856,
          0.7549938818117207,
          0.14861042055819765,
          0.17111415264706922,
          -2.1938539364050342,
          -0.5595594846677245,
          0.5755730956414731,
          -1.0951142538294591,
          0.14904979017143627,
          0.7830949465996929,
          -2.4694173550155902,
          -1.375546686025038,
          -0.9355671286774196,
          -1.9039772933856638,
          0.9641021125721575,
          -0.6541626146441876,
          1.5570492952921344,
          -0.28163972606348875,
          -0.4221870666756173,
          -0.008255132583119976,
          -0.974937610260182,
          1.4744097823938067,
          0.3941908907496691,
          -0.46925653750948826,
          0.6172989994558716,
          -1.5691837871097243,
          0.8275091476401291,
          2.2632501094631494,
          -0.6628560911357416,
          0.7473190202715746,
          0.963350570059107,
          1.4179540247512379,
          0.2813514042710119,
          0.2972570430123793,
          -0.3746604454081584,
          1.1064630868964769,
          -1.3066939251958634,
          -0.40644182487705977,
          -1.917462490109074,
          -0.791861120472799,
          -0.2343111928184764,
          0.09114874510176733,
          0.062218244033363616,
          -0.802451728592171,
          0.06171028511578955,
          0.4198079906863518,
          1.3820369642682173,
          0.075842013636187,
          -1.466189127750254,
          -0.5352111977391772,
          -0.5826480477362354,
          1.5796807614050792,
          -0.04240384621818216,
          -0.017172085149557044,
          -1.6690116849350105,
          -0.5526387152921023,
          -1.329721799479411,
          0.24578920761770287,
          0.7237373775718123
         ]
        }
       ],
       "layout": {
        "legend": {
         "bgcolor": "#F5F6F9",
         "font": {
          "color": "#4D5663"
         }
        },
        "paper_bgcolor": "#F5F6F9",
        "plot_bgcolor": "#F5F6F9",
        "template": {
         "data": {
          "bar": [
           {
            "error_x": {
             "color": "#2a3f5f"
            },
            "error_y": {
             "color": "#2a3f5f"
            },
            "marker": {
             "line": {
              "color": "#E5ECF6",
              "width": 0.5
             },
             "pattern": {
              "fillmode": "overlay",
              "size": 10,
              "solidity": 0.2
             }
            },
            "type": "bar"
           }
          ],
          "barpolar": [
           {
            "marker": {
             "line": {
              "color": "#E5ECF6",
              "width": 0.5
             },
             "pattern": {
              "fillmode": "overlay",
              "size": 10,
              "solidity": 0.2
             }
            },
            "type": "barpolar"
           }
          ],
          "carpet": [
           {
            "aaxis": {
             "endlinecolor": "#2a3f5f",
             "gridcolor": "white",
             "linecolor": "white",
             "minorgridcolor": "white",
             "startlinecolor": "#2a3f5f"
            },
            "baxis": {
             "endlinecolor": "#2a3f5f",
             "gridcolor": "white",
             "linecolor": "white",
             "minorgridcolor": "white",
             "startlinecolor": "#2a3f5f"
            },
            "type": "carpet"
           }
          ],
          "choropleth": [
           {
            "colorbar": {
             "outlinewidth": 0,
             "ticks": ""
            },
            "type": "choropleth"
           }
          ],
          "contour": [
           {
            "colorbar": {
             "outlinewidth": 0,
             "ticks": ""
            },
            "colorscale": [
             [
              0,
              "#0d0887"
             ],
             [
              0.1111111111111111,
              "#46039f"
             ],
             [
              0.2222222222222222,
              "#7201a8"
             ],
             [
              0.3333333333333333,
              "#9c179e"
             ],
             [
              0.4444444444444444,
              "#bd3786"
             ],
             [
              0.5555555555555556,
              "#d8576b"
             ],
             [
              0.6666666666666666,
              "#ed7953"
             ],
             [
              0.7777777777777778,
              "#fb9f3a"
             ],
             [
              0.8888888888888888,
              "#fdca26"
             ],
             [
              1,
              "#f0f921"
             ]
            ],
            "type": "contour"
           }
          ],
          "contourcarpet": [
           {
            "colorbar": {
             "outlinewidth": 0,
             "ticks": ""
            },
            "type": "contourcarpet"
           }
          ],
          "heatmap": [
           {
            "colorbar": {
             "outlinewidth": 0,
             "ticks": ""
            },
            "colorscale": [
             [
              0,
              "#0d0887"
             ],
             [
              0.1111111111111111,
              "#46039f"
             ],
             [
              0.2222222222222222,
              "#7201a8"
             ],
             [
              0.3333333333333333,
              "#9c179e"
             ],
             [
              0.4444444444444444,
              "#bd3786"
             ],
             [
              0.5555555555555556,
              "#d8576b"
             ],
             [
              0.6666666666666666,
              "#ed7953"
             ],
             [
              0.7777777777777778,
              "#fb9f3a"
             ],
             [
              0.8888888888888888,
              "#fdca26"
             ],
             [
              1,
              "#f0f921"
             ]
            ],
            "type": "heatmap"
           }
          ],
          "heatmapgl": [
           {
            "colorbar": {
             "outlinewidth": 0,
             "ticks": ""
            },
            "colorscale": [
             [
              0,
              "#0d0887"
             ],
             [
              0.1111111111111111,
              "#46039f"
             ],
             [
              0.2222222222222222,
              "#7201a8"
             ],
             [
              0.3333333333333333,
              "#9c179e"
             ],
             [
              0.4444444444444444,
              "#bd3786"
             ],
             [
              0.5555555555555556,
              "#d8576b"
             ],
             [
              0.6666666666666666,
              "#ed7953"
             ],
             [
              0.7777777777777778,
              "#fb9f3a"
             ],
             [
              0.8888888888888888,
              "#fdca26"
             ],
             [
              1,
              "#f0f921"
             ]
            ],
            "type": "heatmapgl"
           }
          ],
          "histogram": [
           {
            "marker": {
             "pattern": {
              "fillmode": "overlay",
              "size": 10,
              "solidity": 0.2
             }
            },
            "type": "histogram"
           }
          ],
          "histogram2d": [
           {
            "colorbar": {
             "outlinewidth": 0,
             "ticks": ""
            },
            "colorscale": [
             [
              0,
              "#0d0887"
             ],
             [
              0.1111111111111111,
              "#46039f"
             ],
             [
              0.2222222222222222,
              "#7201a8"
             ],
             [
              0.3333333333333333,
              "#9c179e"
             ],
             [
              0.4444444444444444,
              "#bd3786"
             ],
             [
              0.5555555555555556,
              "#d8576b"
             ],
             [
              0.6666666666666666,
              "#ed7953"
             ],
             [
              0.7777777777777778,
              "#fb9f3a"
             ],
             [
              0.8888888888888888,
              "#fdca26"
             ],
             [
              1,
              "#f0f921"
             ]
            ],
            "type": "histogram2d"
           }
          ],
          "histogram2dcontour": [
           {
            "colorbar": {
             "outlinewidth": 0,
             "ticks": ""
            },
            "colorscale": [
             [
              0,
              "#0d0887"
             ],
             [
              0.1111111111111111,
              "#46039f"
             ],
             [
              0.2222222222222222,
              "#7201a8"
             ],
             [
              0.3333333333333333,
              "#9c179e"
             ],
             [
              0.4444444444444444,
              "#bd3786"
             ],
             [
              0.5555555555555556,
              "#d8576b"
             ],
             [
              0.6666666666666666,
              "#ed7953"
             ],
             [
              0.7777777777777778,
              "#fb9f3a"
             ],
             [
              0.8888888888888888,
              "#fdca26"
             ],
             [
              1,
              "#f0f921"
             ]
            ],
            "type": "histogram2dcontour"
           }
          ],
          "mesh3d": [
           {
            "colorbar": {
             "outlinewidth": 0,
             "ticks": ""
            },
            "type": "mesh3d"
           }
          ],
          "parcoords": [
           {
            "line": {
             "colorbar": {
              "outlinewidth": 0,
              "ticks": ""
             }
            },
            "type": "parcoords"
           }
          ],
          "pie": [
           {
            "automargin": true,
            "type": "pie"
           }
          ],
          "scatter": [
           {
            "marker": {
             "colorbar": {
              "outlinewidth": 0,
              "ticks": ""
             }
            },
            "type": "scatter"
           }
          ],
          "scatter3d": [
           {
            "line": {
             "colorbar": {
              "outlinewidth": 0,
              "ticks": ""
             }
            },
            "marker": {
             "colorbar": {
              "outlinewidth": 0,
              "ticks": ""
             }
            },
            "type": "scatter3d"
           }
          ],
          "scattercarpet": [
           {
            "marker": {
             "colorbar": {
              "outlinewidth": 0,
              "ticks": ""
             }
            },
            "type": "scattercarpet"
           }
          ],
          "scattergeo": [
           {
            "marker": {
             "colorbar": {
              "outlinewidth": 0,
              "ticks": ""
             }
            },
            "type": "scattergeo"
           }
          ],
          "scattergl": [
           {
            "marker": {
             "colorbar": {
              "outlinewidth": 0,
              "ticks": ""
             }
            },
            "type": "scattergl"
           }
          ],
          "scattermapbox": [
           {
            "marker": {
             "colorbar": {
              "outlinewidth": 0,
              "ticks": ""
             }
            },
            "type": "scattermapbox"
           }
          ],
          "scatterpolar": [
           {
            "marker": {
             "colorbar": {
              "outlinewidth": 0,
              "ticks": ""
             }
            },
            "type": "scatterpolar"
           }
          ],
          "scatterpolargl": [
           {
            "marker": {
             "colorbar": {
              "outlinewidth": 0,
              "ticks": ""
             }
            },
            "type": "scatterpolargl"
           }
          ],
          "scatterternary": [
           {
            "marker": {
             "colorbar": {
              "outlinewidth": 0,
              "ticks": ""
             }
            },
            "type": "scatterternary"
           }
          ],
          "surface": [
           {
            "colorbar": {
             "outlinewidth": 0,
             "ticks": ""
            },
            "colorscale": [
             [
              0,
              "#0d0887"
             ],
             [
              0.1111111111111111,
              "#46039f"
             ],
             [
              0.2222222222222222,
              "#7201a8"
             ],
             [
              0.3333333333333333,
              "#9c179e"
             ],
             [
              0.4444444444444444,
              "#bd3786"
             ],
             [
              0.5555555555555556,
              "#d8576b"
             ],
             [
              0.6666666666666666,
              "#ed7953"
             ],
             [
              0.7777777777777778,
              "#fb9f3a"
             ],
             [
              0.8888888888888888,
              "#fdca26"
             ],
             [
              1,
              "#f0f921"
             ]
            ],
            "type": "surface"
           }
          ],
          "table": [
           {
            "cells": {
             "fill": {
              "color": "#EBF0F8"
             },
             "line": {
              "color": "white"
             }
            },
            "header": {
             "fill": {
              "color": "#C8D4E3"
             },
             "line": {
              "color": "white"
             }
            },
            "type": "table"
           }
          ]
         },
         "layout": {
          "annotationdefaults": {
           "arrowcolor": "#2a3f5f",
           "arrowhead": 0,
           "arrowwidth": 1
          },
          "autotypenumbers": "strict",
          "coloraxis": {
           "colorbar": {
            "outlinewidth": 0,
            "ticks": ""
           }
          },
          "colorscale": {
           "diverging": [
            [
             0,
             "#8e0152"
            ],
            [
             0.1,
             "#c51b7d"
            ],
            [
             0.2,
             "#de77ae"
            ],
            [
             0.3,
             "#f1b6da"
            ],
            [
             0.4,
             "#fde0ef"
            ],
            [
             0.5,
             "#f7f7f7"
            ],
            [
             0.6,
             "#e6f5d0"
            ],
            [
             0.7,
             "#b8e186"
            ],
            [
             0.8,
             "#7fbc41"
            ],
            [
             0.9,
             "#4d9221"
            ],
            [
             1,
             "#276419"
            ]
           ],
           "sequential": [
            [
             0,
             "#0d0887"
            ],
            [
             0.1111111111111111,
             "#46039f"
            ],
            [
             0.2222222222222222,
             "#7201a8"
            ],
            [
             0.3333333333333333,
             "#9c179e"
            ],
            [
             0.4444444444444444,
             "#bd3786"
            ],
            [
             0.5555555555555556,
             "#d8576b"
            ],
            [
             0.6666666666666666,
             "#ed7953"
            ],
            [
             0.7777777777777778,
             "#fb9f3a"
            ],
            [
             0.8888888888888888,
             "#fdca26"
            ],
            [
             1,
             "#f0f921"
            ]
           ],
           "sequentialminus": [
            [
             0,
             "#0d0887"
            ],
            [
             0.1111111111111111,
             "#46039f"
            ],
            [
             0.2222222222222222,
             "#7201a8"
            ],
            [
             0.3333333333333333,
             "#9c179e"
            ],
            [
             0.4444444444444444,
             "#bd3786"
            ],
            [
             0.5555555555555556,
             "#d8576b"
            ],
            [
             0.6666666666666666,
             "#ed7953"
            ],
            [
             0.7777777777777778,
             "#fb9f3a"
            ],
            [
             0.8888888888888888,
             "#fdca26"
            ],
            [
             1,
             "#f0f921"
            ]
           ]
          },
          "colorway": [
           "#636efa",
           "#EF553B",
           "#00cc96",
           "#ab63fa",
           "#FFA15A",
           "#19d3f3",
           "#FF6692",
           "#B6E880",
           "#FF97FF",
           "#FECB52"
          ],
          "font": {
           "color": "#2a3f5f"
          },
          "geo": {
           "bgcolor": "white",
           "lakecolor": "white",
           "landcolor": "#E5ECF6",
           "showlakes": true,
           "showland": true,
           "subunitcolor": "white"
          },
          "hoverlabel": {
           "align": "left"
          },
          "hovermode": "closest",
          "mapbox": {
           "style": "light"
          },
          "paper_bgcolor": "white",
          "plot_bgcolor": "#E5ECF6",
          "polar": {
           "angularaxis": {
            "gridcolor": "white",
            "linecolor": "white",
            "ticks": ""
           },
           "bgcolor": "#E5ECF6",
           "radialaxis": {
            "gridcolor": "white",
            "linecolor": "white",
            "ticks": ""
           }
          },
          "scene": {
           "xaxis": {
            "backgroundcolor": "#E5ECF6",
            "gridcolor": "white",
            "gridwidth": 2,
            "linecolor": "white",
            "showbackground": true,
            "ticks": "",
            "zerolinecolor": "white"
           },
           "yaxis": {
            "backgroundcolor": "#E5ECF6",
            "gridcolor": "white",
            "gridwidth": 2,
            "linecolor": "white",
            "showbackground": true,
            "ticks": "",
            "zerolinecolor": "white"
           },
           "zaxis": {
            "backgroundcolor": "#E5ECF6",
            "gridcolor": "white",
            "gridwidth": 2,
            "linecolor": "white",
            "showbackground": true,
            "ticks": "",
            "zerolinecolor": "white"
           }
          },
          "shapedefaults": {
           "line": {
            "color": "#2a3f5f"
           }
          },
          "ternary": {
           "aaxis": {
            "gridcolor": "white",
            "linecolor": "white",
            "ticks": ""
           },
           "baxis": {
            "gridcolor": "white",
            "linecolor": "white",
            "ticks": ""
           },
           "bgcolor": "#E5ECF6",
           "caxis": {
            "gridcolor": "white",
            "linecolor": "white",
            "ticks": ""
           }
          },
          "title": {
           "x": 0.05
          },
          "xaxis": {
           "automargin": true,
           "gridcolor": "white",
           "linecolor": "white",
           "ticks": "",
           "title": {
            "standoff": 15
           },
           "zerolinecolor": "white",
           "zerolinewidth": 2
          },
          "yaxis": {
           "automargin": true,
           "gridcolor": "white",
           "linecolor": "white",
           "ticks": "",
           "title": {
            "standoff": 15
           },
           "zerolinecolor": "white",
           "zerolinewidth": 2
          }
         }
        },
        "title": {
         "font": {
          "color": "#4D5663"
         }
        },
        "xaxis": {
         "gridcolor": "#E1E5ED",
         "showgrid": true,
         "tickfont": {
          "color": "#4D5663"
         },
         "title": {
          "font": {
           "color": "#4D5663"
          },
          "text": ""
         },
         "zerolinecolor": "#E1E5ED"
        },
        "yaxis": {
         "gridcolor": "#E1E5ED",
         "showgrid": true,
         "tickfont": {
          "color": "#4D5663"
         },
         "title": {
          "font": {
           "color": "#4D5663"
          },
          "text": ""
         },
         "zerolinecolor": "#E1E5ED"
        }
       }
      },
      "text/html": [
       "<div>                            <div id=\"9debcc03-e28e-4194-b60d-973309dac9ff\" class=\"plotly-graph-div\" style=\"height:525px; width:100%;\"></div>            <script type=\"text/javascript\">                require([\"plotly\"], function(Plotly) {                    window.PLOTLYENV=window.PLOTLYENV || {};\n",
       "                    window.PLOTLYENV.BASE_URL='https://plot.ly';                                    if (document.getElementById(\"9debcc03-e28e-4194-b60d-973309dac9ff\")) {                    Plotly.newPlot(                        \"9debcc03-e28e-4194-b60d-973309dac9ff\",                        [{\"marker\":{\"color\":[\"rgb(255, 153, 51)\",\"rgb(55, 128, 191)\",\"rgb(50, 171, 96)\",\"rgb(128, 0, 128)\",\"rgb(219, 64, 82)\",\"rgb(0, 128, 128)\",\"rgb(255, 255, 51)\",\"rgb(128, 128, 0)\",\"rgb(251, 128, 114)\",\"rgb(128, 177, 211)\"],\"line\":{\"width\":1.3},\"size\":[58,112,80,81,70,42,52,88,71,57,58,18,34,76,38,73,45,95,47,77,81,84,72,66,50,106,51,67,39,48,79,71,50,95,28,12,40,81,98,53,80,69,81,76,69,61,93,42,63,105,83,60,83,19,76,93,71,64,38,85,78,66,110,54,87,64,93,63,66,65,107,83,65,46,64,59,55,67,40,32,54,49,36,92,95,30,70,45,57,79,49,52,77,59,65,80,38,40,86,48],\"symbol\":\"circle\"},\"mode\":\"markers\",\"text\":\"\",\"x\":[1.2250091290549099,-0.45155151276997574,-0.434194932410401,0.4965940115376493,0.7154940545115944,0.869248019234941,2.3213512716361366,-0.17578821354583135,-0.6980535363394793,1.7960776805377587,-0.6797508949993439,-0.3309524884809053,-0.6045666646935174,0.39255638365070905,0.8963963207259847,-1.207418038315098,2.43886274114652,-0.25133423822888296,0.344811281109698,0.4651337825187788,-0.9693819748893496,-1.511988582178468,1.471896155007462,-0.398263666264437,0.39168919211590114,1.3028894716559019,0.3780306164092249,-0.5771500751039939,0.7271384586266463,-1.1028606757463444,1.3055889750163336,-0.009495061596881786,-0.21893928001299454,-1.0867415317320401,-0.1275445495943942,0.33115070545190967,2.5642016093451714,-0.2209033831209197,-0.643645732559064,-0.5765241905247848,0.2157414441636662,1.5633915324211198,-1.3815087548291045,-0.4404643403952877,0.46486207751427316,0.5945107910659146,-1.138265783518757,0.010872214988163919,0.576946264815059,-0.3220104816325628,-3.1580009227460373,0.22098917229933435,-0.8812159121268724,-0.6746542906878209,0.04361980450368418,1.1672838672617596,0.7882475378851349,-0.2231655723751139,1.5196027240194374,-0.6141433238954168,0.06664930104555683,0.2811234182254289,-1.656925993858488,0.4418261364739898,-0.5371968332337426,-0.9081527939790605,-0.07855444225988696,-0.8226887787257702,0.9282396462206131,-1.8774564271906615,-0.6151937005939961,-1.3814368588693005,0.4917684583284424,0.43202353599084037,-0.2910669668112129,-1.1742968785696453,0.1145405200398717,0.8879132770752252,2.205142879212352,-0.8708551842512162,0.5146930417481028,-0.7397889246404309,0.3725082553355003,-0.2970889305836918,-0.6023513414272289,-0.6548214421503965,1.0487938530886973,-0.46844577455326064,0.4431751142410106,0.617494687789193,-2.118833378214814,-1.121121567734123,0.060602473271775266,1.5829742026816596,-1.443617735913895,-0.45552498105881545,0.17269055388343957,0.32449455147760553,-0.22266509764397124,-0.35516799968725554],\"y\":[-0.058828348753244795,-0.5585955170846071,0.28592113693614535,0.7369704806177205,0.5040515469067578,-1.150531193233306,0.37863435943863993,2.6446661872057966,0.6141075505621618,-0.2903774701835001,1.2944643852448017,0.08833387861941756,0.740469911373652,-1.2378998245290902,0.8377548461424911,-0.9302492624058314,0.8619676710312983,0.6637615012201094,-0.23583023776775033,-1.7212897063889532,0.7494120556400852,-1.570272198998661,1.8778845200154963,1.3596472166470617,1.6016167744950842,1.4471808283293137,1.1612839763319274,-0.14757504651218814,-0.6595650733988679,0.6936799050890169,1.1145216894947776,0.2988919777304995,-1.2339766655239337,-1.4148282731503572,-1.0186179403047475,-0.5596638109277869,-1.1629501310796933,-1.4580730317331707,0.19043930587364302,0.16607046431833294,-1.1528877738508099,-0.25292305873434856,0.7549938818117207,0.14861042055819765,0.17111415264706922,-2.1938539364050342,-0.5595594846677245,0.5755730956414731,-1.0951142538294591,0.14904979017143627,0.7830949465996929,-2.4694173550155902,-1.375546686025038,-0.9355671286774196,-1.9039772933856638,0.9641021125721575,-0.6541626146441876,1.5570492952921344,-0.28163972606348875,-0.4221870666756173,-0.008255132583119976,-0.974937610260182,1.4744097823938067,0.3941908907496691,-0.46925653750948826,0.6172989994558716,-1.5691837871097243,0.8275091476401291,2.2632501094631494,-0.6628560911357416,0.7473190202715746,0.963350570059107,1.4179540247512379,0.2813514042710119,0.2972570430123793,-0.3746604454081584,1.1064630868964769,-1.3066939251958634,-0.40644182487705977,-1.917462490109074,-0.791861120472799,-0.2343111928184764,0.09114874510176733,0.062218244033363616,-0.802451728592171,0.06171028511578955,0.4198079906863518,1.3820369642682173,0.075842013636187,-1.466189127750254,-0.5352111977391772,-0.5826480477362354,1.5796807614050792,-0.04240384621818216,-0.017172085149557044,-1.6690116849350105,-0.5526387152921023,-1.329721799479411,0.24578920761770287,0.7237373775718123],\"type\":\"scatter\"}],                        {\"legend\":{\"bgcolor\":\"#F5F6F9\",\"font\":{\"color\":\"#4D5663\"}},\"paper_bgcolor\":\"#F5F6F9\",\"plot_bgcolor\":\"#F5F6F9\",\"template\":{\"data\":{\"barpolar\":[{\"marker\":{\"line\":{\"color\":\"#E5ECF6\",\"width\":0.5},\"pattern\":{\"fillmode\":\"overlay\",\"size\":10,\"solidity\":0.2}},\"type\":\"barpolar\"}],\"bar\":[{\"error_x\":{\"color\":\"#2a3f5f\"},\"error_y\":{\"color\":\"#2a3f5f\"},\"marker\":{\"line\":{\"color\":\"#E5ECF6\",\"width\":0.5},\"pattern\":{\"fillmode\":\"overlay\",\"size\":10,\"solidity\":0.2}},\"type\":\"bar\"}],\"carpet\":[{\"aaxis\":{\"endlinecolor\":\"#2a3f5f\",\"gridcolor\":\"white\",\"linecolor\":\"white\",\"minorgridcolor\":\"white\",\"startlinecolor\":\"#2a3f5f\"},\"baxis\":{\"endlinecolor\":\"#2a3f5f\",\"gridcolor\":\"white\",\"linecolor\":\"white\",\"minorgridcolor\":\"white\",\"startlinecolor\":\"#2a3f5f\"},\"type\":\"carpet\"}],\"choropleth\":[{\"colorbar\":{\"outlinewidth\":0,\"ticks\":\"\"},\"type\":\"choropleth\"}],\"contourcarpet\":[{\"colorbar\":{\"outlinewidth\":0,\"ticks\":\"\"},\"type\":\"contourcarpet\"}],\"contour\":[{\"colorbar\":{\"outlinewidth\":0,\"ticks\":\"\"},\"colorscale\":[[0.0,\"#0d0887\"],[0.1111111111111111,\"#46039f\"],[0.2222222222222222,\"#7201a8\"],[0.3333333333333333,\"#9c179e\"],[0.4444444444444444,\"#bd3786\"],[0.5555555555555556,\"#d8576b\"],[0.6666666666666666,\"#ed7953\"],[0.7777777777777778,\"#fb9f3a\"],[0.8888888888888888,\"#fdca26\"],[1.0,\"#f0f921\"]],\"type\":\"contour\"}],\"heatmapgl\":[{\"colorbar\":{\"outlinewidth\":0,\"ticks\":\"\"},\"colorscale\":[[0.0,\"#0d0887\"],[0.1111111111111111,\"#46039f\"],[0.2222222222222222,\"#7201a8\"],[0.3333333333333333,\"#9c179e\"],[0.4444444444444444,\"#bd3786\"],[0.5555555555555556,\"#d8576b\"],[0.6666666666666666,\"#ed7953\"],[0.7777777777777778,\"#fb9f3a\"],[0.8888888888888888,\"#fdca26\"],[1.0,\"#f0f921\"]],\"type\":\"heatmapgl\"}],\"heatmap\":[{\"colorbar\":{\"outlinewidth\":0,\"ticks\":\"\"},\"colorscale\":[[0.0,\"#0d0887\"],[0.1111111111111111,\"#46039f\"],[0.2222222222222222,\"#7201a8\"],[0.3333333333333333,\"#9c179e\"],[0.4444444444444444,\"#bd3786\"],[0.5555555555555556,\"#d8576b\"],[0.6666666666666666,\"#ed7953\"],[0.7777777777777778,\"#fb9f3a\"],[0.8888888888888888,\"#fdca26\"],[1.0,\"#f0f921\"]],\"type\":\"heatmap\"}],\"histogram2dcontour\":[{\"colorbar\":{\"outlinewidth\":0,\"ticks\":\"\"},\"colorscale\":[[0.0,\"#0d0887\"],[0.1111111111111111,\"#46039f\"],[0.2222222222222222,\"#7201a8\"],[0.3333333333333333,\"#9c179e\"],[0.4444444444444444,\"#bd3786\"],[0.5555555555555556,\"#d8576b\"],[0.6666666666666666,\"#ed7953\"],[0.7777777777777778,\"#fb9f3a\"],[0.8888888888888888,\"#fdca26\"],[1.0,\"#f0f921\"]],\"type\":\"histogram2dcontour\"}],\"histogram2d\":[{\"colorbar\":{\"outlinewidth\":0,\"ticks\":\"\"},\"colorscale\":[[0.0,\"#0d0887\"],[0.1111111111111111,\"#46039f\"],[0.2222222222222222,\"#7201a8\"],[0.3333333333333333,\"#9c179e\"],[0.4444444444444444,\"#bd3786\"],[0.5555555555555556,\"#d8576b\"],[0.6666666666666666,\"#ed7953\"],[0.7777777777777778,\"#fb9f3a\"],[0.8888888888888888,\"#fdca26\"],[1.0,\"#f0f921\"]],\"type\":\"histogram2d\"}],\"histogram\":[{\"marker\":{\"pattern\":{\"fillmode\":\"overlay\",\"size\":10,\"solidity\":0.2}},\"type\":\"histogram\"}],\"mesh3d\":[{\"colorbar\":{\"outlinewidth\":0,\"ticks\":\"\"},\"type\":\"mesh3d\"}],\"parcoords\":[{\"line\":{\"colorbar\":{\"outlinewidth\":0,\"ticks\":\"\"}},\"type\":\"parcoords\"}],\"pie\":[{\"automargin\":true,\"type\":\"pie\"}],\"scatter3d\":[{\"line\":{\"colorbar\":{\"outlinewidth\":0,\"ticks\":\"\"}},\"marker\":{\"colorbar\":{\"outlinewidth\":0,\"ticks\":\"\"}},\"type\":\"scatter3d\"}],\"scattercarpet\":[{\"marker\":{\"colorbar\":{\"outlinewidth\":0,\"ticks\":\"\"}},\"type\":\"scattercarpet\"}],\"scattergeo\":[{\"marker\":{\"colorbar\":{\"outlinewidth\":0,\"ticks\":\"\"}},\"type\":\"scattergeo\"}],\"scattergl\":[{\"marker\":{\"colorbar\":{\"outlinewidth\":0,\"ticks\":\"\"}},\"type\":\"scattergl\"}],\"scattermapbox\":[{\"marker\":{\"colorbar\":{\"outlinewidth\":0,\"ticks\":\"\"}},\"type\":\"scattermapbox\"}],\"scatterpolargl\":[{\"marker\":{\"colorbar\":{\"outlinewidth\":0,\"ticks\":\"\"}},\"type\":\"scatterpolargl\"}],\"scatterpolar\":[{\"marker\":{\"colorbar\":{\"outlinewidth\":0,\"ticks\":\"\"}},\"type\":\"scatterpolar\"}],\"scatter\":[{\"marker\":{\"colorbar\":{\"outlinewidth\":0,\"ticks\":\"\"}},\"type\":\"scatter\"}],\"scatterternary\":[{\"marker\":{\"colorbar\":{\"outlinewidth\":0,\"ticks\":\"\"}},\"type\":\"scatterternary\"}],\"surface\":[{\"colorbar\":{\"outlinewidth\":0,\"ticks\":\"\"},\"colorscale\":[[0.0,\"#0d0887\"],[0.1111111111111111,\"#46039f\"],[0.2222222222222222,\"#7201a8\"],[0.3333333333333333,\"#9c179e\"],[0.4444444444444444,\"#bd3786\"],[0.5555555555555556,\"#d8576b\"],[0.6666666666666666,\"#ed7953\"],[0.7777777777777778,\"#fb9f3a\"],[0.8888888888888888,\"#fdca26\"],[1.0,\"#f0f921\"]],\"type\":\"surface\"}],\"table\":[{\"cells\":{\"fill\":{\"color\":\"#EBF0F8\"},\"line\":{\"color\":\"white\"}},\"header\":{\"fill\":{\"color\":\"#C8D4E3\"},\"line\":{\"color\":\"white\"}},\"type\":\"table\"}]},\"layout\":{\"annotationdefaults\":{\"arrowcolor\":\"#2a3f5f\",\"arrowhead\":0,\"arrowwidth\":1},\"autotypenumbers\":\"strict\",\"coloraxis\":{\"colorbar\":{\"outlinewidth\":0,\"ticks\":\"\"}},\"colorscale\":{\"diverging\":[[0,\"#8e0152\"],[0.1,\"#c51b7d\"],[0.2,\"#de77ae\"],[0.3,\"#f1b6da\"],[0.4,\"#fde0ef\"],[0.5,\"#f7f7f7\"],[0.6,\"#e6f5d0\"],[0.7,\"#b8e186\"],[0.8,\"#7fbc41\"],[0.9,\"#4d9221\"],[1,\"#276419\"]],\"sequential\":[[0.0,\"#0d0887\"],[0.1111111111111111,\"#46039f\"],[0.2222222222222222,\"#7201a8\"],[0.3333333333333333,\"#9c179e\"],[0.4444444444444444,\"#bd3786\"],[0.5555555555555556,\"#d8576b\"],[0.6666666666666666,\"#ed7953\"],[0.7777777777777778,\"#fb9f3a\"],[0.8888888888888888,\"#fdca26\"],[1.0,\"#f0f921\"]],\"sequentialminus\":[[0.0,\"#0d0887\"],[0.1111111111111111,\"#46039f\"],[0.2222222222222222,\"#7201a8\"],[0.3333333333333333,\"#9c179e\"],[0.4444444444444444,\"#bd3786\"],[0.5555555555555556,\"#d8576b\"],[0.6666666666666666,\"#ed7953\"],[0.7777777777777778,\"#fb9f3a\"],[0.8888888888888888,\"#fdca26\"],[1.0,\"#f0f921\"]]},\"colorway\":[\"#636efa\",\"#EF553B\",\"#00cc96\",\"#ab63fa\",\"#FFA15A\",\"#19d3f3\",\"#FF6692\",\"#B6E880\",\"#FF97FF\",\"#FECB52\"],\"font\":{\"color\":\"#2a3f5f\"},\"geo\":{\"bgcolor\":\"white\",\"lakecolor\":\"white\",\"landcolor\":\"#E5ECF6\",\"showlakes\":true,\"showland\":true,\"subunitcolor\":\"white\"},\"hoverlabel\":{\"align\":\"left\"},\"hovermode\":\"closest\",\"mapbox\":{\"style\":\"light\"},\"paper_bgcolor\":\"white\",\"plot_bgcolor\":\"#E5ECF6\",\"polar\":{\"angularaxis\":{\"gridcolor\":\"white\",\"linecolor\":\"white\",\"ticks\":\"\"},\"bgcolor\":\"#E5ECF6\",\"radialaxis\":{\"gridcolor\":\"white\",\"linecolor\":\"white\",\"ticks\":\"\"}},\"scene\":{\"xaxis\":{\"backgroundcolor\":\"#E5ECF6\",\"gridcolor\":\"white\",\"gridwidth\":2,\"linecolor\":\"white\",\"showbackground\":true,\"ticks\":\"\",\"zerolinecolor\":\"white\"},\"yaxis\":{\"backgroundcolor\":\"#E5ECF6\",\"gridcolor\":\"white\",\"gridwidth\":2,\"linecolor\":\"white\",\"showbackground\":true,\"ticks\":\"\",\"zerolinecolor\":\"white\"},\"zaxis\":{\"backgroundcolor\":\"#E5ECF6\",\"gridcolor\":\"white\",\"gridwidth\":2,\"linecolor\":\"white\",\"showbackground\":true,\"ticks\":\"\",\"zerolinecolor\":\"white\"}},\"shapedefaults\":{\"line\":{\"color\":\"#2a3f5f\"}},\"ternary\":{\"aaxis\":{\"gridcolor\":\"white\",\"linecolor\":\"white\",\"ticks\":\"\"},\"baxis\":{\"gridcolor\":\"white\",\"linecolor\":\"white\",\"ticks\":\"\"},\"bgcolor\":\"#E5ECF6\",\"caxis\":{\"gridcolor\":\"white\",\"linecolor\":\"white\",\"ticks\":\"\"}},\"title\":{\"x\":0.05},\"xaxis\":{\"automargin\":true,\"gridcolor\":\"white\",\"linecolor\":\"white\",\"ticks\":\"\",\"title\":{\"standoff\":15},\"zerolinecolor\":\"white\",\"zerolinewidth\":2},\"yaxis\":{\"automargin\":true,\"gridcolor\":\"white\",\"linecolor\":\"white\",\"ticks\":\"\",\"title\":{\"standoff\":15},\"zerolinecolor\":\"white\",\"zerolinewidth\":2}}},\"title\":{\"font\":{\"color\":\"#4D5663\"}},\"xaxis\":{\"gridcolor\":\"#E1E5ED\",\"showgrid\":true,\"tickfont\":{\"color\":\"#4D5663\"},\"title\":{\"font\":{\"color\":\"#4D5663\"},\"text\":\"\"},\"zerolinecolor\":\"#E1E5ED\"},\"yaxis\":{\"gridcolor\":\"#E1E5ED\",\"showgrid\":true,\"tickfont\":{\"color\":\"#4D5663\"},\"title\":{\"font\":{\"color\":\"#4D5663\"},\"text\":\"\"},\"zerolinecolor\":\"#E1E5ED\"}},                        {\"showLink\": true, \"linkText\": \"Export to plot.ly\", \"plotlyServerURL\": \"https://plot.ly\", \"responsive\": true}                    ).then(function(){\n",
       "                            \n",
       "var gd = document.getElementById('9debcc03-e28e-4194-b60d-973309dac9ff');\n",
       "var x = new MutationObserver(function (mutations, observer) {{\n",
       "        var display = window.getComputedStyle(gd).display;\n",
       "        if (!display || display === 'none') {{\n",
       "            console.log([gd, 'removed!']);\n",
       "            Plotly.purge(gd);\n",
       "            observer.disconnect();\n",
       "        }}\n",
       "}});\n",
       "\n",
       "// Listen for the removal of the full notebook cells\n",
       "var notebookContainer = gd.closest('#notebook-container');\n",
       "if (notebookContainer) {{\n",
       "    x.observe(notebookContainer, {childList: true});\n",
       "}}\n",
       "\n",
       "// Listen for the clearing of the current output cell\n",
       "var outputEl = gd.closest('.output');\n",
       "if (outputEl) {{\n",
       "    x.observe(outputEl, {childList: true});\n",
       "}}\n",
       "\n",
       "                        })                };                });            </script>        </div>"
      ]
     },
     "metadata": {},
     "output_type": "display_data"
    }
   ],
   "source": [
    "df.iplot(kind='bubble',x='A',y='B',size='C')"
   ]
  },
  {
   "cell_type": "markdown",
   "id": "091e5391",
   "metadata": {},
   "source": [
    "# scatter_matrix()\n",
    "\n",
    "Similar to sns.pairplot()"
   ]
  },
  {
   "cell_type": "code",
   "execution_count": 25,
   "id": "561337df",
   "metadata": {},
   "outputs": [
    {
     "data": {
      "application/vnd.plotly.v1+json": {
       "config": {
        "linkText": "Export to plot.ly",
        "plotlyServerURL": "https://plot.ly",
        "showLink": true
       },
       "data": [
        {
         "histfunc": "count",
         "histnorm": "",
         "marker": {
          "color": "rgba(255, 153, 51, 1.0)",
          "line": {
           "color": "#4D5663",
           "width": 1.3
          }
         },
         "name": "A",
         "nbinsx": 10,
         "opacity": 0.8,
         "orientation": "v",
         "type": "histogram",
         "x": [
          1.2250091290549099,
          -0.45155151276997574,
          -0.434194932410401,
          0.4965940115376493,
          0.7154940545115944,
          0.869248019234941,
          2.3213512716361366,
          -0.17578821354583135,
          -0.6980535363394793,
          1.7960776805377587,
          -0.6797508949993439,
          -0.3309524884809053,
          -0.6045666646935174,
          0.39255638365070905,
          0.8963963207259847,
          -1.207418038315098,
          2.43886274114652,
          -0.25133423822888296,
          0.344811281109698,
          0.4651337825187788,
          -0.9693819748893496,
          -1.511988582178468,
          1.471896155007462,
          -0.398263666264437,
          0.39168919211590114,
          1.3028894716559019,
          0.3780306164092249,
          -0.5771500751039939,
          0.7271384586266463,
          -1.1028606757463444,
          1.3055889750163336,
          -0.009495061596881786,
          -0.21893928001299454,
          -1.0867415317320401,
          -0.1275445495943942,
          0.33115070545190967,
          2.5642016093451714,
          -0.2209033831209197,
          -0.643645732559064,
          -0.5765241905247848,
          0.2157414441636662,
          1.5633915324211198,
          -1.3815087548291045,
          -0.4404643403952877,
          0.46486207751427316,
          0.5945107910659146,
          -1.138265783518757,
          0.010872214988163919,
          0.576946264815059,
          -0.3220104816325628,
          -3.1580009227460373,
          0.22098917229933435,
          -0.8812159121268724,
          -0.6746542906878209,
          0.04361980450368418,
          1.1672838672617596,
          0.7882475378851349,
          -0.2231655723751139,
          1.5196027240194374,
          -0.6141433238954168,
          0.06664930104555683,
          0.2811234182254289,
          -1.656925993858488,
          0.4418261364739898,
          -0.5371968332337426,
          -0.9081527939790605,
          -0.07855444225988696,
          -0.8226887787257702,
          0.9282396462206131,
          -1.8774564271906615,
          -0.6151937005939961,
          -1.3814368588693005,
          0.4917684583284424,
          0.43202353599084037,
          -0.2910669668112129,
          -1.1742968785696453,
          0.1145405200398717,
          0.8879132770752252,
          2.205142879212352,
          -0.8708551842512162,
          0.5146930417481028,
          -0.7397889246404309,
          0.3725082553355003,
          -0.2970889305836918,
          -0.6023513414272289,
          -0.6548214421503965,
          1.0487938530886973,
          -0.46844577455326064,
          0.4431751142410106,
          0.617494687789193,
          -2.118833378214814,
          -1.121121567734123,
          0.060602473271775266,
          1.5829742026816596,
          -1.443617735913895,
          -0.45552498105881545,
          0.17269055388343957,
          0.32449455147760553,
          -0.22266509764397124,
          -0.35516799968725554
         ],
         "xaxis": "x",
         "yaxis": "y"
        },
        {
         "line": {
          "color": "rgba(128, 128, 128, 1.0)",
          "dash": "solid",
          "shape": "linear",
          "width": 1.3
         },
         "marker": {
          "size": 2,
          "symbol": "circle"
         },
         "mode": "markers",
         "name": "A",
         "text": "",
         "type": "scatter",
         "x": [
          -0.058828348753244795,
          -0.5585955170846071,
          0.28592113693614535,
          0.7369704806177205,
          0.5040515469067578,
          -1.150531193233306,
          0.37863435943863993,
          2.6446661872057966,
          0.6141075505621618,
          -0.2903774701835001,
          1.2944643852448017,
          0.08833387861941756,
          0.740469911373652,
          -1.2378998245290902,
          0.8377548461424911,
          -0.9302492624058314,
          0.8619676710312983,
          0.6637615012201094,
          -0.23583023776775033,
          -1.7212897063889532,
          0.7494120556400852,
          -1.570272198998661,
          1.8778845200154963,
          1.3596472166470617,
          1.6016167744950842,
          1.4471808283293137,
          1.1612839763319274,
          -0.14757504651218814,
          -0.6595650733988679,
          0.6936799050890169,
          1.1145216894947776,
          0.2988919777304995,
          -1.2339766655239337,
          -1.4148282731503572,
          -1.0186179403047475,
          -0.5596638109277869,
          -1.1629501310796933,
          -1.4580730317331707,
          0.19043930587364302,
          0.16607046431833294,
          -1.1528877738508099,
          -0.25292305873434856,
          0.7549938818117207,
          0.14861042055819765,
          0.17111415264706922,
          -2.1938539364050342,
          -0.5595594846677245,
          0.5755730956414731,
          -1.0951142538294591,
          0.14904979017143627,
          0.7830949465996929,
          -2.4694173550155902,
          -1.375546686025038,
          -0.9355671286774196,
          -1.9039772933856638,
          0.9641021125721575,
          -0.6541626146441876,
          1.5570492952921344,
          -0.28163972606348875,
          -0.4221870666756173,
          -0.008255132583119976,
          -0.974937610260182,
          1.4744097823938067,
          0.3941908907496691,
          -0.46925653750948826,
          0.6172989994558716,
          -1.5691837871097243,
          0.8275091476401291,
          2.2632501094631494,
          -0.6628560911357416,
          0.7473190202715746,
          0.963350570059107,
          1.4179540247512379,
          0.2813514042710119,
          0.2972570430123793,
          -0.3746604454081584,
          1.1064630868964769,
          -1.3066939251958634,
          -0.40644182487705977,
          -1.917462490109074,
          -0.791861120472799,
          -0.2343111928184764,
          0.09114874510176733,
          0.062218244033363616,
          -0.802451728592171,
          0.06171028511578955,
          0.4198079906863518,
          1.3820369642682173,
          0.075842013636187,
          -1.466189127750254,
          -0.5352111977391772,
          -0.5826480477362354,
          1.5796807614050792,
          -0.04240384621818216,
          -0.017172085149557044,
          -1.6690116849350105,
          -0.5526387152921023,
          -1.329721799479411,
          0.24578920761770287,
          0.7237373775718123
         ],
         "xaxis": "x2",
         "y": [
          1.2250091290549099,
          -0.45155151276997574,
          -0.434194932410401,
          0.4965940115376493,
          0.7154940545115944,
          0.869248019234941,
          2.3213512716361366,
          -0.17578821354583135,
          -0.6980535363394793,
          1.7960776805377587,
          -0.6797508949993439,
          -0.3309524884809053,
          -0.6045666646935174,
          0.39255638365070905,
          0.8963963207259847,
          -1.207418038315098,
          2.43886274114652,
          -0.25133423822888296,
          0.344811281109698,
          0.4651337825187788,
          -0.9693819748893496,
          -1.511988582178468,
          1.471896155007462,
          -0.398263666264437,
          0.39168919211590114,
          1.3028894716559019,
          0.3780306164092249,
          -0.5771500751039939,
          0.7271384586266463,
          -1.1028606757463444,
          1.3055889750163336,
          -0.009495061596881786,
          -0.21893928001299454,
          -1.0867415317320401,
          -0.1275445495943942,
          0.33115070545190967,
          2.5642016093451714,
          -0.2209033831209197,
          -0.643645732559064,
          -0.5765241905247848,
          0.2157414441636662,
          1.5633915324211198,
          -1.3815087548291045,
          -0.4404643403952877,
          0.46486207751427316,
          0.5945107910659146,
          -1.138265783518757,
          0.010872214988163919,
          0.576946264815059,
          -0.3220104816325628,
          -3.1580009227460373,
          0.22098917229933435,
          -0.8812159121268724,
          -0.6746542906878209,
          0.04361980450368418,
          1.1672838672617596,
          0.7882475378851349,
          -0.2231655723751139,
          1.5196027240194374,
          -0.6141433238954168,
          0.06664930104555683,
          0.2811234182254289,
          -1.656925993858488,
          0.4418261364739898,
          -0.5371968332337426,
          -0.9081527939790605,
          -0.07855444225988696,
          -0.8226887787257702,
          0.9282396462206131,
          -1.8774564271906615,
          -0.6151937005939961,
          -1.3814368588693005,
          0.4917684583284424,
          0.43202353599084037,
          -0.2910669668112129,
          -1.1742968785696453,
          0.1145405200398717,
          0.8879132770752252,
          2.205142879212352,
          -0.8708551842512162,
          0.5146930417481028,
          -0.7397889246404309,
          0.3725082553355003,
          -0.2970889305836918,
          -0.6023513414272289,
          -0.6548214421503965,
          1.0487938530886973,
          -0.46844577455326064,
          0.4431751142410106,
          0.617494687789193,
          -2.118833378214814,
          -1.121121567734123,
          0.060602473271775266,
          1.5829742026816596,
          -1.443617735913895,
          -0.45552498105881545,
          0.17269055388343957,
          0.32449455147760553,
          -0.22266509764397124,
          -0.35516799968725554
         ],
         "yaxis": "y2"
        },
        {
         "line": {
          "color": "rgba(128, 128, 128, 1.0)",
          "dash": "solid",
          "shape": "linear",
          "width": 1.3
         },
         "marker": {
          "size": 2,
          "symbol": "circle"
         },
         "mode": "markers",
         "name": "A",
         "text": "",
         "type": "scatter",
         "x": [
          -0.2083042386487811,
          1.9940217019660507,
          0.6868900521656066,
          0.7403954832943933,
          0.25805332100912814,
          -0.9011569445057611,
          -0.4827251614150337,
          1.0030869769211281,
          0.29698123810580285,
          -0.2901223806986594,
          -0.2297965917923508,
          -1.907840012916959,
          -1.2455654462556958,
          0.5152485445690139,
          -1.0509564361591983,
          0.402477045802536,
          -0.7765787637682078,
          1.3269130095321573,
          -0.6689737397983537,
          0.5792245539811444,
          0.7411088610625216,
          0.8505294593115799,
          0.337565961537066,
          0.09942771486809635,
          -0.5639741902201713,
          1.7735546563905753,
          -0.5272003403466731,
          0.15636506360191063,
          -1.0168608912347303,
          -0.6483483944070878,
          0.6359429714590861,
          0.29321320612892793,
          -0.5575024486543803,
          1.314706106833745,
          -1.4602926417139206,
          -2.1593244387803496,
          -0.9915125256757606,
          0.7087333011849094,
          1.4431207862913922,
          -0.4379466361803305,
          0.6718724360567718,
          0.23376497155418177,
          0.7141334401573364,
          0.5137960244136215,
          0.24195585850416812,
          -0.09232689708484221,
          1.2409230680608476,
          -0.8943710338176813,
          -0.02488283665599046,
          1.7051232886593457,
          0.7963260086215248,
          -0.13487163799224222,
          0.8095222084290425,
          -1.8458841213086177,
          0.5353035104471991,
          1.2219545932019658,
          0.31565573575299694,
          0.00212104897591511,
          -1.0437970677697614,
          0.8897972326176441,
          0.5840163282494348,
          0.10457478707717668,
          1.9469467459336642,
          -0.4008457003721722,
          0.9833704584007208,
          0.029773715402908435,
          1.2111780664404013,
          -0.03146949831444492,
          0.08847383790855555,
          0.0529351709738586,
          1.820158923002148,
          0.8228578460750813,
          0.07489330856630462,
          -0.7206384590420204,
          0.039063599122389686,
          -0.18140082374391592,
          -0.3450999073944346,
          0.13828496015484665,
          -0.955705108359854,
          -1.3054477253420014,
          -0.41144534093628854,
          -0.6082919721613056,
          -1.1534001270477723,
          1.1696173660287967,
          1.2984008626926735,
          -1.375702829675632,
          0.2778470265387704,
          -0.7583231926290582,
          -0.2815972749544762,
          0.6332104027712953,
          -0.5870809544825567,
          -0.46938737929678664,
          0.5530455065009544,
          -0.19653247959752876,
          0.07193535079171101,
          0.6765581713207989,
          -1.0684094369816255,
          -0.9881307004761971,
          0.9245895121438726,
          -0.6529543539204322
         ],
         "xaxis": "x3",
         "y": [
          1.2250091290549099,
          -0.45155151276997574,
          -0.434194932410401,
          0.4965940115376493,
          0.7154940545115944,
          0.869248019234941,
          2.3213512716361366,
          -0.17578821354583135,
          -0.6980535363394793,
          1.7960776805377587,
          -0.6797508949993439,
          -0.3309524884809053,
          -0.6045666646935174,
          0.39255638365070905,
          0.8963963207259847,
          -1.207418038315098,
          2.43886274114652,
          -0.25133423822888296,
          0.344811281109698,
          0.4651337825187788,
          -0.9693819748893496,
          -1.511988582178468,
          1.471896155007462,
          -0.398263666264437,
          0.39168919211590114,
          1.3028894716559019,
          0.3780306164092249,
          -0.5771500751039939,
          0.7271384586266463,
          -1.1028606757463444,
          1.3055889750163336,
          -0.009495061596881786,
          -0.21893928001299454,
          -1.0867415317320401,
          -0.1275445495943942,
          0.33115070545190967,
          2.5642016093451714,
          -0.2209033831209197,
          -0.643645732559064,
          -0.5765241905247848,
          0.2157414441636662,
          1.5633915324211198,
          -1.3815087548291045,
          -0.4404643403952877,
          0.46486207751427316,
          0.5945107910659146,
          -1.138265783518757,
          0.010872214988163919,
          0.576946264815059,
          -0.3220104816325628,
          -3.1580009227460373,
          0.22098917229933435,
          -0.8812159121268724,
          -0.6746542906878209,
          0.04361980450368418,
          1.1672838672617596,
          0.7882475378851349,
          -0.2231655723751139,
          1.5196027240194374,
          -0.6141433238954168,
          0.06664930104555683,
          0.2811234182254289,
          -1.656925993858488,
          0.4418261364739898,
          -0.5371968332337426,
          -0.9081527939790605,
          -0.07855444225988696,
          -0.8226887787257702,
          0.9282396462206131,
          -1.8774564271906615,
          -0.6151937005939961,
          -1.3814368588693005,
          0.4917684583284424,
          0.43202353599084037,
          -0.2910669668112129,
          -1.1742968785696453,
          0.1145405200398717,
          0.8879132770752252,
          2.205142879212352,
          -0.8708551842512162,
          0.5146930417481028,
          -0.7397889246404309,
          0.3725082553355003,
          -0.2970889305836918,
          -0.6023513414272289,
          -0.6548214421503965,
          1.0487938530886973,
          -0.46844577455326064,
          0.4431751142410106,
          0.617494687789193,
          -2.118833378214814,
          -1.121121567734123,
          0.060602473271775266,
          1.5829742026816596,
          -1.443617735913895,
          -0.45552498105881545,
          0.17269055388343957,
          0.32449455147760553,
          -0.22266509764397124,
          -0.35516799968725554
         ],
         "yaxis": "y3"
        },
        {
         "line": {
          "color": "rgba(128, 128, 128, 1.0)",
          "dash": "solid",
          "shape": "linear",
          "width": 1.3
         },
         "marker": {
          "size": 2,
          "symbol": "circle"
         },
         "mode": "markers",
         "name": "A",
         "text": "",
         "type": "scatter",
         "x": [
          -0.7295170198037868,
          -0.23998788606590082,
          -1.1547229401264072,
          0.5251275531639371,
          -1.21535597674017,
          1.9753387262494997,
          0.9020659434959302,
          -0.7889940780201902,
          -2.4041437503837253,
          -0.9355465947684439,
          -0.6842111153397739,
          -0.7799432289418868,
          0.16081177876519212,
          1.2841547345103963,
          -0.3227596130499945,
          -0.9039206625056124,
          0.828889919327969,
          -2.9679088884059173,
          -0.5750994822623196,
          0.3846892236574576,
          0.14833093564088037,
          0.07309713066844106,
          -0.25559763349132203,
          -0.4813841083056664,
          -1.9271808617819115,
          -0.6070580733247838,
          -1.1636932324687423,
          1.339280484849487,
          0.47771727654156293,
          -0.5968481161014805,
          1.2968929935229006,
          -0.16216150682417468,
          1.0903918297478092,
          -0.055663382391095195,
          -1.9383170898318631,
          1.112380532950639,
          1.3782274102022636,
          -0.42142411236809735,
          0.8957323065314934,
          0.41097621688336106,
          -0.02765272096708784,
          0.9149429515529102,
          -0.13880192453908266,
          0.47751716452927917,
          0.3481420236491288,
          -0.23131776015717798,
          0.5094548526908059,
          -0.7608094741193897,
          0.11631986292309104,
          -0.2172543381087466,
          -0.951490541615766,
          -0.5926296384911123,
          0.017807357187338953,
          0.9589901026525065,
          -1.1984176228205554,
          0.9022702336672062,
          0.6596991557481351,
          -0.8729232096834276,
          0.6099302488780277,
          1.0768283425233702,
          -0.11221523895765963,
          0.5625163393167306,
          -0.16135609434261725,
          1.9687965814298227,
          -0.06034088230737512,
          1.0471376411737952,
          -3.083514419464437,
          0.3359159310292446,
          0.9532324676202132,
          -2.3431026083136883,
          0.5653884207646511,
          -1.276743836695403,
          -1.2754424081239786,
          0.7273459291173392,
          0.5640935924868778,
          0.35167990059124504,
          -0.009069882781335902,
          2.442716727062103,
          -0.7010249463474859,
          0.8308583001465093,
          0.9078840027915112,
          -0.10398264081503443,
          1.1709992616915568,
          0.6155368314083067,
          1.938359996658619,
          0.46887097910584574,
          1.5980214011585323,
          -1.6680300591099766,
          0.6529140466907034,
          -0.09259132978023017,
          0.4017007216409476,
          1.0866891958055531,
          0.02355809233525598,
          -0.6027075895405759,
          0.29777603835222355,
          -0.29772036756264664,
          0.5102551472094399,
          -2.203414038181977,
          0.14521146581149785,
          -1.7873674316906647
         ],
         "xaxis": "x4",
         "y": [
          1.2250091290549099,
          -0.45155151276997574,
          -0.434194932410401,
          0.4965940115376493,
          0.7154940545115944,
          0.869248019234941,
          2.3213512716361366,
          -0.17578821354583135,
          -0.6980535363394793,
          1.7960776805377587,
          -0.6797508949993439,
          -0.3309524884809053,
          -0.6045666646935174,
          0.39255638365070905,
          0.8963963207259847,
          -1.207418038315098,
          2.43886274114652,
          -0.25133423822888296,
          0.344811281109698,
          0.4651337825187788,
          -0.9693819748893496,
          -1.511988582178468,
          1.471896155007462,
          -0.398263666264437,
          0.39168919211590114,
          1.3028894716559019,
          0.3780306164092249,
          -0.5771500751039939,
          0.7271384586266463,
          -1.1028606757463444,
          1.3055889750163336,
          -0.009495061596881786,
          -0.21893928001299454,
          -1.0867415317320401,
          -0.1275445495943942,
          0.33115070545190967,
          2.5642016093451714,
          -0.2209033831209197,
          -0.643645732559064,
          -0.5765241905247848,
          0.2157414441636662,
          1.5633915324211198,
          -1.3815087548291045,
          -0.4404643403952877,
          0.46486207751427316,
          0.5945107910659146,
          -1.138265783518757,
          0.010872214988163919,
          0.576946264815059,
          -0.3220104816325628,
          -3.1580009227460373,
          0.22098917229933435,
          -0.8812159121268724,
          -0.6746542906878209,
          0.04361980450368418,
          1.1672838672617596,
          0.7882475378851349,
          -0.2231655723751139,
          1.5196027240194374,
          -0.6141433238954168,
          0.06664930104555683,
          0.2811234182254289,
          -1.656925993858488,
          0.4418261364739898,
          -0.5371968332337426,
          -0.9081527939790605,
          -0.07855444225988696,
          -0.8226887787257702,
          0.9282396462206131,
          -1.8774564271906615,
          -0.6151937005939961,
          -1.3814368588693005,
          0.4917684583284424,
          0.43202353599084037,
          -0.2910669668112129,
          -1.1742968785696453,
          0.1145405200398717,
          0.8879132770752252,
          2.205142879212352,
          -0.8708551842512162,
          0.5146930417481028,
          -0.7397889246404309,
          0.3725082553355003,
          -0.2970889305836918,
          -0.6023513414272289,
          -0.6548214421503965,
          1.0487938530886973,
          -0.46844577455326064,
          0.4431751142410106,
          0.617494687789193,
          -2.118833378214814,
          -1.121121567734123,
          0.060602473271775266,
          1.5829742026816596,
          -1.443617735913895,
          -0.45552498105881545,
          0.17269055388343957,
          0.32449455147760553,
          -0.22266509764397124,
          -0.35516799968725554
         ],
         "yaxis": "y4"
        },
        {
         "line": {
          "color": "rgba(128, 128, 128, 1.0)",
          "dash": "solid",
          "shape": "linear",
          "width": 1.3
         },
         "marker": {
          "size": 2,
          "symbol": "circle"
         },
         "mode": "markers",
         "name": "B",
         "text": "",
         "type": "scatter",
         "x": [
          1.2250091290549099,
          -0.45155151276997574,
          -0.434194932410401,
          0.4965940115376493,
          0.7154940545115944,
          0.869248019234941,
          2.3213512716361366,
          -0.17578821354583135,
          -0.6980535363394793,
          1.7960776805377587,
          -0.6797508949993439,
          -0.3309524884809053,
          -0.6045666646935174,
          0.39255638365070905,
          0.8963963207259847,
          -1.207418038315098,
          2.43886274114652,
          -0.25133423822888296,
          0.344811281109698,
          0.4651337825187788,
          -0.9693819748893496,
          -1.511988582178468,
          1.471896155007462,
          -0.398263666264437,
          0.39168919211590114,
          1.3028894716559019,
          0.3780306164092249,
          -0.5771500751039939,
          0.7271384586266463,
          -1.1028606757463444,
          1.3055889750163336,
          -0.009495061596881786,
          -0.21893928001299454,
          -1.0867415317320401,
          -0.1275445495943942,
          0.33115070545190967,
          2.5642016093451714,
          -0.2209033831209197,
          -0.643645732559064,
          -0.5765241905247848,
          0.2157414441636662,
          1.5633915324211198,
          -1.3815087548291045,
          -0.4404643403952877,
          0.46486207751427316,
          0.5945107910659146,
          -1.138265783518757,
          0.010872214988163919,
          0.576946264815059,
          -0.3220104816325628,
          -3.1580009227460373,
          0.22098917229933435,
          -0.8812159121268724,
          -0.6746542906878209,
          0.04361980450368418,
          1.1672838672617596,
          0.7882475378851349,
          -0.2231655723751139,
          1.5196027240194374,
          -0.6141433238954168,
          0.06664930104555683,
          0.2811234182254289,
          -1.656925993858488,
          0.4418261364739898,
          -0.5371968332337426,
          -0.9081527939790605,
          -0.07855444225988696,
          -0.8226887787257702,
          0.9282396462206131,
          -1.8774564271906615,
          -0.6151937005939961,
          -1.3814368588693005,
          0.4917684583284424,
          0.43202353599084037,
          -0.2910669668112129,
          -1.1742968785696453,
          0.1145405200398717,
          0.8879132770752252,
          2.205142879212352,
          -0.8708551842512162,
          0.5146930417481028,
          -0.7397889246404309,
          0.3725082553355003,
          -0.2970889305836918,
          -0.6023513414272289,
          -0.6548214421503965,
          1.0487938530886973,
          -0.46844577455326064,
          0.4431751142410106,
          0.617494687789193,
          -2.118833378214814,
          -1.121121567734123,
          0.060602473271775266,
          1.5829742026816596,
          -1.443617735913895,
          -0.45552498105881545,
          0.17269055388343957,
          0.32449455147760553,
          -0.22266509764397124,
          -0.35516799968725554
         ],
         "xaxis": "x5",
         "y": [
          -0.058828348753244795,
          -0.5585955170846071,
          0.28592113693614535,
          0.7369704806177205,
          0.5040515469067578,
          -1.150531193233306,
          0.37863435943863993,
          2.6446661872057966,
          0.6141075505621618,
          -0.2903774701835001,
          1.2944643852448017,
          0.08833387861941756,
          0.740469911373652,
          -1.2378998245290902,
          0.8377548461424911,
          -0.9302492624058314,
          0.8619676710312983,
          0.6637615012201094,
          -0.23583023776775033,
          -1.7212897063889532,
          0.7494120556400852,
          -1.570272198998661,
          1.8778845200154963,
          1.3596472166470617,
          1.6016167744950842,
          1.4471808283293137,
          1.1612839763319274,
          -0.14757504651218814,
          -0.6595650733988679,
          0.6936799050890169,
          1.1145216894947776,
          0.2988919777304995,
          -1.2339766655239337,
          -1.4148282731503572,
          -1.0186179403047475,
          -0.5596638109277869,
          -1.1629501310796933,
          -1.4580730317331707,
          0.19043930587364302,
          0.16607046431833294,
          -1.1528877738508099,
          -0.25292305873434856,
          0.7549938818117207,
          0.14861042055819765,
          0.17111415264706922,
          -2.1938539364050342,
          -0.5595594846677245,
          0.5755730956414731,
          -1.0951142538294591,
          0.14904979017143627,
          0.7830949465996929,
          -2.4694173550155902,
          -1.375546686025038,
          -0.9355671286774196,
          -1.9039772933856638,
          0.9641021125721575,
          -0.6541626146441876,
          1.5570492952921344,
          -0.28163972606348875,
          -0.4221870666756173,
          -0.008255132583119976,
          -0.974937610260182,
          1.4744097823938067,
          0.3941908907496691,
          -0.46925653750948826,
          0.6172989994558716,
          -1.5691837871097243,
          0.8275091476401291,
          2.2632501094631494,
          -0.6628560911357416,
          0.7473190202715746,
          0.963350570059107,
          1.4179540247512379,
          0.2813514042710119,
          0.2972570430123793,
          -0.3746604454081584,
          1.1064630868964769,
          -1.3066939251958634,
          -0.40644182487705977,
          -1.917462490109074,
          -0.791861120472799,
          -0.2343111928184764,
          0.09114874510176733,
          0.062218244033363616,
          -0.802451728592171,
          0.06171028511578955,
          0.4198079906863518,
          1.3820369642682173,
          0.075842013636187,
          -1.466189127750254,
          -0.5352111977391772,
          -0.5826480477362354,
          1.5796807614050792,
          -0.04240384621818216,
          -0.017172085149557044,
          -1.6690116849350105,
          -0.5526387152921023,
          -1.329721799479411,
          0.24578920761770287,
          0.7237373775718123
         ],
         "yaxis": "y5"
        },
        {
         "histfunc": "count",
         "histnorm": "",
         "marker": {
          "color": "rgba(55, 128, 191, 1.0)",
          "line": {
           "color": "#4D5663",
           "width": 1.3
          }
         },
         "name": "B",
         "nbinsx": 10,
         "opacity": 0.8,
         "orientation": "v",
         "type": "histogram",
         "x": [
          -0.058828348753244795,
          -0.5585955170846071,
          0.28592113693614535,
          0.7369704806177205,
          0.5040515469067578,
          -1.150531193233306,
          0.37863435943863993,
          2.6446661872057966,
          0.6141075505621618,
          -0.2903774701835001,
          1.2944643852448017,
          0.08833387861941756,
          0.740469911373652,
          -1.2378998245290902,
          0.8377548461424911,
          -0.9302492624058314,
          0.8619676710312983,
          0.6637615012201094,
          -0.23583023776775033,
          -1.7212897063889532,
          0.7494120556400852,
          -1.570272198998661,
          1.8778845200154963,
          1.3596472166470617,
          1.6016167744950842,
          1.4471808283293137,
          1.1612839763319274,
          -0.14757504651218814,
          -0.6595650733988679,
          0.6936799050890169,
          1.1145216894947776,
          0.2988919777304995,
          -1.2339766655239337,
          -1.4148282731503572,
          -1.0186179403047475,
          -0.5596638109277869,
          -1.1629501310796933,
          -1.4580730317331707,
          0.19043930587364302,
          0.16607046431833294,
          -1.1528877738508099,
          -0.25292305873434856,
          0.7549938818117207,
          0.14861042055819765,
          0.17111415264706922,
          -2.1938539364050342,
          -0.5595594846677245,
          0.5755730956414731,
          -1.0951142538294591,
          0.14904979017143627,
          0.7830949465996929,
          -2.4694173550155902,
          -1.375546686025038,
          -0.9355671286774196,
          -1.9039772933856638,
          0.9641021125721575,
          -0.6541626146441876,
          1.5570492952921344,
          -0.28163972606348875,
          -0.4221870666756173,
          -0.008255132583119976,
          -0.974937610260182,
          1.4744097823938067,
          0.3941908907496691,
          -0.46925653750948826,
          0.6172989994558716,
          -1.5691837871097243,
          0.8275091476401291,
          2.2632501094631494,
          -0.6628560911357416,
          0.7473190202715746,
          0.963350570059107,
          1.4179540247512379,
          0.2813514042710119,
          0.2972570430123793,
          -0.3746604454081584,
          1.1064630868964769,
          -1.3066939251958634,
          -0.40644182487705977,
          -1.917462490109074,
          -0.791861120472799,
          -0.2343111928184764,
          0.09114874510176733,
          0.062218244033363616,
          -0.802451728592171,
          0.06171028511578955,
          0.4198079906863518,
          1.3820369642682173,
          0.075842013636187,
          -1.466189127750254,
          -0.5352111977391772,
          -0.5826480477362354,
          1.5796807614050792,
          -0.04240384621818216,
          -0.017172085149557044,
          -1.6690116849350105,
          -0.5526387152921023,
          -1.329721799479411,
          0.24578920761770287,
          0.7237373775718123
         ],
         "xaxis": "x6",
         "yaxis": "y6"
        },
        {
         "line": {
          "color": "rgba(128, 128, 128, 1.0)",
          "dash": "solid",
          "shape": "linear",
          "width": 1.3
         },
         "marker": {
          "size": 2,
          "symbol": "circle"
         },
         "mode": "markers",
         "name": "B",
         "text": "",
         "type": "scatter",
         "x": [
          -0.2083042386487811,
          1.9940217019660507,
          0.6868900521656066,
          0.7403954832943933,
          0.25805332100912814,
          -0.9011569445057611,
          -0.4827251614150337,
          1.0030869769211281,
          0.29698123810580285,
          -0.2901223806986594,
          -0.2297965917923508,
          -1.907840012916959,
          -1.2455654462556958,
          0.5152485445690139,
          -1.0509564361591983,
          0.402477045802536,
          -0.7765787637682078,
          1.3269130095321573,
          -0.6689737397983537,
          0.5792245539811444,
          0.7411088610625216,
          0.8505294593115799,
          0.337565961537066,
          0.09942771486809635,
          -0.5639741902201713,
          1.7735546563905753,
          -0.5272003403466731,
          0.15636506360191063,
          -1.0168608912347303,
          -0.6483483944070878,
          0.6359429714590861,
          0.29321320612892793,
          -0.5575024486543803,
          1.314706106833745,
          -1.4602926417139206,
          -2.1593244387803496,
          -0.9915125256757606,
          0.7087333011849094,
          1.4431207862913922,
          -0.4379466361803305,
          0.6718724360567718,
          0.23376497155418177,
          0.7141334401573364,
          0.5137960244136215,
          0.24195585850416812,
          -0.09232689708484221,
          1.2409230680608476,
          -0.8943710338176813,
          -0.02488283665599046,
          1.7051232886593457,
          0.7963260086215248,
          -0.13487163799224222,
          0.8095222084290425,
          -1.8458841213086177,
          0.5353035104471991,
          1.2219545932019658,
          0.31565573575299694,
          0.00212104897591511,
          -1.0437970677697614,
          0.8897972326176441,
          0.5840163282494348,
          0.10457478707717668,
          1.9469467459336642,
          -0.4008457003721722,
          0.9833704584007208,
          0.029773715402908435,
          1.2111780664404013,
          -0.03146949831444492,
          0.08847383790855555,
          0.0529351709738586,
          1.820158923002148,
          0.8228578460750813,
          0.07489330856630462,
          -0.7206384590420204,
          0.039063599122389686,
          -0.18140082374391592,
          -0.3450999073944346,
          0.13828496015484665,
          -0.955705108359854,
          -1.3054477253420014,
          -0.41144534093628854,
          -0.6082919721613056,
          -1.1534001270477723,
          1.1696173660287967,
          1.2984008626926735,
          -1.375702829675632,
          0.2778470265387704,
          -0.7583231926290582,
          -0.2815972749544762,
          0.6332104027712953,
          -0.5870809544825567,
          -0.46938737929678664,
          0.5530455065009544,
          -0.19653247959752876,
          0.07193535079171101,
          0.6765581713207989,
          -1.0684094369816255,
          -0.9881307004761971,
          0.9245895121438726,
          -0.6529543539204322
         ],
         "xaxis": "x7",
         "y": [
          -0.058828348753244795,
          -0.5585955170846071,
          0.28592113693614535,
          0.7369704806177205,
          0.5040515469067578,
          -1.150531193233306,
          0.37863435943863993,
          2.6446661872057966,
          0.6141075505621618,
          -0.2903774701835001,
          1.2944643852448017,
          0.08833387861941756,
          0.740469911373652,
          -1.2378998245290902,
          0.8377548461424911,
          -0.9302492624058314,
          0.8619676710312983,
          0.6637615012201094,
          -0.23583023776775033,
          -1.7212897063889532,
          0.7494120556400852,
          -1.570272198998661,
          1.8778845200154963,
          1.3596472166470617,
          1.6016167744950842,
          1.4471808283293137,
          1.1612839763319274,
          -0.14757504651218814,
          -0.6595650733988679,
          0.6936799050890169,
          1.1145216894947776,
          0.2988919777304995,
          -1.2339766655239337,
          -1.4148282731503572,
          -1.0186179403047475,
          -0.5596638109277869,
          -1.1629501310796933,
          -1.4580730317331707,
          0.19043930587364302,
          0.16607046431833294,
          -1.1528877738508099,
          -0.25292305873434856,
          0.7549938818117207,
          0.14861042055819765,
          0.17111415264706922,
          -2.1938539364050342,
          -0.5595594846677245,
          0.5755730956414731,
          -1.0951142538294591,
          0.14904979017143627,
          0.7830949465996929,
          -2.4694173550155902,
          -1.375546686025038,
          -0.9355671286774196,
          -1.9039772933856638,
          0.9641021125721575,
          -0.6541626146441876,
          1.5570492952921344,
          -0.28163972606348875,
          -0.4221870666756173,
          -0.008255132583119976,
          -0.974937610260182,
          1.4744097823938067,
          0.3941908907496691,
          -0.46925653750948826,
          0.6172989994558716,
          -1.5691837871097243,
          0.8275091476401291,
          2.2632501094631494,
          -0.6628560911357416,
          0.7473190202715746,
          0.963350570059107,
          1.4179540247512379,
          0.2813514042710119,
          0.2972570430123793,
          -0.3746604454081584,
          1.1064630868964769,
          -1.3066939251958634,
          -0.40644182487705977,
          -1.917462490109074,
          -0.791861120472799,
          -0.2343111928184764,
          0.09114874510176733,
          0.062218244033363616,
          -0.802451728592171,
          0.06171028511578955,
          0.4198079906863518,
          1.3820369642682173,
          0.075842013636187,
          -1.466189127750254,
          -0.5352111977391772,
          -0.5826480477362354,
          1.5796807614050792,
          -0.04240384621818216,
          -0.017172085149557044,
          -1.6690116849350105,
          -0.5526387152921023,
          -1.329721799479411,
          0.24578920761770287,
          0.7237373775718123
         ],
         "yaxis": "y7"
        },
        {
         "line": {
          "color": "rgba(128, 128, 128, 1.0)",
          "dash": "solid",
          "shape": "linear",
          "width": 1.3
         },
         "marker": {
          "size": 2,
          "symbol": "circle"
         },
         "mode": "markers",
         "name": "B",
         "text": "",
         "type": "scatter",
         "x": [
          -0.7295170198037868,
          -0.23998788606590082,
          -1.1547229401264072,
          0.5251275531639371,
          -1.21535597674017,
          1.9753387262494997,
          0.9020659434959302,
          -0.7889940780201902,
          -2.4041437503837253,
          -0.9355465947684439,
          -0.6842111153397739,
          -0.7799432289418868,
          0.16081177876519212,
          1.2841547345103963,
          -0.3227596130499945,
          -0.9039206625056124,
          0.828889919327969,
          -2.9679088884059173,
          -0.5750994822623196,
          0.3846892236574576,
          0.14833093564088037,
          0.07309713066844106,
          -0.25559763349132203,
          -0.4813841083056664,
          -1.9271808617819115,
          -0.6070580733247838,
          -1.1636932324687423,
          1.339280484849487,
          0.47771727654156293,
          -0.5968481161014805,
          1.2968929935229006,
          -0.16216150682417468,
          1.0903918297478092,
          -0.055663382391095195,
          -1.9383170898318631,
          1.112380532950639,
          1.3782274102022636,
          -0.42142411236809735,
          0.8957323065314934,
          0.41097621688336106,
          -0.02765272096708784,
          0.9149429515529102,
          -0.13880192453908266,
          0.47751716452927917,
          0.3481420236491288,
          -0.23131776015717798,
          0.5094548526908059,
          -0.7608094741193897,
          0.11631986292309104,
          -0.2172543381087466,
          -0.951490541615766,
          -0.5926296384911123,
          0.017807357187338953,
          0.9589901026525065,
          -1.1984176228205554,
          0.9022702336672062,
          0.6596991557481351,
          -0.8729232096834276,
          0.6099302488780277,
          1.0768283425233702,
          -0.11221523895765963,
          0.5625163393167306,
          -0.16135609434261725,
          1.9687965814298227,
          -0.06034088230737512,
          1.0471376411737952,
          -3.083514419464437,
          0.3359159310292446,
          0.9532324676202132,
          -2.3431026083136883,
          0.5653884207646511,
          -1.276743836695403,
          -1.2754424081239786,
          0.7273459291173392,
          0.5640935924868778,
          0.35167990059124504,
          -0.009069882781335902,
          2.442716727062103,
          -0.7010249463474859,
          0.8308583001465093,
          0.9078840027915112,
          -0.10398264081503443,
          1.1709992616915568,
          0.6155368314083067,
          1.938359996658619,
          0.46887097910584574,
          1.5980214011585323,
          -1.6680300591099766,
          0.6529140466907034,
          -0.09259132978023017,
          0.4017007216409476,
          1.0866891958055531,
          0.02355809233525598,
          -0.6027075895405759,
          0.29777603835222355,
          -0.29772036756264664,
          0.5102551472094399,
          -2.203414038181977,
          0.14521146581149785,
          -1.7873674316906647
         ],
         "xaxis": "x8",
         "y": [
          -0.058828348753244795,
          -0.5585955170846071,
          0.28592113693614535,
          0.7369704806177205,
          0.5040515469067578,
          -1.150531193233306,
          0.37863435943863993,
          2.6446661872057966,
          0.6141075505621618,
          -0.2903774701835001,
          1.2944643852448017,
          0.08833387861941756,
          0.740469911373652,
          -1.2378998245290902,
          0.8377548461424911,
          -0.9302492624058314,
          0.8619676710312983,
          0.6637615012201094,
          -0.23583023776775033,
          -1.7212897063889532,
          0.7494120556400852,
          -1.570272198998661,
          1.8778845200154963,
          1.3596472166470617,
          1.6016167744950842,
          1.4471808283293137,
          1.1612839763319274,
          -0.14757504651218814,
          -0.6595650733988679,
          0.6936799050890169,
          1.1145216894947776,
          0.2988919777304995,
          -1.2339766655239337,
          -1.4148282731503572,
          -1.0186179403047475,
          -0.5596638109277869,
          -1.1629501310796933,
          -1.4580730317331707,
          0.19043930587364302,
          0.16607046431833294,
          -1.1528877738508099,
          -0.25292305873434856,
          0.7549938818117207,
          0.14861042055819765,
          0.17111415264706922,
          -2.1938539364050342,
          -0.5595594846677245,
          0.5755730956414731,
          -1.0951142538294591,
          0.14904979017143627,
          0.7830949465996929,
          -2.4694173550155902,
          -1.375546686025038,
          -0.9355671286774196,
          -1.9039772933856638,
          0.9641021125721575,
          -0.6541626146441876,
          1.5570492952921344,
          -0.28163972606348875,
          -0.4221870666756173,
          -0.008255132583119976,
          -0.974937610260182,
          1.4744097823938067,
          0.3941908907496691,
          -0.46925653750948826,
          0.6172989994558716,
          -1.5691837871097243,
          0.8275091476401291,
          2.2632501094631494,
          -0.6628560911357416,
          0.7473190202715746,
          0.963350570059107,
          1.4179540247512379,
          0.2813514042710119,
          0.2972570430123793,
          -0.3746604454081584,
          1.1064630868964769,
          -1.3066939251958634,
          -0.40644182487705977,
          -1.917462490109074,
          -0.791861120472799,
          -0.2343111928184764,
          0.09114874510176733,
          0.062218244033363616,
          -0.802451728592171,
          0.06171028511578955,
          0.4198079906863518,
          1.3820369642682173,
          0.075842013636187,
          -1.466189127750254,
          -0.5352111977391772,
          -0.5826480477362354,
          1.5796807614050792,
          -0.04240384621818216,
          -0.017172085149557044,
          -1.6690116849350105,
          -0.5526387152921023,
          -1.329721799479411,
          0.24578920761770287,
          0.7237373775718123
         ],
         "yaxis": "y8"
        },
        {
         "line": {
          "color": "rgba(128, 128, 128, 1.0)",
          "dash": "solid",
          "shape": "linear",
          "width": 1.3
         },
         "marker": {
          "size": 2,
          "symbol": "circle"
         },
         "mode": "markers",
         "name": "C",
         "text": "",
         "type": "scatter",
         "x": [
          1.2250091290549099,
          -0.45155151276997574,
          -0.434194932410401,
          0.4965940115376493,
          0.7154940545115944,
          0.869248019234941,
          2.3213512716361366,
          -0.17578821354583135,
          -0.6980535363394793,
          1.7960776805377587,
          -0.6797508949993439,
          -0.3309524884809053,
          -0.6045666646935174,
          0.39255638365070905,
          0.8963963207259847,
          -1.207418038315098,
          2.43886274114652,
          -0.25133423822888296,
          0.344811281109698,
          0.4651337825187788,
          -0.9693819748893496,
          -1.511988582178468,
          1.471896155007462,
          -0.398263666264437,
          0.39168919211590114,
          1.3028894716559019,
          0.3780306164092249,
          -0.5771500751039939,
          0.7271384586266463,
          -1.1028606757463444,
          1.3055889750163336,
          -0.009495061596881786,
          -0.21893928001299454,
          -1.0867415317320401,
          -0.1275445495943942,
          0.33115070545190967,
          2.5642016093451714,
          -0.2209033831209197,
          -0.643645732559064,
          -0.5765241905247848,
          0.2157414441636662,
          1.5633915324211198,
          -1.3815087548291045,
          -0.4404643403952877,
          0.46486207751427316,
          0.5945107910659146,
          -1.138265783518757,
          0.010872214988163919,
          0.576946264815059,
          -0.3220104816325628,
          -3.1580009227460373,
          0.22098917229933435,
          -0.8812159121268724,
          -0.6746542906878209,
          0.04361980450368418,
          1.1672838672617596,
          0.7882475378851349,
          -0.2231655723751139,
          1.5196027240194374,
          -0.6141433238954168,
          0.06664930104555683,
          0.2811234182254289,
          -1.656925993858488,
          0.4418261364739898,
          -0.5371968332337426,
          -0.9081527939790605,
          -0.07855444225988696,
          -0.8226887787257702,
          0.9282396462206131,
          -1.8774564271906615,
          -0.6151937005939961,
          -1.3814368588693005,
          0.4917684583284424,
          0.43202353599084037,
          -0.2910669668112129,
          -1.1742968785696453,
          0.1145405200398717,
          0.8879132770752252,
          2.205142879212352,
          -0.8708551842512162,
          0.5146930417481028,
          -0.7397889246404309,
          0.3725082553355003,
          -0.2970889305836918,
          -0.6023513414272289,
          -0.6548214421503965,
          1.0487938530886973,
          -0.46844577455326064,
          0.4431751142410106,
          0.617494687789193,
          -2.118833378214814,
          -1.121121567734123,
          0.060602473271775266,
          1.5829742026816596,
          -1.443617735913895,
          -0.45552498105881545,
          0.17269055388343957,
          0.32449455147760553,
          -0.22266509764397124,
          -0.35516799968725554
         ],
         "xaxis": "x9",
         "y": [
          -0.2083042386487811,
          1.9940217019660507,
          0.6868900521656066,
          0.7403954832943933,
          0.25805332100912814,
          -0.9011569445057611,
          -0.4827251614150337,
          1.0030869769211281,
          0.29698123810580285,
          -0.2901223806986594,
          -0.2297965917923508,
          -1.907840012916959,
          -1.2455654462556958,
          0.5152485445690139,
          -1.0509564361591983,
          0.402477045802536,
          -0.7765787637682078,
          1.3269130095321573,
          -0.6689737397983537,
          0.5792245539811444,
          0.7411088610625216,
          0.8505294593115799,
          0.337565961537066,
          0.09942771486809635,
          -0.5639741902201713,
          1.7735546563905753,
          -0.5272003403466731,
          0.15636506360191063,
          -1.0168608912347303,
          -0.6483483944070878,
          0.6359429714590861,
          0.29321320612892793,
          -0.5575024486543803,
          1.314706106833745,
          -1.4602926417139206,
          -2.1593244387803496,
          -0.9915125256757606,
          0.7087333011849094,
          1.4431207862913922,
          -0.4379466361803305,
          0.6718724360567718,
          0.23376497155418177,
          0.7141334401573364,
          0.5137960244136215,
          0.24195585850416812,
          -0.09232689708484221,
          1.2409230680608476,
          -0.8943710338176813,
          -0.02488283665599046,
          1.7051232886593457,
          0.7963260086215248,
          -0.13487163799224222,
          0.8095222084290425,
          -1.8458841213086177,
          0.5353035104471991,
          1.2219545932019658,
          0.31565573575299694,
          0.00212104897591511,
          -1.0437970677697614,
          0.8897972326176441,
          0.5840163282494348,
          0.10457478707717668,
          1.9469467459336642,
          -0.4008457003721722,
          0.9833704584007208,
          0.029773715402908435,
          1.2111780664404013,
          -0.03146949831444492,
          0.08847383790855555,
          0.0529351709738586,
          1.820158923002148,
          0.8228578460750813,
          0.07489330856630462,
          -0.7206384590420204,
          0.039063599122389686,
          -0.18140082374391592,
          -0.3450999073944346,
          0.13828496015484665,
          -0.955705108359854,
          -1.3054477253420014,
          -0.41144534093628854,
          -0.6082919721613056,
          -1.1534001270477723,
          1.1696173660287967,
          1.2984008626926735,
          -1.375702829675632,
          0.2778470265387704,
          -0.7583231926290582,
          -0.2815972749544762,
          0.6332104027712953,
          -0.5870809544825567,
          -0.46938737929678664,
          0.5530455065009544,
          -0.19653247959752876,
          0.07193535079171101,
          0.6765581713207989,
          -1.0684094369816255,
          -0.9881307004761971,
          0.9245895121438726,
          -0.6529543539204322
         ],
         "yaxis": "y9"
        },
        {
         "line": {
          "color": "rgba(128, 128, 128, 1.0)",
          "dash": "solid",
          "shape": "linear",
          "width": 1.3
         },
         "marker": {
          "size": 2,
          "symbol": "circle"
         },
         "mode": "markers",
         "name": "C",
         "text": "",
         "type": "scatter",
         "x": [
          -0.058828348753244795,
          -0.5585955170846071,
          0.28592113693614535,
          0.7369704806177205,
          0.5040515469067578,
          -1.150531193233306,
          0.37863435943863993,
          2.6446661872057966,
          0.6141075505621618,
          -0.2903774701835001,
          1.2944643852448017,
          0.08833387861941756,
          0.740469911373652,
          -1.2378998245290902,
          0.8377548461424911,
          -0.9302492624058314,
          0.8619676710312983,
          0.6637615012201094,
          -0.23583023776775033,
          -1.7212897063889532,
          0.7494120556400852,
          -1.570272198998661,
          1.8778845200154963,
          1.3596472166470617,
          1.6016167744950842,
          1.4471808283293137,
          1.1612839763319274,
          -0.14757504651218814,
          -0.6595650733988679,
          0.6936799050890169,
          1.1145216894947776,
          0.2988919777304995,
          -1.2339766655239337,
          -1.4148282731503572,
          -1.0186179403047475,
          -0.5596638109277869,
          -1.1629501310796933,
          -1.4580730317331707,
          0.19043930587364302,
          0.16607046431833294,
          -1.1528877738508099,
          -0.25292305873434856,
          0.7549938818117207,
          0.14861042055819765,
          0.17111415264706922,
          -2.1938539364050342,
          -0.5595594846677245,
          0.5755730956414731,
          -1.0951142538294591,
          0.14904979017143627,
          0.7830949465996929,
          -2.4694173550155902,
          -1.375546686025038,
          -0.9355671286774196,
          -1.9039772933856638,
          0.9641021125721575,
          -0.6541626146441876,
          1.5570492952921344,
          -0.28163972606348875,
          -0.4221870666756173,
          -0.008255132583119976,
          -0.974937610260182,
          1.4744097823938067,
          0.3941908907496691,
          -0.46925653750948826,
          0.6172989994558716,
          -1.5691837871097243,
          0.8275091476401291,
          2.2632501094631494,
          -0.6628560911357416,
          0.7473190202715746,
          0.963350570059107,
          1.4179540247512379,
          0.2813514042710119,
          0.2972570430123793,
          -0.3746604454081584,
          1.1064630868964769,
          -1.3066939251958634,
          -0.40644182487705977,
          -1.917462490109074,
          -0.791861120472799,
          -0.2343111928184764,
          0.09114874510176733,
          0.062218244033363616,
          -0.802451728592171,
          0.06171028511578955,
          0.4198079906863518,
          1.3820369642682173,
          0.075842013636187,
          -1.466189127750254,
          -0.5352111977391772,
          -0.5826480477362354,
          1.5796807614050792,
          -0.04240384621818216,
          -0.017172085149557044,
          -1.6690116849350105,
          -0.5526387152921023,
          -1.329721799479411,
          0.24578920761770287,
          0.7237373775718123
         ],
         "xaxis": "x10",
         "y": [
          -0.2083042386487811,
          1.9940217019660507,
          0.6868900521656066,
          0.7403954832943933,
          0.25805332100912814,
          -0.9011569445057611,
          -0.4827251614150337,
          1.0030869769211281,
          0.29698123810580285,
          -0.2901223806986594,
          -0.2297965917923508,
          -1.907840012916959,
          -1.2455654462556958,
          0.5152485445690139,
          -1.0509564361591983,
          0.402477045802536,
          -0.7765787637682078,
          1.3269130095321573,
          -0.6689737397983537,
          0.5792245539811444,
          0.7411088610625216,
          0.8505294593115799,
          0.337565961537066,
          0.09942771486809635,
          -0.5639741902201713,
          1.7735546563905753,
          -0.5272003403466731,
          0.15636506360191063,
          -1.0168608912347303,
          -0.6483483944070878,
          0.6359429714590861,
          0.29321320612892793,
          -0.5575024486543803,
          1.314706106833745,
          -1.4602926417139206,
          -2.1593244387803496,
          -0.9915125256757606,
          0.7087333011849094,
          1.4431207862913922,
          -0.4379466361803305,
          0.6718724360567718,
          0.23376497155418177,
          0.7141334401573364,
          0.5137960244136215,
          0.24195585850416812,
          -0.09232689708484221,
          1.2409230680608476,
          -0.8943710338176813,
          -0.02488283665599046,
          1.7051232886593457,
          0.7963260086215248,
          -0.13487163799224222,
          0.8095222084290425,
          -1.8458841213086177,
          0.5353035104471991,
          1.2219545932019658,
          0.31565573575299694,
          0.00212104897591511,
          -1.0437970677697614,
          0.8897972326176441,
          0.5840163282494348,
          0.10457478707717668,
          1.9469467459336642,
          -0.4008457003721722,
          0.9833704584007208,
          0.029773715402908435,
          1.2111780664404013,
          -0.03146949831444492,
          0.08847383790855555,
          0.0529351709738586,
          1.820158923002148,
          0.8228578460750813,
          0.07489330856630462,
          -0.7206384590420204,
          0.039063599122389686,
          -0.18140082374391592,
          -0.3450999073944346,
          0.13828496015484665,
          -0.955705108359854,
          -1.3054477253420014,
          -0.41144534093628854,
          -0.6082919721613056,
          -1.1534001270477723,
          1.1696173660287967,
          1.2984008626926735,
          -1.375702829675632,
          0.2778470265387704,
          -0.7583231926290582,
          -0.2815972749544762,
          0.6332104027712953,
          -0.5870809544825567,
          -0.46938737929678664,
          0.5530455065009544,
          -0.19653247959752876,
          0.07193535079171101,
          0.6765581713207989,
          -1.0684094369816255,
          -0.9881307004761971,
          0.9245895121438726,
          -0.6529543539204322
         ],
         "yaxis": "y10"
        },
        {
         "histfunc": "count",
         "histnorm": "",
         "marker": {
          "color": "rgba(50, 171, 96, 1.0)",
          "line": {
           "color": "#4D5663",
           "width": 1.3
          }
         },
         "name": "C",
         "nbinsx": 10,
         "opacity": 0.8,
         "orientation": "v",
         "type": "histogram",
         "x": [
          -0.2083042386487811,
          1.9940217019660507,
          0.6868900521656066,
          0.7403954832943933,
          0.25805332100912814,
          -0.9011569445057611,
          -0.4827251614150337,
          1.0030869769211281,
          0.29698123810580285,
          -0.2901223806986594,
          -0.2297965917923508,
          -1.907840012916959,
          -1.2455654462556958,
          0.5152485445690139,
          -1.0509564361591983,
          0.402477045802536,
          -0.7765787637682078,
          1.3269130095321573,
          -0.6689737397983537,
          0.5792245539811444,
          0.7411088610625216,
          0.8505294593115799,
          0.337565961537066,
          0.09942771486809635,
          -0.5639741902201713,
          1.7735546563905753,
          -0.5272003403466731,
          0.15636506360191063,
          -1.0168608912347303,
          -0.6483483944070878,
          0.6359429714590861,
          0.29321320612892793,
          -0.5575024486543803,
          1.314706106833745,
          -1.4602926417139206,
          -2.1593244387803496,
          -0.9915125256757606,
          0.7087333011849094,
          1.4431207862913922,
          -0.4379466361803305,
          0.6718724360567718,
          0.23376497155418177,
          0.7141334401573364,
          0.5137960244136215,
          0.24195585850416812,
          -0.09232689708484221,
          1.2409230680608476,
          -0.8943710338176813,
          -0.02488283665599046,
          1.7051232886593457,
          0.7963260086215248,
          -0.13487163799224222,
          0.8095222084290425,
          -1.8458841213086177,
          0.5353035104471991,
          1.2219545932019658,
          0.31565573575299694,
          0.00212104897591511,
          -1.0437970677697614,
          0.8897972326176441,
          0.5840163282494348,
          0.10457478707717668,
          1.9469467459336642,
          -0.4008457003721722,
          0.9833704584007208,
          0.029773715402908435,
          1.2111780664404013,
          -0.03146949831444492,
          0.08847383790855555,
          0.0529351709738586,
          1.820158923002148,
          0.8228578460750813,
          0.07489330856630462,
          -0.7206384590420204,
          0.039063599122389686,
          -0.18140082374391592,
          -0.3450999073944346,
          0.13828496015484665,
          -0.955705108359854,
          -1.3054477253420014,
          -0.41144534093628854,
          -0.6082919721613056,
          -1.1534001270477723,
          1.1696173660287967,
          1.2984008626926735,
          -1.375702829675632,
          0.2778470265387704,
          -0.7583231926290582,
          -0.2815972749544762,
          0.6332104027712953,
          -0.5870809544825567,
          -0.46938737929678664,
          0.5530455065009544,
          -0.19653247959752876,
          0.07193535079171101,
          0.6765581713207989,
          -1.0684094369816255,
          -0.9881307004761971,
          0.9245895121438726,
          -0.6529543539204322
         ],
         "xaxis": "x11",
         "yaxis": "y11"
        },
        {
         "line": {
          "color": "rgba(128, 128, 128, 1.0)",
          "dash": "solid",
          "shape": "linear",
          "width": 1.3
         },
         "marker": {
          "size": 2,
          "symbol": "circle"
         },
         "mode": "markers",
         "name": "C",
         "text": "",
         "type": "scatter",
         "x": [
          -0.7295170198037868,
          -0.23998788606590082,
          -1.1547229401264072,
          0.5251275531639371,
          -1.21535597674017,
          1.9753387262494997,
          0.9020659434959302,
          -0.7889940780201902,
          -2.4041437503837253,
          -0.9355465947684439,
          -0.6842111153397739,
          -0.7799432289418868,
          0.16081177876519212,
          1.2841547345103963,
          -0.3227596130499945,
          -0.9039206625056124,
          0.828889919327969,
          -2.9679088884059173,
          -0.5750994822623196,
          0.3846892236574576,
          0.14833093564088037,
          0.07309713066844106,
          -0.25559763349132203,
          -0.4813841083056664,
          -1.9271808617819115,
          -0.6070580733247838,
          -1.1636932324687423,
          1.339280484849487,
          0.47771727654156293,
          -0.5968481161014805,
          1.2968929935229006,
          -0.16216150682417468,
          1.0903918297478092,
          -0.055663382391095195,
          -1.9383170898318631,
          1.112380532950639,
          1.3782274102022636,
          -0.42142411236809735,
          0.8957323065314934,
          0.41097621688336106,
          -0.02765272096708784,
          0.9149429515529102,
          -0.13880192453908266,
          0.47751716452927917,
          0.3481420236491288,
          -0.23131776015717798,
          0.5094548526908059,
          -0.7608094741193897,
          0.11631986292309104,
          -0.2172543381087466,
          -0.951490541615766,
          -0.5926296384911123,
          0.017807357187338953,
          0.9589901026525065,
          -1.1984176228205554,
          0.9022702336672062,
          0.6596991557481351,
          -0.8729232096834276,
          0.6099302488780277,
          1.0768283425233702,
          -0.11221523895765963,
          0.5625163393167306,
          -0.16135609434261725,
          1.9687965814298227,
          -0.06034088230737512,
          1.0471376411737952,
          -3.083514419464437,
          0.3359159310292446,
          0.9532324676202132,
          -2.3431026083136883,
          0.5653884207646511,
          -1.276743836695403,
          -1.2754424081239786,
          0.7273459291173392,
          0.5640935924868778,
          0.35167990059124504,
          -0.009069882781335902,
          2.442716727062103,
          -0.7010249463474859,
          0.8308583001465093,
          0.9078840027915112,
          -0.10398264081503443,
          1.1709992616915568,
          0.6155368314083067,
          1.938359996658619,
          0.46887097910584574,
          1.5980214011585323,
          -1.6680300591099766,
          0.6529140466907034,
          -0.09259132978023017,
          0.4017007216409476,
          1.0866891958055531,
          0.02355809233525598,
          -0.6027075895405759,
          0.29777603835222355,
          -0.29772036756264664,
          0.5102551472094399,
          -2.203414038181977,
          0.14521146581149785,
          -1.7873674316906647
         ],
         "xaxis": "x12",
         "y": [
          -0.2083042386487811,
          1.9940217019660507,
          0.6868900521656066,
          0.7403954832943933,
          0.25805332100912814,
          -0.9011569445057611,
          -0.4827251614150337,
          1.0030869769211281,
          0.29698123810580285,
          -0.2901223806986594,
          -0.2297965917923508,
          -1.907840012916959,
          -1.2455654462556958,
          0.5152485445690139,
          -1.0509564361591983,
          0.402477045802536,
          -0.7765787637682078,
          1.3269130095321573,
          -0.6689737397983537,
          0.5792245539811444,
          0.7411088610625216,
          0.8505294593115799,
          0.337565961537066,
          0.09942771486809635,
          -0.5639741902201713,
          1.7735546563905753,
          -0.5272003403466731,
          0.15636506360191063,
          -1.0168608912347303,
          -0.6483483944070878,
          0.6359429714590861,
          0.29321320612892793,
          -0.5575024486543803,
          1.314706106833745,
          -1.4602926417139206,
          -2.1593244387803496,
          -0.9915125256757606,
          0.7087333011849094,
          1.4431207862913922,
          -0.4379466361803305,
          0.6718724360567718,
          0.23376497155418177,
          0.7141334401573364,
          0.5137960244136215,
          0.24195585850416812,
          -0.09232689708484221,
          1.2409230680608476,
          -0.8943710338176813,
          -0.02488283665599046,
          1.7051232886593457,
          0.7963260086215248,
          -0.13487163799224222,
          0.8095222084290425,
          -1.8458841213086177,
          0.5353035104471991,
          1.2219545932019658,
          0.31565573575299694,
          0.00212104897591511,
          -1.0437970677697614,
          0.8897972326176441,
          0.5840163282494348,
          0.10457478707717668,
          1.9469467459336642,
          -0.4008457003721722,
          0.9833704584007208,
          0.029773715402908435,
          1.2111780664404013,
          -0.03146949831444492,
          0.08847383790855555,
          0.0529351709738586,
          1.820158923002148,
          0.8228578460750813,
          0.07489330856630462,
          -0.7206384590420204,
          0.039063599122389686,
          -0.18140082374391592,
          -0.3450999073944346,
          0.13828496015484665,
          -0.955705108359854,
          -1.3054477253420014,
          -0.41144534093628854,
          -0.6082919721613056,
          -1.1534001270477723,
          1.1696173660287967,
          1.2984008626926735,
          -1.375702829675632,
          0.2778470265387704,
          -0.7583231926290582,
          -0.2815972749544762,
          0.6332104027712953,
          -0.5870809544825567,
          -0.46938737929678664,
          0.5530455065009544,
          -0.19653247959752876,
          0.07193535079171101,
          0.6765581713207989,
          -1.0684094369816255,
          -0.9881307004761971,
          0.9245895121438726,
          -0.6529543539204322
         ],
         "yaxis": "y12"
        },
        {
         "line": {
          "color": "rgba(128, 128, 128, 1.0)",
          "dash": "solid",
          "shape": "linear",
          "width": 1.3
         },
         "marker": {
          "size": 2,
          "symbol": "circle"
         },
         "mode": "markers",
         "name": "D",
         "text": "",
         "type": "scatter",
         "x": [
          1.2250091290549099,
          -0.45155151276997574,
          -0.434194932410401,
          0.4965940115376493,
          0.7154940545115944,
          0.869248019234941,
          2.3213512716361366,
          -0.17578821354583135,
          -0.6980535363394793,
          1.7960776805377587,
          -0.6797508949993439,
          -0.3309524884809053,
          -0.6045666646935174,
          0.39255638365070905,
          0.8963963207259847,
          -1.207418038315098,
          2.43886274114652,
          -0.25133423822888296,
          0.344811281109698,
          0.4651337825187788,
          -0.9693819748893496,
          -1.511988582178468,
          1.471896155007462,
          -0.398263666264437,
          0.39168919211590114,
          1.3028894716559019,
          0.3780306164092249,
          -0.5771500751039939,
          0.7271384586266463,
          -1.1028606757463444,
          1.3055889750163336,
          -0.009495061596881786,
          -0.21893928001299454,
          -1.0867415317320401,
          -0.1275445495943942,
          0.33115070545190967,
          2.5642016093451714,
          -0.2209033831209197,
          -0.643645732559064,
          -0.5765241905247848,
          0.2157414441636662,
          1.5633915324211198,
          -1.3815087548291045,
          -0.4404643403952877,
          0.46486207751427316,
          0.5945107910659146,
          -1.138265783518757,
          0.010872214988163919,
          0.576946264815059,
          -0.3220104816325628,
          -3.1580009227460373,
          0.22098917229933435,
          -0.8812159121268724,
          -0.6746542906878209,
          0.04361980450368418,
          1.1672838672617596,
          0.7882475378851349,
          -0.2231655723751139,
          1.5196027240194374,
          -0.6141433238954168,
          0.06664930104555683,
          0.2811234182254289,
          -1.656925993858488,
          0.4418261364739898,
          -0.5371968332337426,
          -0.9081527939790605,
          -0.07855444225988696,
          -0.8226887787257702,
          0.9282396462206131,
          -1.8774564271906615,
          -0.6151937005939961,
          -1.3814368588693005,
          0.4917684583284424,
          0.43202353599084037,
          -0.2910669668112129,
          -1.1742968785696453,
          0.1145405200398717,
          0.8879132770752252,
          2.205142879212352,
          -0.8708551842512162,
          0.5146930417481028,
          -0.7397889246404309,
          0.3725082553355003,
          -0.2970889305836918,
          -0.6023513414272289,
          -0.6548214421503965,
          1.0487938530886973,
          -0.46844577455326064,
          0.4431751142410106,
          0.617494687789193,
          -2.118833378214814,
          -1.121121567734123,
          0.060602473271775266,
          1.5829742026816596,
          -1.443617735913895,
          -0.45552498105881545,
          0.17269055388343957,
          0.32449455147760553,
          -0.22266509764397124,
          -0.35516799968725554
         ],
         "xaxis": "x13",
         "y": [
          -0.7295170198037868,
          -0.23998788606590082,
          -1.1547229401264072,
          0.5251275531639371,
          -1.21535597674017,
          1.9753387262494997,
          0.9020659434959302,
          -0.7889940780201902,
          -2.4041437503837253,
          -0.9355465947684439,
          -0.6842111153397739,
          -0.7799432289418868,
          0.16081177876519212,
          1.2841547345103963,
          -0.3227596130499945,
          -0.9039206625056124,
          0.828889919327969,
          -2.9679088884059173,
          -0.5750994822623196,
          0.3846892236574576,
          0.14833093564088037,
          0.07309713066844106,
          -0.25559763349132203,
          -0.4813841083056664,
          -1.9271808617819115,
          -0.6070580733247838,
          -1.1636932324687423,
          1.339280484849487,
          0.47771727654156293,
          -0.5968481161014805,
          1.2968929935229006,
          -0.16216150682417468,
          1.0903918297478092,
          -0.055663382391095195,
          -1.9383170898318631,
          1.112380532950639,
          1.3782274102022636,
          -0.42142411236809735,
          0.8957323065314934,
          0.41097621688336106,
          -0.02765272096708784,
          0.9149429515529102,
          -0.13880192453908266,
          0.47751716452927917,
          0.3481420236491288,
          -0.23131776015717798,
          0.5094548526908059,
          -0.7608094741193897,
          0.11631986292309104,
          -0.2172543381087466,
          -0.951490541615766,
          -0.5926296384911123,
          0.017807357187338953,
          0.9589901026525065,
          -1.1984176228205554,
          0.9022702336672062,
          0.6596991557481351,
          -0.8729232096834276,
          0.6099302488780277,
          1.0768283425233702,
          -0.11221523895765963,
          0.5625163393167306,
          -0.16135609434261725,
          1.9687965814298227,
          -0.06034088230737512,
          1.0471376411737952,
          -3.083514419464437,
          0.3359159310292446,
          0.9532324676202132,
          -2.3431026083136883,
          0.5653884207646511,
          -1.276743836695403,
          -1.2754424081239786,
          0.7273459291173392,
          0.5640935924868778,
          0.35167990059124504,
          -0.009069882781335902,
          2.442716727062103,
          -0.7010249463474859,
          0.8308583001465093,
          0.9078840027915112,
          -0.10398264081503443,
          1.1709992616915568,
          0.6155368314083067,
          1.938359996658619,
          0.46887097910584574,
          1.5980214011585323,
          -1.6680300591099766,
          0.6529140466907034,
          -0.09259132978023017,
          0.4017007216409476,
          1.0866891958055531,
          0.02355809233525598,
          -0.6027075895405759,
          0.29777603835222355,
          -0.29772036756264664,
          0.5102551472094399,
          -2.203414038181977,
          0.14521146581149785,
          -1.7873674316906647
         ],
         "yaxis": "y13"
        },
        {
         "line": {
          "color": "rgba(128, 128, 128, 1.0)",
          "dash": "solid",
          "shape": "linear",
          "width": 1.3
         },
         "marker": {
          "size": 2,
          "symbol": "circle"
         },
         "mode": "markers",
         "name": "D",
         "text": "",
         "type": "scatter",
         "x": [
          -0.058828348753244795,
          -0.5585955170846071,
          0.28592113693614535,
          0.7369704806177205,
          0.5040515469067578,
          -1.150531193233306,
          0.37863435943863993,
          2.6446661872057966,
          0.6141075505621618,
          -0.2903774701835001,
          1.2944643852448017,
          0.08833387861941756,
          0.740469911373652,
          -1.2378998245290902,
          0.8377548461424911,
          -0.9302492624058314,
          0.8619676710312983,
          0.6637615012201094,
          -0.23583023776775033,
          -1.7212897063889532,
          0.7494120556400852,
          -1.570272198998661,
          1.8778845200154963,
          1.3596472166470617,
          1.6016167744950842,
          1.4471808283293137,
          1.1612839763319274,
          -0.14757504651218814,
          -0.6595650733988679,
          0.6936799050890169,
          1.1145216894947776,
          0.2988919777304995,
          -1.2339766655239337,
          -1.4148282731503572,
          -1.0186179403047475,
          -0.5596638109277869,
          -1.1629501310796933,
          -1.4580730317331707,
          0.19043930587364302,
          0.16607046431833294,
          -1.1528877738508099,
          -0.25292305873434856,
          0.7549938818117207,
          0.14861042055819765,
          0.17111415264706922,
          -2.1938539364050342,
          -0.5595594846677245,
          0.5755730956414731,
          -1.0951142538294591,
          0.14904979017143627,
          0.7830949465996929,
          -2.4694173550155902,
          -1.375546686025038,
          -0.9355671286774196,
          -1.9039772933856638,
          0.9641021125721575,
          -0.6541626146441876,
          1.5570492952921344,
          -0.28163972606348875,
          -0.4221870666756173,
          -0.008255132583119976,
          -0.974937610260182,
          1.4744097823938067,
          0.3941908907496691,
          -0.46925653750948826,
          0.6172989994558716,
          -1.5691837871097243,
          0.8275091476401291,
          2.2632501094631494,
          -0.6628560911357416,
          0.7473190202715746,
          0.963350570059107,
          1.4179540247512379,
          0.2813514042710119,
          0.2972570430123793,
          -0.3746604454081584,
          1.1064630868964769,
          -1.3066939251958634,
          -0.40644182487705977,
          -1.917462490109074,
          -0.791861120472799,
          -0.2343111928184764,
          0.09114874510176733,
          0.062218244033363616,
          -0.802451728592171,
          0.06171028511578955,
          0.4198079906863518,
          1.3820369642682173,
          0.075842013636187,
          -1.466189127750254,
          -0.5352111977391772,
          -0.5826480477362354,
          1.5796807614050792,
          -0.04240384621818216,
          -0.017172085149557044,
          -1.6690116849350105,
          -0.5526387152921023,
          -1.329721799479411,
          0.24578920761770287,
          0.7237373775718123
         ],
         "xaxis": "x14",
         "y": [
          -0.7295170198037868,
          -0.23998788606590082,
          -1.1547229401264072,
          0.5251275531639371,
          -1.21535597674017,
          1.9753387262494997,
          0.9020659434959302,
          -0.7889940780201902,
          -2.4041437503837253,
          -0.9355465947684439,
          -0.6842111153397739,
          -0.7799432289418868,
          0.16081177876519212,
          1.2841547345103963,
          -0.3227596130499945,
          -0.9039206625056124,
          0.828889919327969,
          -2.9679088884059173,
          -0.5750994822623196,
          0.3846892236574576,
          0.14833093564088037,
          0.07309713066844106,
          -0.25559763349132203,
          -0.4813841083056664,
          -1.9271808617819115,
          -0.6070580733247838,
          -1.1636932324687423,
          1.339280484849487,
          0.47771727654156293,
          -0.5968481161014805,
          1.2968929935229006,
          -0.16216150682417468,
          1.0903918297478092,
          -0.055663382391095195,
          -1.9383170898318631,
          1.112380532950639,
          1.3782274102022636,
          -0.42142411236809735,
          0.8957323065314934,
          0.41097621688336106,
          -0.02765272096708784,
          0.9149429515529102,
          -0.13880192453908266,
          0.47751716452927917,
          0.3481420236491288,
          -0.23131776015717798,
          0.5094548526908059,
          -0.7608094741193897,
          0.11631986292309104,
          -0.2172543381087466,
          -0.951490541615766,
          -0.5926296384911123,
          0.017807357187338953,
          0.9589901026525065,
          -1.1984176228205554,
          0.9022702336672062,
          0.6596991557481351,
          -0.8729232096834276,
          0.6099302488780277,
          1.0768283425233702,
          -0.11221523895765963,
          0.5625163393167306,
          -0.16135609434261725,
          1.9687965814298227,
          -0.06034088230737512,
          1.0471376411737952,
          -3.083514419464437,
          0.3359159310292446,
          0.9532324676202132,
          -2.3431026083136883,
          0.5653884207646511,
          -1.276743836695403,
          -1.2754424081239786,
          0.7273459291173392,
          0.5640935924868778,
          0.35167990059124504,
          -0.009069882781335902,
          2.442716727062103,
          -0.7010249463474859,
          0.8308583001465093,
          0.9078840027915112,
          -0.10398264081503443,
          1.1709992616915568,
          0.6155368314083067,
          1.938359996658619,
          0.46887097910584574,
          1.5980214011585323,
          -1.6680300591099766,
          0.6529140466907034,
          -0.09259132978023017,
          0.4017007216409476,
          1.0866891958055531,
          0.02355809233525598,
          -0.6027075895405759,
          0.29777603835222355,
          -0.29772036756264664,
          0.5102551472094399,
          -2.203414038181977,
          0.14521146581149785,
          -1.7873674316906647
         ],
         "yaxis": "y14"
        },
        {
         "line": {
          "color": "rgba(128, 128, 128, 1.0)",
          "dash": "solid",
          "shape": "linear",
          "width": 1.3
         },
         "marker": {
          "size": 2,
          "symbol": "circle"
         },
         "mode": "markers",
         "name": "D",
         "text": "",
         "type": "scatter",
         "x": [
          -0.2083042386487811,
          1.9940217019660507,
          0.6868900521656066,
          0.7403954832943933,
          0.25805332100912814,
          -0.9011569445057611,
          -0.4827251614150337,
          1.0030869769211281,
          0.29698123810580285,
          -0.2901223806986594,
          -0.2297965917923508,
          -1.907840012916959,
          -1.2455654462556958,
          0.5152485445690139,
          -1.0509564361591983,
          0.402477045802536,
          -0.7765787637682078,
          1.3269130095321573,
          -0.6689737397983537,
          0.5792245539811444,
          0.7411088610625216,
          0.8505294593115799,
          0.337565961537066,
          0.09942771486809635,
          -0.5639741902201713,
          1.7735546563905753,
          -0.5272003403466731,
          0.15636506360191063,
          -1.0168608912347303,
          -0.6483483944070878,
          0.6359429714590861,
          0.29321320612892793,
          -0.5575024486543803,
          1.314706106833745,
          -1.4602926417139206,
          -2.1593244387803496,
          -0.9915125256757606,
          0.7087333011849094,
          1.4431207862913922,
          -0.4379466361803305,
          0.6718724360567718,
          0.23376497155418177,
          0.7141334401573364,
          0.5137960244136215,
          0.24195585850416812,
          -0.09232689708484221,
          1.2409230680608476,
          -0.8943710338176813,
          -0.02488283665599046,
          1.7051232886593457,
          0.7963260086215248,
          -0.13487163799224222,
          0.8095222084290425,
          -1.8458841213086177,
          0.5353035104471991,
          1.2219545932019658,
          0.31565573575299694,
          0.00212104897591511,
          -1.0437970677697614,
          0.8897972326176441,
          0.5840163282494348,
          0.10457478707717668,
          1.9469467459336642,
          -0.4008457003721722,
          0.9833704584007208,
          0.029773715402908435,
          1.2111780664404013,
          -0.03146949831444492,
          0.08847383790855555,
          0.0529351709738586,
          1.820158923002148,
          0.8228578460750813,
          0.07489330856630462,
          -0.7206384590420204,
          0.039063599122389686,
          -0.18140082374391592,
          -0.3450999073944346,
          0.13828496015484665,
          -0.955705108359854,
          -1.3054477253420014,
          -0.41144534093628854,
          -0.6082919721613056,
          -1.1534001270477723,
          1.1696173660287967,
          1.2984008626926735,
          -1.375702829675632,
          0.2778470265387704,
          -0.7583231926290582,
          -0.2815972749544762,
          0.6332104027712953,
          -0.5870809544825567,
          -0.46938737929678664,
          0.5530455065009544,
          -0.19653247959752876,
          0.07193535079171101,
          0.6765581713207989,
          -1.0684094369816255,
          -0.9881307004761971,
          0.9245895121438726,
          -0.6529543539204322
         ],
         "xaxis": "x15",
         "y": [
          -0.7295170198037868,
          -0.23998788606590082,
          -1.1547229401264072,
          0.5251275531639371,
          -1.21535597674017,
          1.9753387262494997,
          0.9020659434959302,
          -0.7889940780201902,
          -2.4041437503837253,
          -0.9355465947684439,
          -0.6842111153397739,
          -0.7799432289418868,
          0.16081177876519212,
          1.2841547345103963,
          -0.3227596130499945,
          -0.9039206625056124,
          0.828889919327969,
          -2.9679088884059173,
          -0.5750994822623196,
          0.3846892236574576,
          0.14833093564088037,
          0.07309713066844106,
          -0.25559763349132203,
          -0.4813841083056664,
          -1.9271808617819115,
          -0.6070580733247838,
          -1.1636932324687423,
          1.339280484849487,
          0.47771727654156293,
          -0.5968481161014805,
          1.2968929935229006,
          -0.16216150682417468,
          1.0903918297478092,
          -0.055663382391095195,
          -1.9383170898318631,
          1.112380532950639,
          1.3782274102022636,
          -0.42142411236809735,
          0.8957323065314934,
          0.41097621688336106,
          -0.02765272096708784,
          0.9149429515529102,
          -0.13880192453908266,
          0.47751716452927917,
          0.3481420236491288,
          -0.23131776015717798,
          0.5094548526908059,
          -0.7608094741193897,
          0.11631986292309104,
          -0.2172543381087466,
          -0.951490541615766,
          -0.5926296384911123,
          0.017807357187338953,
          0.9589901026525065,
          -1.1984176228205554,
          0.9022702336672062,
          0.6596991557481351,
          -0.8729232096834276,
          0.6099302488780277,
          1.0768283425233702,
          -0.11221523895765963,
          0.5625163393167306,
          -0.16135609434261725,
          1.9687965814298227,
          -0.06034088230737512,
          1.0471376411737952,
          -3.083514419464437,
          0.3359159310292446,
          0.9532324676202132,
          -2.3431026083136883,
          0.5653884207646511,
          -1.276743836695403,
          -1.2754424081239786,
          0.7273459291173392,
          0.5640935924868778,
          0.35167990059124504,
          -0.009069882781335902,
          2.442716727062103,
          -0.7010249463474859,
          0.8308583001465093,
          0.9078840027915112,
          -0.10398264081503443,
          1.1709992616915568,
          0.6155368314083067,
          1.938359996658619,
          0.46887097910584574,
          1.5980214011585323,
          -1.6680300591099766,
          0.6529140466907034,
          -0.09259132978023017,
          0.4017007216409476,
          1.0866891958055531,
          0.02355809233525598,
          -0.6027075895405759,
          0.29777603835222355,
          -0.29772036756264664,
          0.5102551472094399,
          -2.203414038181977,
          0.14521146581149785,
          -1.7873674316906647
         ],
         "yaxis": "y15"
        },
        {
         "histfunc": "count",
         "histnorm": "",
         "marker": {
          "color": "rgba(128, 0, 128, 1.0)",
          "line": {
           "color": "#4D5663",
           "width": 1.3
          }
         },
         "name": "D",
         "nbinsx": 10,
         "opacity": 0.8,
         "orientation": "v",
         "type": "histogram",
         "x": [
          -0.7295170198037868,
          -0.23998788606590082,
          -1.1547229401264072,
          0.5251275531639371,
          -1.21535597674017,
          1.9753387262494997,
          0.9020659434959302,
          -0.7889940780201902,
          -2.4041437503837253,
          -0.9355465947684439,
          -0.6842111153397739,
          -0.7799432289418868,
          0.16081177876519212,
          1.2841547345103963,
          -0.3227596130499945,
          -0.9039206625056124,
          0.828889919327969,
          -2.9679088884059173,
          -0.5750994822623196,
          0.3846892236574576,
          0.14833093564088037,
          0.07309713066844106,
          -0.25559763349132203,
          -0.4813841083056664,
          -1.9271808617819115,
          -0.6070580733247838,
          -1.1636932324687423,
          1.339280484849487,
          0.47771727654156293,
          -0.5968481161014805,
          1.2968929935229006,
          -0.16216150682417468,
          1.0903918297478092,
          -0.055663382391095195,
          -1.9383170898318631,
          1.112380532950639,
          1.3782274102022636,
          -0.42142411236809735,
          0.8957323065314934,
          0.41097621688336106,
          -0.02765272096708784,
          0.9149429515529102,
          -0.13880192453908266,
          0.47751716452927917,
          0.3481420236491288,
          -0.23131776015717798,
          0.5094548526908059,
          -0.7608094741193897,
          0.11631986292309104,
          -0.2172543381087466,
          -0.951490541615766,
          -0.5926296384911123,
          0.017807357187338953,
          0.9589901026525065,
          -1.1984176228205554,
          0.9022702336672062,
          0.6596991557481351,
          -0.8729232096834276,
          0.6099302488780277,
          1.0768283425233702,
          -0.11221523895765963,
          0.5625163393167306,
          -0.16135609434261725,
          1.9687965814298227,
          -0.06034088230737512,
          1.0471376411737952,
          -3.083514419464437,
          0.3359159310292446,
          0.9532324676202132,
          -2.3431026083136883,
          0.5653884207646511,
          -1.276743836695403,
          -1.2754424081239786,
          0.7273459291173392,
          0.5640935924868778,
          0.35167990059124504,
          -0.009069882781335902,
          2.442716727062103,
          -0.7010249463474859,
          0.8308583001465093,
          0.9078840027915112,
          -0.10398264081503443,
          1.1709992616915568,
          0.6155368314083067,
          1.938359996658619,
          0.46887097910584574,
          1.5980214011585323,
          -1.6680300591099766,
          0.6529140466907034,
          -0.09259132978023017,
          0.4017007216409476,
          1.0866891958055531,
          0.02355809233525598,
          -0.6027075895405759,
          0.29777603835222355,
          -0.29772036756264664,
          0.5102551472094399,
          -2.203414038181977,
          0.14521146581149785,
          -1.7873674316906647
         ],
         "xaxis": "x16",
         "yaxis": "y16"
        }
       ],
       "layout": {
        "bargap": 0.02,
        "legend": {
         "bgcolor": "#F5F6F9",
         "font": {
          "color": "#4D5663"
         }
        },
        "paper_bgcolor": "#F5F6F9",
        "plot_bgcolor": "#F5F6F9",
        "showlegend": false,
        "template": {
         "data": {
          "bar": [
           {
            "error_x": {
             "color": "#2a3f5f"
            },
            "error_y": {
             "color": "#2a3f5f"
            },
            "marker": {
             "line": {
              "color": "#E5ECF6",
              "width": 0.5
             },
             "pattern": {
              "fillmode": "overlay",
              "size": 10,
              "solidity": 0.2
             }
            },
            "type": "bar"
           }
          ],
          "barpolar": [
           {
            "marker": {
             "line": {
              "color": "#E5ECF6",
              "width": 0.5
             },
             "pattern": {
              "fillmode": "overlay",
              "size": 10,
              "solidity": 0.2
             }
            },
            "type": "barpolar"
           }
          ],
          "carpet": [
           {
            "aaxis": {
             "endlinecolor": "#2a3f5f",
             "gridcolor": "white",
             "linecolor": "white",
             "minorgridcolor": "white",
             "startlinecolor": "#2a3f5f"
            },
            "baxis": {
             "endlinecolor": "#2a3f5f",
             "gridcolor": "white",
             "linecolor": "white",
             "minorgridcolor": "white",
             "startlinecolor": "#2a3f5f"
            },
            "type": "carpet"
           }
          ],
          "choropleth": [
           {
            "colorbar": {
             "outlinewidth": 0,
             "ticks": ""
            },
            "type": "choropleth"
           }
          ],
          "contour": [
           {
            "colorbar": {
             "outlinewidth": 0,
             "ticks": ""
            },
            "colorscale": [
             [
              0,
              "#0d0887"
             ],
             [
              0.1111111111111111,
              "#46039f"
             ],
             [
              0.2222222222222222,
              "#7201a8"
             ],
             [
              0.3333333333333333,
              "#9c179e"
             ],
             [
              0.4444444444444444,
              "#bd3786"
             ],
             [
              0.5555555555555556,
              "#d8576b"
             ],
             [
              0.6666666666666666,
              "#ed7953"
             ],
             [
              0.7777777777777778,
              "#fb9f3a"
             ],
             [
              0.8888888888888888,
              "#fdca26"
             ],
             [
              1,
              "#f0f921"
             ]
            ],
            "type": "contour"
           }
          ],
          "contourcarpet": [
           {
            "colorbar": {
             "outlinewidth": 0,
             "ticks": ""
            },
            "type": "contourcarpet"
           }
          ],
          "heatmap": [
           {
            "colorbar": {
             "outlinewidth": 0,
             "ticks": ""
            },
            "colorscale": [
             [
              0,
              "#0d0887"
             ],
             [
              0.1111111111111111,
              "#46039f"
             ],
             [
              0.2222222222222222,
              "#7201a8"
             ],
             [
              0.3333333333333333,
              "#9c179e"
             ],
             [
              0.4444444444444444,
              "#bd3786"
             ],
             [
              0.5555555555555556,
              "#d8576b"
             ],
             [
              0.6666666666666666,
              "#ed7953"
             ],
             [
              0.7777777777777778,
              "#fb9f3a"
             ],
             [
              0.8888888888888888,
              "#fdca26"
             ],
             [
              1,
              "#f0f921"
             ]
            ],
            "type": "heatmap"
           }
          ],
          "heatmapgl": [
           {
            "colorbar": {
             "outlinewidth": 0,
             "ticks": ""
            },
            "colorscale": [
             [
              0,
              "#0d0887"
             ],
             [
              0.1111111111111111,
              "#46039f"
             ],
             [
              0.2222222222222222,
              "#7201a8"
             ],
             [
              0.3333333333333333,
              "#9c179e"
             ],
             [
              0.4444444444444444,
              "#bd3786"
             ],
             [
              0.5555555555555556,
              "#d8576b"
             ],
             [
              0.6666666666666666,
              "#ed7953"
             ],
             [
              0.7777777777777778,
              "#fb9f3a"
             ],
             [
              0.8888888888888888,
              "#fdca26"
             ],
             [
              1,
              "#f0f921"
             ]
            ],
            "type": "heatmapgl"
           }
          ],
          "histogram": [
           {
            "marker": {
             "pattern": {
              "fillmode": "overlay",
              "size": 10,
              "solidity": 0.2
             }
            },
            "type": "histogram"
           }
          ],
          "histogram2d": [
           {
            "colorbar": {
             "outlinewidth": 0,
             "ticks": ""
            },
            "colorscale": [
             [
              0,
              "#0d0887"
             ],
             [
              0.1111111111111111,
              "#46039f"
             ],
             [
              0.2222222222222222,
              "#7201a8"
             ],
             [
              0.3333333333333333,
              "#9c179e"
             ],
             [
              0.4444444444444444,
              "#bd3786"
             ],
             [
              0.5555555555555556,
              "#d8576b"
             ],
             [
              0.6666666666666666,
              "#ed7953"
             ],
             [
              0.7777777777777778,
              "#fb9f3a"
             ],
             [
              0.8888888888888888,
              "#fdca26"
             ],
             [
              1,
              "#f0f921"
             ]
            ],
            "type": "histogram2d"
           }
          ],
          "histogram2dcontour": [
           {
            "colorbar": {
             "outlinewidth": 0,
             "ticks": ""
            },
            "colorscale": [
             [
              0,
              "#0d0887"
             ],
             [
              0.1111111111111111,
              "#46039f"
             ],
             [
              0.2222222222222222,
              "#7201a8"
             ],
             [
              0.3333333333333333,
              "#9c179e"
             ],
             [
              0.4444444444444444,
              "#bd3786"
             ],
             [
              0.5555555555555556,
              "#d8576b"
             ],
             [
              0.6666666666666666,
              "#ed7953"
             ],
             [
              0.7777777777777778,
              "#fb9f3a"
             ],
             [
              0.8888888888888888,
              "#fdca26"
             ],
             [
              1,
              "#f0f921"
             ]
            ],
            "type": "histogram2dcontour"
           }
          ],
          "mesh3d": [
           {
            "colorbar": {
             "outlinewidth": 0,
             "ticks": ""
            },
            "type": "mesh3d"
           }
          ],
          "parcoords": [
           {
            "line": {
             "colorbar": {
              "outlinewidth": 0,
              "ticks": ""
             }
            },
            "type": "parcoords"
           }
          ],
          "pie": [
           {
            "automargin": true,
            "type": "pie"
           }
          ],
          "scatter": [
           {
            "marker": {
             "colorbar": {
              "outlinewidth": 0,
              "ticks": ""
             }
            },
            "type": "scatter"
           }
          ],
          "scatter3d": [
           {
            "line": {
             "colorbar": {
              "outlinewidth": 0,
              "ticks": ""
             }
            },
            "marker": {
             "colorbar": {
              "outlinewidth": 0,
              "ticks": ""
             }
            },
            "type": "scatter3d"
           }
          ],
          "scattercarpet": [
           {
            "marker": {
             "colorbar": {
              "outlinewidth": 0,
              "ticks": ""
             }
            },
            "type": "scattercarpet"
           }
          ],
          "scattergeo": [
           {
            "marker": {
             "colorbar": {
              "outlinewidth": 0,
              "ticks": ""
             }
            },
            "type": "scattergeo"
           }
          ],
          "scattergl": [
           {
            "marker": {
             "colorbar": {
              "outlinewidth": 0,
              "ticks": ""
             }
            },
            "type": "scattergl"
           }
          ],
          "scattermapbox": [
           {
            "marker": {
             "colorbar": {
              "outlinewidth": 0,
              "ticks": ""
             }
            },
            "type": "scattermapbox"
           }
          ],
          "scatterpolar": [
           {
            "marker": {
             "colorbar": {
              "outlinewidth": 0,
              "ticks": ""
             }
            },
            "type": "scatterpolar"
           }
          ],
          "scatterpolargl": [
           {
            "marker": {
             "colorbar": {
              "outlinewidth": 0,
              "ticks": ""
             }
            },
            "type": "scatterpolargl"
           }
          ],
          "scatterternary": [
           {
            "marker": {
             "colorbar": {
              "outlinewidth": 0,
              "ticks": ""
             }
            },
            "type": "scatterternary"
           }
          ],
          "surface": [
           {
            "colorbar": {
             "outlinewidth": 0,
             "ticks": ""
            },
            "colorscale": [
             [
              0,
              "#0d0887"
             ],
             [
              0.1111111111111111,
              "#46039f"
             ],
             [
              0.2222222222222222,
              "#7201a8"
             ],
             [
              0.3333333333333333,
              "#9c179e"
             ],
             [
              0.4444444444444444,
              "#bd3786"
             ],
             [
              0.5555555555555556,
              "#d8576b"
             ],
             [
              0.6666666666666666,
              "#ed7953"
             ],
             [
              0.7777777777777778,
              "#fb9f3a"
             ],
             [
              0.8888888888888888,
              "#fdca26"
             ],
             [
              1,
              "#f0f921"
             ]
            ],
            "type": "surface"
           }
          ],
          "table": [
           {
            "cells": {
             "fill": {
              "color": "#EBF0F8"
             },
             "line": {
              "color": "white"
             }
            },
            "header": {
             "fill": {
              "color": "#C8D4E3"
             },
             "line": {
              "color": "white"
             }
            },
            "type": "table"
           }
          ]
         },
         "layout": {
          "annotationdefaults": {
           "arrowcolor": "#2a3f5f",
           "arrowhead": 0,
           "arrowwidth": 1
          },
          "autotypenumbers": "strict",
          "coloraxis": {
           "colorbar": {
            "outlinewidth": 0,
            "ticks": ""
           }
          },
          "colorscale": {
           "diverging": [
            [
             0,
             "#8e0152"
            ],
            [
             0.1,
             "#c51b7d"
            ],
            [
             0.2,
             "#de77ae"
            ],
            [
             0.3,
             "#f1b6da"
            ],
            [
             0.4,
             "#fde0ef"
            ],
            [
             0.5,
             "#f7f7f7"
            ],
            [
             0.6,
             "#e6f5d0"
            ],
            [
             0.7,
             "#b8e186"
            ],
            [
             0.8,
             "#7fbc41"
            ],
            [
             0.9,
             "#4d9221"
            ],
            [
             1,
             "#276419"
            ]
           ],
           "sequential": [
            [
             0,
             "#0d0887"
            ],
            [
             0.1111111111111111,
             "#46039f"
            ],
            [
             0.2222222222222222,
             "#7201a8"
            ],
            [
             0.3333333333333333,
             "#9c179e"
            ],
            [
             0.4444444444444444,
             "#bd3786"
            ],
            [
             0.5555555555555556,
             "#d8576b"
            ],
            [
             0.6666666666666666,
             "#ed7953"
            ],
            [
             0.7777777777777778,
             "#fb9f3a"
            ],
            [
             0.8888888888888888,
             "#fdca26"
            ],
            [
             1,
             "#f0f921"
            ]
           ],
           "sequentialminus": [
            [
             0,
             "#0d0887"
            ],
            [
             0.1111111111111111,
             "#46039f"
            ],
            [
             0.2222222222222222,
             "#7201a8"
            ],
            [
             0.3333333333333333,
             "#9c179e"
            ],
            [
             0.4444444444444444,
             "#bd3786"
            ],
            [
             0.5555555555555556,
             "#d8576b"
            ],
            [
             0.6666666666666666,
             "#ed7953"
            ],
            [
             0.7777777777777778,
             "#fb9f3a"
            ],
            [
             0.8888888888888888,
             "#fdca26"
            ],
            [
             1,
             "#f0f921"
            ]
           ]
          },
          "colorway": [
           "#636efa",
           "#EF553B",
           "#00cc96",
           "#ab63fa",
           "#FFA15A",
           "#19d3f3",
           "#FF6692",
           "#B6E880",
           "#FF97FF",
           "#FECB52"
          ],
          "font": {
           "color": "#2a3f5f"
          },
          "geo": {
           "bgcolor": "white",
           "lakecolor": "white",
           "landcolor": "#E5ECF6",
           "showlakes": true,
           "showland": true,
           "subunitcolor": "white"
          },
          "hoverlabel": {
           "align": "left"
          },
          "hovermode": "closest",
          "mapbox": {
           "style": "light"
          },
          "paper_bgcolor": "white",
          "plot_bgcolor": "#E5ECF6",
          "polar": {
           "angularaxis": {
            "gridcolor": "white",
            "linecolor": "white",
            "ticks": ""
           },
           "bgcolor": "#E5ECF6",
           "radialaxis": {
            "gridcolor": "white",
            "linecolor": "white",
            "ticks": ""
           }
          },
          "scene": {
           "xaxis": {
            "backgroundcolor": "#E5ECF6",
            "gridcolor": "white",
            "gridwidth": 2,
            "linecolor": "white",
            "showbackground": true,
            "ticks": "",
            "zerolinecolor": "white"
           },
           "yaxis": {
            "backgroundcolor": "#E5ECF6",
            "gridcolor": "white",
            "gridwidth": 2,
            "linecolor": "white",
            "showbackground": true,
            "ticks": "",
            "zerolinecolor": "white"
           },
           "zaxis": {
            "backgroundcolor": "#E5ECF6",
            "gridcolor": "white",
            "gridwidth": 2,
            "linecolor": "white",
            "showbackground": true,
            "ticks": "",
            "zerolinecolor": "white"
           }
          },
          "shapedefaults": {
           "line": {
            "color": "#2a3f5f"
           }
          },
          "ternary": {
           "aaxis": {
            "gridcolor": "white",
            "linecolor": "white",
            "ticks": ""
           },
           "baxis": {
            "gridcolor": "white",
            "linecolor": "white",
            "ticks": ""
           },
           "bgcolor": "#E5ECF6",
           "caxis": {
            "gridcolor": "white",
            "linecolor": "white",
            "ticks": ""
           }
          },
          "title": {
           "x": 0.05
          },
          "xaxis": {
           "automargin": true,
           "gridcolor": "white",
           "linecolor": "white",
           "ticks": "",
           "title": {
            "standoff": 15
           },
           "zerolinecolor": "white",
           "zerolinewidth": 2
          },
          "yaxis": {
           "automargin": true,
           "gridcolor": "white",
           "linecolor": "white",
           "ticks": "",
           "title": {
            "standoff": 15
           },
           "zerolinecolor": "white",
           "zerolinewidth": 2
          }
         }
        },
        "title": {
         "font": {
          "color": "#4D5663"
         }
        },
        "xaxis": {
         "anchor": "y",
         "domain": [
          0,
          0.2125
         ],
         "gridcolor": "#E1E5ED",
         "showgrid": false,
         "tickfont": {
          "color": "#4D5663"
         },
         "title": {
          "font": {
           "color": "#4D5663"
          },
          "text": ""
         },
         "zerolinecolor": "#E1E5ED"
        },
        "xaxis10": {
         "anchor": "y10",
         "domain": [
          0.2625,
          0.475
         ],
         "gridcolor": "#E1E5ED",
         "showgrid": false,
         "tickfont": {
          "color": "#4D5663"
         },
         "title": {
          "font": {
           "color": "#4D5663"
          },
          "text": ""
         },
         "zerolinecolor": "#E1E5ED"
        },
        "xaxis11": {
         "anchor": "y11",
         "domain": [
          0.525,
          0.7375
         ],
         "gridcolor": "#E1E5ED",
         "showgrid": false,
         "tickfont": {
          "color": "#4D5663"
         },
         "title": {
          "font": {
           "color": "#4D5663"
          },
          "text": ""
         },
         "zerolinecolor": "#E1E5ED"
        },
        "xaxis12": {
         "anchor": "y12",
         "domain": [
          0.7875,
          1
         ],
         "gridcolor": "#E1E5ED",
         "showgrid": false,
         "tickfont": {
          "color": "#4D5663"
         },
         "title": {
          "font": {
           "color": "#4D5663"
          },
          "text": ""
         },
         "zerolinecolor": "#E1E5ED"
        },
        "xaxis13": {
         "anchor": "y13",
         "domain": [
          0,
          0.2125
         ],
         "gridcolor": "#E1E5ED",
         "showgrid": false,
         "tickfont": {
          "color": "#4D5663"
         },
         "title": {
          "font": {
           "color": "#4D5663"
          },
          "text": ""
         },
         "zerolinecolor": "#E1E5ED"
        },
        "xaxis14": {
         "anchor": "y14",
         "domain": [
          0.2625,
          0.475
         ],
         "gridcolor": "#E1E5ED",
         "showgrid": false,
         "tickfont": {
          "color": "#4D5663"
         },
         "title": {
          "font": {
           "color": "#4D5663"
          },
          "text": ""
         },
         "zerolinecolor": "#E1E5ED"
        },
        "xaxis15": {
         "anchor": "y15",
         "domain": [
          0.525,
          0.7375
         ],
         "gridcolor": "#E1E5ED",
         "showgrid": false,
         "tickfont": {
          "color": "#4D5663"
         },
         "title": {
          "font": {
           "color": "#4D5663"
          },
          "text": ""
         },
         "zerolinecolor": "#E1E5ED"
        },
        "xaxis16": {
         "anchor": "y16",
         "domain": [
          0.7875,
          1
         ],
         "gridcolor": "#E1E5ED",
         "showgrid": false,
         "tickfont": {
          "color": "#4D5663"
         },
         "title": {
          "font": {
           "color": "#4D5663"
          },
          "text": ""
         },
         "zerolinecolor": "#E1E5ED"
        },
        "xaxis2": {
         "anchor": "y2",
         "domain": [
          0.2625,
          0.475
         ],
         "gridcolor": "#E1E5ED",
         "showgrid": false,
         "tickfont": {
          "color": "#4D5663"
         },
         "title": {
          "font": {
           "color": "#4D5663"
          },
          "text": ""
         },
         "zerolinecolor": "#E1E5ED"
        },
        "xaxis3": {
         "anchor": "y3",
         "domain": [
          0.525,
          0.7375
         ],
         "gridcolor": "#E1E5ED",
         "showgrid": false,
         "tickfont": {
          "color": "#4D5663"
         },
         "title": {
          "font": {
           "color": "#4D5663"
          },
          "text": ""
         },
         "zerolinecolor": "#E1E5ED"
        },
        "xaxis4": {
         "anchor": "y4",
         "domain": [
          0.7875,
          1
         ],
         "gridcolor": "#E1E5ED",
         "showgrid": false,
         "tickfont": {
          "color": "#4D5663"
         },
         "title": {
          "font": {
           "color": "#4D5663"
          },
          "text": ""
         },
         "zerolinecolor": "#E1E5ED"
        },
        "xaxis5": {
         "anchor": "y5",
         "domain": [
          0,
          0.2125
         ],
         "gridcolor": "#E1E5ED",
         "showgrid": false,
         "tickfont": {
          "color": "#4D5663"
         },
         "title": {
          "font": {
           "color": "#4D5663"
          },
          "text": ""
         },
         "zerolinecolor": "#E1E5ED"
        },
        "xaxis6": {
         "anchor": "y6",
         "domain": [
          0.2625,
          0.475
         ],
         "gridcolor": "#E1E5ED",
         "showgrid": false,
         "tickfont": {
          "color": "#4D5663"
         },
         "title": {
          "font": {
           "color": "#4D5663"
          },
          "text": ""
         },
         "zerolinecolor": "#E1E5ED"
        },
        "xaxis7": {
         "anchor": "y7",
         "domain": [
          0.525,
          0.7375
         ],
         "gridcolor": "#E1E5ED",
         "showgrid": false,
         "tickfont": {
          "color": "#4D5663"
         },
         "title": {
          "font": {
           "color": "#4D5663"
          },
          "text": ""
         },
         "zerolinecolor": "#E1E5ED"
        },
        "xaxis8": {
         "anchor": "y8",
         "domain": [
          0.7875,
          1
         ],
         "gridcolor": "#E1E5ED",
         "showgrid": false,
         "tickfont": {
          "color": "#4D5663"
         },
         "title": {
          "font": {
           "color": "#4D5663"
          },
          "text": ""
         },
         "zerolinecolor": "#E1E5ED"
        },
        "xaxis9": {
         "anchor": "y9",
         "domain": [
          0,
          0.2125
         ],
         "gridcolor": "#E1E5ED",
         "showgrid": false,
         "tickfont": {
          "color": "#4D5663"
         },
         "title": {
          "font": {
           "color": "#4D5663"
          },
          "text": ""
         },
         "zerolinecolor": "#E1E5ED"
        },
        "yaxis": {
         "anchor": "x",
         "domain": [
          0.8025,
          1
         ],
         "gridcolor": "#E1E5ED",
         "showgrid": false,
         "tickfont": {
          "color": "#4D5663"
         },
         "title": {
          "font": {
           "color": "#4D5663"
          },
          "text": ""
         },
         "zerolinecolor": "#E1E5ED"
        },
        "yaxis10": {
         "anchor": "x10",
         "domain": [
          0.2675,
          0.465
         ],
         "gridcolor": "#E1E5ED",
         "showgrid": false,
         "tickfont": {
          "color": "#4D5663"
         },
         "title": {
          "font": {
           "color": "#4D5663"
          },
          "text": ""
         },
         "zerolinecolor": "#E1E5ED"
        },
        "yaxis11": {
         "anchor": "x11",
         "domain": [
          0.2675,
          0.465
         ],
         "gridcolor": "#E1E5ED",
         "showgrid": false,
         "tickfont": {
          "color": "#4D5663"
         },
         "title": {
          "font": {
           "color": "#4D5663"
          },
          "text": ""
         },
         "zerolinecolor": "#E1E5ED"
        },
        "yaxis12": {
         "anchor": "x12",
         "domain": [
          0.2675,
          0.465
         ],
         "gridcolor": "#E1E5ED",
         "showgrid": false,
         "tickfont": {
          "color": "#4D5663"
         },
         "title": {
          "font": {
           "color": "#4D5663"
          },
          "text": ""
         },
         "zerolinecolor": "#E1E5ED"
        },
        "yaxis13": {
         "anchor": "x13",
         "domain": [
          0,
          0.1975
         ],
         "gridcolor": "#E1E5ED",
         "showgrid": false,
         "tickfont": {
          "color": "#4D5663"
         },
         "title": {
          "font": {
           "color": "#4D5663"
          },
          "text": ""
         },
         "zerolinecolor": "#E1E5ED"
        },
        "yaxis14": {
         "anchor": "x14",
         "domain": [
          0,
          0.1975
         ],
         "gridcolor": "#E1E5ED",
         "showgrid": false,
         "tickfont": {
          "color": "#4D5663"
         },
         "title": {
          "font": {
           "color": "#4D5663"
          },
          "text": ""
         },
         "zerolinecolor": "#E1E5ED"
        },
        "yaxis15": {
         "anchor": "x15",
         "domain": [
          0,
          0.1975
         ],
         "gridcolor": "#E1E5ED",
         "showgrid": false,
         "tickfont": {
          "color": "#4D5663"
         },
         "title": {
          "font": {
           "color": "#4D5663"
          },
          "text": ""
         },
         "zerolinecolor": "#E1E5ED"
        },
        "yaxis16": {
         "anchor": "x16",
         "domain": [
          0,
          0.1975
         ],
         "gridcolor": "#E1E5ED",
         "showgrid": false,
         "tickfont": {
          "color": "#4D5663"
         },
         "title": {
          "font": {
           "color": "#4D5663"
          },
          "text": ""
         },
         "zerolinecolor": "#E1E5ED"
        },
        "yaxis2": {
         "anchor": "x2",
         "domain": [
          0.8025,
          1
         ],
         "gridcolor": "#E1E5ED",
         "showgrid": false,
         "tickfont": {
          "color": "#4D5663"
         },
         "title": {
          "font": {
           "color": "#4D5663"
          },
          "text": ""
         },
         "zerolinecolor": "#E1E5ED"
        },
        "yaxis3": {
         "anchor": "x3",
         "domain": [
          0.8025,
          1
         ],
         "gridcolor": "#E1E5ED",
         "showgrid": false,
         "tickfont": {
          "color": "#4D5663"
         },
         "title": {
          "font": {
           "color": "#4D5663"
          },
          "text": ""
         },
         "zerolinecolor": "#E1E5ED"
        },
        "yaxis4": {
         "anchor": "x4",
         "domain": [
          0.8025,
          1
         ],
         "gridcolor": "#E1E5ED",
         "showgrid": false,
         "tickfont": {
          "color": "#4D5663"
         },
         "title": {
          "font": {
           "color": "#4D5663"
          },
          "text": ""
         },
         "zerolinecolor": "#E1E5ED"
        },
        "yaxis5": {
         "anchor": "x5",
         "domain": [
          0.535,
          0.7325
         ],
         "gridcolor": "#E1E5ED",
         "showgrid": false,
         "tickfont": {
          "color": "#4D5663"
         },
         "title": {
          "font": {
           "color": "#4D5663"
          },
          "text": ""
         },
         "zerolinecolor": "#E1E5ED"
        },
        "yaxis6": {
         "anchor": "x6",
         "domain": [
          0.535,
          0.7325
         ],
         "gridcolor": "#E1E5ED",
         "showgrid": false,
         "tickfont": {
          "color": "#4D5663"
         },
         "title": {
          "font": {
           "color": "#4D5663"
          },
          "text": ""
         },
         "zerolinecolor": "#E1E5ED"
        },
        "yaxis7": {
         "anchor": "x7",
         "domain": [
          0.535,
          0.7325
         ],
         "gridcolor": "#E1E5ED",
         "showgrid": false,
         "tickfont": {
          "color": "#4D5663"
         },
         "title": {
          "font": {
           "color": "#4D5663"
          },
          "text": ""
         },
         "zerolinecolor": "#E1E5ED"
        },
        "yaxis8": {
         "anchor": "x8",
         "domain": [
          0.535,
          0.7325
         ],
         "gridcolor": "#E1E5ED",
         "showgrid": false,
         "tickfont": {
          "color": "#4D5663"
         },
         "title": {
          "font": {
           "color": "#4D5663"
          },
          "text": ""
         },
         "zerolinecolor": "#E1E5ED"
        },
        "yaxis9": {
         "anchor": "x9",
         "domain": [
          0.2675,
          0.465
         ],
         "gridcolor": "#E1E5ED",
         "showgrid": false,
         "tickfont": {
          "color": "#4D5663"
         },
         "title": {
          "font": {
           "color": "#4D5663"
          },
          "text": ""
         },
         "zerolinecolor": "#E1E5ED"
        }
       }
      },
      "text/html": [
       "<div>                            <div id=\"cd1f7b29-ce47-4ece-9c2f-73f21d4ce05e\" class=\"plotly-graph-div\" style=\"height:525px; width:100%;\"></div>            <script type=\"text/javascript\">                require([\"plotly\"], function(Plotly) {                    window.PLOTLYENV=window.PLOTLYENV || {};\n",
       "                    window.PLOTLYENV.BASE_URL='https://plot.ly';                                    if (document.getElementById(\"cd1f7b29-ce47-4ece-9c2f-73f21d4ce05e\")) {                    Plotly.newPlot(                        \"cd1f7b29-ce47-4ece-9c2f-73f21d4ce05e\",                        [{\"histfunc\":\"count\",\"histnorm\":\"\",\"marker\":{\"color\":\"rgba(255, 153, 51, 1.0)\",\"line\":{\"color\":\"#4D5663\",\"width\":1.3}},\"name\":\"A\",\"nbinsx\":10,\"opacity\":0.8,\"orientation\":\"v\",\"x\":[1.2250091290549099,-0.45155151276997574,-0.434194932410401,0.4965940115376493,0.7154940545115944,0.869248019234941,2.3213512716361366,-0.17578821354583135,-0.6980535363394793,1.7960776805377587,-0.6797508949993439,-0.3309524884809053,-0.6045666646935174,0.39255638365070905,0.8963963207259847,-1.207418038315098,2.43886274114652,-0.25133423822888296,0.344811281109698,0.4651337825187788,-0.9693819748893496,-1.511988582178468,1.471896155007462,-0.398263666264437,0.39168919211590114,1.3028894716559019,0.3780306164092249,-0.5771500751039939,0.7271384586266463,-1.1028606757463444,1.3055889750163336,-0.009495061596881786,-0.21893928001299454,-1.0867415317320401,-0.1275445495943942,0.33115070545190967,2.5642016093451714,-0.2209033831209197,-0.643645732559064,-0.5765241905247848,0.2157414441636662,1.5633915324211198,-1.3815087548291045,-0.4404643403952877,0.46486207751427316,0.5945107910659146,-1.138265783518757,0.010872214988163919,0.576946264815059,-0.3220104816325628,-3.1580009227460373,0.22098917229933435,-0.8812159121268724,-0.6746542906878209,0.04361980450368418,1.1672838672617596,0.7882475378851349,-0.2231655723751139,1.5196027240194374,-0.6141433238954168,0.06664930104555683,0.2811234182254289,-1.656925993858488,0.4418261364739898,-0.5371968332337426,-0.9081527939790605,-0.07855444225988696,-0.8226887787257702,0.9282396462206131,-1.8774564271906615,-0.6151937005939961,-1.3814368588693005,0.4917684583284424,0.43202353599084037,-0.2910669668112129,-1.1742968785696453,0.1145405200398717,0.8879132770752252,2.205142879212352,-0.8708551842512162,0.5146930417481028,-0.7397889246404309,0.3725082553355003,-0.2970889305836918,-0.6023513414272289,-0.6548214421503965,1.0487938530886973,-0.46844577455326064,0.4431751142410106,0.617494687789193,-2.118833378214814,-1.121121567734123,0.060602473271775266,1.5829742026816596,-1.443617735913895,-0.45552498105881545,0.17269055388343957,0.32449455147760553,-0.22266509764397124,-0.35516799968725554],\"xaxis\":\"x\",\"yaxis\":\"y\",\"type\":\"histogram\"},{\"line\":{\"color\":\"rgba(128, 128, 128, 1.0)\",\"dash\":\"solid\",\"shape\":\"linear\",\"width\":1.3},\"marker\":{\"size\":2,\"symbol\":\"circle\"},\"mode\":\"markers\",\"name\":\"A\",\"text\":\"\",\"x\":[-0.058828348753244795,-0.5585955170846071,0.28592113693614535,0.7369704806177205,0.5040515469067578,-1.150531193233306,0.37863435943863993,2.6446661872057966,0.6141075505621618,-0.2903774701835001,1.2944643852448017,0.08833387861941756,0.740469911373652,-1.2378998245290902,0.8377548461424911,-0.9302492624058314,0.8619676710312983,0.6637615012201094,-0.23583023776775033,-1.7212897063889532,0.7494120556400852,-1.570272198998661,1.8778845200154963,1.3596472166470617,1.6016167744950842,1.4471808283293137,1.1612839763319274,-0.14757504651218814,-0.6595650733988679,0.6936799050890169,1.1145216894947776,0.2988919777304995,-1.2339766655239337,-1.4148282731503572,-1.0186179403047475,-0.5596638109277869,-1.1629501310796933,-1.4580730317331707,0.19043930587364302,0.16607046431833294,-1.1528877738508099,-0.25292305873434856,0.7549938818117207,0.14861042055819765,0.17111415264706922,-2.1938539364050342,-0.5595594846677245,0.5755730956414731,-1.0951142538294591,0.14904979017143627,0.7830949465996929,-2.4694173550155902,-1.375546686025038,-0.9355671286774196,-1.9039772933856638,0.9641021125721575,-0.6541626146441876,1.5570492952921344,-0.28163972606348875,-0.4221870666756173,-0.008255132583119976,-0.974937610260182,1.4744097823938067,0.3941908907496691,-0.46925653750948826,0.6172989994558716,-1.5691837871097243,0.8275091476401291,2.2632501094631494,-0.6628560911357416,0.7473190202715746,0.963350570059107,1.4179540247512379,0.2813514042710119,0.2972570430123793,-0.3746604454081584,1.1064630868964769,-1.3066939251958634,-0.40644182487705977,-1.917462490109074,-0.791861120472799,-0.2343111928184764,0.09114874510176733,0.062218244033363616,-0.802451728592171,0.06171028511578955,0.4198079906863518,1.3820369642682173,0.075842013636187,-1.466189127750254,-0.5352111977391772,-0.5826480477362354,1.5796807614050792,-0.04240384621818216,-0.017172085149557044,-1.6690116849350105,-0.5526387152921023,-1.329721799479411,0.24578920761770287,0.7237373775718123],\"xaxis\":\"x2\",\"y\":[1.2250091290549099,-0.45155151276997574,-0.434194932410401,0.4965940115376493,0.7154940545115944,0.869248019234941,2.3213512716361366,-0.17578821354583135,-0.6980535363394793,1.7960776805377587,-0.6797508949993439,-0.3309524884809053,-0.6045666646935174,0.39255638365070905,0.8963963207259847,-1.207418038315098,2.43886274114652,-0.25133423822888296,0.344811281109698,0.4651337825187788,-0.9693819748893496,-1.511988582178468,1.471896155007462,-0.398263666264437,0.39168919211590114,1.3028894716559019,0.3780306164092249,-0.5771500751039939,0.7271384586266463,-1.1028606757463444,1.3055889750163336,-0.009495061596881786,-0.21893928001299454,-1.0867415317320401,-0.1275445495943942,0.33115070545190967,2.5642016093451714,-0.2209033831209197,-0.643645732559064,-0.5765241905247848,0.2157414441636662,1.5633915324211198,-1.3815087548291045,-0.4404643403952877,0.46486207751427316,0.5945107910659146,-1.138265783518757,0.010872214988163919,0.576946264815059,-0.3220104816325628,-3.1580009227460373,0.22098917229933435,-0.8812159121268724,-0.6746542906878209,0.04361980450368418,1.1672838672617596,0.7882475378851349,-0.2231655723751139,1.5196027240194374,-0.6141433238954168,0.06664930104555683,0.2811234182254289,-1.656925993858488,0.4418261364739898,-0.5371968332337426,-0.9081527939790605,-0.07855444225988696,-0.8226887787257702,0.9282396462206131,-1.8774564271906615,-0.6151937005939961,-1.3814368588693005,0.4917684583284424,0.43202353599084037,-0.2910669668112129,-1.1742968785696453,0.1145405200398717,0.8879132770752252,2.205142879212352,-0.8708551842512162,0.5146930417481028,-0.7397889246404309,0.3725082553355003,-0.2970889305836918,-0.6023513414272289,-0.6548214421503965,1.0487938530886973,-0.46844577455326064,0.4431751142410106,0.617494687789193,-2.118833378214814,-1.121121567734123,0.060602473271775266,1.5829742026816596,-1.443617735913895,-0.45552498105881545,0.17269055388343957,0.32449455147760553,-0.22266509764397124,-0.35516799968725554],\"yaxis\":\"y2\",\"type\":\"scatter\"},{\"line\":{\"color\":\"rgba(128, 128, 128, 1.0)\",\"dash\":\"solid\",\"shape\":\"linear\",\"width\":1.3},\"marker\":{\"size\":2,\"symbol\":\"circle\"},\"mode\":\"markers\",\"name\":\"A\",\"text\":\"\",\"x\":[-0.2083042386487811,1.9940217019660507,0.6868900521656066,0.7403954832943933,0.25805332100912814,-0.9011569445057611,-0.4827251614150337,1.0030869769211281,0.29698123810580285,-0.2901223806986594,-0.2297965917923508,-1.907840012916959,-1.2455654462556958,0.5152485445690139,-1.0509564361591983,0.402477045802536,-0.7765787637682078,1.3269130095321573,-0.6689737397983537,0.5792245539811444,0.7411088610625216,0.8505294593115799,0.337565961537066,0.09942771486809635,-0.5639741902201713,1.7735546563905753,-0.5272003403466731,0.15636506360191063,-1.0168608912347303,-0.6483483944070878,0.6359429714590861,0.29321320612892793,-0.5575024486543803,1.314706106833745,-1.4602926417139206,-2.1593244387803496,-0.9915125256757606,0.7087333011849094,1.4431207862913922,-0.4379466361803305,0.6718724360567718,0.23376497155418177,0.7141334401573364,0.5137960244136215,0.24195585850416812,-0.09232689708484221,1.2409230680608476,-0.8943710338176813,-0.02488283665599046,1.7051232886593457,0.7963260086215248,-0.13487163799224222,0.8095222084290425,-1.8458841213086177,0.5353035104471991,1.2219545932019658,0.31565573575299694,0.00212104897591511,-1.0437970677697614,0.8897972326176441,0.5840163282494348,0.10457478707717668,1.9469467459336642,-0.4008457003721722,0.9833704584007208,0.029773715402908435,1.2111780664404013,-0.03146949831444492,0.08847383790855555,0.0529351709738586,1.820158923002148,0.8228578460750813,0.07489330856630462,-0.7206384590420204,0.039063599122389686,-0.18140082374391592,-0.3450999073944346,0.13828496015484665,-0.955705108359854,-1.3054477253420014,-0.41144534093628854,-0.6082919721613056,-1.1534001270477723,1.1696173660287967,1.2984008626926735,-1.375702829675632,0.2778470265387704,-0.7583231926290582,-0.2815972749544762,0.6332104027712953,-0.5870809544825567,-0.46938737929678664,0.5530455065009544,-0.19653247959752876,0.07193535079171101,0.6765581713207989,-1.0684094369816255,-0.9881307004761971,0.9245895121438726,-0.6529543539204322],\"xaxis\":\"x3\",\"y\":[1.2250091290549099,-0.45155151276997574,-0.434194932410401,0.4965940115376493,0.7154940545115944,0.869248019234941,2.3213512716361366,-0.17578821354583135,-0.6980535363394793,1.7960776805377587,-0.6797508949993439,-0.3309524884809053,-0.6045666646935174,0.39255638365070905,0.8963963207259847,-1.207418038315098,2.43886274114652,-0.25133423822888296,0.344811281109698,0.4651337825187788,-0.9693819748893496,-1.511988582178468,1.471896155007462,-0.398263666264437,0.39168919211590114,1.3028894716559019,0.3780306164092249,-0.5771500751039939,0.7271384586266463,-1.1028606757463444,1.3055889750163336,-0.009495061596881786,-0.21893928001299454,-1.0867415317320401,-0.1275445495943942,0.33115070545190967,2.5642016093451714,-0.2209033831209197,-0.643645732559064,-0.5765241905247848,0.2157414441636662,1.5633915324211198,-1.3815087548291045,-0.4404643403952877,0.46486207751427316,0.5945107910659146,-1.138265783518757,0.010872214988163919,0.576946264815059,-0.3220104816325628,-3.1580009227460373,0.22098917229933435,-0.8812159121268724,-0.6746542906878209,0.04361980450368418,1.1672838672617596,0.7882475378851349,-0.2231655723751139,1.5196027240194374,-0.6141433238954168,0.06664930104555683,0.2811234182254289,-1.656925993858488,0.4418261364739898,-0.5371968332337426,-0.9081527939790605,-0.07855444225988696,-0.8226887787257702,0.9282396462206131,-1.8774564271906615,-0.6151937005939961,-1.3814368588693005,0.4917684583284424,0.43202353599084037,-0.2910669668112129,-1.1742968785696453,0.1145405200398717,0.8879132770752252,2.205142879212352,-0.8708551842512162,0.5146930417481028,-0.7397889246404309,0.3725082553355003,-0.2970889305836918,-0.6023513414272289,-0.6548214421503965,1.0487938530886973,-0.46844577455326064,0.4431751142410106,0.617494687789193,-2.118833378214814,-1.121121567734123,0.060602473271775266,1.5829742026816596,-1.443617735913895,-0.45552498105881545,0.17269055388343957,0.32449455147760553,-0.22266509764397124,-0.35516799968725554],\"yaxis\":\"y3\",\"type\":\"scatter\"},{\"line\":{\"color\":\"rgba(128, 128, 128, 1.0)\",\"dash\":\"solid\",\"shape\":\"linear\",\"width\":1.3},\"marker\":{\"size\":2,\"symbol\":\"circle\"},\"mode\":\"markers\",\"name\":\"A\",\"text\":\"\",\"x\":[-0.7295170198037868,-0.23998788606590082,-1.1547229401264072,0.5251275531639371,-1.21535597674017,1.9753387262494997,0.9020659434959302,-0.7889940780201902,-2.4041437503837253,-0.9355465947684439,-0.6842111153397739,-0.7799432289418868,0.16081177876519212,1.2841547345103963,-0.3227596130499945,-0.9039206625056124,0.828889919327969,-2.9679088884059173,-0.5750994822623196,0.3846892236574576,0.14833093564088037,0.07309713066844106,-0.25559763349132203,-0.4813841083056664,-1.9271808617819115,-0.6070580733247838,-1.1636932324687423,1.339280484849487,0.47771727654156293,-0.5968481161014805,1.2968929935229006,-0.16216150682417468,1.0903918297478092,-0.055663382391095195,-1.9383170898318631,1.112380532950639,1.3782274102022636,-0.42142411236809735,0.8957323065314934,0.41097621688336106,-0.02765272096708784,0.9149429515529102,-0.13880192453908266,0.47751716452927917,0.3481420236491288,-0.23131776015717798,0.5094548526908059,-0.7608094741193897,0.11631986292309104,-0.2172543381087466,-0.951490541615766,-0.5926296384911123,0.017807357187338953,0.9589901026525065,-1.1984176228205554,0.9022702336672062,0.6596991557481351,-0.8729232096834276,0.6099302488780277,1.0768283425233702,-0.11221523895765963,0.5625163393167306,-0.16135609434261725,1.9687965814298227,-0.06034088230737512,1.0471376411737952,-3.083514419464437,0.3359159310292446,0.9532324676202132,-2.3431026083136883,0.5653884207646511,-1.276743836695403,-1.2754424081239786,0.7273459291173392,0.5640935924868778,0.35167990059124504,-0.009069882781335902,2.442716727062103,-0.7010249463474859,0.8308583001465093,0.9078840027915112,-0.10398264081503443,1.1709992616915568,0.6155368314083067,1.938359996658619,0.46887097910584574,1.5980214011585323,-1.6680300591099766,0.6529140466907034,-0.09259132978023017,0.4017007216409476,1.0866891958055531,0.02355809233525598,-0.6027075895405759,0.29777603835222355,-0.29772036756264664,0.5102551472094399,-2.203414038181977,0.14521146581149785,-1.7873674316906647],\"xaxis\":\"x4\",\"y\":[1.2250091290549099,-0.45155151276997574,-0.434194932410401,0.4965940115376493,0.7154940545115944,0.869248019234941,2.3213512716361366,-0.17578821354583135,-0.6980535363394793,1.7960776805377587,-0.6797508949993439,-0.3309524884809053,-0.6045666646935174,0.39255638365070905,0.8963963207259847,-1.207418038315098,2.43886274114652,-0.25133423822888296,0.344811281109698,0.4651337825187788,-0.9693819748893496,-1.511988582178468,1.471896155007462,-0.398263666264437,0.39168919211590114,1.3028894716559019,0.3780306164092249,-0.5771500751039939,0.7271384586266463,-1.1028606757463444,1.3055889750163336,-0.009495061596881786,-0.21893928001299454,-1.0867415317320401,-0.1275445495943942,0.33115070545190967,2.5642016093451714,-0.2209033831209197,-0.643645732559064,-0.5765241905247848,0.2157414441636662,1.5633915324211198,-1.3815087548291045,-0.4404643403952877,0.46486207751427316,0.5945107910659146,-1.138265783518757,0.010872214988163919,0.576946264815059,-0.3220104816325628,-3.1580009227460373,0.22098917229933435,-0.8812159121268724,-0.6746542906878209,0.04361980450368418,1.1672838672617596,0.7882475378851349,-0.2231655723751139,1.5196027240194374,-0.6141433238954168,0.06664930104555683,0.2811234182254289,-1.656925993858488,0.4418261364739898,-0.5371968332337426,-0.9081527939790605,-0.07855444225988696,-0.8226887787257702,0.9282396462206131,-1.8774564271906615,-0.6151937005939961,-1.3814368588693005,0.4917684583284424,0.43202353599084037,-0.2910669668112129,-1.1742968785696453,0.1145405200398717,0.8879132770752252,2.205142879212352,-0.8708551842512162,0.5146930417481028,-0.7397889246404309,0.3725082553355003,-0.2970889305836918,-0.6023513414272289,-0.6548214421503965,1.0487938530886973,-0.46844577455326064,0.4431751142410106,0.617494687789193,-2.118833378214814,-1.121121567734123,0.060602473271775266,1.5829742026816596,-1.443617735913895,-0.45552498105881545,0.17269055388343957,0.32449455147760553,-0.22266509764397124,-0.35516799968725554],\"yaxis\":\"y4\",\"type\":\"scatter\"},{\"line\":{\"color\":\"rgba(128, 128, 128, 1.0)\",\"dash\":\"solid\",\"shape\":\"linear\",\"width\":1.3},\"marker\":{\"size\":2,\"symbol\":\"circle\"},\"mode\":\"markers\",\"name\":\"B\",\"text\":\"\",\"x\":[1.2250091290549099,-0.45155151276997574,-0.434194932410401,0.4965940115376493,0.7154940545115944,0.869248019234941,2.3213512716361366,-0.17578821354583135,-0.6980535363394793,1.7960776805377587,-0.6797508949993439,-0.3309524884809053,-0.6045666646935174,0.39255638365070905,0.8963963207259847,-1.207418038315098,2.43886274114652,-0.25133423822888296,0.344811281109698,0.4651337825187788,-0.9693819748893496,-1.511988582178468,1.471896155007462,-0.398263666264437,0.39168919211590114,1.3028894716559019,0.3780306164092249,-0.5771500751039939,0.7271384586266463,-1.1028606757463444,1.3055889750163336,-0.009495061596881786,-0.21893928001299454,-1.0867415317320401,-0.1275445495943942,0.33115070545190967,2.5642016093451714,-0.2209033831209197,-0.643645732559064,-0.5765241905247848,0.2157414441636662,1.5633915324211198,-1.3815087548291045,-0.4404643403952877,0.46486207751427316,0.5945107910659146,-1.138265783518757,0.010872214988163919,0.576946264815059,-0.3220104816325628,-3.1580009227460373,0.22098917229933435,-0.8812159121268724,-0.6746542906878209,0.04361980450368418,1.1672838672617596,0.7882475378851349,-0.2231655723751139,1.5196027240194374,-0.6141433238954168,0.06664930104555683,0.2811234182254289,-1.656925993858488,0.4418261364739898,-0.5371968332337426,-0.9081527939790605,-0.07855444225988696,-0.8226887787257702,0.9282396462206131,-1.8774564271906615,-0.6151937005939961,-1.3814368588693005,0.4917684583284424,0.43202353599084037,-0.2910669668112129,-1.1742968785696453,0.1145405200398717,0.8879132770752252,2.205142879212352,-0.8708551842512162,0.5146930417481028,-0.7397889246404309,0.3725082553355003,-0.2970889305836918,-0.6023513414272289,-0.6548214421503965,1.0487938530886973,-0.46844577455326064,0.4431751142410106,0.617494687789193,-2.118833378214814,-1.121121567734123,0.060602473271775266,1.5829742026816596,-1.443617735913895,-0.45552498105881545,0.17269055388343957,0.32449455147760553,-0.22266509764397124,-0.35516799968725554],\"xaxis\":\"x5\",\"y\":[-0.058828348753244795,-0.5585955170846071,0.28592113693614535,0.7369704806177205,0.5040515469067578,-1.150531193233306,0.37863435943863993,2.6446661872057966,0.6141075505621618,-0.2903774701835001,1.2944643852448017,0.08833387861941756,0.740469911373652,-1.2378998245290902,0.8377548461424911,-0.9302492624058314,0.8619676710312983,0.6637615012201094,-0.23583023776775033,-1.7212897063889532,0.7494120556400852,-1.570272198998661,1.8778845200154963,1.3596472166470617,1.6016167744950842,1.4471808283293137,1.1612839763319274,-0.14757504651218814,-0.6595650733988679,0.6936799050890169,1.1145216894947776,0.2988919777304995,-1.2339766655239337,-1.4148282731503572,-1.0186179403047475,-0.5596638109277869,-1.1629501310796933,-1.4580730317331707,0.19043930587364302,0.16607046431833294,-1.1528877738508099,-0.25292305873434856,0.7549938818117207,0.14861042055819765,0.17111415264706922,-2.1938539364050342,-0.5595594846677245,0.5755730956414731,-1.0951142538294591,0.14904979017143627,0.7830949465996929,-2.4694173550155902,-1.375546686025038,-0.9355671286774196,-1.9039772933856638,0.9641021125721575,-0.6541626146441876,1.5570492952921344,-0.28163972606348875,-0.4221870666756173,-0.008255132583119976,-0.974937610260182,1.4744097823938067,0.3941908907496691,-0.46925653750948826,0.6172989994558716,-1.5691837871097243,0.8275091476401291,2.2632501094631494,-0.6628560911357416,0.7473190202715746,0.963350570059107,1.4179540247512379,0.2813514042710119,0.2972570430123793,-0.3746604454081584,1.1064630868964769,-1.3066939251958634,-0.40644182487705977,-1.917462490109074,-0.791861120472799,-0.2343111928184764,0.09114874510176733,0.062218244033363616,-0.802451728592171,0.06171028511578955,0.4198079906863518,1.3820369642682173,0.075842013636187,-1.466189127750254,-0.5352111977391772,-0.5826480477362354,1.5796807614050792,-0.04240384621818216,-0.017172085149557044,-1.6690116849350105,-0.5526387152921023,-1.329721799479411,0.24578920761770287,0.7237373775718123],\"yaxis\":\"y5\",\"type\":\"scatter\"},{\"histfunc\":\"count\",\"histnorm\":\"\",\"marker\":{\"color\":\"rgba(55, 128, 191, 1.0)\",\"line\":{\"color\":\"#4D5663\",\"width\":1.3}},\"name\":\"B\",\"nbinsx\":10,\"opacity\":0.8,\"orientation\":\"v\",\"x\":[-0.058828348753244795,-0.5585955170846071,0.28592113693614535,0.7369704806177205,0.5040515469067578,-1.150531193233306,0.37863435943863993,2.6446661872057966,0.6141075505621618,-0.2903774701835001,1.2944643852448017,0.08833387861941756,0.740469911373652,-1.2378998245290902,0.8377548461424911,-0.9302492624058314,0.8619676710312983,0.6637615012201094,-0.23583023776775033,-1.7212897063889532,0.7494120556400852,-1.570272198998661,1.8778845200154963,1.3596472166470617,1.6016167744950842,1.4471808283293137,1.1612839763319274,-0.14757504651218814,-0.6595650733988679,0.6936799050890169,1.1145216894947776,0.2988919777304995,-1.2339766655239337,-1.4148282731503572,-1.0186179403047475,-0.5596638109277869,-1.1629501310796933,-1.4580730317331707,0.19043930587364302,0.16607046431833294,-1.1528877738508099,-0.25292305873434856,0.7549938818117207,0.14861042055819765,0.17111415264706922,-2.1938539364050342,-0.5595594846677245,0.5755730956414731,-1.0951142538294591,0.14904979017143627,0.7830949465996929,-2.4694173550155902,-1.375546686025038,-0.9355671286774196,-1.9039772933856638,0.9641021125721575,-0.6541626146441876,1.5570492952921344,-0.28163972606348875,-0.4221870666756173,-0.008255132583119976,-0.974937610260182,1.4744097823938067,0.3941908907496691,-0.46925653750948826,0.6172989994558716,-1.5691837871097243,0.8275091476401291,2.2632501094631494,-0.6628560911357416,0.7473190202715746,0.963350570059107,1.4179540247512379,0.2813514042710119,0.2972570430123793,-0.3746604454081584,1.1064630868964769,-1.3066939251958634,-0.40644182487705977,-1.917462490109074,-0.791861120472799,-0.2343111928184764,0.09114874510176733,0.062218244033363616,-0.802451728592171,0.06171028511578955,0.4198079906863518,1.3820369642682173,0.075842013636187,-1.466189127750254,-0.5352111977391772,-0.5826480477362354,1.5796807614050792,-0.04240384621818216,-0.017172085149557044,-1.6690116849350105,-0.5526387152921023,-1.329721799479411,0.24578920761770287,0.7237373775718123],\"xaxis\":\"x6\",\"yaxis\":\"y6\",\"type\":\"histogram\"},{\"line\":{\"color\":\"rgba(128, 128, 128, 1.0)\",\"dash\":\"solid\",\"shape\":\"linear\",\"width\":1.3},\"marker\":{\"size\":2,\"symbol\":\"circle\"},\"mode\":\"markers\",\"name\":\"B\",\"text\":\"\",\"x\":[-0.2083042386487811,1.9940217019660507,0.6868900521656066,0.7403954832943933,0.25805332100912814,-0.9011569445057611,-0.4827251614150337,1.0030869769211281,0.29698123810580285,-0.2901223806986594,-0.2297965917923508,-1.907840012916959,-1.2455654462556958,0.5152485445690139,-1.0509564361591983,0.402477045802536,-0.7765787637682078,1.3269130095321573,-0.6689737397983537,0.5792245539811444,0.7411088610625216,0.8505294593115799,0.337565961537066,0.09942771486809635,-0.5639741902201713,1.7735546563905753,-0.5272003403466731,0.15636506360191063,-1.0168608912347303,-0.6483483944070878,0.6359429714590861,0.29321320612892793,-0.5575024486543803,1.314706106833745,-1.4602926417139206,-2.1593244387803496,-0.9915125256757606,0.7087333011849094,1.4431207862913922,-0.4379466361803305,0.6718724360567718,0.23376497155418177,0.7141334401573364,0.5137960244136215,0.24195585850416812,-0.09232689708484221,1.2409230680608476,-0.8943710338176813,-0.02488283665599046,1.7051232886593457,0.7963260086215248,-0.13487163799224222,0.8095222084290425,-1.8458841213086177,0.5353035104471991,1.2219545932019658,0.31565573575299694,0.00212104897591511,-1.0437970677697614,0.8897972326176441,0.5840163282494348,0.10457478707717668,1.9469467459336642,-0.4008457003721722,0.9833704584007208,0.029773715402908435,1.2111780664404013,-0.03146949831444492,0.08847383790855555,0.0529351709738586,1.820158923002148,0.8228578460750813,0.07489330856630462,-0.7206384590420204,0.039063599122389686,-0.18140082374391592,-0.3450999073944346,0.13828496015484665,-0.955705108359854,-1.3054477253420014,-0.41144534093628854,-0.6082919721613056,-1.1534001270477723,1.1696173660287967,1.2984008626926735,-1.375702829675632,0.2778470265387704,-0.7583231926290582,-0.2815972749544762,0.6332104027712953,-0.5870809544825567,-0.46938737929678664,0.5530455065009544,-0.19653247959752876,0.07193535079171101,0.6765581713207989,-1.0684094369816255,-0.9881307004761971,0.9245895121438726,-0.6529543539204322],\"xaxis\":\"x7\",\"y\":[-0.058828348753244795,-0.5585955170846071,0.28592113693614535,0.7369704806177205,0.5040515469067578,-1.150531193233306,0.37863435943863993,2.6446661872057966,0.6141075505621618,-0.2903774701835001,1.2944643852448017,0.08833387861941756,0.740469911373652,-1.2378998245290902,0.8377548461424911,-0.9302492624058314,0.8619676710312983,0.6637615012201094,-0.23583023776775033,-1.7212897063889532,0.7494120556400852,-1.570272198998661,1.8778845200154963,1.3596472166470617,1.6016167744950842,1.4471808283293137,1.1612839763319274,-0.14757504651218814,-0.6595650733988679,0.6936799050890169,1.1145216894947776,0.2988919777304995,-1.2339766655239337,-1.4148282731503572,-1.0186179403047475,-0.5596638109277869,-1.1629501310796933,-1.4580730317331707,0.19043930587364302,0.16607046431833294,-1.1528877738508099,-0.25292305873434856,0.7549938818117207,0.14861042055819765,0.17111415264706922,-2.1938539364050342,-0.5595594846677245,0.5755730956414731,-1.0951142538294591,0.14904979017143627,0.7830949465996929,-2.4694173550155902,-1.375546686025038,-0.9355671286774196,-1.9039772933856638,0.9641021125721575,-0.6541626146441876,1.5570492952921344,-0.28163972606348875,-0.4221870666756173,-0.008255132583119976,-0.974937610260182,1.4744097823938067,0.3941908907496691,-0.46925653750948826,0.6172989994558716,-1.5691837871097243,0.8275091476401291,2.2632501094631494,-0.6628560911357416,0.7473190202715746,0.963350570059107,1.4179540247512379,0.2813514042710119,0.2972570430123793,-0.3746604454081584,1.1064630868964769,-1.3066939251958634,-0.40644182487705977,-1.917462490109074,-0.791861120472799,-0.2343111928184764,0.09114874510176733,0.062218244033363616,-0.802451728592171,0.06171028511578955,0.4198079906863518,1.3820369642682173,0.075842013636187,-1.466189127750254,-0.5352111977391772,-0.5826480477362354,1.5796807614050792,-0.04240384621818216,-0.017172085149557044,-1.6690116849350105,-0.5526387152921023,-1.329721799479411,0.24578920761770287,0.7237373775718123],\"yaxis\":\"y7\",\"type\":\"scatter\"},{\"line\":{\"color\":\"rgba(128, 128, 128, 1.0)\",\"dash\":\"solid\",\"shape\":\"linear\",\"width\":1.3},\"marker\":{\"size\":2,\"symbol\":\"circle\"},\"mode\":\"markers\",\"name\":\"B\",\"text\":\"\",\"x\":[-0.7295170198037868,-0.23998788606590082,-1.1547229401264072,0.5251275531639371,-1.21535597674017,1.9753387262494997,0.9020659434959302,-0.7889940780201902,-2.4041437503837253,-0.9355465947684439,-0.6842111153397739,-0.7799432289418868,0.16081177876519212,1.2841547345103963,-0.3227596130499945,-0.9039206625056124,0.828889919327969,-2.9679088884059173,-0.5750994822623196,0.3846892236574576,0.14833093564088037,0.07309713066844106,-0.25559763349132203,-0.4813841083056664,-1.9271808617819115,-0.6070580733247838,-1.1636932324687423,1.339280484849487,0.47771727654156293,-0.5968481161014805,1.2968929935229006,-0.16216150682417468,1.0903918297478092,-0.055663382391095195,-1.9383170898318631,1.112380532950639,1.3782274102022636,-0.42142411236809735,0.8957323065314934,0.41097621688336106,-0.02765272096708784,0.9149429515529102,-0.13880192453908266,0.47751716452927917,0.3481420236491288,-0.23131776015717798,0.5094548526908059,-0.7608094741193897,0.11631986292309104,-0.2172543381087466,-0.951490541615766,-0.5926296384911123,0.017807357187338953,0.9589901026525065,-1.1984176228205554,0.9022702336672062,0.6596991557481351,-0.8729232096834276,0.6099302488780277,1.0768283425233702,-0.11221523895765963,0.5625163393167306,-0.16135609434261725,1.9687965814298227,-0.06034088230737512,1.0471376411737952,-3.083514419464437,0.3359159310292446,0.9532324676202132,-2.3431026083136883,0.5653884207646511,-1.276743836695403,-1.2754424081239786,0.7273459291173392,0.5640935924868778,0.35167990059124504,-0.009069882781335902,2.442716727062103,-0.7010249463474859,0.8308583001465093,0.9078840027915112,-0.10398264081503443,1.1709992616915568,0.6155368314083067,1.938359996658619,0.46887097910584574,1.5980214011585323,-1.6680300591099766,0.6529140466907034,-0.09259132978023017,0.4017007216409476,1.0866891958055531,0.02355809233525598,-0.6027075895405759,0.29777603835222355,-0.29772036756264664,0.5102551472094399,-2.203414038181977,0.14521146581149785,-1.7873674316906647],\"xaxis\":\"x8\",\"y\":[-0.058828348753244795,-0.5585955170846071,0.28592113693614535,0.7369704806177205,0.5040515469067578,-1.150531193233306,0.37863435943863993,2.6446661872057966,0.6141075505621618,-0.2903774701835001,1.2944643852448017,0.08833387861941756,0.740469911373652,-1.2378998245290902,0.8377548461424911,-0.9302492624058314,0.8619676710312983,0.6637615012201094,-0.23583023776775033,-1.7212897063889532,0.7494120556400852,-1.570272198998661,1.8778845200154963,1.3596472166470617,1.6016167744950842,1.4471808283293137,1.1612839763319274,-0.14757504651218814,-0.6595650733988679,0.6936799050890169,1.1145216894947776,0.2988919777304995,-1.2339766655239337,-1.4148282731503572,-1.0186179403047475,-0.5596638109277869,-1.1629501310796933,-1.4580730317331707,0.19043930587364302,0.16607046431833294,-1.1528877738508099,-0.25292305873434856,0.7549938818117207,0.14861042055819765,0.17111415264706922,-2.1938539364050342,-0.5595594846677245,0.5755730956414731,-1.0951142538294591,0.14904979017143627,0.7830949465996929,-2.4694173550155902,-1.375546686025038,-0.9355671286774196,-1.9039772933856638,0.9641021125721575,-0.6541626146441876,1.5570492952921344,-0.28163972606348875,-0.4221870666756173,-0.008255132583119976,-0.974937610260182,1.4744097823938067,0.3941908907496691,-0.46925653750948826,0.6172989994558716,-1.5691837871097243,0.8275091476401291,2.2632501094631494,-0.6628560911357416,0.7473190202715746,0.963350570059107,1.4179540247512379,0.2813514042710119,0.2972570430123793,-0.3746604454081584,1.1064630868964769,-1.3066939251958634,-0.40644182487705977,-1.917462490109074,-0.791861120472799,-0.2343111928184764,0.09114874510176733,0.062218244033363616,-0.802451728592171,0.06171028511578955,0.4198079906863518,1.3820369642682173,0.075842013636187,-1.466189127750254,-0.5352111977391772,-0.5826480477362354,1.5796807614050792,-0.04240384621818216,-0.017172085149557044,-1.6690116849350105,-0.5526387152921023,-1.329721799479411,0.24578920761770287,0.7237373775718123],\"yaxis\":\"y8\",\"type\":\"scatter\"},{\"line\":{\"color\":\"rgba(128, 128, 128, 1.0)\",\"dash\":\"solid\",\"shape\":\"linear\",\"width\":1.3},\"marker\":{\"size\":2,\"symbol\":\"circle\"},\"mode\":\"markers\",\"name\":\"C\",\"text\":\"\",\"x\":[1.2250091290549099,-0.45155151276997574,-0.434194932410401,0.4965940115376493,0.7154940545115944,0.869248019234941,2.3213512716361366,-0.17578821354583135,-0.6980535363394793,1.7960776805377587,-0.6797508949993439,-0.3309524884809053,-0.6045666646935174,0.39255638365070905,0.8963963207259847,-1.207418038315098,2.43886274114652,-0.25133423822888296,0.344811281109698,0.4651337825187788,-0.9693819748893496,-1.511988582178468,1.471896155007462,-0.398263666264437,0.39168919211590114,1.3028894716559019,0.3780306164092249,-0.5771500751039939,0.7271384586266463,-1.1028606757463444,1.3055889750163336,-0.009495061596881786,-0.21893928001299454,-1.0867415317320401,-0.1275445495943942,0.33115070545190967,2.5642016093451714,-0.2209033831209197,-0.643645732559064,-0.5765241905247848,0.2157414441636662,1.5633915324211198,-1.3815087548291045,-0.4404643403952877,0.46486207751427316,0.5945107910659146,-1.138265783518757,0.010872214988163919,0.576946264815059,-0.3220104816325628,-3.1580009227460373,0.22098917229933435,-0.8812159121268724,-0.6746542906878209,0.04361980450368418,1.1672838672617596,0.7882475378851349,-0.2231655723751139,1.5196027240194374,-0.6141433238954168,0.06664930104555683,0.2811234182254289,-1.656925993858488,0.4418261364739898,-0.5371968332337426,-0.9081527939790605,-0.07855444225988696,-0.8226887787257702,0.9282396462206131,-1.8774564271906615,-0.6151937005939961,-1.3814368588693005,0.4917684583284424,0.43202353599084037,-0.2910669668112129,-1.1742968785696453,0.1145405200398717,0.8879132770752252,2.205142879212352,-0.8708551842512162,0.5146930417481028,-0.7397889246404309,0.3725082553355003,-0.2970889305836918,-0.6023513414272289,-0.6548214421503965,1.0487938530886973,-0.46844577455326064,0.4431751142410106,0.617494687789193,-2.118833378214814,-1.121121567734123,0.060602473271775266,1.5829742026816596,-1.443617735913895,-0.45552498105881545,0.17269055388343957,0.32449455147760553,-0.22266509764397124,-0.35516799968725554],\"xaxis\":\"x9\",\"y\":[-0.2083042386487811,1.9940217019660507,0.6868900521656066,0.7403954832943933,0.25805332100912814,-0.9011569445057611,-0.4827251614150337,1.0030869769211281,0.29698123810580285,-0.2901223806986594,-0.2297965917923508,-1.907840012916959,-1.2455654462556958,0.5152485445690139,-1.0509564361591983,0.402477045802536,-0.7765787637682078,1.3269130095321573,-0.6689737397983537,0.5792245539811444,0.7411088610625216,0.8505294593115799,0.337565961537066,0.09942771486809635,-0.5639741902201713,1.7735546563905753,-0.5272003403466731,0.15636506360191063,-1.0168608912347303,-0.6483483944070878,0.6359429714590861,0.29321320612892793,-0.5575024486543803,1.314706106833745,-1.4602926417139206,-2.1593244387803496,-0.9915125256757606,0.7087333011849094,1.4431207862913922,-0.4379466361803305,0.6718724360567718,0.23376497155418177,0.7141334401573364,0.5137960244136215,0.24195585850416812,-0.09232689708484221,1.2409230680608476,-0.8943710338176813,-0.02488283665599046,1.7051232886593457,0.7963260086215248,-0.13487163799224222,0.8095222084290425,-1.8458841213086177,0.5353035104471991,1.2219545932019658,0.31565573575299694,0.00212104897591511,-1.0437970677697614,0.8897972326176441,0.5840163282494348,0.10457478707717668,1.9469467459336642,-0.4008457003721722,0.9833704584007208,0.029773715402908435,1.2111780664404013,-0.03146949831444492,0.08847383790855555,0.0529351709738586,1.820158923002148,0.8228578460750813,0.07489330856630462,-0.7206384590420204,0.039063599122389686,-0.18140082374391592,-0.3450999073944346,0.13828496015484665,-0.955705108359854,-1.3054477253420014,-0.41144534093628854,-0.6082919721613056,-1.1534001270477723,1.1696173660287967,1.2984008626926735,-1.375702829675632,0.2778470265387704,-0.7583231926290582,-0.2815972749544762,0.6332104027712953,-0.5870809544825567,-0.46938737929678664,0.5530455065009544,-0.19653247959752876,0.07193535079171101,0.6765581713207989,-1.0684094369816255,-0.9881307004761971,0.9245895121438726,-0.6529543539204322],\"yaxis\":\"y9\",\"type\":\"scatter\"},{\"line\":{\"color\":\"rgba(128, 128, 128, 1.0)\",\"dash\":\"solid\",\"shape\":\"linear\",\"width\":1.3},\"marker\":{\"size\":2,\"symbol\":\"circle\"},\"mode\":\"markers\",\"name\":\"C\",\"text\":\"\",\"x\":[-0.058828348753244795,-0.5585955170846071,0.28592113693614535,0.7369704806177205,0.5040515469067578,-1.150531193233306,0.37863435943863993,2.6446661872057966,0.6141075505621618,-0.2903774701835001,1.2944643852448017,0.08833387861941756,0.740469911373652,-1.2378998245290902,0.8377548461424911,-0.9302492624058314,0.8619676710312983,0.6637615012201094,-0.23583023776775033,-1.7212897063889532,0.7494120556400852,-1.570272198998661,1.8778845200154963,1.3596472166470617,1.6016167744950842,1.4471808283293137,1.1612839763319274,-0.14757504651218814,-0.6595650733988679,0.6936799050890169,1.1145216894947776,0.2988919777304995,-1.2339766655239337,-1.4148282731503572,-1.0186179403047475,-0.5596638109277869,-1.1629501310796933,-1.4580730317331707,0.19043930587364302,0.16607046431833294,-1.1528877738508099,-0.25292305873434856,0.7549938818117207,0.14861042055819765,0.17111415264706922,-2.1938539364050342,-0.5595594846677245,0.5755730956414731,-1.0951142538294591,0.14904979017143627,0.7830949465996929,-2.4694173550155902,-1.375546686025038,-0.9355671286774196,-1.9039772933856638,0.9641021125721575,-0.6541626146441876,1.5570492952921344,-0.28163972606348875,-0.4221870666756173,-0.008255132583119976,-0.974937610260182,1.4744097823938067,0.3941908907496691,-0.46925653750948826,0.6172989994558716,-1.5691837871097243,0.8275091476401291,2.2632501094631494,-0.6628560911357416,0.7473190202715746,0.963350570059107,1.4179540247512379,0.2813514042710119,0.2972570430123793,-0.3746604454081584,1.1064630868964769,-1.3066939251958634,-0.40644182487705977,-1.917462490109074,-0.791861120472799,-0.2343111928184764,0.09114874510176733,0.062218244033363616,-0.802451728592171,0.06171028511578955,0.4198079906863518,1.3820369642682173,0.075842013636187,-1.466189127750254,-0.5352111977391772,-0.5826480477362354,1.5796807614050792,-0.04240384621818216,-0.017172085149557044,-1.6690116849350105,-0.5526387152921023,-1.329721799479411,0.24578920761770287,0.7237373775718123],\"xaxis\":\"x10\",\"y\":[-0.2083042386487811,1.9940217019660507,0.6868900521656066,0.7403954832943933,0.25805332100912814,-0.9011569445057611,-0.4827251614150337,1.0030869769211281,0.29698123810580285,-0.2901223806986594,-0.2297965917923508,-1.907840012916959,-1.2455654462556958,0.5152485445690139,-1.0509564361591983,0.402477045802536,-0.7765787637682078,1.3269130095321573,-0.6689737397983537,0.5792245539811444,0.7411088610625216,0.8505294593115799,0.337565961537066,0.09942771486809635,-0.5639741902201713,1.7735546563905753,-0.5272003403466731,0.15636506360191063,-1.0168608912347303,-0.6483483944070878,0.6359429714590861,0.29321320612892793,-0.5575024486543803,1.314706106833745,-1.4602926417139206,-2.1593244387803496,-0.9915125256757606,0.7087333011849094,1.4431207862913922,-0.4379466361803305,0.6718724360567718,0.23376497155418177,0.7141334401573364,0.5137960244136215,0.24195585850416812,-0.09232689708484221,1.2409230680608476,-0.8943710338176813,-0.02488283665599046,1.7051232886593457,0.7963260086215248,-0.13487163799224222,0.8095222084290425,-1.8458841213086177,0.5353035104471991,1.2219545932019658,0.31565573575299694,0.00212104897591511,-1.0437970677697614,0.8897972326176441,0.5840163282494348,0.10457478707717668,1.9469467459336642,-0.4008457003721722,0.9833704584007208,0.029773715402908435,1.2111780664404013,-0.03146949831444492,0.08847383790855555,0.0529351709738586,1.820158923002148,0.8228578460750813,0.07489330856630462,-0.7206384590420204,0.039063599122389686,-0.18140082374391592,-0.3450999073944346,0.13828496015484665,-0.955705108359854,-1.3054477253420014,-0.41144534093628854,-0.6082919721613056,-1.1534001270477723,1.1696173660287967,1.2984008626926735,-1.375702829675632,0.2778470265387704,-0.7583231926290582,-0.2815972749544762,0.6332104027712953,-0.5870809544825567,-0.46938737929678664,0.5530455065009544,-0.19653247959752876,0.07193535079171101,0.6765581713207989,-1.0684094369816255,-0.9881307004761971,0.9245895121438726,-0.6529543539204322],\"yaxis\":\"y10\",\"type\":\"scatter\"},{\"histfunc\":\"count\",\"histnorm\":\"\",\"marker\":{\"color\":\"rgba(50, 171, 96, 1.0)\",\"line\":{\"color\":\"#4D5663\",\"width\":1.3}},\"name\":\"C\",\"nbinsx\":10,\"opacity\":0.8,\"orientation\":\"v\",\"x\":[-0.2083042386487811,1.9940217019660507,0.6868900521656066,0.7403954832943933,0.25805332100912814,-0.9011569445057611,-0.4827251614150337,1.0030869769211281,0.29698123810580285,-0.2901223806986594,-0.2297965917923508,-1.907840012916959,-1.2455654462556958,0.5152485445690139,-1.0509564361591983,0.402477045802536,-0.7765787637682078,1.3269130095321573,-0.6689737397983537,0.5792245539811444,0.7411088610625216,0.8505294593115799,0.337565961537066,0.09942771486809635,-0.5639741902201713,1.7735546563905753,-0.5272003403466731,0.15636506360191063,-1.0168608912347303,-0.6483483944070878,0.6359429714590861,0.29321320612892793,-0.5575024486543803,1.314706106833745,-1.4602926417139206,-2.1593244387803496,-0.9915125256757606,0.7087333011849094,1.4431207862913922,-0.4379466361803305,0.6718724360567718,0.23376497155418177,0.7141334401573364,0.5137960244136215,0.24195585850416812,-0.09232689708484221,1.2409230680608476,-0.8943710338176813,-0.02488283665599046,1.7051232886593457,0.7963260086215248,-0.13487163799224222,0.8095222084290425,-1.8458841213086177,0.5353035104471991,1.2219545932019658,0.31565573575299694,0.00212104897591511,-1.0437970677697614,0.8897972326176441,0.5840163282494348,0.10457478707717668,1.9469467459336642,-0.4008457003721722,0.9833704584007208,0.029773715402908435,1.2111780664404013,-0.03146949831444492,0.08847383790855555,0.0529351709738586,1.820158923002148,0.8228578460750813,0.07489330856630462,-0.7206384590420204,0.039063599122389686,-0.18140082374391592,-0.3450999073944346,0.13828496015484665,-0.955705108359854,-1.3054477253420014,-0.41144534093628854,-0.6082919721613056,-1.1534001270477723,1.1696173660287967,1.2984008626926735,-1.375702829675632,0.2778470265387704,-0.7583231926290582,-0.2815972749544762,0.6332104027712953,-0.5870809544825567,-0.46938737929678664,0.5530455065009544,-0.19653247959752876,0.07193535079171101,0.6765581713207989,-1.0684094369816255,-0.9881307004761971,0.9245895121438726,-0.6529543539204322],\"xaxis\":\"x11\",\"yaxis\":\"y11\",\"type\":\"histogram\"},{\"line\":{\"color\":\"rgba(128, 128, 128, 1.0)\",\"dash\":\"solid\",\"shape\":\"linear\",\"width\":1.3},\"marker\":{\"size\":2,\"symbol\":\"circle\"},\"mode\":\"markers\",\"name\":\"C\",\"text\":\"\",\"x\":[-0.7295170198037868,-0.23998788606590082,-1.1547229401264072,0.5251275531639371,-1.21535597674017,1.9753387262494997,0.9020659434959302,-0.7889940780201902,-2.4041437503837253,-0.9355465947684439,-0.6842111153397739,-0.7799432289418868,0.16081177876519212,1.2841547345103963,-0.3227596130499945,-0.9039206625056124,0.828889919327969,-2.9679088884059173,-0.5750994822623196,0.3846892236574576,0.14833093564088037,0.07309713066844106,-0.25559763349132203,-0.4813841083056664,-1.9271808617819115,-0.6070580733247838,-1.1636932324687423,1.339280484849487,0.47771727654156293,-0.5968481161014805,1.2968929935229006,-0.16216150682417468,1.0903918297478092,-0.055663382391095195,-1.9383170898318631,1.112380532950639,1.3782274102022636,-0.42142411236809735,0.8957323065314934,0.41097621688336106,-0.02765272096708784,0.9149429515529102,-0.13880192453908266,0.47751716452927917,0.3481420236491288,-0.23131776015717798,0.5094548526908059,-0.7608094741193897,0.11631986292309104,-0.2172543381087466,-0.951490541615766,-0.5926296384911123,0.017807357187338953,0.9589901026525065,-1.1984176228205554,0.9022702336672062,0.6596991557481351,-0.8729232096834276,0.6099302488780277,1.0768283425233702,-0.11221523895765963,0.5625163393167306,-0.16135609434261725,1.9687965814298227,-0.06034088230737512,1.0471376411737952,-3.083514419464437,0.3359159310292446,0.9532324676202132,-2.3431026083136883,0.5653884207646511,-1.276743836695403,-1.2754424081239786,0.7273459291173392,0.5640935924868778,0.35167990059124504,-0.009069882781335902,2.442716727062103,-0.7010249463474859,0.8308583001465093,0.9078840027915112,-0.10398264081503443,1.1709992616915568,0.6155368314083067,1.938359996658619,0.46887097910584574,1.5980214011585323,-1.6680300591099766,0.6529140466907034,-0.09259132978023017,0.4017007216409476,1.0866891958055531,0.02355809233525598,-0.6027075895405759,0.29777603835222355,-0.29772036756264664,0.5102551472094399,-2.203414038181977,0.14521146581149785,-1.7873674316906647],\"xaxis\":\"x12\",\"y\":[-0.2083042386487811,1.9940217019660507,0.6868900521656066,0.7403954832943933,0.25805332100912814,-0.9011569445057611,-0.4827251614150337,1.0030869769211281,0.29698123810580285,-0.2901223806986594,-0.2297965917923508,-1.907840012916959,-1.2455654462556958,0.5152485445690139,-1.0509564361591983,0.402477045802536,-0.7765787637682078,1.3269130095321573,-0.6689737397983537,0.5792245539811444,0.7411088610625216,0.8505294593115799,0.337565961537066,0.09942771486809635,-0.5639741902201713,1.7735546563905753,-0.5272003403466731,0.15636506360191063,-1.0168608912347303,-0.6483483944070878,0.6359429714590861,0.29321320612892793,-0.5575024486543803,1.314706106833745,-1.4602926417139206,-2.1593244387803496,-0.9915125256757606,0.7087333011849094,1.4431207862913922,-0.4379466361803305,0.6718724360567718,0.23376497155418177,0.7141334401573364,0.5137960244136215,0.24195585850416812,-0.09232689708484221,1.2409230680608476,-0.8943710338176813,-0.02488283665599046,1.7051232886593457,0.7963260086215248,-0.13487163799224222,0.8095222084290425,-1.8458841213086177,0.5353035104471991,1.2219545932019658,0.31565573575299694,0.00212104897591511,-1.0437970677697614,0.8897972326176441,0.5840163282494348,0.10457478707717668,1.9469467459336642,-0.4008457003721722,0.9833704584007208,0.029773715402908435,1.2111780664404013,-0.03146949831444492,0.08847383790855555,0.0529351709738586,1.820158923002148,0.8228578460750813,0.07489330856630462,-0.7206384590420204,0.039063599122389686,-0.18140082374391592,-0.3450999073944346,0.13828496015484665,-0.955705108359854,-1.3054477253420014,-0.41144534093628854,-0.6082919721613056,-1.1534001270477723,1.1696173660287967,1.2984008626926735,-1.375702829675632,0.2778470265387704,-0.7583231926290582,-0.2815972749544762,0.6332104027712953,-0.5870809544825567,-0.46938737929678664,0.5530455065009544,-0.19653247959752876,0.07193535079171101,0.6765581713207989,-1.0684094369816255,-0.9881307004761971,0.9245895121438726,-0.6529543539204322],\"yaxis\":\"y12\",\"type\":\"scatter\"},{\"line\":{\"color\":\"rgba(128, 128, 128, 1.0)\",\"dash\":\"solid\",\"shape\":\"linear\",\"width\":1.3},\"marker\":{\"size\":2,\"symbol\":\"circle\"},\"mode\":\"markers\",\"name\":\"D\",\"text\":\"\",\"x\":[1.2250091290549099,-0.45155151276997574,-0.434194932410401,0.4965940115376493,0.7154940545115944,0.869248019234941,2.3213512716361366,-0.17578821354583135,-0.6980535363394793,1.7960776805377587,-0.6797508949993439,-0.3309524884809053,-0.6045666646935174,0.39255638365070905,0.8963963207259847,-1.207418038315098,2.43886274114652,-0.25133423822888296,0.344811281109698,0.4651337825187788,-0.9693819748893496,-1.511988582178468,1.471896155007462,-0.398263666264437,0.39168919211590114,1.3028894716559019,0.3780306164092249,-0.5771500751039939,0.7271384586266463,-1.1028606757463444,1.3055889750163336,-0.009495061596881786,-0.21893928001299454,-1.0867415317320401,-0.1275445495943942,0.33115070545190967,2.5642016093451714,-0.2209033831209197,-0.643645732559064,-0.5765241905247848,0.2157414441636662,1.5633915324211198,-1.3815087548291045,-0.4404643403952877,0.46486207751427316,0.5945107910659146,-1.138265783518757,0.010872214988163919,0.576946264815059,-0.3220104816325628,-3.1580009227460373,0.22098917229933435,-0.8812159121268724,-0.6746542906878209,0.04361980450368418,1.1672838672617596,0.7882475378851349,-0.2231655723751139,1.5196027240194374,-0.6141433238954168,0.06664930104555683,0.2811234182254289,-1.656925993858488,0.4418261364739898,-0.5371968332337426,-0.9081527939790605,-0.07855444225988696,-0.8226887787257702,0.9282396462206131,-1.8774564271906615,-0.6151937005939961,-1.3814368588693005,0.4917684583284424,0.43202353599084037,-0.2910669668112129,-1.1742968785696453,0.1145405200398717,0.8879132770752252,2.205142879212352,-0.8708551842512162,0.5146930417481028,-0.7397889246404309,0.3725082553355003,-0.2970889305836918,-0.6023513414272289,-0.6548214421503965,1.0487938530886973,-0.46844577455326064,0.4431751142410106,0.617494687789193,-2.118833378214814,-1.121121567734123,0.060602473271775266,1.5829742026816596,-1.443617735913895,-0.45552498105881545,0.17269055388343957,0.32449455147760553,-0.22266509764397124,-0.35516799968725554],\"xaxis\":\"x13\",\"y\":[-0.7295170198037868,-0.23998788606590082,-1.1547229401264072,0.5251275531639371,-1.21535597674017,1.9753387262494997,0.9020659434959302,-0.7889940780201902,-2.4041437503837253,-0.9355465947684439,-0.6842111153397739,-0.7799432289418868,0.16081177876519212,1.2841547345103963,-0.3227596130499945,-0.9039206625056124,0.828889919327969,-2.9679088884059173,-0.5750994822623196,0.3846892236574576,0.14833093564088037,0.07309713066844106,-0.25559763349132203,-0.4813841083056664,-1.9271808617819115,-0.6070580733247838,-1.1636932324687423,1.339280484849487,0.47771727654156293,-0.5968481161014805,1.2968929935229006,-0.16216150682417468,1.0903918297478092,-0.055663382391095195,-1.9383170898318631,1.112380532950639,1.3782274102022636,-0.42142411236809735,0.8957323065314934,0.41097621688336106,-0.02765272096708784,0.9149429515529102,-0.13880192453908266,0.47751716452927917,0.3481420236491288,-0.23131776015717798,0.5094548526908059,-0.7608094741193897,0.11631986292309104,-0.2172543381087466,-0.951490541615766,-0.5926296384911123,0.017807357187338953,0.9589901026525065,-1.1984176228205554,0.9022702336672062,0.6596991557481351,-0.8729232096834276,0.6099302488780277,1.0768283425233702,-0.11221523895765963,0.5625163393167306,-0.16135609434261725,1.9687965814298227,-0.06034088230737512,1.0471376411737952,-3.083514419464437,0.3359159310292446,0.9532324676202132,-2.3431026083136883,0.5653884207646511,-1.276743836695403,-1.2754424081239786,0.7273459291173392,0.5640935924868778,0.35167990059124504,-0.009069882781335902,2.442716727062103,-0.7010249463474859,0.8308583001465093,0.9078840027915112,-0.10398264081503443,1.1709992616915568,0.6155368314083067,1.938359996658619,0.46887097910584574,1.5980214011585323,-1.6680300591099766,0.6529140466907034,-0.09259132978023017,0.4017007216409476,1.0866891958055531,0.02355809233525598,-0.6027075895405759,0.29777603835222355,-0.29772036756264664,0.5102551472094399,-2.203414038181977,0.14521146581149785,-1.7873674316906647],\"yaxis\":\"y13\",\"type\":\"scatter\"},{\"line\":{\"color\":\"rgba(128, 128, 128, 1.0)\",\"dash\":\"solid\",\"shape\":\"linear\",\"width\":1.3},\"marker\":{\"size\":2,\"symbol\":\"circle\"},\"mode\":\"markers\",\"name\":\"D\",\"text\":\"\",\"x\":[-0.058828348753244795,-0.5585955170846071,0.28592113693614535,0.7369704806177205,0.5040515469067578,-1.150531193233306,0.37863435943863993,2.6446661872057966,0.6141075505621618,-0.2903774701835001,1.2944643852448017,0.08833387861941756,0.740469911373652,-1.2378998245290902,0.8377548461424911,-0.9302492624058314,0.8619676710312983,0.6637615012201094,-0.23583023776775033,-1.7212897063889532,0.7494120556400852,-1.570272198998661,1.8778845200154963,1.3596472166470617,1.6016167744950842,1.4471808283293137,1.1612839763319274,-0.14757504651218814,-0.6595650733988679,0.6936799050890169,1.1145216894947776,0.2988919777304995,-1.2339766655239337,-1.4148282731503572,-1.0186179403047475,-0.5596638109277869,-1.1629501310796933,-1.4580730317331707,0.19043930587364302,0.16607046431833294,-1.1528877738508099,-0.25292305873434856,0.7549938818117207,0.14861042055819765,0.17111415264706922,-2.1938539364050342,-0.5595594846677245,0.5755730956414731,-1.0951142538294591,0.14904979017143627,0.7830949465996929,-2.4694173550155902,-1.375546686025038,-0.9355671286774196,-1.9039772933856638,0.9641021125721575,-0.6541626146441876,1.5570492952921344,-0.28163972606348875,-0.4221870666756173,-0.008255132583119976,-0.974937610260182,1.4744097823938067,0.3941908907496691,-0.46925653750948826,0.6172989994558716,-1.5691837871097243,0.8275091476401291,2.2632501094631494,-0.6628560911357416,0.7473190202715746,0.963350570059107,1.4179540247512379,0.2813514042710119,0.2972570430123793,-0.3746604454081584,1.1064630868964769,-1.3066939251958634,-0.40644182487705977,-1.917462490109074,-0.791861120472799,-0.2343111928184764,0.09114874510176733,0.062218244033363616,-0.802451728592171,0.06171028511578955,0.4198079906863518,1.3820369642682173,0.075842013636187,-1.466189127750254,-0.5352111977391772,-0.5826480477362354,1.5796807614050792,-0.04240384621818216,-0.017172085149557044,-1.6690116849350105,-0.5526387152921023,-1.329721799479411,0.24578920761770287,0.7237373775718123],\"xaxis\":\"x14\",\"y\":[-0.7295170198037868,-0.23998788606590082,-1.1547229401264072,0.5251275531639371,-1.21535597674017,1.9753387262494997,0.9020659434959302,-0.7889940780201902,-2.4041437503837253,-0.9355465947684439,-0.6842111153397739,-0.7799432289418868,0.16081177876519212,1.2841547345103963,-0.3227596130499945,-0.9039206625056124,0.828889919327969,-2.9679088884059173,-0.5750994822623196,0.3846892236574576,0.14833093564088037,0.07309713066844106,-0.25559763349132203,-0.4813841083056664,-1.9271808617819115,-0.6070580733247838,-1.1636932324687423,1.339280484849487,0.47771727654156293,-0.5968481161014805,1.2968929935229006,-0.16216150682417468,1.0903918297478092,-0.055663382391095195,-1.9383170898318631,1.112380532950639,1.3782274102022636,-0.42142411236809735,0.8957323065314934,0.41097621688336106,-0.02765272096708784,0.9149429515529102,-0.13880192453908266,0.47751716452927917,0.3481420236491288,-0.23131776015717798,0.5094548526908059,-0.7608094741193897,0.11631986292309104,-0.2172543381087466,-0.951490541615766,-0.5926296384911123,0.017807357187338953,0.9589901026525065,-1.1984176228205554,0.9022702336672062,0.6596991557481351,-0.8729232096834276,0.6099302488780277,1.0768283425233702,-0.11221523895765963,0.5625163393167306,-0.16135609434261725,1.9687965814298227,-0.06034088230737512,1.0471376411737952,-3.083514419464437,0.3359159310292446,0.9532324676202132,-2.3431026083136883,0.5653884207646511,-1.276743836695403,-1.2754424081239786,0.7273459291173392,0.5640935924868778,0.35167990059124504,-0.009069882781335902,2.442716727062103,-0.7010249463474859,0.8308583001465093,0.9078840027915112,-0.10398264081503443,1.1709992616915568,0.6155368314083067,1.938359996658619,0.46887097910584574,1.5980214011585323,-1.6680300591099766,0.6529140466907034,-0.09259132978023017,0.4017007216409476,1.0866891958055531,0.02355809233525598,-0.6027075895405759,0.29777603835222355,-0.29772036756264664,0.5102551472094399,-2.203414038181977,0.14521146581149785,-1.7873674316906647],\"yaxis\":\"y14\",\"type\":\"scatter\"},{\"line\":{\"color\":\"rgba(128, 128, 128, 1.0)\",\"dash\":\"solid\",\"shape\":\"linear\",\"width\":1.3},\"marker\":{\"size\":2,\"symbol\":\"circle\"},\"mode\":\"markers\",\"name\":\"D\",\"text\":\"\",\"x\":[-0.2083042386487811,1.9940217019660507,0.6868900521656066,0.7403954832943933,0.25805332100912814,-0.9011569445057611,-0.4827251614150337,1.0030869769211281,0.29698123810580285,-0.2901223806986594,-0.2297965917923508,-1.907840012916959,-1.2455654462556958,0.5152485445690139,-1.0509564361591983,0.402477045802536,-0.7765787637682078,1.3269130095321573,-0.6689737397983537,0.5792245539811444,0.7411088610625216,0.8505294593115799,0.337565961537066,0.09942771486809635,-0.5639741902201713,1.7735546563905753,-0.5272003403466731,0.15636506360191063,-1.0168608912347303,-0.6483483944070878,0.6359429714590861,0.29321320612892793,-0.5575024486543803,1.314706106833745,-1.4602926417139206,-2.1593244387803496,-0.9915125256757606,0.7087333011849094,1.4431207862913922,-0.4379466361803305,0.6718724360567718,0.23376497155418177,0.7141334401573364,0.5137960244136215,0.24195585850416812,-0.09232689708484221,1.2409230680608476,-0.8943710338176813,-0.02488283665599046,1.7051232886593457,0.7963260086215248,-0.13487163799224222,0.8095222084290425,-1.8458841213086177,0.5353035104471991,1.2219545932019658,0.31565573575299694,0.00212104897591511,-1.0437970677697614,0.8897972326176441,0.5840163282494348,0.10457478707717668,1.9469467459336642,-0.4008457003721722,0.9833704584007208,0.029773715402908435,1.2111780664404013,-0.03146949831444492,0.08847383790855555,0.0529351709738586,1.820158923002148,0.8228578460750813,0.07489330856630462,-0.7206384590420204,0.039063599122389686,-0.18140082374391592,-0.3450999073944346,0.13828496015484665,-0.955705108359854,-1.3054477253420014,-0.41144534093628854,-0.6082919721613056,-1.1534001270477723,1.1696173660287967,1.2984008626926735,-1.375702829675632,0.2778470265387704,-0.7583231926290582,-0.2815972749544762,0.6332104027712953,-0.5870809544825567,-0.46938737929678664,0.5530455065009544,-0.19653247959752876,0.07193535079171101,0.6765581713207989,-1.0684094369816255,-0.9881307004761971,0.9245895121438726,-0.6529543539204322],\"xaxis\":\"x15\",\"y\":[-0.7295170198037868,-0.23998788606590082,-1.1547229401264072,0.5251275531639371,-1.21535597674017,1.9753387262494997,0.9020659434959302,-0.7889940780201902,-2.4041437503837253,-0.9355465947684439,-0.6842111153397739,-0.7799432289418868,0.16081177876519212,1.2841547345103963,-0.3227596130499945,-0.9039206625056124,0.828889919327969,-2.9679088884059173,-0.5750994822623196,0.3846892236574576,0.14833093564088037,0.07309713066844106,-0.25559763349132203,-0.4813841083056664,-1.9271808617819115,-0.6070580733247838,-1.1636932324687423,1.339280484849487,0.47771727654156293,-0.5968481161014805,1.2968929935229006,-0.16216150682417468,1.0903918297478092,-0.055663382391095195,-1.9383170898318631,1.112380532950639,1.3782274102022636,-0.42142411236809735,0.8957323065314934,0.41097621688336106,-0.02765272096708784,0.9149429515529102,-0.13880192453908266,0.47751716452927917,0.3481420236491288,-0.23131776015717798,0.5094548526908059,-0.7608094741193897,0.11631986292309104,-0.2172543381087466,-0.951490541615766,-0.5926296384911123,0.017807357187338953,0.9589901026525065,-1.1984176228205554,0.9022702336672062,0.6596991557481351,-0.8729232096834276,0.6099302488780277,1.0768283425233702,-0.11221523895765963,0.5625163393167306,-0.16135609434261725,1.9687965814298227,-0.06034088230737512,1.0471376411737952,-3.083514419464437,0.3359159310292446,0.9532324676202132,-2.3431026083136883,0.5653884207646511,-1.276743836695403,-1.2754424081239786,0.7273459291173392,0.5640935924868778,0.35167990059124504,-0.009069882781335902,2.442716727062103,-0.7010249463474859,0.8308583001465093,0.9078840027915112,-0.10398264081503443,1.1709992616915568,0.6155368314083067,1.938359996658619,0.46887097910584574,1.5980214011585323,-1.6680300591099766,0.6529140466907034,-0.09259132978023017,0.4017007216409476,1.0866891958055531,0.02355809233525598,-0.6027075895405759,0.29777603835222355,-0.29772036756264664,0.5102551472094399,-2.203414038181977,0.14521146581149785,-1.7873674316906647],\"yaxis\":\"y15\",\"type\":\"scatter\"},{\"histfunc\":\"count\",\"histnorm\":\"\",\"marker\":{\"color\":\"rgba(128, 0, 128, 1.0)\",\"line\":{\"color\":\"#4D5663\",\"width\":1.3}},\"name\":\"D\",\"nbinsx\":10,\"opacity\":0.8,\"orientation\":\"v\",\"x\":[-0.7295170198037868,-0.23998788606590082,-1.1547229401264072,0.5251275531639371,-1.21535597674017,1.9753387262494997,0.9020659434959302,-0.7889940780201902,-2.4041437503837253,-0.9355465947684439,-0.6842111153397739,-0.7799432289418868,0.16081177876519212,1.2841547345103963,-0.3227596130499945,-0.9039206625056124,0.828889919327969,-2.9679088884059173,-0.5750994822623196,0.3846892236574576,0.14833093564088037,0.07309713066844106,-0.25559763349132203,-0.4813841083056664,-1.9271808617819115,-0.6070580733247838,-1.1636932324687423,1.339280484849487,0.47771727654156293,-0.5968481161014805,1.2968929935229006,-0.16216150682417468,1.0903918297478092,-0.055663382391095195,-1.9383170898318631,1.112380532950639,1.3782274102022636,-0.42142411236809735,0.8957323065314934,0.41097621688336106,-0.02765272096708784,0.9149429515529102,-0.13880192453908266,0.47751716452927917,0.3481420236491288,-0.23131776015717798,0.5094548526908059,-0.7608094741193897,0.11631986292309104,-0.2172543381087466,-0.951490541615766,-0.5926296384911123,0.017807357187338953,0.9589901026525065,-1.1984176228205554,0.9022702336672062,0.6596991557481351,-0.8729232096834276,0.6099302488780277,1.0768283425233702,-0.11221523895765963,0.5625163393167306,-0.16135609434261725,1.9687965814298227,-0.06034088230737512,1.0471376411737952,-3.083514419464437,0.3359159310292446,0.9532324676202132,-2.3431026083136883,0.5653884207646511,-1.276743836695403,-1.2754424081239786,0.7273459291173392,0.5640935924868778,0.35167990059124504,-0.009069882781335902,2.442716727062103,-0.7010249463474859,0.8308583001465093,0.9078840027915112,-0.10398264081503443,1.1709992616915568,0.6155368314083067,1.938359996658619,0.46887097910584574,1.5980214011585323,-1.6680300591099766,0.6529140466907034,-0.09259132978023017,0.4017007216409476,1.0866891958055531,0.02355809233525598,-0.6027075895405759,0.29777603835222355,-0.29772036756264664,0.5102551472094399,-2.203414038181977,0.14521146581149785,-1.7873674316906647],\"xaxis\":\"x16\",\"yaxis\":\"y16\",\"type\":\"histogram\"}],                        {\"bargap\":0.02,\"legend\":{\"bgcolor\":\"#F5F6F9\",\"font\":{\"color\":\"#4D5663\"}},\"paper_bgcolor\":\"#F5F6F9\",\"plot_bgcolor\":\"#F5F6F9\",\"showlegend\":false,\"template\":{\"data\":{\"barpolar\":[{\"marker\":{\"line\":{\"color\":\"#E5ECF6\",\"width\":0.5},\"pattern\":{\"fillmode\":\"overlay\",\"size\":10,\"solidity\":0.2}},\"type\":\"barpolar\"}],\"bar\":[{\"error_x\":{\"color\":\"#2a3f5f\"},\"error_y\":{\"color\":\"#2a3f5f\"},\"marker\":{\"line\":{\"color\":\"#E5ECF6\",\"width\":0.5},\"pattern\":{\"fillmode\":\"overlay\",\"size\":10,\"solidity\":0.2}},\"type\":\"bar\"}],\"carpet\":[{\"aaxis\":{\"endlinecolor\":\"#2a3f5f\",\"gridcolor\":\"white\",\"linecolor\":\"white\",\"minorgridcolor\":\"white\",\"startlinecolor\":\"#2a3f5f\"},\"baxis\":{\"endlinecolor\":\"#2a3f5f\",\"gridcolor\":\"white\",\"linecolor\":\"white\",\"minorgridcolor\":\"white\",\"startlinecolor\":\"#2a3f5f\"},\"type\":\"carpet\"}],\"choropleth\":[{\"colorbar\":{\"outlinewidth\":0,\"ticks\":\"\"},\"type\":\"choropleth\"}],\"contourcarpet\":[{\"colorbar\":{\"outlinewidth\":0,\"ticks\":\"\"},\"type\":\"contourcarpet\"}],\"contour\":[{\"colorbar\":{\"outlinewidth\":0,\"ticks\":\"\"},\"colorscale\":[[0.0,\"#0d0887\"],[0.1111111111111111,\"#46039f\"],[0.2222222222222222,\"#7201a8\"],[0.3333333333333333,\"#9c179e\"],[0.4444444444444444,\"#bd3786\"],[0.5555555555555556,\"#d8576b\"],[0.6666666666666666,\"#ed7953\"],[0.7777777777777778,\"#fb9f3a\"],[0.8888888888888888,\"#fdca26\"],[1.0,\"#f0f921\"]],\"type\":\"contour\"}],\"heatmapgl\":[{\"colorbar\":{\"outlinewidth\":0,\"ticks\":\"\"},\"colorscale\":[[0.0,\"#0d0887\"],[0.1111111111111111,\"#46039f\"],[0.2222222222222222,\"#7201a8\"],[0.3333333333333333,\"#9c179e\"],[0.4444444444444444,\"#bd3786\"],[0.5555555555555556,\"#d8576b\"],[0.6666666666666666,\"#ed7953\"],[0.7777777777777778,\"#fb9f3a\"],[0.8888888888888888,\"#fdca26\"],[1.0,\"#f0f921\"]],\"type\":\"heatmapgl\"}],\"heatmap\":[{\"colorbar\":{\"outlinewidth\":0,\"ticks\":\"\"},\"colorscale\":[[0.0,\"#0d0887\"],[0.1111111111111111,\"#46039f\"],[0.2222222222222222,\"#7201a8\"],[0.3333333333333333,\"#9c179e\"],[0.4444444444444444,\"#bd3786\"],[0.5555555555555556,\"#d8576b\"],[0.6666666666666666,\"#ed7953\"],[0.7777777777777778,\"#fb9f3a\"],[0.8888888888888888,\"#fdca26\"],[1.0,\"#f0f921\"]],\"type\":\"heatmap\"}],\"histogram2dcontour\":[{\"colorbar\":{\"outlinewidth\":0,\"ticks\":\"\"},\"colorscale\":[[0.0,\"#0d0887\"],[0.1111111111111111,\"#46039f\"],[0.2222222222222222,\"#7201a8\"],[0.3333333333333333,\"#9c179e\"],[0.4444444444444444,\"#bd3786\"],[0.5555555555555556,\"#d8576b\"],[0.6666666666666666,\"#ed7953\"],[0.7777777777777778,\"#fb9f3a\"],[0.8888888888888888,\"#fdca26\"],[1.0,\"#f0f921\"]],\"type\":\"histogram2dcontour\"}],\"histogram2d\":[{\"colorbar\":{\"outlinewidth\":0,\"ticks\":\"\"},\"colorscale\":[[0.0,\"#0d0887\"],[0.1111111111111111,\"#46039f\"],[0.2222222222222222,\"#7201a8\"],[0.3333333333333333,\"#9c179e\"],[0.4444444444444444,\"#bd3786\"],[0.5555555555555556,\"#d8576b\"],[0.6666666666666666,\"#ed7953\"],[0.7777777777777778,\"#fb9f3a\"],[0.8888888888888888,\"#fdca26\"],[1.0,\"#f0f921\"]],\"type\":\"histogram2d\"}],\"histogram\":[{\"marker\":{\"pattern\":{\"fillmode\":\"overlay\",\"size\":10,\"solidity\":0.2}},\"type\":\"histogram\"}],\"mesh3d\":[{\"colorbar\":{\"outlinewidth\":0,\"ticks\":\"\"},\"type\":\"mesh3d\"}],\"parcoords\":[{\"line\":{\"colorbar\":{\"outlinewidth\":0,\"ticks\":\"\"}},\"type\":\"parcoords\"}],\"pie\":[{\"automargin\":true,\"type\":\"pie\"}],\"scatter3d\":[{\"line\":{\"colorbar\":{\"outlinewidth\":0,\"ticks\":\"\"}},\"marker\":{\"colorbar\":{\"outlinewidth\":0,\"ticks\":\"\"}},\"type\":\"scatter3d\"}],\"scattercarpet\":[{\"marker\":{\"colorbar\":{\"outlinewidth\":0,\"ticks\":\"\"}},\"type\":\"scattercarpet\"}],\"scattergeo\":[{\"marker\":{\"colorbar\":{\"outlinewidth\":0,\"ticks\":\"\"}},\"type\":\"scattergeo\"}],\"scattergl\":[{\"marker\":{\"colorbar\":{\"outlinewidth\":0,\"ticks\":\"\"}},\"type\":\"scattergl\"}],\"scattermapbox\":[{\"marker\":{\"colorbar\":{\"outlinewidth\":0,\"ticks\":\"\"}},\"type\":\"scattermapbox\"}],\"scatterpolargl\":[{\"marker\":{\"colorbar\":{\"outlinewidth\":0,\"ticks\":\"\"}},\"type\":\"scatterpolargl\"}],\"scatterpolar\":[{\"marker\":{\"colorbar\":{\"outlinewidth\":0,\"ticks\":\"\"}},\"type\":\"scatterpolar\"}],\"scatter\":[{\"marker\":{\"colorbar\":{\"outlinewidth\":0,\"ticks\":\"\"}},\"type\":\"scatter\"}],\"scatterternary\":[{\"marker\":{\"colorbar\":{\"outlinewidth\":0,\"ticks\":\"\"}},\"type\":\"scatterternary\"}],\"surface\":[{\"colorbar\":{\"outlinewidth\":0,\"ticks\":\"\"},\"colorscale\":[[0.0,\"#0d0887\"],[0.1111111111111111,\"#46039f\"],[0.2222222222222222,\"#7201a8\"],[0.3333333333333333,\"#9c179e\"],[0.4444444444444444,\"#bd3786\"],[0.5555555555555556,\"#d8576b\"],[0.6666666666666666,\"#ed7953\"],[0.7777777777777778,\"#fb9f3a\"],[0.8888888888888888,\"#fdca26\"],[1.0,\"#f0f921\"]],\"type\":\"surface\"}],\"table\":[{\"cells\":{\"fill\":{\"color\":\"#EBF0F8\"},\"line\":{\"color\":\"white\"}},\"header\":{\"fill\":{\"color\":\"#C8D4E3\"},\"line\":{\"color\":\"white\"}},\"type\":\"table\"}]},\"layout\":{\"annotationdefaults\":{\"arrowcolor\":\"#2a3f5f\",\"arrowhead\":0,\"arrowwidth\":1},\"autotypenumbers\":\"strict\",\"coloraxis\":{\"colorbar\":{\"outlinewidth\":0,\"ticks\":\"\"}},\"colorscale\":{\"diverging\":[[0,\"#8e0152\"],[0.1,\"#c51b7d\"],[0.2,\"#de77ae\"],[0.3,\"#f1b6da\"],[0.4,\"#fde0ef\"],[0.5,\"#f7f7f7\"],[0.6,\"#e6f5d0\"],[0.7,\"#b8e186\"],[0.8,\"#7fbc41\"],[0.9,\"#4d9221\"],[1,\"#276419\"]],\"sequential\":[[0.0,\"#0d0887\"],[0.1111111111111111,\"#46039f\"],[0.2222222222222222,\"#7201a8\"],[0.3333333333333333,\"#9c179e\"],[0.4444444444444444,\"#bd3786\"],[0.5555555555555556,\"#d8576b\"],[0.6666666666666666,\"#ed7953\"],[0.7777777777777778,\"#fb9f3a\"],[0.8888888888888888,\"#fdca26\"],[1.0,\"#f0f921\"]],\"sequentialminus\":[[0.0,\"#0d0887\"],[0.1111111111111111,\"#46039f\"],[0.2222222222222222,\"#7201a8\"],[0.3333333333333333,\"#9c179e\"],[0.4444444444444444,\"#bd3786\"],[0.5555555555555556,\"#d8576b\"],[0.6666666666666666,\"#ed7953\"],[0.7777777777777778,\"#fb9f3a\"],[0.8888888888888888,\"#fdca26\"],[1.0,\"#f0f921\"]]},\"colorway\":[\"#636efa\",\"#EF553B\",\"#00cc96\",\"#ab63fa\",\"#FFA15A\",\"#19d3f3\",\"#FF6692\",\"#B6E880\",\"#FF97FF\",\"#FECB52\"],\"font\":{\"color\":\"#2a3f5f\"},\"geo\":{\"bgcolor\":\"white\",\"lakecolor\":\"white\",\"landcolor\":\"#E5ECF6\",\"showlakes\":true,\"showland\":true,\"subunitcolor\":\"white\"},\"hoverlabel\":{\"align\":\"left\"},\"hovermode\":\"closest\",\"mapbox\":{\"style\":\"light\"},\"paper_bgcolor\":\"white\",\"plot_bgcolor\":\"#E5ECF6\",\"polar\":{\"angularaxis\":{\"gridcolor\":\"white\",\"linecolor\":\"white\",\"ticks\":\"\"},\"bgcolor\":\"#E5ECF6\",\"radialaxis\":{\"gridcolor\":\"white\",\"linecolor\":\"white\",\"ticks\":\"\"}},\"scene\":{\"xaxis\":{\"backgroundcolor\":\"#E5ECF6\",\"gridcolor\":\"white\",\"gridwidth\":2,\"linecolor\":\"white\",\"showbackground\":true,\"ticks\":\"\",\"zerolinecolor\":\"white\"},\"yaxis\":{\"backgroundcolor\":\"#E5ECF6\",\"gridcolor\":\"white\",\"gridwidth\":2,\"linecolor\":\"white\",\"showbackground\":true,\"ticks\":\"\",\"zerolinecolor\":\"white\"},\"zaxis\":{\"backgroundcolor\":\"#E5ECF6\",\"gridcolor\":\"white\",\"gridwidth\":2,\"linecolor\":\"white\",\"showbackground\":true,\"ticks\":\"\",\"zerolinecolor\":\"white\"}},\"shapedefaults\":{\"line\":{\"color\":\"#2a3f5f\"}},\"ternary\":{\"aaxis\":{\"gridcolor\":\"white\",\"linecolor\":\"white\",\"ticks\":\"\"},\"baxis\":{\"gridcolor\":\"white\",\"linecolor\":\"white\",\"ticks\":\"\"},\"bgcolor\":\"#E5ECF6\",\"caxis\":{\"gridcolor\":\"white\",\"linecolor\":\"white\",\"ticks\":\"\"}},\"title\":{\"x\":0.05},\"xaxis\":{\"automargin\":true,\"gridcolor\":\"white\",\"linecolor\":\"white\",\"ticks\":\"\",\"title\":{\"standoff\":15},\"zerolinecolor\":\"white\",\"zerolinewidth\":2},\"yaxis\":{\"automargin\":true,\"gridcolor\":\"white\",\"linecolor\":\"white\",\"ticks\":\"\",\"title\":{\"standoff\":15},\"zerolinecolor\":\"white\",\"zerolinewidth\":2}}},\"title\":{\"font\":{\"color\":\"#4D5663\"}},\"xaxis\":{\"anchor\":\"y\",\"domain\":[0.0,0.2125],\"gridcolor\":\"#E1E5ED\",\"showgrid\":false,\"tickfont\":{\"color\":\"#4D5663\"},\"title\":{\"font\":{\"color\":\"#4D5663\"},\"text\":\"\"},\"zerolinecolor\":\"#E1E5ED\"},\"yaxis\":{\"anchor\":\"x\",\"domain\":[0.8025,1.0],\"gridcolor\":\"#E1E5ED\",\"showgrid\":false,\"tickfont\":{\"color\":\"#4D5663\"},\"title\":{\"font\":{\"color\":\"#4D5663\"},\"text\":\"\"},\"zerolinecolor\":\"#E1E5ED\"},\"xaxis2\":{\"anchor\":\"y2\",\"domain\":[0.2625,0.475],\"gridcolor\":\"#E1E5ED\",\"showgrid\":false,\"tickfont\":{\"color\":\"#4D5663\"},\"title\":{\"font\":{\"color\":\"#4D5663\"},\"text\":\"\"},\"zerolinecolor\":\"#E1E5ED\"},\"yaxis2\":{\"anchor\":\"x2\",\"domain\":[0.8025,1.0],\"gridcolor\":\"#E1E5ED\",\"showgrid\":false,\"tickfont\":{\"color\":\"#4D5663\"},\"title\":{\"font\":{\"color\":\"#4D5663\"},\"text\":\"\"},\"zerolinecolor\":\"#E1E5ED\"},\"xaxis3\":{\"anchor\":\"y3\",\"domain\":[0.525,0.7375],\"gridcolor\":\"#E1E5ED\",\"showgrid\":false,\"tickfont\":{\"color\":\"#4D5663\"},\"title\":{\"font\":{\"color\":\"#4D5663\"},\"text\":\"\"},\"zerolinecolor\":\"#E1E5ED\"},\"yaxis3\":{\"anchor\":\"x3\",\"domain\":[0.8025,1.0],\"gridcolor\":\"#E1E5ED\",\"showgrid\":false,\"tickfont\":{\"color\":\"#4D5663\"},\"title\":{\"font\":{\"color\":\"#4D5663\"},\"text\":\"\"},\"zerolinecolor\":\"#E1E5ED\"},\"xaxis4\":{\"anchor\":\"y4\",\"domain\":[0.7875,1.0],\"gridcolor\":\"#E1E5ED\",\"showgrid\":false,\"tickfont\":{\"color\":\"#4D5663\"},\"title\":{\"font\":{\"color\":\"#4D5663\"},\"text\":\"\"},\"zerolinecolor\":\"#E1E5ED\"},\"yaxis4\":{\"anchor\":\"x4\",\"domain\":[0.8025,1.0],\"gridcolor\":\"#E1E5ED\",\"showgrid\":false,\"tickfont\":{\"color\":\"#4D5663\"},\"title\":{\"font\":{\"color\":\"#4D5663\"},\"text\":\"\"},\"zerolinecolor\":\"#E1E5ED\"},\"xaxis5\":{\"anchor\":\"y5\",\"domain\":[0.0,0.2125],\"gridcolor\":\"#E1E5ED\",\"showgrid\":false,\"tickfont\":{\"color\":\"#4D5663\"},\"title\":{\"font\":{\"color\":\"#4D5663\"},\"text\":\"\"},\"zerolinecolor\":\"#E1E5ED\"},\"yaxis5\":{\"anchor\":\"x5\",\"domain\":[0.535,0.7325],\"gridcolor\":\"#E1E5ED\",\"showgrid\":false,\"tickfont\":{\"color\":\"#4D5663\"},\"title\":{\"font\":{\"color\":\"#4D5663\"},\"text\":\"\"},\"zerolinecolor\":\"#E1E5ED\"},\"xaxis6\":{\"anchor\":\"y6\",\"domain\":[0.2625,0.475],\"gridcolor\":\"#E1E5ED\",\"showgrid\":false,\"tickfont\":{\"color\":\"#4D5663\"},\"title\":{\"font\":{\"color\":\"#4D5663\"},\"text\":\"\"},\"zerolinecolor\":\"#E1E5ED\"},\"yaxis6\":{\"anchor\":\"x6\",\"domain\":[0.535,0.7325],\"gridcolor\":\"#E1E5ED\",\"showgrid\":false,\"tickfont\":{\"color\":\"#4D5663\"},\"title\":{\"font\":{\"color\":\"#4D5663\"},\"text\":\"\"},\"zerolinecolor\":\"#E1E5ED\"},\"xaxis7\":{\"anchor\":\"y7\",\"domain\":[0.525,0.7375],\"gridcolor\":\"#E1E5ED\",\"showgrid\":false,\"tickfont\":{\"color\":\"#4D5663\"},\"title\":{\"font\":{\"color\":\"#4D5663\"},\"text\":\"\"},\"zerolinecolor\":\"#E1E5ED\"},\"yaxis7\":{\"anchor\":\"x7\",\"domain\":[0.535,0.7325],\"gridcolor\":\"#E1E5ED\",\"showgrid\":false,\"tickfont\":{\"color\":\"#4D5663\"},\"title\":{\"font\":{\"color\":\"#4D5663\"},\"text\":\"\"},\"zerolinecolor\":\"#E1E5ED\"},\"xaxis8\":{\"anchor\":\"y8\",\"domain\":[0.7875,1.0],\"gridcolor\":\"#E1E5ED\",\"showgrid\":false,\"tickfont\":{\"color\":\"#4D5663\"},\"title\":{\"font\":{\"color\":\"#4D5663\"},\"text\":\"\"},\"zerolinecolor\":\"#E1E5ED\"},\"yaxis8\":{\"anchor\":\"x8\",\"domain\":[0.535,0.7325],\"gridcolor\":\"#E1E5ED\",\"showgrid\":false,\"tickfont\":{\"color\":\"#4D5663\"},\"title\":{\"font\":{\"color\":\"#4D5663\"},\"text\":\"\"},\"zerolinecolor\":\"#E1E5ED\"},\"xaxis9\":{\"anchor\":\"y9\",\"domain\":[0.0,0.2125],\"gridcolor\":\"#E1E5ED\",\"showgrid\":false,\"tickfont\":{\"color\":\"#4D5663\"},\"title\":{\"font\":{\"color\":\"#4D5663\"},\"text\":\"\"},\"zerolinecolor\":\"#E1E5ED\"},\"yaxis9\":{\"anchor\":\"x9\",\"domain\":[0.2675,0.465],\"gridcolor\":\"#E1E5ED\",\"showgrid\":false,\"tickfont\":{\"color\":\"#4D5663\"},\"title\":{\"font\":{\"color\":\"#4D5663\"},\"text\":\"\"},\"zerolinecolor\":\"#E1E5ED\"},\"xaxis10\":{\"anchor\":\"y10\",\"domain\":[0.2625,0.475],\"gridcolor\":\"#E1E5ED\",\"showgrid\":false,\"tickfont\":{\"color\":\"#4D5663\"},\"title\":{\"font\":{\"color\":\"#4D5663\"},\"text\":\"\"},\"zerolinecolor\":\"#E1E5ED\"},\"yaxis10\":{\"anchor\":\"x10\",\"domain\":[0.2675,0.465],\"gridcolor\":\"#E1E5ED\",\"showgrid\":false,\"tickfont\":{\"color\":\"#4D5663\"},\"title\":{\"font\":{\"color\":\"#4D5663\"},\"text\":\"\"},\"zerolinecolor\":\"#E1E5ED\"},\"xaxis11\":{\"anchor\":\"y11\",\"domain\":[0.525,0.7375],\"gridcolor\":\"#E1E5ED\",\"showgrid\":false,\"tickfont\":{\"color\":\"#4D5663\"},\"title\":{\"font\":{\"color\":\"#4D5663\"},\"text\":\"\"},\"zerolinecolor\":\"#E1E5ED\"},\"yaxis11\":{\"anchor\":\"x11\",\"domain\":[0.2675,0.465],\"gridcolor\":\"#E1E5ED\",\"showgrid\":false,\"tickfont\":{\"color\":\"#4D5663\"},\"title\":{\"font\":{\"color\":\"#4D5663\"},\"text\":\"\"},\"zerolinecolor\":\"#E1E5ED\"},\"xaxis12\":{\"anchor\":\"y12\",\"domain\":[0.7875,1.0],\"gridcolor\":\"#E1E5ED\",\"showgrid\":false,\"tickfont\":{\"color\":\"#4D5663\"},\"title\":{\"font\":{\"color\":\"#4D5663\"},\"text\":\"\"},\"zerolinecolor\":\"#E1E5ED\"},\"yaxis12\":{\"anchor\":\"x12\",\"domain\":[0.2675,0.465],\"gridcolor\":\"#E1E5ED\",\"showgrid\":false,\"tickfont\":{\"color\":\"#4D5663\"},\"title\":{\"font\":{\"color\":\"#4D5663\"},\"text\":\"\"},\"zerolinecolor\":\"#E1E5ED\"},\"xaxis13\":{\"anchor\":\"y13\",\"domain\":[0.0,0.2125],\"gridcolor\":\"#E1E5ED\",\"showgrid\":false,\"tickfont\":{\"color\":\"#4D5663\"},\"title\":{\"font\":{\"color\":\"#4D5663\"},\"text\":\"\"},\"zerolinecolor\":\"#E1E5ED\"},\"yaxis13\":{\"anchor\":\"x13\",\"domain\":[0.0,0.1975],\"gridcolor\":\"#E1E5ED\",\"showgrid\":false,\"tickfont\":{\"color\":\"#4D5663\"},\"title\":{\"font\":{\"color\":\"#4D5663\"},\"text\":\"\"},\"zerolinecolor\":\"#E1E5ED\"},\"xaxis14\":{\"anchor\":\"y14\",\"domain\":[0.2625,0.475],\"gridcolor\":\"#E1E5ED\",\"showgrid\":false,\"tickfont\":{\"color\":\"#4D5663\"},\"title\":{\"font\":{\"color\":\"#4D5663\"},\"text\":\"\"},\"zerolinecolor\":\"#E1E5ED\"},\"yaxis14\":{\"anchor\":\"x14\",\"domain\":[0.0,0.1975],\"gridcolor\":\"#E1E5ED\",\"showgrid\":false,\"tickfont\":{\"color\":\"#4D5663\"},\"title\":{\"font\":{\"color\":\"#4D5663\"},\"text\":\"\"},\"zerolinecolor\":\"#E1E5ED\"},\"xaxis15\":{\"anchor\":\"y15\",\"domain\":[0.525,0.7375],\"gridcolor\":\"#E1E5ED\",\"showgrid\":false,\"tickfont\":{\"color\":\"#4D5663\"},\"title\":{\"font\":{\"color\":\"#4D5663\"},\"text\":\"\"},\"zerolinecolor\":\"#E1E5ED\"},\"yaxis15\":{\"anchor\":\"x15\",\"domain\":[0.0,0.1975],\"gridcolor\":\"#E1E5ED\",\"showgrid\":false,\"tickfont\":{\"color\":\"#4D5663\"},\"title\":{\"font\":{\"color\":\"#4D5663\"},\"text\":\"\"},\"zerolinecolor\":\"#E1E5ED\"},\"xaxis16\":{\"anchor\":\"y16\",\"domain\":[0.7875,1.0],\"gridcolor\":\"#E1E5ED\",\"showgrid\":false,\"tickfont\":{\"color\":\"#4D5663\"},\"title\":{\"font\":{\"color\":\"#4D5663\"},\"text\":\"\"},\"zerolinecolor\":\"#E1E5ED\"},\"yaxis16\":{\"anchor\":\"x16\",\"domain\":[0.0,0.1975],\"gridcolor\":\"#E1E5ED\",\"showgrid\":false,\"tickfont\":{\"color\":\"#4D5663\"},\"title\":{\"font\":{\"color\":\"#4D5663\"},\"text\":\"\"},\"zerolinecolor\":\"#E1E5ED\"}},                        {\"showLink\": true, \"linkText\": \"Export to plot.ly\", \"plotlyServerURL\": \"https://plot.ly\", \"responsive\": true}                    ).then(function(){\n",
       "                            \n",
       "var gd = document.getElementById('cd1f7b29-ce47-4ece-9c2f-73f21d4ce05e');\n",
       "var x = new MutationObserver(function (mutations, observer) {{\n",
       "        var display = window.getComputedStyle(gd).display;\n",
       "        if (!display || display === 'none') {{\n",
       "            console.log([gd, 'removed!']);\n",
       "            Plotly.purge(gd);\n",
       "            observer.disconnect();\n",
       "        }}\n",
       "}});\n",
       "\n",
       "// Listen for the removal of the full notebook cells\n",
       "var notebookContainer = gd.closest('#notebook-container');\n",
       "if (notebookContainer) {{\n",
       "    x.observe(notebookContainer, {childList: true});\n",
       "}}\n",
       "\n",
       "// Listen for the clearing of the current output cell\n",
       "var outputEl = gd.closest('.output');\n",
       "if (outputEl) {{\n",
       "    x.observe(outputEl, {childList: true});\n",
       "}}\n",
       "\n",
       "                        })                };                });            </script>        </div>"
      ]
     },
     "metadata": {},
     "output_type": "display_data"
    }
   ],
   "source": [
    "df.scatter_matrix()"
   ]
  }
 ],
 "metadata": {
  "kernelspec": {
   "display_name": "Python 3 (ipykernel)",
   "language": "python",
   "name": "python3"
  },
  "language_info": {
   "codemirror_mode": {
    "name": "ipython",
    "version": 3
   },
   "file_extension": ".py",
   "mimetype": "text/x-python",
   "name": "python",
   "nbconvert_exporter": "python",
   "pygments_lexer": "ipython3",
   "version": "3.9.12"
  }
 },
 "nbformat": 4,
 "nbformat_minor": 5
}
