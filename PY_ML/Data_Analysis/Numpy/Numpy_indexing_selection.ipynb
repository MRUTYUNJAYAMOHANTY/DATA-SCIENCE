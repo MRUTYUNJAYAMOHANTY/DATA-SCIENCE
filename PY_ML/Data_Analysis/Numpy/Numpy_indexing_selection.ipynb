{
 "cells": [
  {
   "cell_type": "code",
   "execution_count": 24,
   "id": "86360cdb",
   "metadata": {},
   "outputs": [],
   "source": [
    "import numpy as np"
   ]
  },
  {
   "cell_type": "markdown",
   "id": "b0dd6d15",
   "metadata": {},
   "source": [
    "# Indexing in 1-D Array"
   ]
  },
  {
   "cell_type": "code",
   "execution_count": 2,
   "id": "44ce7b88",
   "metadata": {},
   "outputs": [],
   "source": [
    "arr = np.arange(0,11)"
   ]
  },
  {
   "cell_type": "code",
   "execution_count": 3,
   "id": "640a9b58",
   "metadata": {},
   "outputs": [
    {
     "data": {
      "text/plain": [
       "array([ 0,  1,  2,  3,  4,  5,  6,  7,  8,  9, 10])"
      ]
     },
     "execution_count": 3,
     "metadata": {},
     "output_type": "execute_result"
    }
   ],
   "source": [
    "arr"
   ]
  },
  {
   "cell_type": "markdown",
   "id": "a286785c",
   "metadata": {},
   "source": [
    "find an index value"
   ]
  },
  {
   "cell_type": "code",
   "execution_count": 4,
   "id": "aacd8f4b",
   "metadata": {},
   "outputs": [
    {
     "data": {
      "text/plain": [
       "8"
      ]
     },
     "execution_count": 4,
     "metadata": {},
     "output_type": "execute_result"
    }
   ],
   "source": [
    "arr[8]"
   ]
  },
  {
   "cell_type": "markdown",
   "id": "4968743a",
   "metadata": {},
   "source": [
    "Get values in a range , just like list using slice notation"
   ]
  },
  {
   "cell_type": "code",
   "execution_count": 5,
   "id": "46853d0f",
   "metadata": {},
   "outputs": [
    {
     "data": {
      "text/plain": [
       "array([1, 2, 3, 4])"
      ]
     },
     "execution_count": 5,
     "metadata": {},
     "output_type": "execute_result"
    }
   ],
   "source": [
    "arr[1:5] # both 1 and 5 represent index values (indexing starts from 0) "
   ]
  },
  {
   "cell_type": "code",
   "execution_count": 6,
   "id": "49df82cd",
   "metadata": {},
   "outputs": [
    {
     "data": {
      "text/plain": [
       "array([0, 1, 2, 3, 4])"
      ]
     },
     "execution_count": 6,
     "metadata": {},
     "output_type": "execute_result"
    }
   ],
   "source": [
    "arr[0:5]"
   ]
  },
  {
   "cell_type": "markdown",
   "id": "47688228",
   "metadata": {},
   "source": [
    "Remove stop or start point to go ahead and indicate to get everything else in the array or everything from beginning of the array"
   ]
  },
  {
   "cell_type": "code",
   "execution_count": 7,
   "id": "54e571b4",
   "metadata": {},
   "outputs": [
    {
     "data": {
      "text/plain": [
       "array([0, 1, 2, 3, 4, 5])"
      ]
     },
     "execution_count": 7,
     "metadata": {},
     "output_type": "execute_result"
    }
   ],
   "source": [
    "arr[:6]    # everything upto 5th index i.e 6th element"
   ]
  },
  {
   "cell_type": "code",
   "execution_count": 8,
   "id": "70a3ff7b",
   "metadata": {},
   "outputs": [
    {
     "data": {
      "text/plain": [
       "array([ 5,  6,  7,  8,  9, 10])"
      ]
     },
     "execution_count": 8,
     "metadata": {},
     "output_type": "execute_result"
    }
   ],
   "source": [
    "arr[5:]   # starts excluding 4th index and 5th element"
   ]
  },
  {
   "cell_type": "markdown",
   "id": "c8b4a434",
   "metadata": {},
   "source": [
    "numpy arrays differ from normal python list because of their ability to broadcast"
   ]
  },
  {
   "cell_type": "code",
   "execution_count": 9,
   "id": "9b6c0fea",
   "metadata": {},
   "outputs": [],
   "source": [
    "arr[0:5] = 100 # set first 5 elements value as 100 each"
   ]
  },
  {
   "cell_type": "code",
   "execution_count": 10,
   "id": "758e1bae",
   "metadata": {},
   "outputs": [
    {
     "data": {
      "text/plain": [
       "array([100, 100, 100, 100, 100,   5,   6,   7,   8,   9,  10])"
      ]
     },
     "execution_count": 10,
     "metadata": {},
     "output_type": "execute_result"
    }
   ],
   "source": [
    "arr"
   ]
  },
  {
   "cell_type": "markdown",
   "id": "0961ccd7",
   "metadata": {},
   "source": [
    "we can reset the arr"
   ]
  },
  {
   "cell_type": "code",
   "execution_count": 11,
   "id": "1d36dd68",
   "metadata": {},
   "outputs": [],
   "source": [
    "arr = np.arange(0,11)"
   ]
  },
  {
   "cell_type": "code",
   "execution_count": 12,
   "id": "1f5cd39b",
   "metadata": {},
   "outputs": [
    {
     "data": {
      "text/plain": [
       "array([ 0,  1,  2,  3,  4,  5,  6,  7,  8,  9, 10])"
      ]
     },
     "execution_count": 12,
     "metadata": {},
     "output_type": "execute_result"
    }
   ],
   "source": [
    "arr"
   ]
  },
  {
   "cell_type": "markdown",
   "id": "64acba97",
   "metadata": {},
   "source": [
    "slice of array"
   ]
  },
  {
   "cell_type": "code",
   "execution_count": 13,
   "id": "85cc5cd1",
   "metadata": {},
   "outputs": [],
   "source": [
    "slice_of_array = arr [0:6]"
   ]
  },
  {
   "cell_type": "code",
   "execution_count": 14,
   "id": "cf2c4147",
   "metadata": {},
   "outputs": [
    {
     "data": {
      "text/plain": [
       "array([0, 1, 2, 3, 4, 5])"
      ]
     },
     "execution_count": 14,
     "metadata": {},
     "output_type": "execute_result"
    }
   ],
   "source": [
    "slice_of_array"
   ]
  },
  {
   "cell_type": "markdown",
   "id": "6942256b",
   "metadata": {},
   "source": [
    "broad-cast an array"
   ]
  },
  {
   "cell_type": "code",
   "execution_count": 15,
   "id": "ca42278e",
   "metadata": {},
   "outputs": [],
   "source": [
    "slice_of_array[:] = 101"
   ]
  },
  {
   "cell_type": "code",
   "execution_count": 16,
   "id": "ed6eebd2",
   "metadata": {},
   "outputs": [
    {
     "data": {
      "text/plain": [
       "array([101, 101, 101, 101, 101, 101])"
      ]
     },
     "execution_count": 16,
     "metadata": {},
     "output_type": "execute_result"
    }
   ],
   "source": [
    "slice_of_array"
   ]
  },
  {
   "cell_type": "code",
   "execution_count": 17,
   "id": "ba99b78a",
   "metadata": {},
   "outputs": [
    {
     "data": {
      "text/plain": [
       "array([101, 101, 101, 101, 101, 101,   6,   7,   8,   9,  10])"
      ]
     },
     "execution_count": 17,
     "metadata": {},
     "output_type": "execute_result"
    }
   ],
   "source": [
    "arr # if we call original arr , values changed to 101"
   ]
  },
  {
   "cell_type": "markdown",
   "id": "f448b0a3",
   "metadata": {},
   "source": [
    "Above data is not copied , just viewed to original array . Reason Numpy does that to avoid memory issues for very large arrays . Meaning , Numpy will not automatically set copies of arrays . If we required a copy instead of reference to the original array we can specifically specify copy . Like below e.g"
   ]
  },
  {
   "cell_type": "code",
   "execution_count": 18,
   "id": "7058d883",
   "metadata": {},
   "outputs": [],
   "source": [
    "arr_copy = arr.copy() # "
   ]
  },
  {
   "cell_type": "code",
   "execution_count": 19,
   "id": "47f3d895",
   "metadata": {},
   "outputs": [
    {
     "data": {
      "text/plain": [
       "array([101, 101, 101, 101, 101, 101,   6,   7,   8,   9,  10])"
      ]
     },
     "execution_count": 19,
     "metadata": {},
     "output_type": "execute_result"
    }
   ],
   "source": [
    "arr "
   ]
  },
  {
   "cell_type": "code",
   "execution_count": 20,
   "id": "4d901e25",
   "metadata": {},
   "outputs": [
    {
     "data": {
      "text/plain": [
       "array([101, 101, 101, 101, 101, 101,   6,   7,   8,   9,  10])"
      ]
     },
     "execution_count": 20,
     "metadata": {},
     "output_type": "execute_result"
    }
   ],
   "source": [
    "arr_copy"
   ]
  },
  {
   "cell_type": "code",
   "execution_count": 21,
   "id": "cc6d676f",
   "metadata": {},
   "outputs": [],
   "source": [
    "arr_copy[:] = 51"
   ]
  },
  {
   "cell_type": "code",
   "execution_count": 22,
   "id": "c9f4d936",
   "metadata": {},
   "outputs": [
    {
     "data": {
      "text/plain": [
       "array([51, 51, 51, 51, 51, 51, 51, 51, 51, 51, 51])"
      ]
     },
     "execution_count": 22,
     "metadata": {},
     "output_type": "execute_result"
    }
   ],
   "source": [
    "arr_copy"
   ]
  },
  {
   "cell_type": "code",
   "execution_count": 23,
   "id": "2b3e4396",
   "metadata": {},
   "outputs": [
    {
     "data": {
      "text/plain": [
       "array([101, 101, 101, 101, 101, 101,   6,   7,   8,   9,  10])"
      ]
     },
     "execution_count": 23,
     "metadata": {},
     "output_type": "execute_result"
    }
   ],
   "source": [
    "arr "
   ]
  },
  {
   "cell_type": "markdown",
   "id": "6440510f",
   "metadata": {},
   "source": [
    "If we want to grab a slice of an array and set it as a variable without explicitly saying that\n",
    "we want dot copy of that array, we should keep in mind we are just viewing a link to that array and \n",
    "the changes we did will actually effect to that original array."
   ]
  },
  {
   "cell_type": "markdown",
   "id": "81c9cb40",
   "metadata": {},
   "source": [
    "# Indexing in 2D array or Matrix"
   ]
  },
  {
   "cell_type": "code",
   "execution_count": 25,
   "id": "00e62acc",
   "metadata": {},
   "outputs": [],
   "source": [
    "arr_2D = np.array([[5,10,15],[20,25,30],[35,40,45]])"
   ]
  },
  {
   "cell_type": "code",
   "execution_count": 26,
   "id": "8f22de88",
   "metadata": {},
   "outputs": [
    {
     "data": {
      "text/plain": [
       "array([[ 5, 10, 15],\n",
       "       [20, 25, 30],\n",
       "       [35, 40, 45]])"
      ]
     },
     "execution_count": 26,
     "metadata": {},
     "output_type": "execute_result"
    }
   ],
   "source": [
    "arr_2D"
   ]
  },
  {
   "cell_type": "markdown",
   "id": "5c258fcd",
   "metadata": {},
   "source": [
    "2 methods for extracting "
   ]
  },
  {
   "cell_type": "code",
   "execution_count": 29,
   "id": "53ba16b9",
   "metadata": {},
   "outputs": [
    {
     "data": {
      "text/plain": [
       "5"
      ]
     },
     "execution_count": 29,
     "metadata": {},
     "output_type": "execute_result"
    }
   ],
   "source": [
    "arr_2D[0][0]  # [row][column] "
   ]
  },
  {
   "cell_type": "code",
   "execution_count": 30,
   "id": "71bf6183",
   "metadata": {},
   "outputs": [
    {
     "data": {
      "text/plain": [
       "5"
      ]
     },
     "execution_count": 30,
     "metadata": {},
     "output_type": "execute_result"
    }
   ],
   "source": [
    "arr_2D[0,0]  # above can be written as like this"
   ]
  },
  {
   "cell_type": "code",
   "execution_count": 28,
   "id": "bf4dd095",
   "metadata": {},
   "outputs": [
    {
     "data": {
      "text/plain": [
       "array([ 5, 10, 15])"
      ]
     },
     "execution_count": 28,
     "metadata": {},
     "output_type": "execute_result"
    }
   ],
   "source": [
    "arr_2D[0]   # [row]"
   ]
  },
  {
   "cell_type": "markdown",
   "id": "08834cc8",
   "metadata": {},
   "source": [
    "Grab single element from chunks of array i.e create sub-matrix from a matrix"
   ]
  },
  {
   "cell_type": "code",
   "execution_count": 31,
   "id": "51c56774",
   "metadata": {},
   "outputs": [
    {
     "data": {
      "text/plain": [
       "array([[ 5, 10, 15],\n",
       "       [20, 25, 30],\n",
       "       [35, 40, 45]])"
      ]
     },
     "execution_count": 31,
     "metadata": {},
     "output_type": "execute_result"
    }
   ],
   "source": [
    "arr_2D"
   ]
  },
  {
   "cell_type": "code",
   "execution_count": 32,
   "id": "3cef816d",
   "metadata": {},
   "outputs": [
    {
     "data": {
      "text/plain": [
       "array([[10, 15],\n",
       "       [25, 30]])"
      ]
     },
     "execution_count": 32,
     "metadata": {},
     "output_type": "execute_result"
    }
   ],
   "source": [
    "arr_2D[:2,1:]"
   ]
  },
  {
   "cell_type": "code",
   "execution_count": 33,
   "id": "be475417",
   "metadata": {},
   "outputs": [
    {
     "data": {
      "text/plain": [
       "array([[ 5, 10, 15],\n",
       "       [20, 25, 30]])"
      ]
     },
     "execution_count": 33,
     "metadata": {},
     "output_type": "execute_result"
    }
   ],
   "source": [
    "arr_2D[:2] # only rows"
   ]
  },
  {
   "cell_type": "markdown",
   "id": "a0186959",
   "metadata": {},
   "source": [
    "# Conditional selection"
   ]
  },
  {
   "cell_type": "code",
   "execution_count": 34,
   "id": "7007faa6",
   "metadata": {},
   "outputs": [],
   "source": [
    "arr = np.arange(1,12)"
   ]
  },
  {
   "cell_type": "code",
   "execution_count": 35,
   "id": "e7029397",
   "metadata": {},
   "outputs": [
    {
     "data": {
      "text/plain": [
       "array([ 1,  2,  3,  4,  5,  6,  7,  8,  9, 10, 11])"
      ]
     },
     "execution_count": 35,
     "metadata": {},
     "output_type": "execute_result"
    }
   ],
   "source": [
    "arr"
   ]
  },
  {
   "cell_type": "code",
   "execution_count": 37,
   "id": "0fbdfd57",
   "metadata": {},
   "outputs": [],
   "source": [
    "bool_arr = arr > 5"
   ]
  },
  {
   "cell_type": "code",
   "execution_count": 38,
   "id": "bc742a0c",
   "metadata": {},
   "outputs": [
    {
     "data": {
      "text/plain": [
       "array([False, False, False, False, False,  True,  True,  True,  True,\n",
       "        True,  True])"
      ]
     },
     "execution_count": 38,
     "metadata": {},
     "output_type": "execute_result"
    }
   ],
   "source": [
    "bool_arr"
   ]
  },
  {
   "cell_type": "markdown",
   "id": "97b65df2",
   "metadata": {},
   "source": [
    "Conditional selection"
   ]
  },
  {
   "cell_type": "code",
   "execution_count": 39,
   "id": "8687cc14",
   "metadata": {},
   "outputs": [
    {
     "data": {
      "text/plain": [
       "array([ 6,  7,  8,  9, 10, 11])"
      ]
     },
     "execution_count": 39,
     "metadata": {},
     "output_type": "execute_result"
    }
   ],
   "source": [
    "arr[bool_arr] # print truthy value"
   ]
  },
  {
   "cell_type": "markdown",
   "id": "523c1157",
   "metadata": {},
   "source": [
    "Previous can be written in one line "
   ]
  },
  {
   "cell_type": "code",
   "execution_count": 40,
   "id": "93876966",
   "metadata": {},
   "outputs": [
    {
     "data": {
      "text/plain": [
       "array([ 6,  7,  8,  9, 10, 11])"
      ]
     },
     "execution_count": 40,
     "metadata": {},
     "output_type": "execute_result"
    }
   ],
   "source": [
    "arr[arr>5]"
   ]
  },
  {
   "cell_type": "code",
   "execution_count": 41,
   "id": "73674e48",
   "metadata": {},
   "outputs": [
    {
     "data": {
      "text/plain": [
       "array([1, 2])"
      ]
     },
     "execution_count": 41,
     "metadata": {},
     "output_type": "execute_result"
    }
   ],
   "source": [
    "arr[arr<3]"
   ]
  }
 ],
 "metadata": {
  "kernelspec": {
   "display_name": "Python 3 (ipykernel)",
   "language": "python",
   "name": "python3"
  },
  "language_info": {
   "codemirror_mode": {
    "name": "ipython",
    "version": 3
   },
   "file_extension": ".py",
   "mimetype": "text/x-python",
   "name": "python",
   "nbconvert_exporter": "python",
   "pygments_lexer": "ipython3",
   "version": "3.9.12"
  }
 },
 "nbformat": 4,
 "nbformat_minor": 5
}
