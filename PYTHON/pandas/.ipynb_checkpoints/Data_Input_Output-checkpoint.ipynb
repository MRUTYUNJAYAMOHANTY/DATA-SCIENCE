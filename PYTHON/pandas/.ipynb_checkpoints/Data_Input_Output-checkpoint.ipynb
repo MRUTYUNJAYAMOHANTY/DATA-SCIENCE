{
 "cells": [
  {
   "cell_type": "markdown",
   "id": "18531fde",
   "metadata": {},
   "source": [
    "# Data Input and Output\n",
    "This notebook is the reference code for getting input and output, \n",
    "pandas can read a variety of file types using its pd.read_ methods. Let's take a look at the most common data types:\n"
   ]
  },
  {
   "cell_type": "raw",
   "id": "a14277e8",
   "metadata": {},
   "source": [
    "Python can work with the following file formats:\n",
    "\n",
    "1.  Comma-separated values (CSV)\n",
    "2.  XLSX\n",
    "3.  ZIP\n",
    "4.  Plain Text (txt)\n",
    "5.  JSON\n",
    "6.  XML\n",
    "7.  HTML\n",
    "8.  Images\n",
    "9.  Hierarchical Data Format\n",
    "10. PDF\n",
    "11. DOCX\n",
    "12. MP3\n",
    "13. MP4\n",
    "14. SQL\n",
    "\n",
    "#  https://pandas.pydata.org/docs/user_guide/io.html"
   ]
  },
  {
   "cell_type": "raw",
   "id": "08076dc8",
   "metadata": {},
   "source": [
    "# READ CSV , EXCEL , HTML , SQL\n",
    "conda install sqlalchemy\n",
    "conda install lxml\n",
    "conda install html5lib\n",
    "conda install BeautifulSoup4"
   ]
  },
  {
   "cell_type": "code",
   "execution_count": 1,
   "id": "994b19d3",
   "metadata": {},
   "outputs": [
    {
     "data": {
      "text/plain": [
       "'D:\\\\DEV_CODE\\\\DATA_SCIENCE\\\\PYTHON\\\\pandas'"
      ]
     },
     "execution_count": 1,
     "metadata": {},
     "output_type": "execute_result"
    }
   ],
   "source": [
    "pwd # check current directory\n",
    "    # All files i have in this directory or it needs to be absolute or reletive path depending file location"
   ]
  },
  {
   "cell_type": "code",
   "execution_count": 10,
   "id": "a11160c1",
   "metadata": {},
   "outputs": [],
   "source": [
    "import pandas as pd"
   ]
  },
  {
   "cell_type": "markdown",
   "id": "58b06eab",
   "metadata": {},
   "source": [
    "# CSV"
   ]
  },
  {
   "cell_type": "markdown",
   "id": "b350a389",
   "metadata": {},
   "source": [
    "# CSV INPUT"
   ]
  },
  {
   "cell_type": "code",
   "execution_count": 8,
   "id": "62efd3d2",
   "metadata": {},
   "outputs": [],
   "source": [
    "df = pd.read_csv('example') # if type is defined , .format(extension) not required"
   ]
  },
  {
   "cell_type": "code",
   "execution_count": 12,
   "id": "0d2ecea7",
   "metadata": {},
   "outputs": [
    {
     "data": {
      "text/html": [
       "<div>\n",
       "<style scoped>\n",
       "    .dataframe tbody tr th:only-of-type {\n",
       "        vertical-align: middle;\n",
       "    }\n",
       "\n",
       "    .dataframe tbody tr th {\n",
       "        vertical-align: top;\n",
       "    }\n",
       "\n",
       "    .dataframe thead th {\n",
       "        text-align: right;\n",
       "    }\n",
       "</style>\n",
       "<table border=\"1\" class=\"dataframe\">\n",
       "  <thead>\n",
       "    <tr style=\"text-align: right;\">\n",
       "      <th></th>\n",
       "      <th>a</th>\n",
       "      <th>b</th>\n",
       "      <th>c</th>\n",
       "      <th>d</th>\n",
       "    </tr>\n",
       "  </thead>\n",
       "  <tbody>\n",
       "    <tr>\n",
       "      <th>0</th>\n",
       "      <td>0</td>\n",
       "      <td>1</td>\n",
       "      <td>2</td>\n",
       "      <td>3</td>\n",
       "    </tr>\n",
       "    <tr>\n",
       "      <th>1</th>\n",
       "      <td>4</td>\n",
       "      <td>5</td>\n",
       "      <td>6</td>\n",
       "      <td>7</td>\n",
       "    </tr>\n",
       "    <tr>\n",
       "      <th>2</th>\n",
       "      <td>8</td>\n",
       "      <td>9</td>\n",
       "      <td>10</td>\n",
       "      <td>11</td>\n",
       "    </tr>\n",
       "    <tr>\n",
       "      <th>3</th>\n",
       "      <td>12</td>\n",
       "      <td>13</td>\n",
       "      <td>14</td>\n",
       "      <td>15</td>\n",
       "    </tr>\n",
       "  </tbody>\n",
       "</table>\n",
       "</div>"
      ],
      "text/plain": [
       "    a   b   c   d\n",
       "0   0   1   2   3\n",
       "1   4   5   6   7\n",
       "2   8   9  10  11\n",
       "3  12  13  14  15"
      ]
     },
     "execution_count": 12,
     "metadata": {},
     "output_type": "execute_result"
    }
   ],
   "source": [
    "df"
   ]
  },
  {
   "cell_type": "markdown",
   "id": "a5958fe3",
   "metadata": {},
   "source": [
    "# CSV OUTPUT"
   ]
  },
  {
   "cell_type": "code",
   "execution_count": 24,
   "id": "95e597b3",
   "metadata": {},
   "outputs": [],
   "source": [
    "df.to_csv('myfile',index=False) # index=false means we are not required to define indexes as columns in df"
   ]
  },
  {
   "cell_type": "code",
   "execution_count": 25,
   "id": "23d3d2e6",
   "metadata": {},
   "outputs": [
    {
     "data": {
      "text/html": [
       "<div>\n",
       "<style scoped>\n",
       "    .dataframe tbody tr th:only-of-type {\n",
       "        vertical-align: middle;\n",
       "    }\n",
       "\n",
       "    .dataframe tbody tr th {\n",
       "        vertical-align: top;\n",
       "    }\n",
       "\n",
       "    .dataframe thead th {\n",
       "        text-align: right;\n",
       "    }\n",
       "</style>\n",
       "<table border=\"1\" class=\"dataframe\">\n",
       "  <thead>\n",
       "    <tr style=\"text-align: right;\">\n",
       "      <th></th>\n",
       "      <th>a</th>\n",
       "      <th>b</th>\n",
       "      <th>c</th>\n",
       "      <th>d</th>\n",
       "    </tr>\n",
       "  </thead>\n",
       "  <tbody>\n",
       "    <tr>\n",
       "      <th>0</th>\n",
       "      <td>0</td>\n",
       "      <td>1</td>\n",
       "      <td>2</td>\n",
       "      <td>3</td>\n",
       "    </tr>\n",
       "    <tr>\n",
       "      <th>1</th>\n",
       "      <td>4</td>\n",
       "      <td>5</td>\n",
       "      <td>6</td>\n",
       "      <td>7</td>\n",
       "    </tr>\n",
       "    <tr>\n",
       "      <th>2</th>\n",
       "      <td>8</td>\n",
       "      <td>9</td>\n",
       "      <td>10</td>\n",
       "      <td>11</td>\n",
       "    </tr>\n",
       "    <tr>\n",
       "      <th>3</th>\n",
       "      <td>12</td>\n",
       "      <td>13</td>\n",
       "      <td>14</td>\n",
       "      <td>15</td>\n",
       "    </tr>\n",
       "  </tbody>\n",
       "</table>\n",
       "</div>"
      ],
      "text/plain": [
       "    a   b   c   d\n",
       "0   0   1   2   3\n",
       "1   4   5   6   7\n",
       "2   8   9  10  11\n",
       "3  12  13  14  15"
      ]
     },
     "execution_count": 25,
     "metadata": {},
     "output_type": "execute_result"
    }
   ],
   "source": [
    "pd.read_csv('myfile')"
   ]
  },
  {
   "cell_type": "code",
   "execution_count": null,
   "id": "98e059bf",
   "metadata": {},
   "outputs": [],
   "source": []
  }
 ],
 "metadata": {
  "kernelspec": {
   "display_name": "Python 3 (ipykernel)",
   "language": "python",
   "name": "python3"
  },
  "language_info": {
   "codemirror_mode": {
    "name": "ipython",
    "version": 3
   },
   "file_extension": ".py",
   "mimetype": "text/x-python",
   "name": "python",
   "nbconvert_exporter": "python",
   "pygments_lexer": "ipython3",
   "version": "3.9.12"
  }
 },
 "nbformat": 4,
 "nbformat_minor": 5
}
